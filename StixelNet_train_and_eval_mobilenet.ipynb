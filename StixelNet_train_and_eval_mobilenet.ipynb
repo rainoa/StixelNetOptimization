{
 "cells": [
  {
   "cell_type": "code",
   "execution_count": null,
   "metadata": {
    "collapsed": true
   },
   "outputs": [],
   "source": [
    "########now part 2: decode and train#######"
   ]
  },
  {
   "cell_type": "code",
   "execution_count": 1,
   "metadata": {},
   "outputs": [
    {
     "name": "stderr",
     "output_type": "stream",
     "text": [
      "/home/shared/anaconda3/lib/python3.6/site-packages/h5py/__init__.py:36: FutureWarning: Conversion of the second argument of issubdtype from `float` to `np.floating` is deprecated. In future, it will be treated as `np.float64 == np.dtype(float).type`.\n",
      "  from ._conv import register_converters as _register_converters\n"
     ]
    },
    {
     "name": "stdout",
     "output_type": "stream",
     "text": [
      "[name: \"/device:CPU:0\"\n",
      "device_type: \"CPU\"\n",
      "memory_limit: 268435456\n",
      "locality {\n",
      "}\n",
      "incarnation: 12455067702093542274\n",
      ", name: \"/device:GPU:0\"\n",
      "device_type: \"GPU\"\n",
      "memory_limit: 11271654605\n",
      "locality {\n",
      "  bus_id: 1\n",
      "  links {\n",
      "  }\n",
      "}\n",
      "incarnation: 2800243769426591478\n",
      "physical_device_desc: \"device: 0, name: Tesla K80, pci bus id: 0000:00:04.0, compute capability: 3.7\"\n",
      "]\n"
     ]
    }
   ],
   "source": [
    "from tensorflow.python.client import device_lib\n",
    "print(device_lib.list_local_devices())"
   ]
  },
  {
   "cell_type": "code",
   "execution_count": 1,
   "metadata": {},
   "outputs": [
    {
     "name": "stderr",
     "output_type": "stream",
     "text": [
      "/home/shared/anaconda3/lib/python3.6/site-packages/h5py/__init__.py:36: FutureWarning: Conversion of the second argument of issubdtype from `float` to `np.floating` is deprecated. In future, it will be treated as `np.float64 == np.dtype(float).type`.\n",
      "  from ._conv import register_converters as _register_converters\n"
     ]
    },
    {
     "name": "stdout",
     "output_type": "stream",
     "text": [
      "WARNING:tensorflow:From /home/shared/anaconda3/lib/python3.6/site-packages/tensorflow/contrib/learn/python/learn/datasets/base.py:198: retry (from tensorflow.contrib.learn.python.learn.datasets.base) is deprecated and will be removed in a future version.\n",
      "Instructions for updating:\n",
      "Use the retry module or similar alternatives.\n"
     ]
    }
   ],
   "source": [
    "import tensorflow as tf\n",
    "import tensorflow.contrib.eager as tfe\n",
    "import numpy as np\n",
    "import pandas as pd\n",
    "import math\n",
    "import timeit\n",
    "import matplotlib.pyplot as plt\n",
    "#from preprocess_func_new import *\n",
    "from matplotlib.image import imread\n",
    "import os\n",
    "from os.path import expanduser\n",
    "\n",
    "%matplotlib inline\n",
    "\n",
    "#tf.enable_eager_execution()\n",
    "\n",
    "#tf.logging.set_verbosity(tf.logging.INFO)"
   ]
  },
  {
   "cell_type": "code",
   "execution_count": 2,
   "metadata": {},
   "outputs": [],
   "source": [
    "# for auto-reloading external modules\n",
    "# see http://stackoverflow.com/questions/1907993/autoreload-of-modules-in-ipython\n",
    "%load_ext autoreload\n",
    "%autoreload 2"
   ]
  },
  {
   "cell_type": "code",
   "execution_count": 2,
   "metadata": {},
   "outputs": [
    {
     "data": {
      "text/plain": [
       "'../datasets/stixels'"
      ]
     },
     "execution_count": 2,
     "metadata": {},
     "output_type": "execute_result"
    }
   ],
   "source": [
    "img_path = os.path.join('..','datasets','stixels')\n",
    "img_path"
   ]
  },
  {
   "cell_type": "code",
   "execution_count": 3,
   "metadata": {},
   "outputs": [],
   "source": [
    "percent=2 "
   ]
  },
  {
   "cell_type": "code",
   "execution_count": 4,
   "metadata": {},
   "outputs": [],
   "source": [
    "tfrec_batch_size=1 #for path name only"
   ]
  },
  {
   "cell_type": "code",
   "execution_count": 73,
   "metadata": {},
   "outputs": [],
   "source": [
    "batch_size=64"
   ]
  },
  {
   "cell_type": "code",
   "execution_count": 6,
   "metadata": {},
   "outputs": [],
   "source": [
    "tfrec_train_directory = os.path.join('..','datasets','stixels','train','tfrec_batch_size_'+str(tfrec_batch_size)+'_percent_'+str(percent))"
   ]
  },
  {
   "cell_type": "code",
   "execution_count": 7,
   "metadata": {},
   "outputs": [],
   "source": [
    "#creating a list of paths to train tfrecs:\n",
    "path_tfrecords_train_lst=[]\n",
    "path_tfrecords_train = os.path.join(img_path, 'train')\n",
    "for root, dirs, files in os.walk(tfrec_train_directory):\n",
    "    for file in files:\n",
    "        if '.tfrecord' in file:\n",
    "            path_tfrecords_train_lst.append(os.path.join(tfrec_train_directory,file))\n",
    "        else:\n",
    "            print('WARNING: file ' + file + 'looks suspicious. does it belong here?')\n",
    "\n"
   ]
  },
  {
   "cell_type": "code",
   "execution_count": 8,
   "metadata": {},
   "outputs": [],
   "source": [
    "#shortening the list for experiments\n",
    "path_tfrecords_train_lst = path_tfrecords_train_lst[:100]\n",
    "##################"
   ]
  },
  {
   "cell_type": "code",
   "execution_count": 8,
   "metadata": {},
   "outputs": [],
   "source": [
    "#params\n",
    "H=370 \n",
    "W=24\n",
    "C=3\n",
    "img_shape = (H, W, C)\n",
    "num_classes = 47"
   ]
  },
  {
   "cell_type": "code",
   "execution_count": 9,
   "metadata": {},
   "outputs": [],
   "source": [
    "def parse(serialized):\n",
    "    # Define a dict with the data-names and types we expect to\n",
    "    # find in the TFRecords file.\n",
    "    # It is a bit awkward that this needs to be specified again,\n",
    "    # because it could have been written in the header of the\n",
    "    # TFRecords file instead.\n",
    "    features = \\\n",
    "        {\n",
    "            'image': tf.FixedLenFeature([], tf.string),\n",
    "            'label': tf.FixedLenFeature([], tf.int64)\n",
    "        }\n",
    "\n",
    "    # Parse the serialized data so we get a dict with our data.\n",
    "    parsed_example = tf.parse_single_example(serialized=serialized,\n",
    "                                             features=features)\n",
    "\n",
    "    # Get the image as raw bytes.\n",
    "    image_raw = parsed_example['image']\n",
    "\n",
    "    # Decode the raw bytes so it becomes a tensor with type.\n",
    "    #######image = tf.decode_raw(image_raw, tf.int32) ####\n",
    "    image = tf.image.decode_png(image_raw, channels=3, dtype=tf.uint8) \n",
    "    #image = tf.cast(image, tf.int32)\n",
    "\n",
    "    # The type is now uint8 but we need it to be float.\n",
    "    \n",
    "    image = tf.cast(image, tf.float32) ####\n",
    "    \n",
    "    # Get the label associated with the image.\n",
    "    label = parsed_example['label']\n",
    "\n",
    "    # The image and label are now correct TensorFlow types.\n",
    "    return image, label"
   ]
  },
  {
   "cell_type": "code",
   "execution_count": 14,
   "metadata": {},
   "outputs": [],
   "source": [
    "########## a function to print tensor values\n",
    "def print_tensor(tensor):\n",
    "    dataset = tf.data.TFRecordDataset(filenames=[tensor])\n",
    "    dataset = dataset.map(parse)\n",
    "    iterator = dataset.make_one_shot_iterator()\n",
    "    images_batch, labels_batch = iterator.get_next()\n",
    "    x = {'image': images_batch}\n",
    "    y = labels_batch\n",
    "    init_op = tf.initialize_all_variables()\n",
    "\n",
    "    with tf.Session() as sess:\n",
    "        sess.run(init_op)\n",
    "        print (sess.run(y))\n",
    "        #print (sess.run(x))\n",
    "        #return(sess.run(x))\n",
    "    return"
   ]
  },
  {
   "cell_type": "code",
   "execution_count": null,
   "metadata": {},
   "outputs": [],
   "source": [
    "################ try to print the tensors\n",
    "for t in path_tfrecords_train_lst[:100]:\n",
    "    #print (t)\n",
    "    print_tensor(t)\n",
    "    #print(x)"
   ]
  },
  {
   "cell_type": "code",
   "execution_count": 106,
   "metadata": {},
   "outputs": [
    {
     "data": {
      "text/plain": [
       "(370, 24, 3)"
      ]
     },
     "execution_count": 106,
     "metadata": {},
     "output_type": "execute_result"
    }
   ],
   "source": [
    "############# print shape of tensor\n",
    "x2=tf.Session().run(x['image'])\n",
    "x2.shape\n"
   ]
  },
  {
   "cell_type": "code",
   "execution_count": 107,
   "metadata": {},
   "outputs": [
    {
     "data": {
      "text/plain": [
       "<matplotlib.image.AxesImage at 0x7fa46a8d0e48>"
      ]
     },
     "execution_count": 107,
     "metadata": {},
     "output_type": "execute_result"
    },
    {
     "data": {
      "image/png": "[encoded data removed]",
      "text/plain": [
       "<matplotlib.figure.Figure at 0x7fa46a75c908>"
      ]
     },
     "metadata": {},
     "output_type": "display_data"
    }
   ],
   "source": [
    "####################. show the parsed stixel\n",
    "import matplotlib\n",
    "%matplotlib inline\n",
    "matplotlib.pyplot.imshow(x2)"
   ]
  },
  {
   "cell_type": "code",
   "execution_count": 10,
   "metadata": {},
   "outputs": [],
   "source": [
    "def input_fn(filenames, train, batch_size=batch_size, buffer_size=100000): \n",
    "    # Args:\n",
    "    # filenames:   Filenames for the TFRecords files.\n",
    "    # train:       Boolean whether training (True) or testing (False).\n",
    "    # batch_size:  Return batches of this size.\n",
    "    # buffer_size: Read buffers of this size. The random shuffling\n",
    "    #              is done on the buffer, so it must be big enough.\n",
    "\n",
    "    # Create a TensorFlow Dataset-object which has functionality\n",
    "    # for reading and shuffling data from TFRecords files.\n",
    "    dataset = tf.data.TFRecordDataset(filenames=filenames)\n",
    "\n",
    "    # Parse the serialized data in the TFRecords files.\n",
    "    # This returns TensorFlow tensors for the image and labels.\n",
    "    dataset = dataset.map(parse)\n",
    "    \n",
    "    if train:\n",
    "        # If training then read a buffer of the given size and\n",
    "        # randomly shuffle it.\n",
    "        ######dataset = dataset.shuffle(buffer_size=buffer_size)\n",
    "\n",
    "        # Allow infinite reading of the data.\n",
    "        num_repeat = None #-1\n",
    "    else:\n",
    "        # If testing then don't shuffle the data.\n",
    "        \n",
    "        # Only go through the data once.\n",
    "        num_repeat = 1\n",
    "\n",
    "    # Repeat the dataset the given number of times.\n",
    "    dataset = dataset.repeat(num_repeat)\n",
    "    \n",
    "    # Get a batch of data with the given size.\n",
    "    #dataset = dataset.batch(batch_size)\n",
    "    #dataset = tf.contrib.data.batch_and_drop_remainder(batch_size)\n",
    "    dataset = dataset.apply(tf.contrib.data.batch_and_drop_remainder(batch_size))\n",
    "    print(dataset.output_shapes)  # ==> \"(16,)\" (the batch dimension is known)\n",
    "    \n",
    "    # Create an iterator for the dataset and the above modifications.\n",
    "    iterator = dataset.make_one_shot_iterator()\n",
    "\n",
    "    # Get the next batch of images and labels.\n",
    "    images_batch, labels_batch = iterator.get_next()\n",
    "\n",
    "    # The input-function must return a dict wrapping the images.\n",
    "    x = {'image': images_batch}\n",
    "    y = labels_batch\n",
    "    \n",
    "    return x, y"
   ]
  },
  {
   "cell_type": "code",
   "execution_count": 11,
   "metadata": {},
   "outputs": [],
   "source": [
    "def train_input_fn():\n",
    "    return input_fn(filenames=path_tfrecords_train_lst, train=True)"
   ]
  },
  {
   "cell_type": "code",
   "execution_count": 216,
   "metadata": {},
   "outputs": [],
   "source": [
    "def model_fn(features, labels, mode, params):\n",
    "    # Args:\n",
    "    #\n",
    "    # features: This is the x-arg from the input_fn.\n",
    "    # labels:   This is the y-arg from the input_fn.\n",
    "    # mode:     Either TRAIN, EVAL, or PREDICT\n",
    "    # params:   User-defined hyper-parameters, e.g. learning-rate.\n",
    "    \n",
    "    # Reference to the tensor named \"image\" in the input-function.\n",
    "    x = features[\"image\"]\n",
    "    # The convolutional layers expect 4-rank tensors\n",
    "    # but x is a 2-rank tensor, so reshape it.\n",
    "    net = tf.reshape(x, [-1,W,H,C])\n",
    "\n",
    "    net = tf.layers.conv2d(inputs=net, name='layer_conv1',\n",
    "                           filters=32, kernel_size=(3,3),\n",
    "                           activation=None, strides=(2,2),\n",
    "                           kernel_initializer=tf.contrib.layers.xavier_initializer(seed=481)\n",
    "                           )\n",
    "    \n",
    "    net = tf.layers.batch_normalization(inputs=net)\n",
    "    \n",
    "    net = tf.nn.relu6(features=net)\n",
    "    \n",
    "    ###\n",
    "    \n",
    "    net = tf.contrib.layers.separable_conv2d(inputs=net, num_outputs=None,kernel_size=(3,3), stride=(1, 1),\n",
    "                               activation_fn=None, depth_multiplier=1,\n",
    "                               weights_initializer=tf.contrib.layers.xavier_initializer(seed=481),\n",
    "                               padding='SAME'\n",
    "                              )\n",
    "    net = tf.layers.batch_normalization(inputs=net)\n",
    "    \n",
    "    net = tf.nn.relu6(features=net)\n",
    "    \n",
    "    net = tf.layers.conv2d(inputs=net, name='point_wize3',\n",
    "                           filters=32, kernel_size=(1,1),\n",
    "                           activation=None, strides=(1,1),\n",
    "                           kernel_initializer=tf.contrib.layers.xavier_initializer(seed=481)\n",
    "                           )\n",
    "    \n",
    "    net = tf.layers.batch_normalization(inputs=net)\n",
    "    \n",
    "    net = tf.nn.relu6(features=net)\n",
    "    ####\n",
    "    \n",
    "    \n",
    "    net = tf.contrib.layers.separable_conv2d(inputs=net, num_outputs=None, kernel_size=(3,3), stride=(2,2),\n",
    "                                activation_fn=None, depth_multiplier=1,\n",
    "                                weights_initializer=tf.contrib.layers.xavier_initializer(seed=481),\n",
    "                                padding='SAME'\n",
    "                               )\n",
    "    \n",
    "    net = tf.layers.batch_normalization(inputs=net)\n",
    "    \n",
    "    net = tf.nn.relu6(features=net)\n",
    "    \n",
    "    net = tf.layers.conv2d(inputs=net, name='point_wize5',\n",
    "                           filters=64, kernel_size=(1,1),\n",
    "                           activation=None, strides=(1,1),\n",
    "                           kernel_initializer=tf.contrib.layers.xavier_initializer(seed=481)\n",
    "                           )\n",
    "    \n",
    "    net = tf.layers.batch_normalization(inputs=net)\n",
    "    \n",
    "    net = tf.nn.relu6(features=net)\n",
    "    \n",
    "    ####\n",
    "\n",
    "    net = tf.contrib.layers.separable_conv2d(inputs=net, num_outputs=None, kernel_size=(3,3), stride=(1,1),\n",
    "                                activation_fn=None, depth_multiplier=1,\n",
    "                                weights_initializer=tf.contrib.layers.xavier_initializer(seed=481),\n",
    "                                padding='SAME'\n",
    "                                    )\n",
    "    \n",
    "    net = tf.layers.batch_normalization(inputs=net)\n",
    "    \n",
    "    net = tf.nn.relu6(features=net)  \n",
    "    \n",
    "    net = tf.layers.conv2d(inputs=net, name='point_wize7',\n",
    "                           filters=128, kernel_size=(1,1),\n",
    "                           activation=None, strides=(1,1),\n",
    "                           kernel_initializer=tf.contrib.layers.xavier_initializer(seed=481)\n",
    "                           )\n",
    "    \n",
    "    net = tf.layers.batch_normalization(inputs=net)\n",
    "    \n",
    "    net = tf.nn.relu6(features=net)\n",
    "    \n",
    "    ####\n",
    "    \n",
    "    \n",
    "    net = tf.contrib.layers.separable_conv2d(inputs=net, num_outputs=None, kernel_size=(3,3), stride=(2,2),\n",
    "                                activation_fn=None, depth_multiplier=1,\n",
    "                                weights_initializer=tf.contrib.layers.xavier_initializer(seed=481),\n",
    "                                padding='SAME'\n",
    "                               )\n",
    "    \n",
    "    net = tf.layers.batch_normalization(inputs=net)\n",
    "    \n",
    "    net = tf.nn.relu6(features=net)    \n",
    "    \n",
    "    net = tf.layers.conv2d(inputs=net, name='point_wize9',\n",
    "                           filters=128, kernel_size=(1,1),\n",
    "                           activation=None, strides=(1,1),\n",
    "                           kernel_initializer=tf.contrib.layers.xavier_initializer(seed=481)\n",
    "                           )\n",
    "    \n",
    "    net = tf.layers.batch_normalization(inputs=net)\n",
    "    \n",
    "    net = tf.nn.relu6(features=net)\n",
    "    \n",
    "    ####\n",
    "\n",
    "    net = tf.contrib.layers.separable_conv2d(inputs=net,num_outputs=None, kernel_size=(3,3), stride=(1,1),\n",
    "                                activation_fn=None, depth_multiplier=1,\n",
    "                                weights_initializer=tf.contrib.layers.xavier_initializer(seed=481),\n",
    "                                padding='SAME'\n",
    "                               )\n",
    "\n",
    "    net = tf.layers.batch_normalization(inputs=net)\n",
    "    \n",
    "    net = tf.nn.relu6(features=net)  \n",
    "    \n",
    "    net = tf.layers.conv2d(inputs=net, name='point_wize11',\n",
    "                           filters=256, kernel_size=(1,1),\n",
    "                           activation=None, strides=(1,1),\n",
    "                           kernel_initializer=tf.contrib.layers.xavier_initializer(seed=481)\n",
    "                           )\n",
    "    \n",
    "    net = tf.layers.batch_normalization(inputs=net)\n",
    "    \n",
    "    net = tf.nn.relu6(features=net)\n",
    "    \n",
    "    \n",
    "    ###\n",
    "    \n",
    "    net = tf.contrib.layers.separable_conv2d(inputs=net, num_outputs=None, kernel_size=(3,3), stride=(2,2),\n",
    "                                activation_fn=None, depth_multiplier=1,\n",
    "                                weights_initializer=tf.contrib.layers.xavier_initializer(seed=481),\n",
    "                                padding='SAME'\n",
    "                               )\n",
    "    \n",
    "    net = tf.layers.batch_normalization(inputs=net)\n",
    "    \n",
    "    net = tf.nn.relu6(features=net)    \n",
    "    \n",
    "    net = tf.layers.conv2d(inputs=net, name='point_wize13',\n",
    "                           filters=256, kernel_size=(1,1),\n",
    "                           activation=None, strides=(1,1),\n",
    "                           kernel_initializer=tf.contrib.layers.xavier_initializer(seed=481)\n",
    "                           )\n",
    "    \n",
    "    net = tf.layers.batch_normalization(inputs=net)\n",
    "    \n",
    "    net = tf.nn.relu6(features=net)\n",
    "    \n",
    "    \n",
    "    ###\n",
    "    \n",
    "    for i in range(5):\n",
    "        net = tf.contrib.layers.separable_conv2d(inputs=net, num_outputs=None, kernel_size=(3,3), stride=(1,1),\n",
    "                                    activation_fn=None, depth_multiplier=1,\n",
    "                                    weights_initializer=tf.contrib.layers.xavier_initializer(seed=481),\n",
    "                                    padding='SAME'\n",
    "                                   )\n",
    "\n",
    "        net = tf.layers.batch_normalization(inputs=net)\n",
    "\n",
    "        net = tf.nn.relu6(features=net)  \n",
    "        \n",
    "        net = tf.layers.conv2d(inputs=net, name='point_wize'+str(i+14),\n",
    "                           filters=512, kernel_size=(1,1),\n",
    "                           activation=None, strides=(1,1),\n",
    "                           kernel_initializer=tf.contrib.layers.xavier_initializer(seed=481)\n",
    "                           )\n",
    "    \n",
    "        net = tf.layers.batch_normalization(inputs=net)\n",
    "    \n",
    "        net = tf.nn.relu6(features=net)\n",
    "    \n",
    "    \n",
    "    net = tf.contrib.layers.separable_conv2d(inputs=net, num_outputs=None, kernel_size=(3,3), stride=(2,2),\n",
    "                                activation_fn=None, depth_multiplier=1,\n",
    "                                weights_initializer=tf.contrib.layers.xavier_initializer(seed=481),\n",
    "                                padding='SAME'\n",
    "                               )\n",
    "    \n",
    "    net = tf.layers.batch_normalization(inputs=net)\n",
    "    \n",
    "    net = tf.nn.relu6(features=net) \n",
    "    \n",
    "    net = tf.layers.conv2d(inputs=net, name='point_wize19',\n",
    "                           filters=512, kernel_size=(1,1),\n",
    "                           activation=None, strides=(1,1),\n",
    "                           kernel_initializer=tf.contrib.layers.xavier_initializer(seed=481)\n",
    "                           )\n",
    "    \n",
    "    net = tf.layers.batch_normalization(inputs=net)\n",
    "    \n",
    "    net = tf.nn.relu6(features=net)\n",
    "    \n",
    "    \n",
    "    ###\n",
    "    \n",
    "    net = tf.contrib.layers.separable_conv2d(inputs=net, num_outputs=None, kernel_size=(3,3), stride=(2,2),\n",
    "                                activation_fn=None, depth_multiplier=1,\n",
    "                                weights_initializer=tf.contrib.layers.xavier_initializer(seed=481),\n",
    "                                padding='SAME'\n",
    "                               )\n",
    "    \n",
    "    net = tf.layers.batch_normalization(inputs=net)\n",
    "    \n",
    "    net = tf.nn.relu6(features=net)    \n",
    "    \n",
    "    net = tf.layers.conv2d(inputs=net, name='point_wize20',\n",
    "                           filters=1024, kernel_size=(1,1),\n",
    "                           activation=None, strides=(1,1),\n",
    "                           kernel_initializer=tf.contrib.layers.xavier_initializer(seed=481)\n",
    "                           )\n",
    "    \n",
    "    net = tf.layers.batch_normalization(inputs=net)\n",
    "    \n",
    "    net = tf.nn.relu6(features=net)\n",
    "    \n",
    "    \n",
    "    ###\n",
    "    \n",
    "    net = tf.layers.average_pooling2d(inputs=net, pool_size=(1,6), strides=(1,1), name='layer_pool21')\n",
    "    \n",
    "    # Flatten to a 2-rank tensor.\n",
    "    #net = tf.contrib.layers.flatten(net)\n",
    "    # Eventually this should be replaced with:\n",
    "    net = tf.layers.flatten(net)\n",
    "\n",
    "\n",
    "    # This is the last layer so it does not use an activation function.\n",
    "    net = tf.layers.dense(inputs=net, name='layer_fc22',\n",
    "                          units=47,\n",
    "                          kernel_initializer=tf.contrib.layers.xavier_initializer()\n",
    "                          ) \n",
    "\n",
    "    # Logits output of the neural network.\n",
    "    logits = net\n",
    "\n",
    "    # Softmax output of the neural network.\n",
    "    y_pred = tf.nn.softmax(logits=logits)\n",
    "    \n",
    "    # Classification output of the neural network.\n",
    "    y_pred_cls = tf.argmax(y_pred, axis=1) \n",
    "   \n",
    "    if mode == tf.estimator.ModeKeys.PREDICT:\n",
    "        # If the estimator is supposed to be in prediction-mode\n",
    "        # then use the predicted class-number that is output by\n",
    "        # the neural network. Optimization etc. is not needed.\n",
    "        \n",
    "        spec = tf.estimator.EstimatorSpec(mode=mode,\n",
    "                                          predictions=y_pred)# _cls)\n",
    "    else:\n",
    "        # Otherwise the estimator is supposed to be in either\n",
    "        # training or evaluation-mode. Note that the loss-function\n",
    "        # is also required in Evaluation mode.\n",
    "        \n",
    "        # Define the loss-function to be optimized, by first\n",
    "        # calculating the cross-entropy between the output of\n",
    "        # the neural network and the true labels for the input data.\n",
    "        # This gives the cross-entropy for each image in the batch.\n",
    "        cross_entropy = tf.nn.sparse_softmax_cross_entropy_with_logits(labels=labels,\n",
    "                                                                       logits=logits)\n",
    "\n",
    "        # Reduce the cross-entropy batch-tensor to a single number\n",
    "        # which can be used in optimization of the neural network.\n",
    "        tf.argmax(logits)\n",
    "        #loss = tf.losses.mean_squared_error(labels=labels, predictions=logits)\n",
    "        loss = tf.reduce_mean(cross_entropy)\n",
    " #######################\n",
    "        lr = 1e-10\n",
    "        step_rate = 1000\n",
    "        decay = 0.5 #if this equals 1 the lr stays the same\n",
    "\n",
    "        #global_step = tf.Variable(0, trainable=False)\n",
    "        #increment_global_step = tf.assign(global_step, global_step + 1)\n",
    "\n",
    "        learning_rate = tf.train.exponential_decay(lr, global_step=tf.train.get_or_create_global_step(), \n",
    "                                           decay_steps=step_rate, decay_rate=decay, staircase=True)\n",
    "        \n",
    "\n",
    "        \n",
    "        # Define the optimizer for improving the neural network.\n",
    "        #optimizer = tf.train.AdamOptimizer(learning_rate=learning_rate)\n",
    "        optimizer = tf.train.GradientDescentOptimizer(learning_rate=learning_rate) \n",
    "        # Get the TensorFlow op for doing a single optimization step.\n",
    "        train_op = optimizer.minimize(loss=loss, global_step = tf.train.get_or_create_global_step())\n",
    "        \n",
    "\n",
    "#############################        \n",
    "\n",
    "\n",
    "        # Define the evaluation metrics,\n",
    "        # in this case the classification accuracy.\n",
    "        metrics = \\\n",
    "        {\n",
    "            \"accuracy\": tf.metrics.accuracy(labels, y_pred_cls) #TODO change acc method\n",
    "        }\n",
    "\n",
    "        # Wrap all of this in an EstimatorSpec.\n",
    "        spec = tf.estimator.EstimatorSpec(\n",
    "            mode=mode,\n",
    "            loss=loss,\n",
    "            train_op=train_op,\n",
    "            eval_metric_ops=metrics)\n",
    "        \n",
    "        \n",
    "#         with tf.Session() as sess:\n",
    "#             print('Learning rate: %f' % (sess.run(optimizer._learning_rate)))\n",
    "        \n",
    "    return spec"
   ]
  },
  {
   "cell_type": "code",
   "execution_count": 217,
   "metadata": {},
   "outputs": [],
   "source": [
    "params = {\"learning_rate\": 1e-10}"
   ]
  },
  {
   "cell_type": "code",
   "execution_count": 218,
   "metadata": {},
   "outputs": [],
   "source": [
    "def make_dir_and_comment(model_dir):\n",
    "    home = expanduser(\"~\")\n",
    "    log_name=os.path.join('logs/', model_dir + '.txt')\n",
    "    \n",
    "    if os.path.isdir(model_dir):\n",
    "        print('INFO: dir with name ' + model_dir + ' already exist.')\n",
    "    \n",
    "    new_comment=input('Please add a comment\\n')\n",
    "    \n",
    "    if os.path.exists(log_name):\n",
    "        append_write = 'a' # append if already exists\n",
    "    else:\n",
    "        append_write = 'w' # make a new file if not\n",
    "    \n",
    "    model_log = open(log_name,append_write)\n",
    "    model_log.write(home +' : '+ new_comment + '\\n')\n",
    "    model_log.close()\n",
    "    return\n",
    "\n"
   ]
  },
  {
   "cell_type": "code",
   "execution_count": 219,
   "metadata": {},
   "outputs": [
    {
     "name": "stdout",
     "output_type": "stream",
     "text": [
      "INFO: dir with name ./ckpts_26_5_mobilenet1_all_16_layers_all_examples_PW already exist.\n",
      "Please add a comment\n",
      "1e-10\n",
      "INFO:tensorflow:Using config: {'_model_dir': './ckpts_26_5_mobilenet1_all_16_layers_all_examples_PW', '_tf_random_seed': None, '_save_summary_steps': 100, '_save_checkpoints_steps': 1000, '_save_checkpoints_secs': None, '_session_config': None, '_keep_checkpoint_max': 5, '_keep_checkpoint_every_n_hours': 10000, '_log_step_count_steps': 100, '_service': None, '_cluster_spec': <tensorflow.python.training.server_lib.ClusterSpec object at 0x7ff5862f5550>, '_task_type': 'worker', '_task_id': 0, '_global_id_in_cluster': 0, '_master': '', '_evaluation_master': '', '_is_chief': True, '_num_ps_replicas': 0, '_num_worker_replicas': 1}\n"
     ]
    }
   ],
   "source": [
    "model_dir = './ckpts_26_5_mobilenet1_all_16_layers_all_examples_PW'#_adam' #'./ckpts_<day>_<month>_<architecture>_<main_change>'\n",
    "make_dir_and_comment(model_dir) \n",
    "model = tf.estimator.Estimator(model_fn=model_fn,\n",
    "                               params=params,\n",
    "                               model_dir=model_dir,\n",
    "                               config=tf.estimator.RunConfig(save_checkpoints_steps=1000, save_summary_steps=100)\n",
    "                              )"
   ]
  },
  {
   "cell_type": "code",
   "execution_count": 220,
   "metadata": {},
   "outputs": [
    {
     "name": "stdout",
     "output_type": "stream",
     "text": [
      "(TensorShape([Dimension(32), Dimension(None), Dimension(None), Dimension(3)]), TensorShape([Dimension(32)]))\n",
      "INFO:tensorflow:Calling model_fn.\n",
      "INFO:tensorflow:Done calling model_fn.\n",
      "INFO:tensorflow:Create CheckpointSaverHook.\n",
      "INFO:tensorflow:Graph was finalized.\n",
      "INFO:tensorflow:Restoring parameters from ./ckpts_26_5_mobilenet1_all_16_layers_all_examples_PW/model.ckpt-280002\n",
      "INFO:tensorflow:Running local_init_op.\n",
      "INFO:tensorflow:Done running local_init_op.\n",
      "INFO:tensorflow:Saving checkpoints for 280003 into ./ckpts_26_5_mobilenet1_all_16_layers_all_examples_PW/model.ckpt.\n",
      "INFO:tensorflow:loss = 3.4207299, step = 280002\n",
      "INFO:tensorflow:global_step/sec: 8.25876\n",
      "INFO:tensorflow:loss = 3.304316, step = 280102 (12.111 sec)\n",
      "INFO:tensorflow:global_step/sec: 10.1228\n",
      "INFO:tensorflow:loss = 3.4585538, step = 280202 (9.878 sec)\n",
      "INFO:tensorflow:global_step/sec: 10.0935\n",
      "INFO:tensorflow:loss = 3.3104243, step = 280302 (9.907 sec)\n",
      "INFO:tensorflow:global_step/sec: 10.0996\n",
      "INFO:tensorflow:loss = 3.4396026, step = 280402 (9.902 sec)\n",
      "INFO:tensorflow:global_step/sec: 10.1412\n",
      "INFO:tensorflow:loss = 3.4413824, step = 280502 (9.861 sec)\n",
      "INFO:tensorflow:global_step/sec: 10.1105\n",
      "INFO:tensorflow:loss = 3.487143, step = 280602 (9.889 sec)\n",
      "INFO:tensorflow:global_step/sec: 10.0177\n",
      "INFO:tensorflow:loss = 3.447699, step = 280702 (9.984 sec)\n",
      "INFO:tensorflow:global_step/sec: 10.0441\n",
      "INFO:tensorflow:loss = 3.3468804, step = 280802 (9.954 sec)\n",
      "INFO:tensorflow:global_step/sec: 10.0625\n",
      "INFO:tensorflow:loss = 3.4058323, step = 280902 (9.939 sec)\n",
      "INFO:tensorflow:Saving checkpoints for 281003 into ./ckpts_26_5_mobilenet1_all_16_layers_all_examples_PW/model.ckpt.\n",
      "INFO:tensorflow:global_step/sec: 9.01058\n",
      "INFO:tensorflow:loss = 3.4493937, step = 281002 (11.097 sec)\n",
      "INFO:tensorflow:global_step/sec: 10.2111\n",
      "INFO:tensorflow:loss = 3.5141263, step = 281102 (9.793 sec)\n",
      "INFO:tensorflow:global_step/sec: 10.2527\n",
      "INFO:tensorflow:loss = 3.3465114, step = 281202 (9.754 sec)\n",
      "INFO:tensorflow:global_step/sec: 10.1556\n",
      "INFO:tensorflow:loss = 3.517858, step = 281302 (9.848 sec)\n",
      "INFO:tensorflow:global_step/sec: 10.1323\n",
      "INFO:tensorflow:loss = 3.4141169, step = 281402 (9.870 sec)\n",
      "INFO:tensorflow:global_step/sec: 10.1659\n",
      "INFO:tensorflow:loss = 3.431458, step = 281502 (9.835 sec)\n",
      "INFO:tensorflow:global_step/sec: 10.2669\n",
      "INFO:tensorflow:loss = 3.3686748, step = 281602 (9.740 sec)\n",
      "INFO:tensorflow:global_step/sec: 10.1654\n",
      "INFO:tensorflow:loss = 3.3900647, step = 281702 (9.838 sec)\n",
      "INFO:tensorflow:global_step/sec: 10.1975\n",
      "INFO:tensorflow:loss = 3.3768916, step = 281802 (9.806 sec)\n",
      "INFO:tensorflow:global_step/sec: 10.1008\n",
      "INFO:tensorflow:loss = 3.3780327, step = 281902 (9.900 sec)\n",
      "INFO:tensorflow:Saving checkpoints for 282003 into ./ckpts_26_5_mobilenet1_all_16_layers_all_examples_PW/model.ckpt.\n",
      "INFO:tensorflow:global_step/sec: 9.02691\n",
      "INFO:tensorflow:loss = 3.5363631, step = 282002 (11.078 sec)\n",
      "INFO:tensorflow:global_step/sec: 10.0767\n",
      "INFO:tensorflow:loss = 3.5609028, step = 282102 (9.925 sec)\n",
      "INFO:tensorflow:global_step/sec: 10.0419\n",
      "INFO:tensorflow:loss = 3.3606179, step = 282202 (9.957 sec)\n",
      "INFO:tensorflow:global_step/sec: 10.0225\n",
      "INFO:tensorflow:loss = 3.388356, step = 282302 (9.977 sec)\n",
      "INFO:tensorflow:global_step/sec: 10.0365\n",
      "INFO:tensorflow:loss = 3.459205, step = 282402 (9.964 sec)\n",
      "INFO:tensorflow:global_step/sec: 10.051\n",
      "INFO:tensorflow:loss = 3.3043516, step = 282502 (9.949 sec)\n",
      "INFO:tensorflow:global_step/sec: 10.0168\n",
      "INFO:tensorflow:loss = 3.476512, step = 282602 (9.984 sec)\n",
      "INFO:tensorflow:global_step/sec: 10.0866\n",
      "INFO:tensorflow:loss = 3.4532866, step = 282702 (9.913 sec)\n",
      "INFO:tensorflow:global_step/sec: 10.0634\n",
      "INFO:tensorflow:loss = 3.4416752, step = 282802 (9.938 sec)\n",
      "INFO:tensorflow:global_step/sec: 10.0773\n",
      "INFO:tensorflow:loss = 3.5381324, step = 282902 (9.923 sec)\n",
      "INFO:tensorflow:Saving checkpoints for 283003 into ./ckpts_26_5_mobilenet1_all_16_layers_all_examples_PW/model.ckpt.\n",
      "INFO:tensorflow:global_step/sec: 9.01454\n",
      "INFO:tensorflow:loss = 3.3841124, step = 283002 (11.092 sec)\n",
      "INFO:tensorflow:global_step/sec: 10.0521\n",
      "INFO:tensorflow:loss = 3.4723394, step = 283102 (9.950 sec)\n",
      "INFO:tensorflow:global_step/sec: 10.0075\n",
      "INFO:tensorflow:loss = 3.3783338, step = 283202 (9.991 sec)\n",
      "INFO:tensorflow:global_step/sec: 9.97813\n",
      "INFO:tensorflow:loss = 3.4940543, step = 283302 (10.023 sec)\n",
      "INFO:tensorflow:global_step/sec: 9.94124\n",
      "INFO:tensorflow:loss = 3.438842, step = 283402 (10.059 sec)\n",
      "INFO:tensorflow:global_step/sec: 9.9672\n",
      "INFO:tensorflow:loss = 3.416881, step = 283502 (10.034 sec)\n",
      "INFO:tensorflow:global_step/sec: 10.0587\n",
      "INFO:tensorflow:loss = 3.4180427, step = 283602 (9.942 sec)\n",
      "INFO:tensorflow:global_step/sec: 10.0203\n",
      "INFO:tensorflow:loss = 3.4197807, step = 283702 (9.980 sec)\n",
      "INFO:tensorflow:global_step/sec: 10.0152\n",
      "INFO:tensorflow:loss = 3.380465, step = 283802 (9.984 sec)\n",
      "INFO:tensorflow:global_step/sec: 10.0451\n",
      "INFO:tensorflow:loss = 3.4042408, step = 283902 (9.956 sec)\n",
      "INFO:tensorflow:Saving checkpoints for 284003 into ./ckpts_26_5_mobilenet1_all_16_layers_all_examples_PW/model.ckpt.\n",
      "INFO:tensorflow:global_step/sec: 8.96224\n",
      "INFO:tensorflow:loss = 3.4323835, step = 284002 (11.156 sec)\n",
      "INFO:tensorflow:global_step/sec: 10.0702\n",
      "INFO:tensorflow:loss = 3.4297438, step = 284102 (9.932 sec)\n",
      "INFO:tensorflow:global_step/sec: 10.0669\n",
      "INFO:tensorflow:loss = 3.360435, step = 284202 (9.932 sec)\n",
      "INFO:tensorflow:global_step/sec: 10.0091\n",
      "INFO:tensorflow:loss = 3.2959237, step = 284302 (9.992 sec)\n",
      "INFO:tensorflow:global_step/sec: 10.0191\n",
      "INFO:tensorflow:loss = 3.4273992, step = 284402 (9.981 sec)\n",
      "INFO:tensorflow:global_step/sec: 9.99194\n",
      "INFO:tensorflow:loss = 3.451756, step = 284502 (10.007 sec)\n",
      "INFO:tensorflow:global_step/sec: 9.96011\n",
      "INFO:tensorflow:loss = 3.436107, step = 284602 (10.040 sec)\n",
      "INFO:tensorflow:global_step/sec: 9.98878\n",
      "INFO:tensorflow:loss = 3.6158004, step = 284702 (10.012 sec)\n",
      "INFO:tensorflow:global_step/sec: 10.17\n",
      "INFO:tensorflow:loss = 3.5399618, step = 284802 (9.834 sec)\n",
      "INFO:tensorflow:global_step/sec: 9.96018\n",
      "INFO:tensorflow:loss = 3.3625586, step = 284902 (10.040 sec)\n",
      "INFO:tensorflow:Saving checkpoints for 285003 into ./ckpts_26_5_mobilenet1_all_16_layers_all_examples_PW/model.ckpt.\n",
      "INFO:tensorflow:global_step/sec: 9.06938\n",
      "INFO:tensorflow:loss = 3.3305848, step = 285002 (11.025 sec)\n",
      "INFO:tensorflow:global_step/sec: 9.99648\n",
      "INFO:tensorflow:loss = 3.4876022, step = 285102 (10.003 sec)\n",
      "INFO:tensorflow:global_step/sec: 10.0753\n",
      "INFO:tensorflow:loss = 3.406239, step = 285202 (9.925 sec)\n",
      "INFO:tensorflow:global_step/sec: 9.9991\n",
      "INFO:tensorflow:loss = 3.3140318, step = 285302 (10.001 sec)\n",
      "INFO:tensorflow:global_step/sec: 10.0503\n",
      "INFO:tensorflow:loss = 3.4094064, step = 285402 (9.951 sec)\n",
      "INFO:tensorflow:global_step/sec: 10.098\n",
      "INFO:tensorflow:loss = 3.354452, step = 285502 (9.904 sec)\n",
      "INFO:tensorflow:global_step/sec: 10.0706\n",
      "INFO:tensorflow:loss = 3.3617392, step = 285602 (9.928 sec)\n",
      "INFO:tensorflow:global_step/sec: 10.0802\n",
      "INFO:tensorflow:loss = 3.3799827, step = 285702 (9.921 sec)\n",
      "INFO:tensorflow:global_step/sec: 10.0821\n",
      "INFO:tensorflow:loss = 3.472384, step = 285802 (9.919 sec)\n",
      "INFO:tensorflow:global_step/sec: 10.0388\n",
      "INFO:tensorflow:loss = 3.5169697, step = 285902 (9.960 sec)\n",
      "INFO:tensorflow:Saving checkpoints for 286003 into ./ckpts_26_5_mobilenet1_all_16_layers_all_examples_PW/model.ckpt.\n",
      "INFO:tensorflow:global_step/sec: 8.96313\n",
      "INFO:tensorflow:loss = 3.4947405, step = 286002 (11.157 sec)\n",
      "INFO:tensorflow:global_step/sec: 9.97474\n",
      "INFO:tensorflow:loss = 3.3831413, step = 286102 (10.025 sec)\n",
      "INFO:tensorflow:global_step/sec: 10.0012\n",
      "INFO:tensorflow:loss = 3.4036498, step = 286202 (10.000 sec)\n",
      "INFO:tensorflow:global_step/sec: 9.99171\n",
      "INFO:tensorflow:loss = 3.3611116, step = 286302 (10.009 sec)\n",
      "INFO:tensorflow:global_step/sec: 10.0441\n",
      "INFO:tensorflow:loss = 3.3879223, step = 286402 (9.956 sec)\n",
      "INFO:tensorflow:global_step/sec: 9.97084\n",
      "INFO:tensorflow:loss = 3.4197044, step = 286502 (10.028 sec)\n",
      "INFO:tensorflow:global_step/sec: 10.0583\n",
      "INFO:tensorflow:loss = 3.3596013, step = 286602 (9.942 sec)\n",
      "INFO:tensorflow:global_step/sec: 9.94391\n",
      "INFO:tensorflow:loss = 3.2348464, step = 286702 (10.058 sec)\n",
      "INFO:tensorflow:global_step/sec: 9.95297\n",
      "INFO:tensorflow:loss = 3.4640918, step = 286802 (10.046 sec)\n"
     ]
    },
    {
     "name": "stdout",
     "output_type": "stream",
     "text": [
      "INFO:tensorflow:global_step/sec: 9.97308\n",
      "INFO:tensorflow:loss = 3.318682, step = 286902 (10.026 sec)\n",
      "INFO:tensorflow:Saving checkpoints for 287003 into ./ckpts_26_5_mobilenet1_all_16_layers_all_examples_PW/model.ckpt.\n",
      "INFO:tensorflow:global_step/sec: 8.9782\n",
      "INFO:tensorflow:loss = 3.3367162, step = 287002 (11.138 sec)\n",
      "INFO:tensorflow:global_step/sec: 10.0611\n",
      "INFO:tensorflow:loss = 3.3053002, step = 287102 (9.939 sec)\n",
      "INFO:tensorflow:global_step/sec: 10.0673\n",
      "INFO:tensorflow:loss = 3.46056, step = 287202 (9.935 sec)\n",
      "INFO:tensorflow:global_step/sec: 10.2085\n",
      "INFO:tensorflow:loss = 3.452015, step = 287302 (9.794 sec)\n",
      "INFO:tensorflow:global_step/sec: 10.2513\n",
      "INFO:tensorflow:loss = 3.4109569, step = 287402 (9.755 sec)\n",
      "INFO:tensorflow:global_step/sec: 10.1565\n",
      "INFO:tensorflow:loss = 3.3428495, step = 287502 (9.847 sec)\n",
      "INFO:tensorflow:global_step/sec: 10.1251\n",
      "INFO:tensorflow:loss = 3.388183, step = 287602 (9.876 sec)\n",
      "INFO:tensorflow:global_step/sec: 10.026\n",
      "INFO:tensorflow:loss = 3.3466778, step = 287702 (9.974 sec)\n",
      "INFO:tensorflow:global_step/sec: 9.9656\n",
      "INFO:tensorflow:loss = 3.3108659, step = 287802 (10.035 sec)\n",
      "INFO:tensorflow:global_step/sec: 10.0354\n",
      "INFO:tensorflow:loss = 3.3671098, step = 287902 (9.965 sec)\n",
      "INFO:tensorflow:Saving checkpoints for 288003 into ./ckpts_26_5_mobilenet1_all_16_layers_all_examples_PW/model.ckpt.\n",
      "INFO:tensorflow:global_step/sec: 9.01786\n",
      "INFO:tensorflow:loss = 3.598878, step = 288002 (11.089 sec)\n",
      "INFO:tensorflow:global_step/sec: 10.0583\n",
      "INFO:tensorflow:loss = 3.3597236, step = 288102 (9.942 sec)\n",
      "INFO:tensorflow:global_step/sec: 10.1308\n",
      "INFO:tensorflow:loss = 3.3876925, step = 288202 (9.872 sec)\n",
      "INFO:tensorflow:global_step/sec: 10.0969\n",
      "INFO:tensorflow:loss = 3.3856478, step = 288302 (9.905 sec)\n",
      "INFO:tensorflow:global_step/sec: 9.95358\n",
      "INFO:tensorflow:loss = 3.4423838, step = 288402 (10.047 sec)\n",
      "INFO:tensorflow:global_step/sec: 10.1321\n",
      "INFO:tensorflow:loss = 3.4843273, step = 288502 (9.868 sec)\n",
      "INFO:tensorflow:global_step/sec: 10.1671\n",
      "INFO:tensorflow:loss = 3.5169458, step = 288602 (9.835 sec)\n",
      "INFO:tensorflow:global_step/sec: 10.1411\n",
      "INFO:tensorflow:loss = 3.345934, step = 288702 (9.861 sec)\n",
      "INFO:tensorflow:global_step/sec: 10.0445\n",
      "INFO:tensorflow:loss = 3.484608, step = 288802 (9.956 sec)\n",
      "INFO:tensorflow:global_step/sec: 10.0742\n",
      "INFO:tensorflow:loss = 3.4110062, step = 288902 (9.926 sec)\n",
      "INFO:tensorflow:Saving checkpoints for 289003 into ./ckpts_26_5_mobilenet1_all_16_layers_all_examples_PW/model.ckpt.\n",
      "INFO:tensorflow:global_step/sec: 9.0711\n",
      "INFO:tensorflow:loss = 3.6072614, step = 289002 (11.024 sec)\n",
      "INFO:tensorflow:global_step/sec: 10.1282\n",
      "INFO:tensorflow:loss = 3.4429185, step = 289102 (9.875 sec)\n",
      "INFO:tensorflow:global_step/sec: 10.0855\n",
      "INFO:tensorflow:loss = 3.4035735, step = 289202 (9.914 sec)\n",
      "INFO:tensorflow:global_step/sec: 10.0756\n",
      "INFO:tensorflow:loss = 3.34177, step = 289302 (9.926 sec)\n",
      "INFO:tensorflow:global_step/sec: 10.1504\n",
      "INFO:tensorflow:loss = 3.5734358, step = 289402 (9.851 sec)\n"
     ]
    },
    {
     "ename": "KeyboardInterrupt",
     "evalue": "",
     "output_type": "error",
     "traceback": [
      "\u001b[0;31m---------------------------------------------------------------------------\u001b[0m",
      "\u001b[0;31mKeyboardInterrupt\u001b[0m                         Traceback (most recent call last)",
      "\u001b[0;32m<ipython-input-220-f2a35d1e8a2f>\u001b[0m in \u001b[0;36m<module>\u001b[0;34m()\u001b[0m\n\u001b[0;32m----> 1\u001b[0;31m \u001b[0mmodel\u001b[0m\u001b[0;34m.\u001b[0m\u001b[0mtrain\u001b[0m\u001b[0;34m(\u001b[0m\u001b[0minput_fn\u001b[0m\u001b[0;34m=\u001b[0m\u001b[0mtrain_input_fn\u001b[0m\u001b[0;34m,\u001b[0m \u001b[0msteps\u001b[0m\u001b[0;34m=\u001b[0m\u001b[0;36m100000\u001b[0m\u001b[0;34m)\u001b[0m\u001b[0;34m\u001b[0m\u001b[0m\n\u001b[0m",
      "\u001b[0;32m/home/shared/anaconda3/lib/python3.6/site-packages/tensorflow/python/estimator/estimator.py\u001b[0m in \u001b[0;36mtrain\u001b[0;34m(self, input_fn, hooks, steps, max_steps, saving_listeners)\u001b[0m\n\u001b[1;32m    353\u001b[0m \u001b[0;34m\u001b[0m\u001b[0m\n\u001b[1;32m    354\u001b[0m     \u001b[0msaving_listeners\u001b[0m \u001b[0;34m=\u001b[0m \u001b[0m_check_listeners_type\u001b[0m\u001b[0;34m(\u001b[0m\u001b[0msaving_listeners\u001b[0m\u001b[0;34m)\u001b[0m\u001b[0;34m\u001b[0m\u001b[0m\n\u001b[0;32m--> 355\u001b[0;31m     \u001b[0mloss\u001b[0m \u001b[0;34m=\u001b[0m \u001b[0mself\u001b[0m\u001b[0;34m.\u001b[0m\u001b[0m_train_model\u001b[0m\u001b[0;34m(\u001b[0m\u001b[0minput_fn\u001b[0m\u001b[0;34m,\u001b[0m \u001b[0mhooks\u001b[0m\u001b[0;34m,\u001b[0m \u001b[0msaving_listeners\u001b[0m\u001b[0;34m)\u001b[0m\u001b[0;34m\u001b[0m\u001b[0m\n\u001b[0m\u001b[1;32m    356\u001b[0m     \u001b[0mlogging\u001b[0m\u001b[0;34m.\u001b[0m\u001b[0minfo\u001b[0m\u001b[0;34m(\u001b[0m\u001b[0;34m'Loss for final step: %s.'\u001b[0m\u001b[0;34m,\u001b[0m \u001b[0mloss\u001b[0m\u001b[0;34m)\u001b[0m\u001b[0;34m\u001b[0m\u001b[0m\n\u001b[1;32m    357\u001b[0m     \u001b[0;32mreturn\u001b[0m \u001b[0mself\u001b[0m\u001b[0;34m\u001b[0m\u001b[0m\n",
      "\u001b[0;32m/home/shared/anaconda3/lib/python3.6/site-packages/tensorflow/python/estimator/estimator.py\u001b[0m in \u001b[0;36m_train_model\u001b[0;34m(self, input_fn, hooks, saving_listeners)\u001b[0m\n\u001b[1;32m    901\u001b[0m         \u001b[0mloss\u001b[0m \u001b[0;34m=\u001b[0m \u001b[0;32mNone\u001b[0m\u001b[0;34m\u001b[0m\u001b[0m\n\u001b[1;32m    902\u001b[0m         \u001b[0;32mwhile\u001b[0m \u001b[0;32mnot\u001b[0m \u001b[0mmon_sess\u001b[0m\u001b[0;34m.\u001b[0m\u001b[0mshould_stop\u001b[0m\u001b[0;34m(\u001b[0m\u001b[0;34m)\u001b[0m\u001b[0;34m:\u001b[0m\u001b[0;34m\u001b[0m\u001b[0m\n\u001b[0;32m--> 903\u001b[0;31m           \u001b[0m_\u001b[0m\u001b[0;34m,\u001b[0m \u001b[0mloss\u001b[0m \u001b[0;34m=\u001b[0m \u001b[0mmon_sess\u001b[0m\u001b[0;34m.\u001b[0m\u001b[0mrun\u001b[0m\u001b[0;34m(\u001b[0m\u001b[0;34m[\u001b[0m\u001b[0mestimator_spec\u001b[0m\u001b[0;34m.\u001b[0m\u001b[0mtrain_op\u001b[0m\u001b[0;34m,\u001b[0m \u001b[0mestimator_spec\u001b[0m\u001b[0;34m.\u001b[0m\u001b[0mloss\u001b[0m\u001b[0;34m]\u001b[0m\u001b[0;34m)\u001b[0m\u001b[0;34m\u001b[0m\u001b[0m\n\u001b[0m\u001b[1;32m    904\u001b[0m       \u001b[0;32mreturn\u001b[0m \u001b[0mloss\u001b[0m\u001b[0;34m\u001b[0m\u001b[0m\n\u001b[1;32m    905\u001b[0m \u001b[0;34m\u001b[0m\u001b[0m\n",
      "\u001b[0;32m/home/shared/anaconda3/lib/python3.6/site-packages/tensorflow/python/training/monitored_session.py\u001b[0m in \u001b[0;36mrun\u001b[0;34m(self, fetches, feed_dict, options, run_metadata)\u001b[0m\n\u001b[1;32m    544\u001b[0m                           \u001b[0mfeed_dict\u001b[0m\u001b[0;34m=\u001b[0m\u001b[0mfeed_dict\u001b[0m\u001b[0;34m,\u001b[0m\u001b[0;34m\u001b[0m\u001b[0m\n\u001b[1;32m    545\u001b[0m                           \u001b[0moptions\u001b[0m\u001b[0;34m=\u001b[0m\u001b[0moptions\u001b[0m\u001b[0;34m,\u001b[0m\u001b[0;34m\u001b[0m\u001b[0m\n\u001b[0;32m--> 546\u001b[0;31m                           run_metadata=run_metadata)\n\u001b[0m\u001b[1;32m    547\u001b[0m \u001b[0;34m\u001b[0m\u001b[0m\n\u001b[1;32m    548\u001b[0m   \u001b[0;32mdef\u001b[0m \u001b[0mrun_step_fn\u001b[0m\u001b[0;34m(\u001b[0m\u001b[0mself\u001b[0m\u001b[0;34m,\u001b[0m \u001b[0mstep_fn\u001b[0m\u001b[0;34m)\u001b[0m\u001b[0;34m:\u001b[0m\u001b[0;34m\u001b[0m\u001b[0m\n",
      "\u001b[0;32m/home/shared/anaconda3/lib/python3.6/site-packages/tensorflow/python/training/monitored_session.py\u001b[0m in \u001b[0;36mrun\u001b[0;34m(self, fetches, feed_dict, options, run_metadata)\u001b[0m\n\u001b[1;32m   1020\u001b[0m                               \u001b[0mfeed_dict\u001b[0m\u001b[0;34m=\u001b[0m\u001b[0mfeed_dict\u001b[0m\u001b[0;34m,\u001b[0m\u001b[0;34m\u001b[0m\u001b[0m\n\u001b[1;32m   1021\u001b[0m                               \u001b[0moptions\u001b[0m\u001b[0;34m=\u001b[0m\u001b[0moptions\u001b[0m\u001b[0;34m,\u001b[0m\u001b[0;34m\u001b[0m\u001b[0m\n\u001b[0;32m-> 1022\u001b[0;31m                               run_metadata=run_metadata)\n\u001b[0m\u001b[1;32m   1023\u001b[0m       \u001b[0;32mexcept\u001b[0m \u001b[0m_PREEMPTION_ERRORS\u001b[0m \u001b[0;32mas\u001b[0m \u001b[0me\u001b[0m\u001b[0;34m:\u001b[0m\u001b[0;34m\u001b[0m\u001b[0m\n\u001b[1;32m   1024\u001b[0m         logging.info('An error was raised. This may be due to a preemption in '\n",
      "\u001b[0;32m/home/shared/anaconda3/lib/python3.6/site-packages/tensorflow/python/training/monitored_session.py\u001b[0m in \u001b[0;36mrun\u001b[0;34m(self, *args, **kwargs)\u001b[0m\n\u001b[1;32m   1096\u001b[0m   \u001b[0;32mdef\u001b[0m \u001b[0mrun\u001b[0m\u001b[0;34m(\u001b[0m\u001b[0mself\u001b[0m\u001b[0;34m,\u001b[0m \u001b[0;34m*\u001b[0m\u001b[0margs\u001b[0m\u001b[0;34m,\u001b[0m \u001b[0;34m**\u001b[0m\u001b[0mkwargs\u001b[0m\u001b[0;34m)\u001b[0m\u001b[0;34m:\u001b[0m\u001b[0;34m\u001b[0m\u001b[0m\n\u001b[1;32m   1097\u001b[0m     \u001b[0;32mtry\u001b[0m\u001b[0;34m:\u001b[0m\u001b[0;34m\u001b[0m\u001b[0m\n\u001b[0;32m-> 1098\u001b[0;31m       \u001b[0;32mreturn\u001b[0m \u001b[0mself\u001b[0m\u001b[0;34m.\u001b[0m\u001b[0m_sess\u001b[0m\u001b[0;34m.\u001b[0m\u001b[0mrun\u001b[0m\u001b[0;34m(\u001b[0m\u001b[0;34m*\u001b[0m\u001b[0margs\u001b[0m\u001b[0;34m,\u001b[0m \u001b[0;34m**\u001b[0m\u001b[0mkwargs\u001b[0m\u001b[0;34m)\u001b[0m\u001b[0;34m\u001b[0m\u001b[0m\n\u001b[0m\u001b[1;32m   1099\u001b[0m     \u001b[0;32mexcept\u001b[0m \u001b[0m_PREEMPTION_ERRORS\u001b[0m\u001b[0;34m:\u001b[0m\u001b[0;34m\u001b[0m\u001b[0m\n\u001b[1;32m   1100\u001b[0m       \u001b[0;32mraise\u001b[0m\u001b[0;34m\u001b[0m\u001b[0m\n",
      "\u001b[0;32m/home/shared/anaconda3/lib/python3.6/site-packages/tensorflow/python/training/monitored_session.py\u001b[0m in \u001b[0;36mrun\u001b[0;34m(self, fetches, feed_dict, options, run_metadata)\u001b[0m\n\u001b[1;32m   1168\u001b[0m                                   \u001b[0mfeed_dict\u001b[0m\u001b[0;34m=\u001b[0m\u001b[0mfeed_dict\u001b[0m\u001b[0;34m,\u001b[0m\u001b[0;34m\u001b[0m\u001b[0m\n\u001b[1;32m   1169\u001b[0m                                   \u001b[0moptions\u001b[0m\u001b[0;34m=\u001b[0m\u001b[0moptions\u001b[0m\u001b[0;34m,\u001b[0m\u001b[0;34m\u001b[0m\u001b[0m\n\u001b[0;32m-> 1170\u001b[0;31m                                   run_metadata=run_metadata)\n\u001b[0m\u001b[1;32m   1171\u001b[0m \u001b[0;34m\u001b[0m\u001b[0m\n\u001b[1;32m   1172\u001b[0m     \u001b[0;32mfor\u001b[0m \u001b[0mhook\u001b[0m \u001b[0;32min\u001b[0m \u001b[0mself\u001b[0m\u001b[0;34m.\u001b[0m\u001b[0m_hooks\u001b[0m\u001b[0;34m:\u001b[0m\u001b[0;34m\u001b[0m\u001b[0m\n",
      "\u001b[0;32m/home/shared/anaconda3/lib/python3.6/site-packages/tensorflow/python/training/monitored_session.py\u001b[0m in \u001b[0;36mrun\u001b[0;34m(self, *args, **kwargs)\u001b[0m\n\u001b[1;32m    948\u001b[0m \u001b[0;34m\u001b[0m\u001b[0m\n\u001b[1;32m    949\u001b[0m   \u001b[0;32mdef\u001b[0m \u001b[0mrun\u001b[0m\u001b[0;34m(\u001b[0m\u001b[0mself\u001b[0m\u001b[0;34m,\u001b[0m \u001b[0;34m*\u001b[0m\u001b[0margs\u001b[0m\u001b[0;34m,\u001b[0m \u001b[0;34m**\u001b[0m\u001b[0mkwargs\u001b[0m\u001b[0;34m)\u001b[0m\u001b[0;34m:\u001b[0m\u001b[0;34m\u001b[0m\u001b[0m\n\u001b[0;32m--> 950\u001b[0;31m     \u001b[0;32mreturn\u001b[0m \u001b[0mself\u001b[0m\u001b[0;34m.\u001b[0m\u001b[0m_sess\u001b[0m\u001b[0;34m.\u001b[0m\u001b[0mrun\u001b[0m\u001b[0;34m(\u001b[0m\u001b[0;34m*\u001b[0m\u001b[0margs\u001b[0m\u001b[0;34m,\u001b[0m \u001b[0;34m**\u001b[0m\u001b[0mkwargs\u001b[0m\u001b[0;34m)\u001b[0m\u001b[0;34m\u001b[0m\u001b[0m\n\u001b[0m\u001b[1;32m    951\u001b[0m \u001b[0;34m\u001b[0m\u001b[0m\n\u001b[1;32m    952\u001b[0m   \u001b[0;32mdef\u001b[0m \u001b[0mrun_step_fn\u001b[0m\u001b[0;34m(\u001b[0m\u001b[0mself\u001b[0m\u001b[0;34m,\u001b[0m \u001b[0mstep_fn\u001b[0m\u001b[0;34m,\u001b[0m \u001b[0mraw_session\u001b[0m\u001b[0;34m,\u001b[0m \u001b[0mrun_with_hooks\u001b[0m\u001b[0;34m)\u001b[0m\u001b[0;34m:\u001b[0m\u001b[0;34m\u001b[0m\u001b[0m\n",
      "\u001b[0;32m/home/shared/anaconda3/lib/python3.6/site-packages/tensorflow/python/client/session.py\u001b[0m in \u001b[0;36mrun\u001b[0;34m(self, fetches, feed_dict, options, run_metadata)\u001b[0m\n\u001b[1;32m    903\u001b[0m     \u001b[0;32mtry\u001b[0m\u001b[0;34m:\u001b[0m\u001b[0;34m\u001b[0m\u001b[0m\n\u001b[1;32m    904\u001b[0m       result = self._run(None, fetches, feed_dict, options_ptr,\n\u001b[0;32m--> 905\u001b[0;31m                          run_metadata_ptr)\n\u001b[0m\u001b[1;32m    906\u001b[0m       \u001b[0;32mif\u001b[0m \u001b[0mrun_metadata\u001b[0m\u001b[0;34m:\u001b[0m\u001b[0;34m\u001b[0m\u001b[0m\n\u001b[1;32m    907\u001b[0m         \u001b[0mproto_data\u001b[0m \u001b[0;34m=\u001b[0m \u001b[0mtf_session\u001b[0m\u001b[0;34m.\u001b[0m\u001b[0mTF_GetBuffer\u001b[0m\u001b[0;34m(\u001b[0m\u001b[0mrun_metadata_ptr\u001b[0m\u001b[0;34m)\u001b[0m\u001b[0;34m\u001b[0m\u001b[0m\n",
      "\u001b[0;32m/home/shared/anaconda3/lib/python3.6/site-packages/tensorflow/python/client/session.py\u001b[0m in \u001b[0;36m_run\u001b[0;34m(self, handle, fetches, feed_dict, options, run_metadata)\u001b[0m\n\u001b[1;32m   1138\u001b[0m     \u001b[0;32mif\u001b[0m \u001b[0mfinal_fetches\u001b[0m \u001b[0;32mor\u001b[0m \u001b[0mfinal_targets\u001b[0m \u001b[0;32mor\u001b[0m \u001b[0;34m(\u001b[0m\u001b[0mhandle\u001b[0m \u001b[0;32mand\u001b[0m \u001b[0mfeed_dict_tensor\u001b[0m\u001b[0;34m)\u001b[0m\u001b[0;34m:\u001b[0m\u001b[0;34m\u001b[0m\u001b[0m\n\u001b[1;32m   1139\u001b[0m       results = self._do_run(handle, final_targets, final_fetches,\n\u001b[0;32m-> 1140\u001b[0;31m                              feed_dict_tensor, options, run_metadata)\n\u001b[0m\u001b[1;32m   1141\u001b[0m     \u001b[0;32melse\u001b[0m\u001b[0;34m:\u001b[0m\u001b[0;34m\u001b[0m\u001b[0m\n\u001b[1;32m   1142\u001b[0m       \u001b[0mresults\u001b[0m \u001b[0;34m=\u001b[0m \u001b[0;34m[\u001b[0m\u001b[0;34m]\u001b[0m\u001b[0;34m\u001b[0m\u001b[0m\n",
      "\u001b[0;32m/home/shared/anaconda3/lib/python3.6/site-packages/tensorflow/python/client/session.py\u001b[0m in \u001b[0;36m_do_run\u001b[0;34m(self, handle, target_list, fetch_list, feed_dict, options, run_metadata)\u001b[0m\n\u001b[1;32m   1319\u001b[0m     \u001b[0;32mif\u001b[0m \u001b[0mhandle\u001b[0m \u001b[0;32mis\u001b[0m \u001b[0;32mNone\u001b[0m\u001b[0;34m:\u001b[0m\u001b[0;34m\u001b[0m\u001b[0m\n\u001b[1;32m   1320\u001b[0m       return self._do_call(_run_fn, feeds, fetches, targets, options,\n\u001b[0;32m-> 1321\u001b[0;31m                            run_metadata)\n\u001b[0m\u001b[1;32m   1322\u001b[0m     \u001b[0;32melse\u001b[0m\u001b[0;34m:\u001b[0m\u001b[0;34m\u001b[0m\u001b[0m\n\u001b[1;32m   1323\u001b[0m       \u001b[0;32mreturn\u001b[0m \u001b[0mself\u001b[0m\u001b[0;34m.\u001b[0m\u001b[0m_do_call\u001b[0m\u001b[0;34m(\u001b[0m\u001b[0m_prun_fn\u001b[0m\u001b[0;34m,\u001b[0m \u001b[0mhandle\u001b[0m\u001b[0;34m,\u001b[0m \u001b[0mfeeds\u001b[0m\u001b[0;34m,\u001b[0m \u001b[0mfetches\u001b[0m\u001b[0;34m)\u001b[0m\u001b[0;34m\u001b[0m\u001b[0m\n",
      "\u001b[0;32m/home/shared/anaconda3/lib/python3.6/site-packages/tensorflow/python/client/session.py\u001b[0m in \u001b[0;36m_do_call\u001b[0;34m(self, fn, *args)\u001b[0m\n\u001b[1;32m   1325\u001b[0m   \u001b[0;32mdef\u001b[0m \u001b[0m_do_call\u001b[0m\u001b[0;34m(\u001b[0m\u001b[0mself\u001b[0m\u001b[0;34m,\u001b[0m \u001b[0mfn\u001b[0m\u001b[0;34m,\u001b[0m \u001b[0;34m*\u001b[0m\u001b[0margs\u001b[0m\u001b[0;34m)\u001b[0m\u001b[0;34m:\u001b[0m\u001b[0;34m\u001b[0m\u001b[0m\n\u001b[1;32m   1326\u001b[0m     \u001b[0;32mtry\u001b[0m\u001b[0;34m:\u001b[0m\u001b[0;34m\u001b[0m\u001b[0m\n\u001b[0;32m-> 1327\u001b[0;31m       \u001b[0;32mreturn\u001b[0m \u001b[0mfn\u001b[0m\u001b[0;34m(\u001b[0m\u001b[0;34m*\u001b[0m\u001b[0margs\u001b[0m\u001b[0;34m)\u001b[0m\u001b[0;34m\u001b[0m\u001b[0m\n\u001b[0m\u001b[1;32m   1328\u001b[0m     \u001b[0;32mexcept\u001b[0m \u001b[0merrors\u001b[0m\u001b[0;34m.\u001b[0m\u001b[0mOpError\u001b[0m \u001b[0;32mas\u001b[0m \u001b[0me\u001b[0m\u001b[0;34m:\u001b[0m\u001b[0;34m\u001b[0m\u001b[0m\n\u001b[1;32m   1329\u001b[0m       \u001b[0mmessage\u001b[0m \u001b[0;34m=\u001b[0m \u001b[0mcompat\u001b[0m\u001b[0;34m.\u001b[0m\u001b[0mas_text\u001b[0m\u001b[0;34m(\u001b[0m\u001b[0me\u001b[0m\u001b[0;34m.\u001b[0m\u001b[0mmessage\u001b[0m\u001b[0;34m)\u001b[0m\u001b[0;34m\u001b[0m\u001b[0m\n",
      "\u001b[0;32m/home/shared/anaconda3/lib/python3.6/site-packages/tensorflow/python/client/session.py\u001b[0m in \u001b[0;36m_run_fn\u001b[0;34m(feed_dict, fetch_list, target_list, options, run_metadata)\u001b[0m\n\u001b[1;32m   1310\u001b[0m       \u001b[0mself\u001b[0m\u001b[0;34m.\u001b[0m\u001b[0m_extend_graph\u001b[0m\u001b[0;34m(\u001b[0m\u001b[0;34m)\u001b[0m\u001b[0;34m\u001b[0m\u001b[0m\n\u001b[1;32m   1311\u001b[0m       return self._call_tf_sessionrun(\n\u001b[0;32m-> 1312\u001b[0;31m           options, feed_dict, fetch_list, target_list, run_metadata)\n\u001b[0m\u001b[1;32m   1313\u001b[0m \u001b[0;34m\u001b[0m\u001b[0m\n\u001b[1;32m   1314\u001b[0m     \u001b[0;32mdef\u001b[0m \u001b[0m_prun_fn\u001b[0m\u001b[0;34m(\u001b[0m\u001b[0mhandle\u001b[0m\u001b[0;34m,\u001b[0m \u001b[0mfeed_dict\u001b[0m\u001b[0;34m,\u001b[0m \u001b[0mfetch_list\u001b[0m\u001b[0;34m)\u001b[0m\u001b[0;34m:\u001b[0m\u001b[0;34m\u001b[0m\u001b[0m\n",
      "\u001b[0;32m/home/shared/anaconda3/lib/python3.6/site-packages/tensorflow/python/client/session.py\u001b[0m in \u001b[0;36m_call_tf_sessionrun\u001b[0;34m(self, options, feed_dict, fetch_list, target_list, run_metadata)\u001b[0m\n\u001b[1;32m   1418\u001b[0m         return tf_session.TF_Run(\n\u001b[1;32m   1419\u001b[0m             \u001b[0mself\u001b[0m\u001b[0;34m.\u001b[0m\u001b[0m_session\u001b[0m\u001b[0;34m,\u001b[0m \u001b[0moptions\u001b[0m\u001b[0;34m,\u001b[0m \u001b[0mfeed_dict\u001b[0m\u001b[0;34m,\u001b[0m \u001b[0mfetch_list\u001b[0m\u001b[0;34m,\u001b[0m \u001b[0mtarget_list\u001b[0m\u001b[0;34m,\u001b[0m\u001b[0;34m\u001b[0m\u001b[0m\n\u001b[0;32m-> 1420\u001b[0;31m             status, run_metadata)\n\u001b[0m\u001b[1;32m   1421\u001b[0m \u001b[0;34m\u001b[0m\u001b[0m\n\u001b[1;32m   1422\u001b[0m   \u001b[0;32mdef\u001b[0m \u001b[0m_call_tf_sessionprun\u001b[0m\u001b[0;34m(\u001b[0m\u001b[0mself\u001b[0m\u001b[0;34m,\u001b[0m \u001b[0mhandle\u001b[0m\u001b[0;34m,\u001b[0m \u001b[0mfeed_dict\u001b[0m\u001b[0;34m,\u001b[0m \u001b[0mfetch_list\u001b[0m\u001b[0;34m)\u001b[0m\u001b[0;34m:\u001b[0m\u001b[0;34m\u001b[0m\u001b[0m\n",
      "\u001b[0;31mKeyboardInterrupt\u001b[0m: "
     ]
    }
   ],
   "source": [
    "model.train(input_fn=train_input_fn, steps=100000)"
   ]
  },
  {
   "cell_type": "code",
   "execution_count": null,
   "metadata": {},
   "outputs": [],
   "source": [
    "###DONE TRAIN###"
   ]
  },
  {
   "cell_type": "code",
   "execution_count": null,
   "metadata": {},
   "outputs": [],
   "source": [
    "#VAL:"
   ]
  },
  {
   "cell_type": "code",
   "execution_count": 189,
   "metadata": {},
   "outputs": [],
   "source": [
    "tfrec_val_batch_size=1"
   ]
  },
  {
   "cell_type": "code",
   "execution_count": 190,
   "metadata": {},
   "outputs": [],
   "source": [
    "tfrec_val_directory = os.path.join('..','datasets','stixels','val','tfrec_batch_size_'+str(tfrec_val_batch_size)+'_percent_'+str(percent))"
   ]
  },
  {
   "cell_type": "code",
   "execution_count": 191,
   "metadata": {},
   "outputs": [],
   "source": [
    "path_tfrecords_val_lst=[]\n",
    "path_tfrecords_val = os.path.join(img_path, 'val')\n",
    "for root, dirs, files in os.walk(tfrec_val_directory):\n",
    "    for file in files:\n",
    "        if '.tfrecord' in file:\n",
    "            path_tfrecords_val_lst.append(os.path.join(tfrec_val_directory,file))\n",
    "        else:\n",
    "            print('WARNING: file ' + file + 'looks suspicious. does it belong here?')"
   ]
  },
  {
   "cell_type": "code",
   "execution_count": 194,
   "metadata": {},
   "outputs": [],
   "source": [
    "def val_input_fn():\n",
    "    return input_fn(path_tfrecords_val_lst[7000:8500], train=False) "
   ]
  },
  {
   "cell_type": "code",
   "execution_count": 195,
   "metadata": {},
   "outputs": [
    {
     "name": "stdout",
     "output_type": "stream",
     "text": [
      "(TensorShape([Dimension(32), Dimension(None), Dimension(None), Dimension(3)]), TensorShape([Dimension(32)]))\n",
      "INFO:tensorflow:Calling model_fn.\n",
      "INFO:tensorflow:Done calling model_fn.\n",
      "INFO:tensorflow:Starting evaluation at 2018-05-26-22:00:01\n",
      "INFO:tensorflow:Graph was finalized.\n",
      "INFO:tensorflow:Restoring parameters from ./ckpts_26_5_mobilenet1_all_16_layers_all_examples_PW/model.ckpt-180002\n",
      "INFO:tensorflow:Running local_init_op.\n",
      "INFO:tensorflow:Done running local_init_op.\n",
      "INFO:tensorflow:Finished evaluation at 2018-05-26-22:00:04\n",
      "INFO:tensorflow:Saving dict for global step 180002: accuracy = 0.05027174, global_step = 180002, loss = 3.4448183\n"
     ]
    }
   ],
   "source": [
    "val_result = model.evaluate(input_fn=val_input_fn) "
   ]
  },
  {
   "cell_type": "code",
   "execution_count": 196,
   "metadata": {},
   "outputs": [
    {
     "data": {
      "text/plain": [
       "{'accuracy': 0.05027174, 'global_step': 180002, 'loss': 3.4448183}"
      ]
     },
     "execution_count": 196,
     "metadata": {},
     "output_type": "execute_result"
    }
   ],
   "source": [
    "val_result"
   ]
  },
  {
   "cell_type": "code",
   "execution_count": null,
   "metadata": {},
   "outputs": [],
   "source": [
    "print(\"Classification val accuracy: {0:.2%}\".format(val_result[\"accuracy\"]))"
   ]
  },
  {
   "cell_type": "code",
   "execution_count": null,
   "metadata": {},
   "outputs": [],
   "source": [
    "#TEST:"
   ]
  },
  {
   "cell_type": "code",
   "execution_count": 104,
   "metadata": {},
   "outputs": [],
   "source": [
    "tfrec_test_batch_size=1"
   ]
  },
  {
   "cell_type": "code",
   "execution_count": 105,
   "metadata": {},
   "outputs": [],
   "source": [
    "tfrec_test_directory = os.path.join('..','datasets','stixels','test','tfrec_batch_size_'+str(tfrec_test_batch_size))"
   ]
  },
  {
   "cell_type": "code",
   "execution_count": 106,
   "metadata": {},
   "outputs": [],
   "source": [
    "path_tfrecords_test_lst=[]\n",
    "path_tfrecords_test = os.path.join(img_path, 'test')\n",
    "for root, dirs, files in os.walk(tfrec_test_directory):\n",
    "    for file in files:\n",
    "        if '.tfrecord' in file:\n",
    "            path_tfrecords_test_lst.append(os.path.join(tfrec_test_directory,file))\n",
    "        else:\n",
    "            print('WARNING: file ' + file + 'looks suspicious. does it belong here?')"
   ]
  },
  {
   "cell_type": "code",
   "execution_count": 168,
   "metadata": {},
   "outputs": [],
   "source": [
    "def test_input_fn():\n",
    "    return input_fn(filenames=path_tfrecords_train_lst[:5000], train=False) #path_tfrecords_test_lst[1000:3000], train=False)"
   ]
  },
  {
   "cell_type": "code",
   "execution_count": 169,
   "metadata": {},
   "outputs": [
    {
     "name": "stdout",
     "output_type": "stream",
     "text": [
      "(TensorShape([Dimension(32), Dimension(None), Dimension(None), Dimension(3)]), TensorShape([Dimension(32)]))\n",
      "INFO:tensorflow:Calling model_fn.\n",
      "INFO:tensorflow:Done calling model_fn.\n",
      "INFO:tensorflow:Starting evaluation at 2018-05-25-18:18:04\n",
      "INFO:tensorflow:Graph was finalized.\n",
      "INFO:tensorflow:Restoring parameters from ./ckpts_25_5_mobilenet1_3layers_all_examples_v4/model.ckpt-34006\n",
      "INFO:tensorflow:Running local_init_op.\n",
      "INFO:tensorflow:Done running local_init_op.\n",
      "INFO:tensorflow:Finished evaluation at 2018-05-25-18:18:09\n",
      "INFO:tensorflow:Saving dict for global step 34006: accuracy = 0.075921476, global_step = 34006, loss = 3.2370234\n"
     ]
    }
   ],
   "source": [
    "test_result = model.evaluate(input_fn=test_input_fn)"
   ]
  },
  {
   "cell_type": "code",
   "execution_count": 170,
   "metadata": {},
   "outputs": [
    {
     "name": "stdout",
     "output_type": "stream",
     "text": [
      "Classification test accuracy: 7.59%\n"
     ]
    }
   ],
   "source": [
    "print(\"Classification test accuracy: {0:.2%}\".format(test_result[\"accuracy\"]))"
   ]
  },
  {
   "cell_type": "code",
   "execution_count": 171,
   "metadata": {},
   "outputs": [],
   "source": [
    "#PRED:"
   ]
  },
  {
   "cell_type": "code",
   "execution_count": 197,
   "metadata": {},
   "outputs": [],
   "source": [
    "sum_csv_test_path = os.path.join(img_path,'train', 'sum_csv') #TEST\n",
    "labels_test=pd.read_csv(os.path.join(sum_csv_test_path,'labels_train_'+str(percent)+'percent.csv'))\n",
    "test_names_list=list(labels_test['Name'])\n",
    "image_paths_test=[]\n",
    "for name in test_names_list:\n",
    "    image_paths_test.append(os.path.join(img_path, 'train', name+'.png')) #maybe no need to add '.png'\n"
   ]
  },
  {
   "cell_type": "code",
   "execution_count": 198,
   "metadata": {},
   "outputs": [],
   "source": [
    "def load_images(image_paths):\n",
    "    # Load the images from disk.\n",
    "    images = [imread(path) for path in image_paths]\n",
    "    # Convert to a numpy array and return it.\n",
    "    return np.asarray(images)\n"
   ]
  },
  {
   "cell_type": "code",
   "execution_count": 199,
   "metadata": {},
   "outputs": [],
   "source": [
    "##TODO:SHUFFLE!\n",
    "some_num=100\n",
    "some_images = load_images(image_paths=image_paths_test[0:0+some_num])\n",
    "some_images_cls = np.array(labels_test['Label'])"
   ]
  },
  {
   "cell_type": "code",
   "execution_count": 200,
   "metadata": {},
   "outputs": [],
   "source": [
    "predict_input_fn = tf.estimator.inputs.numpy_input_fn(\n",
    "    x={\"image\": some_images.astype(np.float32)},\n",
    "    num_epochs=1,\n",
    "    shuffle=False)"
   ]
  },
  {
   "cell_type": "code",
   "execution_count": 201,
   "metadata": {},
   "outputs": [],
   "source": [
    "predictions = model.predict(input_fn=predict_input_fn) "
   ]
  },
  {
   "cell_type": "code",
   "execution_count": 202,
   "metadata": {},
   "outputs": [
    {
     "name": "stdout",
     "output_type": "stream",
     "text": [
      "INFO:tensorflow:Calling model_fn.\n",
      "INFO:tensorflow:Done calling model_fn.\n",
      "INFO:tensorflow:Graph was finalized.\n",
      "INFO:tensorflow:Restoring parameters from ./ckpts_26_5_mobilenet1_all_16_layers_all_examples_PW/model.ckpt-180002\n",
      "INFO:tensorflow:Running local_init_op.\n",
      "INFO:tensorflow:Done running local_init_op.\n"
     ]
    },
    {
     "data": {
      "text/plain": [
       "array([[0.00010882, 0.00010766, 0.00010967, ..., 0.00010558, 0.00010859,\n",
       "        0.01937848],\n",
       "       [0.00010882, 0.00010766, 0.00010967, ..., 0.00010558, 0.00010859,\n",
       "        0.01937848],\n",
       "       [0.00010882, 0.00010766, 0.00010967, ..., 0.00010558, 0.00010859,\n",
       "        0.01937848],\n",
       "       ...,\n",
       "       [0.00010882, 0.00010766, 0.00010967, ..., 0.00010558, 0.00010859,\n",
       "        0.01937848],\n",
       "       [0.00010882, 0.00010766, 0.00010967, ..., 0.00010558, 0.00010859,\n",
       "        0.01937848],\n",
       "       [0.00010882, 0.00010766, 0.00010967, ..., 0.00010558, 0.00010859,\n",
       "        0.01937848]], dtype=float32)"
      ]
     },
     "execution_count": 202,
     "metadata": {},
     "output_type": "execute_result"
    }
   ],
   "source": [
    "cls_pred = np.array(list(predictions))\n",
    "cls_pred "
   ]
  },
  {
   "cell_type": "code",
   "execution_count": 203,
   "metadata": {},
   "outputs": [
    {
     "data": {
      "text/plain": [
       "(100, 47)"
      ]
     },
     "execution_count": 203,
     "metadata": {},
     "output_type": "execute_result"
    }
   ],
   "source": [
    "cls_pred.shape"
   ]
  },
  {
   "cell_type": "code",
   "execution_count": 204,
   "metadata": {},
   "outputs": [
    {
     "data": {
      "text/plain": [
       "array([[0.00010882, 0.00010766, 0.00010967, ..., 0.00010558, 0.00010859,\n",
       "        0.01937848],\n",
       "       [0.00010882, 0.00010766, 0.00010967, ..., 0.00010558, 0.00010859,\n",
       "        0.01937848],\n",
       "       [0.00010882, 0.00010766, 0.00010967, ..., 0.00010558, 0.00010859,\n",
       "        0.01937848],\n",
       "       ...,\n",
       "       [0.00010882, 0.00010766, 0.00010967, ..., 0.00010558, 0.00010859,\n",
       "        0.01937848],\n",
       "       [0.00010882, 0.00010766, 0.00010967, ..., 0.00010558, 0.00010859,\n",
       "        0.01937848],\n",
       "       [0.00010882, 0.00010766, 0.00010967, ..., 0.00010558, 0.00010859,\n",
       "        0.01937848]], dtype=float32)"
      ]
     },
     "execution_count": 204,
     "metadata": {},
     "output_type": "execute_result"
    }
   ],
   "source": [
    "cls_pred"
   ]
  },
  {
   "cell_type": "code",
   "execution_count": 205,
   "metadata": {},
   "outputs": [
    {
     "data": {
      "text/plain": [
       "(array([1300,    0,  200,    0,    0,    0,  100,    0,  100,    0,    0,\n",
       "           0,  100,    0,  100,    0,    0,    0,  200,    0,    0,    0,\n",
       "         200,  100,    0,  300,  100,  200,    0,    0,  100,  200,    0,\n",
       "         200,  100,  300,  100,    0,  100,  100,    0,    0,  200,  100,\n",
       "           0,    0,  200]),\n",
       " array([0.00010558, 0.00115245, 0.00219933, 0.0032462 , 0.00429307,\n",
       "        0.00533994, 0.00638681, 0.00743369, 0.00848056, 0.00952743,\n",
       "        0.0105743 , 0.01162117, 0.01266805, 0.01371492, 0.01476179,\n",
       "        0.01580866, 0.01685554, 0.01790241, 0.01894928, 0.01999615,\n",
       "        0.02104302, 0.0220899 , 0.02313677, 0.02418364, 0.02523051,\n",
       "        0.02627738, 0.02732426, 0.02837113, 0.029418  , 0.03046487,\n",
       "        0.03151175, 0.03255862, 0.03360549, 0.03465236, 0.03569923,\n",
       "        0.03674611, 0.03779298, 0.03883985, 0.03988672, 0.04093359,\n",
       "        0.04198047, 0.04302734, 0.04407421, 0.04512108, 0.04616796,\n",
       "        0.04721483, 0.0482617 , 0.04930857]))"
      ]
     },
     "execution_count": 205,
     "metadata": {},
     "output_type": "execute_result"
    }
   ],
   "source": [
    "np.histogram(cls_pred, bins=47)"
   ]
  },
  {
   "cell_type": "code",
   "execution_count": 210,
   "metadata": {},
   "outputs": [
    {
     "data": {
      "text/plain": [
       "array([0.00010882, 0.00010766, 0.00010967, 0.00011892, 0.00017907,\n",
       "       0.00058227, 0.00027306, 0.00225461, 0.00921277, 0.01559986,\n",
       "       0.02904316, 0.03486495, 0.04139331, 0.04460635, 0.04930857,\n",
       "       0.04576903, 0.04855154, 0.04447547, 0.03993549, 0.03767362,\n",
       "       0.03681387, 0.03882298, 0.03758044, 0.03529901, 0.03655646,\n",
       "       0.03302651, 0.03270813, 0.03242896, 0.02748034, 0.02887747,\n",
       "       0.02697163, 0.02679262, 0.02720231, 0.02486099, 0.02395836,\n",
       "       0.02343223, 0.01984066, 0.01332955, 0.00698964, 0.00250044,\n",
       "       0.00041684, 0.00013209, 0.00010795, 0.00010967, 0.00010558,\n",
       "       0.00010859, 0.01937848], dtype=float32)"
      ]
     },
     "execution_count": 210,
     "metadata": {},
     "output_type": "execute_result"
    }
   ],
   "source": [
    "cls_pred[1]"
   ]
  },
  {
   "cell_type": "code",
   "execution_count": 207,
   "metadata": {},
   "outputs": [],
   "source": [
    "y_pred_cls = tf.argmax(cls_pred, axis=1) "
   ]
  },
  {
   "cell_type": "code",
   "execution_count": 208,
   "metadata": {},
   "outputs": [
    {
     "data": {
      "text/plain": [
       "<tf.Tensor 'ArgMax_1:0' shape=(100,) dtype=int64>"
      ]
     },
     "execution_count": 208,
     "metadata": {},
     "output_type": "execute_result"
    }
   ],
   "source": [
    "y_pred_cls"
   ]
  },
  {
   "cell_type": "code",
   "execution_count": 209,
   "metadata": {},
   "outputs": [
    {
     "name": "stdout",
     "output_type": "stream",
     "text": [
      "[14 14 14 14 14 14 14 14 14 14 14 14 14 14 14 14 14 14 14 14 14 14 14 14\n",
      " 14 14 14 14 14 14 14 14 14 14 14 14 14 14 14 14 14 14 14 14 14 14 14 14\n",
      " 14 14 14 14 14 14 14 14 14 14 14 14 14 14 14 14 14 14 14 14 14 14 14 14\n",
      " 14 14 14 14 14 14 14 14 14 14 14 14 14 14 14 14 14 14 14 14 14 14 14 14\n",
      " 14 14 14 14]\n"
     ]
    }
   ],
   "source": [
    "init_op = tf.initialize_all_variables()\n",
    "with tf.Session() as sess:\n",
    "        sess.run(init_op)\n",
    "        print (sess.run(y_pred_cls))"
   ]
  },
  {
   "cell_type": "code",
   "execution_count": null,
   "metadata": {},
   "outputs": [],
   "source": []
  }
 ],
 "metadata": {
  "kernelspec": {
   "display_name": "Python 3",
   "language": "python",
   "name": "python3"
  },
  "language_info": {
   "codemirror_mode": {
    "name": "ipython",
    "version": 3
   },
   "file_extension": ".py",
   "mimetype": "text/x-python",
   "name": "python",
   "nbconvert_exporter": "python",
   "pygments_lexer": "ipython3",
   "version": "3.6.4"
  }
 },
 "nbformat": 4,
 "nbformat_minor": 1
}
