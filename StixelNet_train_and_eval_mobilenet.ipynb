{
 "cells": [
  {
   "cell_type": "code",
   "execution_count": null,
   "metadata": {
    "collapsed": true
   },
   "outputs": [],
   "source": [
    "########now part 2: decode and train#######"
   ]
  },
  {
   "cell_type": "code",
   "execution_count": 1,
   "metadata": {},
   "outputs": [
    {
     "name": "stderr",
     "output_type": "stream",
     "text": [
      "/home/shared/anaconda3/lib/python3.6/site-packages/h5py/__init__.py:36: FutureWarning: Conversion of the second argument of issubdtype from `float` to `np.floating` is deprecated. In future, it will be treated as `np.float64 == np.dtype(float).type`.\n",
      "  from ._conv import register_converters as _register_converters\n"
     ]
    },
    {
     "name": "stdout",
     "output_type": "stream",
     "text": [
      "[name: \"/device:CPU:0\"\n",
      "device_type: \"CPU\"\n",
      "memory_limit: 268435456\n",
      "locality {\n",
      "}\n",
      "incarnation: 12455067702093542274\n",
      ", name: \"/device:GPU:0\"\n",
      "device_type: \"GPU\"\n",
      "memory_limit: 11271654605\n",
      "locality {\n",
      "  bus_id: 1\n",
      "  links {\n",
      "  }\n",
      "}\n",
      "incarnation: 2800243769426591478\n",
      "physical_device_desc: \"device: 0, name: Tesla K80, pci bus id: 0000:00:04.0, compute capability: 3.7\"\n",
      "]\n"
     ]
    }
   ],
   "source": [
    "from tensorflow.python.client import device_lib\n",
    "print(device_lib.list_local_devices())"
   ]
  },
  {
   "cell_type": "code",
   "execution_count": 1,
   "metadata": {},
   "outputs": [
    {
     "name": "stderr",
     "output_type": "stream",
     "text": [
      "/home/shared/anaconda3/lib/python3.6/site-packages/h5py/__init__.py:36: FutureWarning: Conversion of the second argument of issubdtype from `float` to `np.floating` is deprecated. In future, it will be treated as `np.float64 == np.dtype(float).type`.\n",
      "  from ._conv import register_converters as _register_converters\n"
     ]
    },
    {
     "name": "stdout",
     "output_type": "stream",
     "text": [
      "WARNING:tensorflow:From /home/shared/anaconda3/lib/python3.6/site-packages/tensorflow/contrib/learn/python/learn/datasets/base.py:198: retry (from tensorflow.contrib.learn.python.learn.datasets.base) is deprecated and will be removed in a future version.\n",
      "Instructions for updating:\n",
      "Use the retry module or similar alternatives.\n"
     ]
    }
   ],
   "source": [
    "import tensorflow as tf\n",
    "import tensorflow.contrib.eager as tfe\n",
    "import numpy as np\n",
    "import pandas as pd\n",
    "import math\n",
    "import timeit\n",
    "import matplotlib.pyplot as plt\n",
    "#from preprocess_func_new import *\n",
    "from matplotlib.image import imread\n",
    "import os\n",
    "from os.path import expanduser\n",
    "\n",
    "%matplotlib inline\n",
    "\n",
    "#tf.enable_eager_execution()\n",
    "\n",
    "#tf.logging.set_verbosity(tf.logging.INFO)"
   ]
  },
  {
   "cell_type": "code",
   "execution_count": 2,
   "metadata": {},
   "outputs": [],
   "source": [
    "# for auto-reloading external modules\n",
    "# see http://stackoverflow.com/questions/1907993/autoreload-of-modules-in-ipython\n",
    "%load_ext autoreload\n",
    "%autoreload 2"
   ]
  },
  {
   "cell_type": "code",
   "execution_count": 2,
   "metadata": {},
   "outputs": [
    {
     "data": {
      "text/plain": [
       "'../datasets/stixels'"
      ]
     },
     "execution_count": 2,
     "metadata": {},
     "output_type": "execute_result"
    }
   ],
   "source": [
    "img_path = os.path.join('..','datasets','stixels')\n",
    "img_path"
   ]
  },
  {
   "cell_type": "code",
   "execution_count": 3,
   "metadata": {},
   "outputs": [],
   "source": [
    "percent=2 "
   ]
  },
  {
   "cell_type": "code",
   "execution_count": 4,
   "metadata": {},
   "outputs": [],
   "source": [
    "tfrec_batch_size=1 #for path name only"
   ]
  },
  {
   "cell_type": "code",
   "execution_count": 5,
   "metadata": {},
   "outputs": [],
   "source": [
    "batch_size=32"
   ]
  },
  {
   "cell_type": "code",
   "execution_count": 6,
   "metadata": {},
   "outputs": [],
   "source": [
    "tfrec_train_directory = os.path.join('..','datasets','stixels','train','tfrec_batch_size_'+str(tfrec_batch_size)+'_percent_'+str(percent))"
   ]
  },
  {
   "cell_type": "code",
   "execution_count": 7,
   "metadata": {},
   "outputs": [],
   "source": [
    "#creating a list of paths to train tfrecs:\n",
    "path_tfrecords_train_lst=[]\n",
    "path_tfrecords_train = os.path.join(img_path, 'train')\n",
    "for root, dirs, files in os.walk(tfrec_train_directory):\n",
    "    for file in files:\n",
    "        if '.tfrecord' in file:\n",
    "            path_tfrecords_train_lst.append(os.path.join(tfrec_train_directory,file))\n",
    "        else:\n",
    "            print('WARNING: file ' + file + 'looks suspicious. does it belong here?')\n",
    "\n"
   ]
  },
  {
   "cell_type": "code",
   "execution_count": 8,
   "metadata": {},
   "outputs": [],
   "source": [
    "#shortening the list for experiments\n",
    "path_tfrecords_train_lst = path_tfrecords_train_lst[:100]\n",
    "##################"
   ]
  },
  {
   "cell_type": "code",
   "execution_count": 8,
   "metadata": {},
   "outputs": [],
   "source": [
    "#params\n",
    "H=370 \n",
    "W=24\n",
    "C=3\n",
    "img_shape = (H, W, C)\n",
    "num_classes = 47"
   ]
  },
  {
   "cell_type": "code",
   "execution_count": 9,
   "metadata": {},
   "outputs": [],
   "source": [
    "def parse(serialized):\n",
    "    # Define a dict with the data-names and types we expect to\n",
    "    # find in the TFRecords file.\n",
    "    # It is a bit awkward that this needs to be specified again,\n",
    "    # because it could have been written in the header of the\n",
    "    # TFRecords file instead.\n",
    "    features = \\\n",
    "        {\n",
    "            'image': tf.FixedLenFeature([], tf.string),\n",
    "            'label': tf.FixedLenFeature([], tf.int64)\n",
    "        }\n",
    "\n",
    "    # Parse the serialized data so we get a dict with our data.\n",
    "    parsed_example = tf.parse_single_example(serialized=serialized,\n",
    "                                             features=features)\n",
    "\n",
    "    # Get the image as raw bytes.\n",
    "    image_raw = parsed_example['image']\n",
    "\n",
    "    # Decode the raw bytes so it becomes a tensor with type.\n",
    "    #######image = tf.decode_raw(image_raw, tf.int32) ####\n",
    "    image = tf.image.decode_png(image_raw, channels=3, dtype=tf.uint8) \n",
    "    #image = tf.cast(image, tf.int32)\n",
    "\n",
    "    # The type is now uint8 but we need it to be float.\n",
    "    \n",
    "    image = tf.cast(image, tf.float32) ####\n",
    "    \n",
    "    # Get the label associated with the image.\n",
    "    label = parsed_example['label']\n",
    "\n",
    "    # The image and label are now correct TensorFlow types.\n",
    "    return image, label"
   ]
  },
  {
   "cell_type": "code",
   "execution_count": 14,
   "metadata": {},
   "outputs": [],
   "source": [
    "########## a function to print tensor values\n",
    "def print_tensor(tensor):\n",
    "    dataset = tf.data.TFRecordDataset(filenames=[tensor])\n",
    "    dataset = dataset.map(parse)\n",
    "    iterator = dataset.make_one_shot_iterator()\n",
    "    images_batch, labels_batch = iterator.get_next()\n",
    "    x = {'image': images_batch}\n",
    "    y = labels_batch\n",
    "    init_op = tf.initialize_all_variables()\n",
    "\n",
    "    with tf.Session() as sess:\n",
    "        sess.run(init_op)\n",
    "        print (sess.run(y))\n",
    "        #print (sess.run(x))\n",
    "        #return(sess.run(x))\n",
    "    return"
   ]
  },
  {
   "cell_type": "code",
   "execution_count": null,
   "metadata": {},
   "outputs": [],
   "source": [
    "################ try to print the tensors\n",
    "for t in path_tfrecords_train_lst[:100]:\n",
    "    #print (t)\n",
    "    print_tensor(t)\n",
    "    #print(x)"
   ]
  },
  {
   "cell_type": "code",
   "execution_count": 106,
   "metadata": {},
   "outputs": [
    {
     "data": {
      "text/plain": [
       "(370, 24, 3)"
      ]
     },
     "execution_count": 106,
     "metadata": {},
     "output_type": "execute_result"
    }
   ],
   "source": [
    "############# print shape of tensor\n",
    "x2=tf.Session().run(x['image'])\n",
    "x2.shape\n"
   ]
  },
  {
   "cell_type": "code",
   "execution_count": 107,
   "metadata": {},
   "outputs": [
    {
     "data": {
      "text/plain": [
       "<matplotlib.image.AxesImage at 0x7fa46a8d0e48>"
      ]
     },
     "execution_count": 107,
     "metadata": {},
     "output_type": "execute_result"
    },
    {
     "data": {
      "image/png": "[encoded data removed]",
      "text/plain": [
       "<matplotlib.figure.Figure at 0x7fa46a75c908>"
      ]
     },
     "metadata": {},
     "output_type": "display_data"
    }
   ],
   "source": [
    "####################. show the parsed stixel\n",
    "import matplotlib\n",
    "%matplotlib inline\n",
    "matplotlib.pyplot.imshow(x2)"
   ]
  },
  {
   "cell_type": "code",
   "execution_count": 10,
   "metadata": {},
   "outputs": [],
   "source": [
    "def input_fn(filenames, train, batch_size=batch_size, buffer_size=100000): \n",
    "    # Args:\n",
    "    # filenames:   Filenames for the TFRecords files.\n",
    "    # train:       Boolean whether training (True) or testing (False).\n",
    "    # batch_size:  Return batches of this size.\n",
    "    # buffer_size: Read buffers of this size. The random shuffling\n",
    "    #              is done on the buffer, so it must be big enough.\n",
    "\n",
    "    # Create a TensorFlow Dataset-object which has functionality\n",
    "    # for reading and shuffling data from TFRecords files.\n",
    "    dataset = tf.data.TFRecordDataset(filenames=filenames)\n",
    "\n",
    "    # Parse the serialized data in the TFRecords files.\n",
    "    # This returns TensorFlow tensors for the image and labels.\n",
    "    dataset = dataset.map(parse)\n",
    "    \n",
    "    if train:\n",
    "        # If training then read a buffer of the given size and\n",
    "        # randomly shuffle it.\n",
    "        ######dataset = dataset.shuffle(buffer_size=buffer_size)\n",
    "\n",
    "        # Allow infinite reading of the data.\n",
    "        num_repeat = None #-1\n",
    "    else:\n",
    "        # If testing then don't shuffle the data.\n",
    "        \n",
    "        # Only go through the data once.\n",
    "        num_repeat = 1\n",
    "\n",
    "    # Repeat the dataset the given number of times.\n",
    "    dataset = dataset.repeat(num_repeat)\n",
    "    \n",
    "    # Get a batch of data with the given size.\n",
    "    #dataset = dataset.batch(batch_size)\n",
    "    #dataset = tf.contrib.data.batch_and_drop_remainder(batch_size)\n",
    "    dataset = dataset.apply(tf.contrib.data.batch_and_drop_remainder(batch_size))\n",
    "    print(dataset.output_shapes)  # ==> \"(16,)\" (the batch dimension is known)\n",
    "    \n",
    "    # Create an iterator for the dataset and the above modifications.\n",
    "    iterator = dataset.make_one_shot_iterator()\n",
    "\n",
    "    # Get the next batch of images and labels.\n",
    "    images_batch, labels_batch = iterator.get_next()\n",
    "\n",
    "    # The input-function must return a dict wrapping the images.\n",
    "    x = {'image': images_batch}\n",
    "    y = labels_batch\n",
    "    \n",
    "    return x, y"
   ]
  },
  {
   "cell_type": "code",
   "execution_count": 11,
   "metadata": {},
   "outputs": [],
   "source": [
    "def train_input_fn():\n",
    "    return input_fn(filenames=path_tfrecords_train_lst, train=True)"
   ]
  },
  {
   "cell_type": "code",
   "execution_count": 46,
   "metadata": {},
   "outputs": [],
   "source": [
    "###def model_fn(features, labels, mode, params):\n",
    "    # Args:\n",
    "    #\n",
    "    # features: This is the x-arg from the input_fn.\n",
    "    # labels:   This is the y-arg from the input_fn.\n",
    "    # mode:     Either TRAIN, EVAL, or PREDICT\n",
    "    # params:   User-defined hyper-parameters, e.g. learning-rate.\n",
    "    \n",
    "    # Reference to the tensor named \"image\" in the input-function.\n",
    "    x = features[\"image\"]\n",
    "    # The convolutional layers expect 4-rank tensors\n",
    "    # but x is a 2-rank tensor, so reshape it.\n",
    "    net = tf.reshape(x, [-1,W,H,C])\n",
    "\n",
    "    net = tf.layers.conv2d(inputs=net, name='layer_conv1',\n",
    "                           filters=32, kernel_size=(3,3),\n",
    "                           activation=None, strides=(2,2),\n",
    "                           kernel_initializer=tf.contrib.layers.xavier_initializer(seed=481)\n",
    "                           )\n",
    "    \n",
    "    net = tf.layers.batch_normalization(inputs=net)\n",
    "    \n",
    "    net = tf.nn.relu6(features=net)\n",
    "    \n",
    "    \n",
    "    net = tf.layers.separable_conv2d(inputs=net, filters=32,kernel_size=(3,3), strides=(1, 1),\n",
    "                               activation=None,\n",
    "                               depthwise_initializer=tf.contrib.layers.xavier_initializer(seed=481),\n",
    "                               pointwise_initializer=tf.contrib.layers.xavier_initializer(seed=481),\n",
    "                               name='layer_conv_dw2', padding='SAME'\n",
    "                              )\n",
    "    net = tf.layers.batch_normalization(inputs=net)\n",
    "    \n",
    "    net = tf.nn.relu6(features=net)\n",
    "      \n",
    "    net = tf.layers.separable_conv2d(inputs=net, filters=64,kernel_size=(3,3), strides=(2,2),\n",
    "                                activation=None,\n",
    "                                depthwise_initializer=tf.contrib.layers.xavier_initializer(seed=481),\n",
    "                                pointwise_initializer=tf.contrib.layers.xavier_initializer(seed=481),\n",
    "                                name='layer_conv_dw3', padding='SAME'\n",
    "                               )\n",
    "    \n",
    "    net = tf.layers.batch_normalization(inputs=net)\n",
    "    \n",
    "    net = tf.nn.relu6(features=net)\n",
    "\n",
    "    net = tf.layers.separable_conv2d(inputs=net, filters=128,kernel_size=(3,3), strides=(1,1),\n",
    "                                activation=None,\n",
    "                                depthwise_initializer=tf.contrib.layers.xavier_initializer(seed=481),\n",
    "                                pointwise_initializer=tf.contrib.layers.xavier_initializer(seed=481),\n",
    "                                name='layer_conv_dw4', padding='SAME'\n",
    "                                    )\n",
    "    \n",
    "    net = tf.layers.batch_normalization(inputs=net)\n",
    "    \n",
    "    net = tf.nn.relu6(features=net)                           \n",
    "    \n",
    "    net = tf.layers.separable_conv2d(inputs=net, filters=128,kernel_size=(3,3), strides=(2,2),\n",
    "                                activation=None,\n",
    "                                depthwise_initializer=tf.contrib.layers.xavier_initializer(seed=481),\n",
    "                                pointwise_initializer=tf.contrib.layers.xavier_initializer(seed=481),\n",
    "                                name='layer_conv_dw5', padding='SAME'\n",
    "                               )\n",
    "    \n",
    "    net = tf.layers.batch_normalization(inputs=net)\n",
    "    \n",
    "    net = tf.nn.relu6(features=net)         \n",
    "\n",
    "    net = tf.layers.separable_conv2d(inputs=net, filters=256,kernel_size=(3,3), strides=(1,1),\n",
    "                                activation=None,\n",
    "                                depthwise_initializer=tf.contrib.layers.xavier_initializer(seed=481),\n",
    "                                pointwise_initializer=tf.contrib.layers.xavier_initializer(seed=481),\n",
    "                                name='layer_conv_dw6', padding='SAME'\n",
    "                               )\n",
    "\n",
    "    net = tf.layers.batch_normalization(inputs=net)\n",
    "    \n",
    "    net = tf.nn.relu6(features=net)     \n",
    "    \n",
    "    net = tf.layers.separable_conv2d(inputs=net, filters=256, kernel_size=(3,3), strides=(2,2),\n",
    "                                activation=None,\n",
    "                                depthwise_initializer=tf.contrib.layers.xavier_initializer(seed=481),\n",
    "                                pointwise_initializer=tf.contrib.layers.xavier_initializer(seed=481),\n",
    "                                name='layer_conv_dw7', padding='SAME'\n",
    "                               )\n",
    "    \n",
    "    net = tf.layers.batch_normalization(inputs=net)\n",
    "    \n",
    "    net = tf.nn.relu6(features=net)     \n",
    "    \n",
    "    for i in range(5):\n",
    "        net = tf.layers.separable_conv2d(inputs=net, filters=512, kernel_size=(3,3), strides=(1,1),\n",
    "                                    activation=None,\n",
    "                                    depthwise_initializer=tf.contrib.layers.xavier_initializer(seed=481),\n",
    "                                    pointwise_initializer=tf.contrib.layers.xavier_initializer(seed=481),\n",
    "                                    name='layer_conv_dw'+str(i+8), padding='SAME'\n",
    "                                   )\n",
    "\n",
    "        net = tf.layers.batch_normalization(inputs=net)\n",
    "\n",
    "        net = tf.nn.relu6(features=net)  \n",
    "    \n",
    "    net = tf.layers.separable_conv2d(inputs=net, filters=512, kernel_size=(3,3), strides=(2,2),\n",
    "                                activation=None,\n",
    "                                depthwise_initializer=tf.contrib.layers.xavier_initializer(seed=481),\n",
    "                                pointwise_initializer=tf.contrib.layers.xavier_initializer(seed=481),\n",
    "                                name='layer_conv_dw13', padding='SAME'\n",
    "                               )\n",
    "    \n",
    "    net = tf.layers.batch_normalization(inputs=net)\n",
    "    \n",
    "    net = tf.nn.relu6(features=net) \n",
    "    \n",
    "    net = tf.layers.separable_conv2d(inputs=net, filters=1024, kernel_size=(3,3), strides=(2,2),\n",
    "                                activation=None,\n",
    "                                depthwise_initializer=tf.contrib.layers.xavier_initializer(seed=481),\n",
    "                                pointwise_initializer=tf.contrib.layers.xavier_initializer(seed=481),\n",
    "                                name='layer_conv_dw14', padding='SAME'\n",
    "                               )\n",
    "    \n",
    "    net = tf.layers.batch_normalization(inputs=net)\n",
    "    \n",
    "    net = tf.nn.relu6(features=net)     \n",
    "    \n",
    "    net = tf.layers.average_pooling2d(inputs=net, pool_size=(1,6), strides=(1,1), name='layer_pool15')\n",
    "    \n",
    "    # Flatten to a 2-rank tensor.\n",
    "    #net = tf.contrib.layers.flatten(net)\n",
    "    # Eventually this should be replaced with:\n",
    "    net = tf.layers.flatten(net)\n",
    "\n",
    "\n",
    "    # This is the last layer so it does not use an activation function.\n",
    "    net = tf.layers.dense(inputs=net, name='layer_fc16',\n",
    "                          units=47,\n",
    "                          kernel_initializer=tf.contrib.layers.xavier_initializer()\n",
    "                          ) \n",
    "\n",
    "    # Logits output of the neural network.\n",
    "    logits = net\n",
    "\n",
    "    # Softmax output of the neural network.\n",
    "    y_pred = tf.nn.softmax(logits=logits)\n",
    "    \n",
    "    # Classification output of the neural network.\n",
    "    y_pred_cls = tf.argmax(y_pred, axis=1) \n",
    "   \n",
    "    if mode == tf.estimator.ModeKeys.PREDICT:\n",
    "        # If the estimator is supposed to be in prediction-mode\n",
    "        # then use the predicted class-number that is output by\n",
    "        # the neural network. Optimization etc. is not needed.\n",
    "        \n",
    "        spec = tf.estimator.EstimatorSpec(mode=mode,\n",
    "                                          predictions=y_pred)# _cls)\n",
    "    else:\n",
    "        # Otherwise the estimator is supposed to be in either\n",
    "        # training or evaluation-mode. Note that the loss-function\n",
    "        # is also required in Evaluation mode.\n",
    "        \n",
    "        # Define the loss-function to be optimized, by first\n",
    "        # calculating the cross-entropy between the output of\n",
    "        # the neural network and the true labels for the input data.\n",
    "        # This gives the cross-entropy for each image in the batch.\n",
    "        cross_entropy = tf.nn.sparse_softmax_cross_entropy_with_logits(labels=labels,\n",
    "                                                                       logits=logits)\n",
    "\n",
    "        # Reduce the cross-entropy batch-tensor to a single number\n",
    "        # which can be used in optimization of the neural network.\n",
    "        tf.argmax(logits)\n",
    "        #loss = tf.losses.mean_squared_error(labels=labels, predictions=logits)\n",
    "        loss = tf.reduce_mean(cross_entropy)\n",
    " #######################\n",
    "        lr = 1e-2\n",
    "        step_rate = 1000\n",
    "        decay = 0.5 #if this equals 1 the lr stays the same\n",
    "\n",
    "        #global_step = tf.Variable(0, trainable=False)\n",
    "        #increment_global_step = tf.assign(global_step, global_step + 1)\n",
    "\n",
    "        learning_rate = tf.train.exponential_decay(lr, global_step=tf.train.get_or_create_global_step(), \n",
    "                                           decay_steps=step_rate, decay_rate=decay, staircase=True)\n",
    "        \n",
    "\n",
    "        \n",
    "        # Define the optimizer for improving the neural network.\n",
    "        #optimizer = tf.train.AdamOptimizer(learning_rate=learning_rate)\n",
    "        optimizer = tf.train.GradientDescentOptimizer(learning_rate=learning_rate) \n",
    "        # Get the TensorFlow op for doing a single optimization step.\n",
    "        train_op = optimizer.minimize(loss=loss, global_step = tf.train.get_or_create_global_step())\n",
    "        \n",
    "\n",
    "#############################        \n",
    "\n",
    "\n",
    "        # Define the evaluation metrics,\n",
    "        # in this case the classification accuracy.\n",
    "        metrics = \\\n",
    "        {\n",
    "            \"accuracy\": tf.metrics.accuracy(labels, y_pred_cls) #TODO change acc method\n",
    "        }\n",
    "\n",
    "        # Wrap all of this in an EstimatorSpec.\n",
    "        spec = tf.estimator.EstimatorSpec(\n",
    "            mode=mode,\n",
    "            loss=loss,\n",
    "            train_op=train_op,\n",
    "            eval_metric_ops=metrics)\n",
    "        \n",
    "        \n",
    "#         with tf.Session() as sess:\n",
    "#             print('Learning rate: %f' % (sess.run(optimizer._learning_rate)))\n",
    "        \n",
    "    return spec"
   ]
  },
  {
   "cell_type": "code",
   "execution_count": 68,
   "metadata": {},
   "outputs": [],
   "source": [
    "def model_fn(features, labels, mode, params):\n",
    "    # Args:\n",
    "    #\n",
    "    # features: This is the x-arg from the input_fn.\n",
    "    # labels:   This is the y-arg from the input_fn.\n",
    "    # mode:     Either TRAIN, EVAL, or PREDICT\n",
    "    # params:   User-defined hyper-parameters, e.g. learning-rate.\n",
    "    \n",
    "    # Reference to the tensor named \"image\" in the input-function.\n",
    "    x = features[\"image\"]\n",
    "    # The convolutional layers expect 4-rank tensors\n",
    "    # but x is a 2-rank tensor, so reshape it.\n",
    "    net = tf.reshape(x, [-1,W,H,C])\n",
    "\n",
    "    net = tf.layers.conv2d(inputs=net, name='layer_conv1',\n",
    "                           filters=32, kernel_size=(3,3),\n",
    "                           activation=None, strides=(2,2),\n",
    "                           kernel_initializer=tf.contrib.layers.xavier_initializer(seed=481)\n",
    "                           )\n",
    "    \n",
    "    net = tf.layers.batch_normalization(inputs=net)\n",
    "    \n",
    "    net = tf.nn.relu6(features=net)\n",
    "    \n",
    "    ###\n",
    "    \n",
    "    net = tf.contrib.layers.separable_conv2d(inputs=net, num_outputs=None,kernel_size=(3,3), stride=(1, 1),\n",
    "                               activation_fn=None, depth_multiplier=1,\n",
    "                               weights_initializer=tf.contrib.layers.xavier_initializer(seed=481),\n",
    "                               padding='SAME'\n",
    "                              )\n",
    "    net = tf.layers.batch_normalization(inputs=net)\n",
    "    \n",
    "    net = tf.nn.relu6(features=net)\n",
    "    \n",
    "    net = tf.layers.conv2d(inputs=net, name='point_wize3',\n",
    "                           filters=32, kernel_size=(1,1),\n",
    "                           activation=None, strides=(1,1),\n",
    "                           kernel_initializer=tf.contrib.layers.xavier_initializer(seed=481)\n",
    "                           )\n",
    "    \n",
    "    net = tf.layers.batch_normalization(inputs=net)\n",
    "    \n",
    "    net = tf.nn.relu6(features=net)\n",
    "    ####\n",
    "    \n",
    "    \n",
    "    net = tf.contrib.layers.separable_conv2d(inputs=net, num_outputs=None, kernel_size=(3,3), stride=(2,2),\n",
    "                                activation_fn=None, depth_multiplier=1,\n",
    "                                weights_initializer=tf.contrib.layers.xavier_initializer(seed=481),\n",
    "                                padding='SAME'\n",
    "                               )\n",
    "    \n",
    "    net = tf.layers.batch_normalization(inputs=net)\n",
    "    \n",
    "    net = tf.nn.relu6(features=net)\n",
    "    \n",
    "    net = tf.layers.conv2d(inputs=net, name='point_wize5',\n",
    "                           filters=64, kernel_size=(1,1),\n",
    "                           activation=None, strides=(1,1),\n",
    "                           kernel_initializer=tf.contrib.layers.xavier_initializer(seed=481)\n",
    "                           )\n",
    "    \n",
    "    net = tf.layers.batch_normalization(inputs=net)\n",
    "    \n",
    "    net = tf.nn.relu6(features=net)\n",
    "    \n",
    "    ####\n",
    "\n",
    "    net = tf.contrib.layers.separable_conv2d(inputs=net, num_outputs=None, kernel_size=(3,3), stride=(1,1),\n",
    "                                activation_fn=None, depth_multiplier=1,\n",
    "                                weights_initializer=tf.contrib.layers.xavier_initializer(seed=481),\n",
    "                                padding='SAME'\n",
    "                                    )\n",
    "    \n",
    "    net = tf.layers.batch_normalization(inputs=net)\n",
    "    \n",
    "    net = tf.nn.relu6(features=net)  \n",
    "    \n",
    "    net = tf.layers.conv2d(inputs=net, name='point_wize7',\n",
    "                           filters=128, kernel_size=(1,1),\n",
    "                           activation=None, strides=(1,1),\n",
    "                           kernel_initializer=tf.contrib.layers.xavier_initializer(seed=481)\n",
    "                           )\n",
    "    \n",
    "    net = tf.layers.batch_normalization(inputs=net)\n",
    "    \n",
    "    net = tf.nn.relu6(features=net)\n",
    "    \n",
    "    ####\n",
    "    \n",
    "    \n",
    "    net = tf.contrib.layers.separable_conv2d(inputs=net, num_outputs=None, kernel_size=(3,3), stride=(2,2),\n",
    "                                activation_fn=None, depth_multiplier=1,\n",
    "                                weights_initializer=tf.contrib.layers.xavier_initializer(seed=481),\n",
    "                                padding='SAME'\n",
    "                               )\n",
    "    \n",
    "    net = tf.layers.batch_normalization(inputs=net)\n",
    "    \n",
    "    net = tf.nn.relu6(features=net)    \n",
    "    \n",
    "    net = tf.layers.conv2d(inputs=net, name='point_wize9',\n",
    "                           filters=128, kernel_size=(1,1),\n",
    "                           activation=None, strides=(1,1),\n",
    "                           kernel_initializer=tf.contrib.layers.xavier_initializer(seed=481)\n",
    "                           )\n",
    "    \n",
    "    net = tf.layers.batch_normalization(inputs=net)\n",
    "    \n",
    "    net = tf.nn.relu6(features=net)\n",
    "    \n",
    "    ####\n",
    "\n",
    "    net = tf.contrib.layers.separable_conv2d(inputs=net,num_outputs=None, kernel_size=(3,3), stride=(1,1),\n",
    "                                activation_fn=None, depth_multiplier=1,\n",
    "                                weights_initializer=tf.contrib.layers.xavier_initializer(seed=481),\n",
    "                                padding='SAME'\n",
    "                               )\n",
    "\n",
    "    net = tf.layers.batch_normalization(inputs=net)\n",
    "    \n",
    "    net = tf.nn.relu6(features=net)  \n",
    "    \n",
    "    net = tf.layers.conv2d(inputs=net, name='point_wize11',\n",
    "                           filters=256, kernel_size=(1,1),\n",
    "                           activation=None, strides=(1,1),\n",
    "                           kernel_initializer=tf.contrib.layers.xavier_initializer(seed=481)\n",
    "                           )\n",
    "    \n",
    "    net = tf.layers.batch_normalization(inputs=net)\n",
    "    \n",
    "    net = tf.nn.relu6(features=net)\n",
    "    \n",
    "    \n",
    "    ###\n",
    "    \n",
    "    net = tf.contrib.layers.separable_conv2d(inputs=net, num_outputs=None, kernel_size=(3,3), stride=(2,2),\n",
    "                                activation_fn=None, depth_multiplier=1,\n",
    "                                weights_initializer=tf.contrib.layers.xavier_initializer(seed=481),\n",
    "                                padding='SAME'\n",
    "                               )\n",
    "    \n",
    "    net = tf.layers.batch_normalization(inputs=net)\n",
    "    \n",
    "    net = tf.nn.relu6(features=net)    \n",
    "    \n",
    "    net = tf.layers.conv2d(inputs=net, name='point_wize13',\n",
    "                           filters=256, kernel_size=(1,1),\n",
    "                           activation=None, strides=(1,1),\n",
    "                           kernel_initializer=tf.contrib.layers.xavier_initializer(seed=481)\n",
    "                           )\n",
    "    \n",
    "    net = tf.layers.batch_normalization(inputs=net)\n",
    "    \n",
    "    net = tf.nn.relu6(features=net)\n",
    "    \n",
    "    \n",
    "    ###\n",
    "    \n",
    "    for i in range(5):\n",
    "        net = tf.contrib.layers.separable_conv2d(inputs=net, num_outputs=None, kernel_size=(3,3), stride=(1,1),\n",
    "                                    activation_fn=None, depth_multiplier=1,\n",
    "                                    weights_initializer=tf.contrib.layers.xavier_initializer(seed=481),\n",
    "                                    padding='SAME'\n",
    "                                   )\n",
    "\n",
    "        net = tf.layers.batch_normalization(inputs=net)\n",
    "\n",
    "        net = tf.nn.relu6(features=net)  \n",
    "        \n",
    "        net = tf.layers.conv2d(inputs=net, name='point_wize'+str(i+14),\n",
    "                           filters=512, kernel_size=(1,1),\n",
    "                           activation=None, strides=(1,1),\n",
    "                           kernel_initializer=tf.contrib.layers.xavier_initializer(seed=481)\n",
    "                           )\n",
    "    \n",
    "        net = tf.layers.batch_normalization(inputs=net)\n",
    "    \n",
    "        net = tf.nn.relu6(features=net)\n",
    "    \n",
    "    \n",
    "    net = tf.contrib.layers.separable_conv2d(inputs=net, num_outputs=None, kernel_size=(3,3), stride=(2,2),\n",
    "                                activation_fn=None, depth_multiplier=1,\n",
    "                                weights_initializer=tf.contrib.layers.xavier_initializer(seed=481),\n",
    "                                padding='SAME'\n",
    "                               )\n",
    "    \n",
    "    net = tf.layers.batch_normalization(inputs=net)\n",
    "    \n",
    "    net = tf.nn.relu6(features=net) \n",
    "    \n",
    "    net = tf.layers.conv2d(inputs=net, name='point_wize19',\n",
    "                           filters=512, kernel_size=(1,1),\n",
    "                           activation=None, strides=(1,1),\n",
    "                           kernel_initializer=tf.contrib.layers.xavier_initializer(seed=481)\n",
    "                           )\n",
    "    \n",
    "    net = tf.layers.batch_normalization(inputs=net)\n",
    "    \n",
    "    net = tf.nn.relu6(features=net)\n",
    "    \n",
    "    \n",
    "    ###\n",
    "    \n",
    "    net = tf.contrib.layers.separable_conv2d(inputs=net, num_outputs=None, kernel_size=(3,3), stride=(2,2),\n",
    "                                activation_fn=None, depth_multiplier=1,\n",
    "                                weights_initializer=tf.contrib.layers.xavier_initializer(seed=481),\n",
    "                                padding='SAME'\n",
    "                               )\n",
    "    \n",
    "    net = tf.layers.batch_normalization(inputs=net)\n",
    "    \n",
    "    net = tf.nn.relu6(features=net)    \n",
    "    \n",
    "    net = tf.layers.conv2d(inputs=net, name='point_wize20',\n",
    "                           filters=1024, kernel_size=(1,1),\n",
    "                           activation=None, strides=(1,1),\n",
    "                           kernel_initializer=tf.contrib.layers.xavier_initializer(seed=481)\n",
    "                           )\n",
    "    \n",
    "    net = tf.layers.batch_normalization(inputs=net)\n",
    "    \n",
    "    net = tf.nn.relu6(features=net)\n",
    "    \n",
    "    \n",
    "    ###\n",
    "    \n",
    "    net = tf.layers.average_pooling2d(inputs=net, pool_size=(1,6), strides=(1,1), name='layer_pool21')\n",
    "    \n",
    "    # Flatten to a 2-rank tensor.\n",
    "    #net = tf.contrib.layers.flatten(net)\n",
    "    # Eventually this should be replaced with:\n",
    "    net = tf.layers.flatten(net)\n",
    "\n",
    "\n",
    "    # This is the last layer so it does not use an activation function.\n",
    "    net = tf.layers.dense(inputs=net, name='layer_fc22',\n",
    "                          units=47,\n",
    "                          kernel_initializer=tf.contrib.layers.xavier_initializer()\n",
    "                          ) \n",
    "\n",
    "    # Logits output of the neural network.\n",
    "    logits = net\n",
    "\n",
    "    # Softmax output of the neural network.\n",
    "    y_pred = tf.nn.softmax(logits=logits)\n",
    "    \n",
    "    # Classification output of the neural network.\n",
    "    y_pred_cls = tf.argmax(y_pred, axis=1) \n",
    "   \n",
    "    if mode == tf.estimator.ModeKeys.PREDICT:\n",
    "        # If the estimator is supposed to be in prediction-mode\n",
    "        # then use the predicted class-number that is output by\n",
    "        # the neural network. Optimization etc. is not needed.\n",
    "        \n",
    "        spec = tf.estimator.EstimatorSpec(mode=mode,\n",
    "                                          predictions=y_pred)# _cls)\n",
    "    else:\n",
    "        # Otherwise the estimator is supposed to be in either\n",
    "        # training or evaluation-mode. Note that the loss-function\n",
    "        # is also required in Evaluation mode.\n",
    "        \n",
    "        # Define the loss-function to be optimized, by first\n",
    "        # calculating the cross-entropy between the output of\n",
    "        # the neural network and the true labels for the input data.\n",
    "        # This gives the cross-entropy for each image in the batch.\n",
    "        cross_entropy = tf.nn.sparse_softmax_cross_entropy_with_logits(labels=labels,\n",
    "                                                                       logits=logits)\n",
    "\n",
    "        # Reduce the cross-entropy batch-tensor to a single number\n",
    "        # which can be used in optimization of the neural network.\n",
    "        tf.argmax(logits)\n",
    "        #loss = tf.losses.mean_squared_error(labels=labels, predictions=logits)\n",
    "        loss = tf.reduce_mean(cross_entropy)\n",
    " #######################\n",
    "        lr = 1e-0\n",
    "        step_rate = 1000\n",
    "        decay = 0.5 #if this equals 1 the lr stays the same\n",
    "\n",
    "        #global_step = tf.Variable(0, trainable=False)\n",
    "        #increment_global_step = tf.assign(global_step, global_step + 1)\n",
    "\n",
    "        learning_rate = tf.train.exponential_decay(lr, global_step=tf.train.get_or_create_global_step(), \n",
    "                                           decay_steps=step_rate, decay_rate=decay, staircase=True)\n",
    "        \n",
    "\n",
    "        \n",
    "        # Define the optimizer for improving the neural network.\n",
    "        #optimizer = tf.train.AdamOptimizer(learning_rate=learning_rate)\n",
    "        optimizer = tf.train.GradientDescentOptimizer(learning_rate=learning_rate) \n",
    "        # Get the TensorFlow op for doing a single optimization step.\n",
    "        train_op = optimizer.minimize(loss=loss, global_step = tf.train.get_or_create_global_step())\n",
    "        \n",
    "\n",
    "#############################        \n",
    "\n",
    "\n",
    "        # Define the evaluation metrics,\n",
    "        # in this case the classification accuracy.\n",
    "        metrics = \\\n",
    "        {\n",
    "            \"accuracy\": tf.metrics.accuracy(labels, y_pred_cls) #TODO change acc method\n",
    "        }\n",
    "\n",
    "        # Wrap all of this in an EstimatorSpec.\n",
    "        spec = tf.estimator.EstimatorSpec(\n",
    "            mode=mode,\n",
    "            loss=loss,\n",
    "            train_op=train_op,\n",
    "            eval_metric_ops=metrics)\n",
    "        \n",
    "        \n",
    "#         with tf.Session() as sess:\n",
    "#             print('Learning rate: %f' % (sess.run(optimizer._learning_rate)))\n",
    "        \n",
    "    return spec"
   ]
  },
  {
   "cell_type": "code",
   "execution_count": 69,
   "metadata": {},
   "outputs": [],
   "source": [
    "params = {} #{\"learning_rate\": 1e-5}"
   ]
  },
  {
   "cell_type": "code",
   "execution_count": 70,
   "metadata": {},
   "outputs": [],
   "source": [
    "def make_dir_and_comment(model_dir):\n",
    "    home = expanduser(\"~\")\n",
    "    log_name=os.path.join('logs/', model_dir + '.txt')\n",
    "    \n",
    "    if os.path.isdir(model_dir):\n",
    "        print('INFO: dir with name ' + model_dir + ' already exist.')\n",
    "    \n",
    "    new_comment=input('Please add a comment\\n')\n",
    "    \n",
    "    if os.path.exists(log_name):\n",
    "        append_write = 'a' # append if already exists\n",
    "    else:\n",
    "        append_write = 'w' # make a new file if not\n",
    "    \n",
    "    model_log = open(log_name,append_write)\n",
    "    model_log.write(home +' : '+ new_comment + '\\n')\n",
    "    model_log.close()\n",
    "    return\n",
    "\n"
   ]
  },
  {
   "cell_type": "code",
   "execution_count": 71,
   "metadata": {},
   "outputs": [
    {
     "name": "stdout",
     "output_type": "stream",
     "text": [
      "Please add a comment\n",
      "\n",
      "INFO:tensorflow:Using config: {'_model_dir': './ckpts_26_5_mobilenet1_all_16_layers_all_examples_PW', '_tf_random_seed': None, '_save_summary_steps': 100, '_save_checkpoints_steps': 1000, '_save_checkpoints_secs': None, '_session_config': None, '_keep_checkpoint_max': 5, '_keep_checkpoint_every_n_hours': 10000, '_log_step_count_steps': 100, '_service': None, '_cluster_spec': <tensorflow.python.training.server_lib.ClusterSpec object at 0x7ff581107a58>, '_task_type': 'worker', '_task_id': 0, '_global_id_in_cluster': 0, '_master': '', '_evaluation_master': '', '_is_chief': True, '_num_ps_replicas': 0, '_num_worker_replicas': 1}\n"
     ]
    }
   ],
   "source": [
    "model_dir = './ckpts_26_5_mobilenet1_all_16_layers_all_examples_PW' #'./ckpts_<day>_<month>_<architecture>_<main_change>'\n",
    "make_dir_and_comment(model_dir) \n",
    "model = tf.estimator.Estimator(model_fn=model_fn,\n",
    "                               params=params,\n",
    "                               model_dir=model_dir,\n",
    "                               config=tf.estimator.RunConfig(save_checkpoints_steps=1000, save_summary_steps=100)\n",
    "                              )"
   ]
  },
  {
   "cell_type": "code",
   "execution_count": null,
   "metadata": {},
   "outputs": [
    {
     "name": "stdout",
     "output_type": "stream",
     "text": [
      "(TensorShape([Dimension(32), Dimension(None), Dimension(None), Dimension(3)]), TensorShape([Dimension(32)]))\n",
      "INFO:tensorflow:Calling model_fn.\n",
      "INFO:tensorflow:Done calling model_fn.\n",
      "INFO:tensorflow:Create CheckpointSaverHook.\n",
      "INFO:tensorflow:Graph was finalized.\n",
      "INFO:tensorflow:Running local_init_op.\n",
      "INFO:tensorflow:Done running local_init_op.\n",
      "INFO:tensorflow:Saving checkpoints for 1 into ./ckpts_26_5_mobilenet1_all_16_layers_all_examples_PW/model.ckpt.\n",
      "INFO:tensorflow:loss = 3.8501477, step = 0\n",
      "INFO:tensorflow:global_step/sec: 1.49382\n",
      "INFO:tensorflow:loss = 3.338158, step = 100 (66.945 sec)\n",
      "INFO:tensorflow:global_step/sec: 1.59736\n",
      "INFO:tensorflow:loss = 3.5250683, step = 200 (62.603 sec)\n",
      "INFO:tensorflow:global_step/sec: 1.59531\n",
      "INFO:tensorflow:loss = 3.3767085, step = 300 (62.684 sec)\n",
      "INFO:tensorflow:global_step/sec: 1.59503\n",
      "INFO:tensorflow:loss = 3.4972868, step = 400 (62.693 sec)\n",
      "INFO:tensorflow:global_step/sec: 1.60164\n",
      "INFO:tensorflow:loss = 3.474795, step = 500 (62.437 sec)\n",
      "INFO:tensorflow:global_step/sec: 1.58946\n",
      "INFO:tensorflow:loss = 3.4594781, step = 600 (62.914 sec)\n"
     ]
    }
   ],
   "source": [
    "model.train(input_fn=train_input_fn, steps=40000)"
   ]
  },
  {
   "cell_type": "code",
   "execution_count": null,
   "metadata": {},
   "outputs": [],
   "source": [
    "###DONE TRAIN###"
   ]
  },
  {
   "cell_type": "code",
   "execution_count": null,
   "metadata": {},
   "outputs": [],
   "source": [
    "#VAL:"
   ]
  },
  {
   "cell_type": "code",
   "execution_count": 159,
   "metadata": {},
   "outputs": [],
   "source": [
    "tfrec_val_batch_size=1"
   ]
  },
  {
   "cell_type": "code",
   "execution_count": 160,
   "metadata": {},
   "outputs": [],
   "source": [
    "tfrec_val_directory = os.path.join('..','datasets','stixels','val','tfrec_batch_size_'+str(tfrec_val_batch_size)+'_percent_'+str(percent))"
   ]
  },
  {
   "cell_type": "code",
   "execution_count": 161,
   "metadata": {},
   "outputs": [],
   "source": [
    "path_tfrecords_val_lst=[]\n",
    "path_tfrecords_val = os.path.join(img_path, 'val')\n",
    "for root, dirs, files in os.walk(tfrec_val_directory):\n",
    "    for file in files:\n",
    "        if '.tfrecord' in file:\n",
    "            path_tfrecords_val_lst.append(os.path.join(tfrec_val_directory,file))\n",
    "        else:\n",
    "            print('WARNING: file ' + file + 'looks suspicious. does it belong here?')"
   ]
  },
  {
   "cell_type": "code",
   "execution_count": 162,
   "metadata": {},
   "outputs": [],
   "source": [
    "def val_input_fn():\n",
    "    return input_fn(path_tfrecords_val_lst[7000:8500], train=False) "
   ]
  },
  {
   "cell_type": "code",
   "execution_count": 163,
   "metadata": {},
   "outputs": [
    {
     "name": "stdout",
     "output_type": "stream",
     "text": [
      "(TensorShape([Dimension(32), Dimension(None), Dimension(None), Dimension(3)]), TensorShape([Dimension(32)]))\n",
      "INFO:tensorflow:Calling model_fn.\n",
      "INFO:tensorflow:Done calling model_fn.\n",
      "INFO:tensorflow:Starting evaluation at 2018-05-25-18:16:00\n",
      "INFO:tensorflow:Graph was finalized.\n",
      "INFO:tensorflow:Restoring parameters from ./ckpts_25_5_mobilenet1_3layers_all_examples_v4/model.ckpt-34006\n",
      "INFO:tensorflow:Running local_init_op.\n",
      "INFO:tensorflow:Done running local_init_op.\n",
      "INFO:tensorflow:Finished evaluation at 2018-05-25-18:16:02\n",
      "INFO:tensorflow:Saving dict for global step 34006: accuracy = 0.07269022, global_step = 34006, loss = 3.294152\n"
     ]
    }
   ],
   "source": [
    "val_result = model.evaluate(input_fn=val_input_fn) "
   ]
  },
  {
   "cell_type": "code",
   "execution_count": 164,
   "metadata": {},
   "outputs": [
    {
     "data": {
      "text/plain": [
       "{'accuracy': 0.07269022, 'global_step': 34006, 'loss': 3.294152}"
      ]
     },
     "execution_count": 164,
     "metadata": {},
     "output_type": "execute_result"
    }
   ],
   "source": [
    "val_result"
   ]
  },
  {
   "cell_type": "code",
   "execution_count": 165,
   "metadata": {},
   "outputs": [
    {
     "name": "stdout",
     "output_type": "stream",
     "text": [
      "Classification val accuracy: 7.27%\n"
     ]
    }
   ],
   "source": [
    "print(\"Classification val accuracy: {0:.2%}\".format(val_result[\"accuracy\"]))"
   ]
  },
  {
   "cell_type": "code",
   "execution_count": null,
   "metadata": {},
   "outputs": [],
   "source": [
    "#TEST:"
   ]
  },
  {
   "cell_type": "code",
   "execution_count": 104,
   "metadata": {},
   "outputs": [],
   "source": [
    "tfrec_test_batch_size=1"
   ]
  },
  {
   "cell_type": "code",
   "execution_count": 105,
   "metadata": {},
   "outputs": [],
   "source": [
    "tfrec_test_directory = os.path.join('..','datasets','stixels','test','tfrec_batch_size_'+str(tfrec_test_batch_size))"
   ]
  },
  {
   "cell_type": "code",
   "execution_count": 106,
   "metadata": {},
   "outputs": [],
   "source": [
    "path_tfrecords_test_lst=[]\n",
    "path_tfrecords_test = os.path.join(img_path, 'test')\n",
    "for root, dirs, files in os.walk(tfrec_test_directory):\n",
    "    for file in files:\n",
    "        if '.tfrecord' in file:\n",
    "            path_tfrecords_test_lst.append(os.path.join(tfrec_test_directory,file))\n",
    "        else:\n",
    "            print('WARNING: file ' + file + 'looks suspicious. does it belong here?')"
   ]
  },
  {
   "cell_type": "code",
   "execution_count": 168,
   "metadata": {},
   "outputs": [],
   "source": [
    "def test_input_fn():\n",
    "    return input_fn(filenames=path_tfrecords_train_lst[:5000], train=False) #path_tfrecords_test_lst[1000:3000], train=False)"
   ]
  },
  {
   "cell_type": "code",
   "execution_count": 169,
   "metadata": {},
   "outputs": [
    {
     "name": "stdout",
     "output_type": "stream",
     "text": [
      "(TensorShape([Dimension(32), Dimension(None), Dimension(None), Dimension(3)]), TensorShape([Dimension(32)]))\n",
      "INFO:tensorflow:Calling model_fn.\n",
      "INFO:tensorflow:Done calling model_fn.\n",
      "INFO:tensorflow:Starting evaluation at 2018-05-25-18:18:04\n",
      "INFO:tensorflow:Graph was finalized.\n",
      "INFO:tensorflow:Restoring parameters from ./ckpts_25_5_mobilenet1_3layers_all_examples_v4/model.ckpt-34006\n",
      "INFO:tensorflow:Running local_init_op.\n",
      "INFO:tensorflow:Done running local_init_op.\n",
      "INFO:tensorflow:Finished evaluation at 2018-05-25-18:18:09\n",
      "INFO:tensorflow:Saving dict for global step 34006: accuracy = 0.075921476, global_step = 34006, loss = 3.2370234\n"
     ]
    }
   ],
   "source": [
    "test_result = model.evaluate(input_fn=test_input_fn)"
   ]
  },
  {
   "cell_type": "code",
   "execution_count": 170,
   "metadata": {},
   "outputs": [
    {
     "name": "stdout",
     "output_type": "stream",
     "text": [
      "Classification test accuracy: 7.59%\n"
     ]
    }
   ],
   "source": [
    "print(\"Classification test accuracy: {0:.2%}\".format(test_result[\"accuracy\"]))"
   ]
  },
  {
   "cell_type": "code",
   "execution_count": 171,
   "metadata": {},
   "outputs": [],
   "source": [
    "#PRED:"
   ]
  },
  {
   "cell_type": "code",
   "execution_count": 172,
   "metadata": {},
   "outputs": [],
   "source": [
    "sum_csv_test_path = os.path.join(img_path,'train', 'sum_csv') #TEST\n",
    "labels_test=pd.read_csv(os.path.join(sum_csv_test_path,'labels_train_'+str(percent)+'percent.csv'))\n",
    "test_names_list=list(labels_test['Name'])\n",
    "image_paths_test=[]\n",
    "for name in test_names_list:\n",
    "    image_paths_test.append(os.path.join(img_path, 'train', name+'.png')) #maybe no need to add '.png'\n"
   ]
  },
  {
   "cell_type": "code",
   "execution_count": 173,
   "metadata": {},
   "outputs": [],
   "source": [
    "def load_images(image_paths):\n",
    "    # Load the images from disk.\n",
    "    images = [imread(path) for path in image_paths]\n",
    "    # Convert to a numpy array and return it.\n",
    "    return np.asarray(images)\n"
   ]
  },
  {
   "cell_type": "code",
   "execution_count": 174,
   "metadata": {},
   "outputs": [],
   "source": [
    "##TODO:SHUFFLE!\n",
    "some_num=100\n",
    "some_images = load_images(image_paths=image_paths_test[0:0+some_num])\n",
    "some_images_cls = np.array(labels_test['Label'])"
   ]
  },
  {
   "cell_type": "code",
   "execution_count": 175,
   "metadata": {},
   "outputs": [],
   "source": [
    "predict_input_fn = tf.estimator.inputs.numpy_input_fn(\n",
    "    x={\"image\": some_images.astype(np.float32)},\n",
    "    num_epochs=1,\n",
    "    shuffle=False)"
   ]
  },
  {
   "cell_type": "code",
   "execution_count": 176,
   "metadata": {},
   "outputs": [],
   "source": [
    "predictions = model.predict(input_fn=predict_input_fn) "
   ]
  },
  {
   "cell_type": "code",
   "execution_count": 177,
   "metadata": {},
   "outputs": [
    {
     "name": "stdout",
     "output_type": "stream",
     "text": [
      "INFO:tensorflow:Calling model_fn.\n",
      "INFO:tensorflow:Done calling model_fn.\n",
      "INFO:tensorflow:Graph was finalized.\n",
      "INFO:tensorflow:Restoring parameters from ./ckpts_25_5_mobilenet1_3layers_all_examples_v4/model.ckpt-34006\n",
      "INFO:tensorflow:Running local_init_op.\n",
      "INFO:tensorflow:Done running local_init_op.\n"
     ]
    },
    {
     "data": {
      "text/plain": [
       "array([[0.01553465, 0.01467996, 0.01736307, ..., 0.01505905, 0.01597004,\n",
       "        0.02579576],\n",
       "       [0.01551782, 0.01461374, 0.01731868, ..., 0.01502423, 0.01593275,\n",
       "        0.02578057],\n",
       "       [0.01550467, 0.01454181, 0.01727047, ..., 0.01499285, 0.01589379,\n",
       "        0.02575913],\n",
       "       ...,\n",
       "       [0.01537089, 0.0143695 , 0.01709602, ..., 0.01490644, 0.01576519,\n",
       "        0.0259079 ],\n",
       "       [0.01539997, 0.01443391, 0.0171425 , ..., 0.01494984, 0.01580926,\n",
       "        0.02588672],\n",
       "       [0.0154251 , 0.01447382, 0.01717931, ..., 0.01497578, 0.01585171,\n",
       "        0.02589413]], dtype=float32)"
      ]
     },
     "execution_count": 177,
     "metadata": {},
     "output_type": "execute_result"
    }
   ],
   "source": [
    "cls_pred = np.array(list(predictions))\n",
    "cls_pred "
   ]
  },
  {
   "cell_type": "code",
   "execution_count": 178,
   "metadata": {},
   "outputs": [
    {
     "data": {
      "text/plain": [
       "(100, 47)"
      ]
     },
     "execution_count": 178,
     "metadata": {},
     "output_type": "execute_result"
    }
   ],
   "source": [
    "cls_pred.shape"
   ]
  },
  {
   "cell_type": "code",
   "execution_count": 179,
   "metadata": {},
   "outputs": [
    {
     "data": {
      "text/plain": [
       "array([[0.01553465, 0.01467996, 0.01736307, ..., 0.01505905, 0.01597004,\n",
       "        0.02579576],\n",
       "       [0.01551782, 0.01461374, 0.01731868, ..., 0.01502423, 0.01593275,\n",
       "        0.02578057],\n",
       "       [0.01550467, 0.01454181, 0.01727047, ..., 0.01499285, 0.01589379,\n",
       "        0.02575913],\n",
       "       ...,\n",
       "       [0.01537089, 0.0143695 , 0.01709602, ..., 0.01490644, 0.01576519,\n",
       "        0.0259079 ],\n",
       "       [0.01539997, 0.01443391, 0.0171425 , ..., 0.01494984, 0.01580926,\n",
       "        0.02588672],\n",
       "       [0.0154251 , 0.01447382, 0.01717931, ..., 0.01497578, 0.01585171,\n",
       "        0.02589413]], dtype=float32)"
      ]
     },
     "execution_count": 179,
     "metadata": {},
     "output_type": "execute_result"
    }
   ],
   "source": [
    "cls_pred"
   ]
  },
  {
   "cell_type": "code",
   "execution_count": 180,
   "metadata": {},
   "outputs": [
    {
     "data": {
      "text/plain": [
       "(array([ 14,   7,  73,  65,  89,  78, 138,  36,  42, 188, 161, 300, 100,\n",
       "        132, 179, 140, 185, 170, 194, 170,  41, 118,  68, 130, 103, 157,\n",
       "        119, 163,  98, 121,  16,  89,  37, 113, 131,  53, 149, 105,  25,\n",
       "         19, 108, 134,  61,  55,  16,   2,   8]),\n",
       " array([0.01345151, 0.01381646, 0.01418142, 0.01454637, 0.01491132,\n",
       "        0.01527627, 0.01564123, 0.01600618, 0.01637113, 0.01673609,\n",
       "        0.01710104, 0.01746599, 0.01783094, 0.0181959 , 0.01856085,\n",
       "        0.0189258 , 0.01929076, 0.01965571, 0.02002066, 0.02038561,\n",
       "        0.02075057, 0.02111552, 0.02148047, 0.02184542, 0.02221038,\n",
       "        0.02257533, 0.02294028, 0.02330524, 0.02367019, 0.02403514,\n",
       "        0.02440009, 0.02476505, 0.02513   , 0.02549495, 0.02585991,\n",
       "        0.02622486, 0.02658981, 0.02695476, 0.02731972, 0.02768467,\n",
       "        0.02804962, 0.02841458, 0.02877953, 0.02914448, 0.02950943,\n",
       "        0.02987439, 0.03023934, 0.03060429]))"
      ]
     },
     "execution_count": 180,
     "metadata": {},
     "output_type": "execute_result"
    }
   ],
   "source": [
    "np.histogram(cls_pred, bins=47)"
   ]
  },
  {
   "cell_type": "code",
   "execution_count": 181,
   "metadata": {},
   "outputs": [
    {
     "data": {
      "text/plain": [
       "array([0.0154098 , 0.01443989, 0.01715581, 0.01598581, 0.01700384,\n",
       "       0.0183249 , 0.01950242, 0.01777318, 0.01865833, 0.01885753,\n",
       "       0.01814145, 0.02042307, 0.02011318, 0.01966018, 0.0189752 ,\n",
       "       0.02137644, 0.0266495 , 0.02149086, 0.01999688, 0.02197511,\n",
       "       0.02349279, 0.02489726, 0.0226072 , 0.02047303, 0.0228858 ,\n",
       "       0.02045605, 0.02595181, 0.02825818, 0.02919916, 0.02705002,\n",
       "       0.02356324, 0.02570057, 0.02852751, 0.02849744, 0.02681281,\n",
       "       0.02422464, 0.02287525, 0.02238471, 0.02391515, 0.01962268,\n",
       "       0.01762871, 0.01711534, 0.01756331, 0.0176945 , 0.0149594 ,\n",
       "       0.01583619, 0.02589383], dtype=float32)"
      ]
     },
     "execution_count": 181,
     "metadata": {},
     "output_type": "execute_result"
    }
   ],
   "source": [
    "cls_pred[11]"
   ]
  },
  {
   "cell_type": "code",
   "execution_count": 182,
   "metadata": {},
   "outputs": [],
   "source": [
    "y_pred_cls = tf.argmax(cls_pred, axis=1) "
   ]
  },
  {
   "cell_type": "code",
   "execution_count": 183,
   "metadata": {},
   "outputs": [
    {
     "data": {
      "text/plain": [
       "<tf.Tensor 'ArgMax_1:0' shape=(100,) dtype=int64>"
      ]
     },
     "execution_count": 183,
     "metadata": {},
     "output_type": "execute_result"
    }
   ],
   "source": [
    "y_pred_cls"
   ]
  },
  {
   "cell_type": "code",
   "execution_count": 184,
   "metadata": {},
   "outputs": [
    {
     "name": "stdout",
     "output_type": "stream",
     "text": [
      "[28 28 28 28 28 28 28 28 28 28 28 28 28 28 28 28 28 28 28 28 28 28 28 28\n",
      " 28 28 28 28 28 28 28 28 28 28 28 28 28 28 28 28 28 28 28 28 28 28 28 28\n",
      " 28 28 28 28 28 28 28 28 28 28 28 28 28 28 28 28 28 28 28 28 28 28 28 28\n",
      " 28 28 28 28 28 28 28 28 28 28 28 28 28 28 28 28 28 28 28 28 28 28 28 28\n",
      " 28 28 28 28]\n"
     ]
    }
   ],
   "source": [
    "init_op = tf.initialize_all_variables()\n",
    "with tf.Session() as sess:\n",
    "        sess.run(init_op)\n",
    "        print (sess.run(y_pred_cls))"
   ]
  },
  {
   "cell_type": "code",
   "execution_count": null,
   "metadata": {},
   "outputs": [],
   "source": []
  }
 ],
 "metadata": {
  "kernelspec": {
   "display_name": "Python 3",
   "language": "python",
   "name": "python3"
  },
  "language_info": {
   "codemirror_mode": {
    "name": "ipython",
    "version": 3
   },
   "file_extension": ".py",
   "mimetype": "text/x-python",
   "name": "python",
   "nbconvert_exporter": "python",
   "pygments_lexer": "ipython3",
   "version": "3.6.4"
  }
 },
 "nbformat": 4,
 "nbformat_minor": 1
}
