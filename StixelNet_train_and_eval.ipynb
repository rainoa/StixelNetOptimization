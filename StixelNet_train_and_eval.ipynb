{
 "cells": [
  {
   "cell_type": "code",
   "execution_count": null,
   "metadata": {
    "collapsed": true
   },
   "outputs": [],
   "source": [
    "########now part 2: decode and train#######"
   ]
  },
  {
   "cell_type": "code",
   "execution_count": 1,
   "metadata": {},
   "outputs": [
    {
     "name": "stderr",
     "output_type": "stream",
     "text": [
      "/home/shared/anaconda3/lib/python3.6/site-packages/h5py/__init__.py:36: FutureWarning: Conversion of the second argument of issubdtype from `float` to `np.floating` is deprecated. In future, it will be treated as `np.float64 == np.dtype(float).type`.\n",
      "  from ._conv import register_converters as _register_converters\n"
     ]
    },
    {
     "name": "stdout",
     "output_type": "stream",
     "text": [
      "[name: \"/device:CPU:0\"\n",
      "device_type: \"CPU\"\n",
      "memory_limit: 268435456\n",
      "locality {\n",
      "}\n",
      "incarnation: 12455067702093542274\n",
      ", name: \"/device:GPU:0\"\n",
      "device_type: \"GPU\"\n",
      "memory_limit: 11271654605\n",
      "locality {\n",
      "  bus_id: 1\n",
      "  links {\n",
      "  }\n",
      "}\n",
      "incarnation: 2800243769426591478\n",
      "physical_device_desc: \"device: 0, name: Tesla K80, pci bus id: 0000:00:04.0, compute capability: 3.7\"\n",
      "]\n"
     ]
    }
   ],
   "source": [
    "from tensorflow.python.client import device_lib\n",
    "print(device_lib.list_local_devices())"
   ]
  },
  {
   "cell_type": "code",
   "execution_count": 2,
   "metadata": {},
   "outputs": [
    {
     "name": "stdout",
     "output_type": "stream",
     "text": [
      "WARNING:tensorflow:From /home/shared/anaconda3/lib/python3.6/site-packages/tensorflow/contrib/learn/python/learn/datasets/base.py:198: retry (from tensorflow.contrib.learn.python.learn.datasets.base) is deprecated and will be removed in a future version.\n",
      "Instructions for updating:\n",
      "Use the retry module or similar alternatives.\n"
     ]
    }
   ],
   "source": [
    "import tensorflow as tf\n",
    "import tensorflow.contrib.eager as tfe\n",
    "import numpy as np\n",
    "import pandas as pd\n",
    "import math\n",
    "import timeit\n",
    "import matplotlib.pyplot as plt\n",
    "#from preprocess_func_new import *\n",
    "from matplotlib.image import imread\n",
    "import os\n",
    "from os.path import expanduser\n",
    "\n",
    "%matplotlib inline\n",
    "\n",
    "#tf.enable_eager_execution()\n",
    "\n",
    "#tf.logging.set_verbosity(tf.logging.INFO)"
   ]
  },
  {
   "cell_type": "code",
   "execution_count": 3,
   "metadata": {},
   "outputs": [],
   "source": [
    "# for auto-reloading external modules\n",
    "# see http://stackoverflow.com/questions/1907993/autoreload-of-modules-in-ipython\n",
    "%load_ext autoreload\n",
    "%autoreload 2"
   ]
  },
  {
   "cell_type": "code",
   "execution_count": 4,
   "metadata": {},
   "outputs": [
    {
     "data": {
      "text/plain": [
       "'../datasets/stixels'"
      ]
     },
     "execution_count": 4,
     "metadata": {},
     "output_type": "execute_result"
    }
   ],
   "source": [
    "img_path = os.path.join('..','datasets','stixels')\n",
    "img_path"
   ]
  },
  {
   "cell_type": "code",
   "execution_count": 5,
   "metadata": {},
   "outputs": [],
   "source": [
    "percent=2 "
   ]
  },
  {
   "cell_type": "code",
   "execution_count": 6,
   "metadata": {},
   "outputs": [],
   "source": [
    "tfrec_batch_size=1 #for path name only"
   ]
  },
  {
   "cell_type": "code",
   "execution_count": 7,
   "metadata": {},
   "outputs": [],
   "source": [
    "batch_size=64"
   ]
  },
  {
   "cell_type": "code",
   "execution_count": 8,
   "metadata": {},
   "outputs": [],
   "source": [
    "tfrec_train_directory = os.path.join('..','datasets','stixels','train','tfrec_batch_size_'+str(tfrec_batch_size)+'_percent_'+str(percent))"
   ]
  },
  {
   "cell_type": "code",
   "execution_count": 9,
   "metadata": {},
   "outputs": [],
   "source": [
    "#creating a list of paths to train tfrecs:\n",
    "path_tfrecords_train_lst=[]\n",
    "path_tfrecords_train = os.path.join(img_path, 'train')\n",
    "for root, dirs, files in os.walk(tfrec_train_directory):\n",
    "    for file in files:\n",
    "        if '.tfrecord' in file:\n",
    "            path_tfrecords_train_lst.append(os.path.join(tfrec_train_directory,file))\n",
    "        else:\n",
    "            print('WARNING: file ' + file + 'looks suspicious. does it belong here?')\n",
    "\n"
   ]
  },
  {
   "cell_type": "code",
   "execution_count": 10,
   "metadata": {},
   "outputs": [],
   "source": [
    "#shortening the list for experiments\n",
    "path_tfrecords_train_lst = path_tfrecords_train_lst[:100]\n",
    "##################"
   ]
  },
  {
   "cell_type": "code",
   "execution_count": 11,
   "metadata": {},
   "outputs": [],
   "source": [
    "#params\n",
    "H=370 \n",
    "W=24\n",
    "C=3\n",
    "img_shape = (H, W, C)\n",
    "num_classes = 47"
   ]
  },
  {
   "cell_type": "code",
   "execution_count": 12,
   "metadata": {},
   "outputs": [],
   "source": [
    "def parse(serialized):\n",
    "    # Define a dict with the data-names and types we expect to\n",
    "    # find in the TFRecords file.\n",
    "    # It is a bit awkward that this needs to be specified again,\n",
    "    # because it could have been written in the header of the\n",
    "    # TFRecords file instead.\n",
    "    features = \\\n",
    "        {\n",
    "            'image': tf.FixedLenFeature([], tf.string),\n",
    "            'label': tf.FixedLenFeature([], tf.int64)\n",
    "        }\n",
    "\n",
    "    # Parse the serialized data so we get a dict with our data.\n",
    "    parsed_example = tf.parse_single_example(serialized=serialized,\n",
    "                                             features=features)\n",
    "\n",
    "    # Get the image as raw bytes.\n",
    "    image_raw = parsed_example['image']\n",
    "\n",
    "    # Decode the raw bytes so it becomes a tensor with type.\n",
    "    #######image = tf.decode_raw(image_raw, tf.int32) ####\n",
    "    image = tf.image.decode_png(image_raw, channels=3, dtype=tf.uint8) \n",
    "    #image = tf.cast(image, tf.int32)\n",
    "\n",
    "    # The type is now uint8 but we need it to be float.\n",
    "    \n",
    "    image = tf.cast(image, tf.float32) ####\n",
    "    \n",
    "    # Get the label associated with the image.\n",
    "    label = parsed_example['label']\n",
    "\n",
    "    # The image and label are now correct TensorFlow types.\n",
    "    return image, label"
   ]
  },
  {
   "cell_type": "code",
   "execution_count": 13,
   "metadata": {},
   "outputs": [],
   "source": [
    "########## a function to print tensor values\n",
    "def print_tensor(tensor):\n",
    "    dataset = tf.data.TFRecordDataset(filenames=[tensor])\n",
    "    dataset = dataset.map(parse)\n",
    "    iterator = dataset.make_one_shot_iterator()\n",
    "    images_batch, labels_batch = iterator.get_next()\n",
    "    x = {'image': images_batch}\n",
    "    y = labels_batch\n",
    "    init_op = tf.initialize_all_variables()\n",
    "\n",
    "    with tf.Session() as sess:\n",
    "        sess.run(init_op)\n",
    "        print (sess.run(y))\n",
    "        #print (sess.run(x))\n",
    "        #return(sess.run(x))\n",
    "    return"
   ]
  },
  {
   "cell_type": "code",
   "execution_count": 15,
   "metadata": {},
   "outputs": [
    {
     "name": "stdout",
     "output_type": "stream",
     "text": [
      "18\n",
      "19\n",
      "26\n",
      "15\n",
      "17\n",
      "29\n",
      "46\n",
      "15\n",
      "16\n",
      "15\n",
      "14\n",
      "33\n",
      "16\n",
      "30\n",
      "25\n",
      "8\n",
      "21\n",
      "20\n",
      "27\n",
      "32\n",
      "22\n",
      "15\n",
      "31\n",
      "19\n",
      "26\n",
      "9\n",
      "36\n",
      "36\n",
      "16\n",
      "15\n",
      "10\n",
      "24\n",
      "30\n",
      "35\n",
      "10\n",
      "18\n",
      "24\n",
      "16\n",
      "17\n",
      "21\n",
      "36\n",
      "22\n",
      "26\n",
      "10\n",
      "29\n",
      "15\n",
      "20\n",
      "14\n",
      "16\n",
      "12\n",
      "23\n",
      "24\n",
      "38\n",
      "32\n",
      "30\n",
      "23\n",
      "31\n",
      "14\n",
      "16\n",
      "15\n",
      "17\n",
      "17\n",
      "22\n",
      "33\n",
      "12\n",
      "17\n",
      "30\n",
      "13\n",
      "20\n",
      "11\n",
      "35\n",
      "17\n",
      "34\n",
      "11\n",
      "28\n",
      "10\n",
      "15\n",
      "18\n",
      "14\n",
      "46\n",
      "46\n",
      "25\n",
      "16\n",
      "11\n",
      "15\n",
      "16\n",
      "21\n",
      "18\n",
      "33\n",
      "28\n",
      "26\n",
      "11\n",
      "46\n",
      "35\n",
      "24\n",
      "13\n",
      "15\n",
      "10\n",
      "20\n",
      "35\n"
     ]
    }
   ],
   "source": [
    "################ try to print the tensors\n",
    "for t in path_tfrecords_train_lst[:100]:\n",
    "    #print (t)\n",
    "    print_tensor(t)\n",
    "    #print(x)"
   ]
  },
  {
   "cell_type": "code",
   "execution_count": 106,
   "metadata": {},
   "outputs": [
    {
     "data": {
      "text/plain": [
       "(370, 24, 3)"
      ]
     },
     "execution_count": 106,
     "metadata": {},
     "output_type": "execute_result"
    }
   ],
   "source": [
    "############# print shape of tensor\n",
    "x2=tf.Session().run(x['image'])\n",
    "x2.shape\n"
   ]
  },
  {
   "cell_type": "code",
   "execution_count": 107,
   "metadata": {},
   "outputs": [
    {
     "data": {
      "text/plain": [
       "<matplotlib.image.AxesImage at 0x7fa46a8d0e48>"
      ]
     },
     "execution_count": 107,
     "metadata": {},
     "output_type": "execute_result"
    },
    {
     "data": {
      "image/png": "[encoded data removed]",
      "text/plain": [
       "<matplotlib.figure.Figure at 0x7fa46a75c908>"
      ]
     },
     "metadata": {},
     "output_type": "display_data"
    }
   ],
   "source": [
    "####################. show the parsed stixel\n",
    "import matplotlib\n",
    "%matplotlib inline\n",
    "matplotlib.pyplot.imshow(x2)"
   ]
  },
  {
   "cell_type": "code",
   "execution_count": 16,
   "metadata": {},
   "outputs": [],
   "source": [
    "def input_fn(filenames, train, batch_size=batch_size, buffer_size=100000): \n",
    "    # Args:\n",
    "    # filenames:   Filenames for the TFRecords files.\n",
    "    # train:       Boolean whether training (True) or testing (False).\n",
    "    # batch_size:  Return batches of this size.\n",
    "    # buffer_size: Read buffers of this size. The random shuffling\n",
    "    #              is done on the buffer, so it must be big enough.\n",
    "\n",
    "    # Create a TensorFlow Dataset-object which has functionality\n",
    "    # for reading and shuffling data from TFRecords files.\n",
    "    dataset = tf.data.TFRecordDataset(filenames=filenames)\n",
    "\n",
    "    # Parse the serialized data in the TFRecords files.\n",
    "    # This returns TensorFlow tensors for the image and labels.\n",
    "    dataset = dataset.map(parse)\n",
    "    \n",
    "    if train:\n",
    "        # If training then read a buffer of the given size and\n",
    "        # randomly shuffle it.\n",
    "        ######dataset = dataset.shuffle(buffer_size=buffer_size)\n",
    "\n",
    "        # Allow infinite reading of the data.\n",
    "        num_repeat = None #-1\n",
    "    else:\n",
    "        # If testing then don't shuffle the data.\n",
    "        \n",
    "        # Only go through the data once.\n",
    "        num_repeat = 1\n",
    "\n",
    "    # Repeat the dataset the given number of times.\n",
    "    dataset = dataset.repeat(num_repeat)\n",
    "    \n",
    "    # Get a batch of data with the given size.\n",
    "    #dataset = dataset.batch(batch_size)\n",
    "    #dataset = tf.contrib.data.batch_and_drop_remainder(batch_size)\n",
    "    dataset = dataset.apply(tf.contrib.data.batch_and_drop_remainder(batch_size))\n",
    "    print(dataset.output_shapes)  # ==> \"(16,)\" (the batch dimension is known)\n",
    "    \n",
    "    # Create an iterator for the dataset and the above modifications.\n",
    "    iterator = dataset.make_one_shot_iterator()\n",
    "\n",
    "    # Get the next batch of images and labels.\n",
    "    images_batch, labels_batch = iterator.get_next()\n",
    "\n",
    "    # The input-function must return a dict wrapping the images.\n",
    "    x = {'image': images_batch}\n",
    "    y = labels_batch\n",
    "    \n",
    "    return x, y"
   ]
  },
  {
   "cell_type": "code",
   "execution_count": 17,
   "metadata": {},
   "outputs": [],
   "source": [
    "def train_input_fn():\n",
    "    return input_fn(filenames=path_tfrecords_train_lst, train=True)"
   ]
  },
  {
   "cell_type": "code",
   "execution_count": 18,
   "metadata": {},
   "outputs": [],
   "source": [
    "def model_fn(features, labels, mode, params):\n",
    "    # Args:\n",
    "    #\n",
    "    # features: This is the x-arg from the input_fn.\n",
    "    # labels:   This is the y-arg from the input_fn.\n",
    "    # mode:     Either TRAIN, EVAL, or PREDICT\n",
    "    # params:   User-defined hyper-parameters, e.g. learning-rate.\n",
    "    \n",
    "    #tf.layers.xavier_initializer(\n",
    "    #uniform=True,\n",
    "    #seed=481,\n",
    "    #dtype=tf.float32\n",
    "    #)\n",
    "    \n",
    "    # Reference to the tensor named \"image\" in the input-function.\n",
    "    x = features[\"image\"]\n",
    "    # The convolutional layers expect 4-rank tensors\n",
    "    # but x is a 2-rank tensor, so reshape it.\n",
    "    net = tf.reshape(x, [-1,W,H,C])\n",
    "    # First convolutional layer.\n",
    "    net = tf.layers.conv2d(inputs=net, name='layer_conv1',\n",
    "                           filters=32, kernel_size=(11,5),\n",
    "                           padding='same', activation=tf.nn.leaky_relu, \n",
    "                           kernel_initializer=tf.contrib.layers.xavier_initializer(seed=481)\n",
    "                           )\n",
    "    net = tf.layers.max_pooling2d(inputs=net, pool_size=(8,4), strides=1)\n",
    "    #net = tf.nn.lrn(input=net, depth_radius=4, bias=1.0, alpha=0.001 / 9.0, beta=0.75, name='norm1')\n",
    "    # Second convolutional layer.\n",
    "    #net = tf.layers.conv2d(inputs=net, name='layer_conv2',\n",
    "     #                      filters=200, kernel_size=(5,3),\n",
    "      #                     padding='same', activation=tf.nn.leaky_relu,\n",
    "       #                    kernel_initializer=tf.contrib.layers.xavier_initializer()) #200\n",
    "    #net = tf.nn.lrn(input=net, depth_radius=4, bias=1.0, alpha=0.001 / 9.0, beta=0.75, name='norm1')\n",
    "    #net = tf.layers.max_pooling2d(inputs=net, pool_size=(4,3), strides=1)    \n",
    "\n",
    "    # Flatten to a 2-rank tensor.\n",
    "    #net = tf.contrib.layers.flatten(net)\n",
    "    # Eventually this should be replaced with:\n",
    "    net = tf.layers.flatten(net)\n",
    "\n",
    "    # First fully-connected / dense layer.\n",
    "    # This uses the ReLU activation function.\n",
    "    net = tf.layers.dense(inputs=net, name='layer_fc1',\n",
    "                          units=50, activation=tf.nn.leaky_relu,\n",
    "                          kernel_initializer=tf.contrib.layers.xavier_initializer()\n",
    "                          )    \n",
    "    \n",
    "    net = tf.layers.dropout(inputs=net,rate=0.5, seed=481, \n",
    "                          training=(mode=='TRAIN'), name='layer_dropout1'\n",
    "                           )\n",
    "    \n",
    "    # Second fully-connected / dense layer\n",
    "    #net = tf.layers.dense(inputs=net, name='layer_fc2',\n",
    "    #                      units=512, activation=tf.nn.relu,\n",
    "    #                      kernel_initializer=tf.contrib.layers.xavier_initializer()\n",
    "    #                      )   #2048\n",
    "    \n",
    "   \n",
    "    # This is the last layer so it does not use an activation function.\n",
    "    net = tf.layers.dense(inputs=net, name='layer_fc3',\n",
    "                          units=47,\n",
    "                          kernel_initializer=tf.contrib.layers.xavier_initializer()\n",
    "                          ) \n",
    "\n",
    "    # Logits output of the neural network.\n",
    "    logits = net\n",
    "\n",
    "    # Softmax output of the neural network.\n",
    "    y_pred = tf.nn.softmax(logits=logits)\n",
    "    \n",
    "    # Classification output of the neural network.\n",
    "    y_pred_cls = tf.argmax(y_pred, axis=1) \n",
    "   \n",
    "    if mode == tf.estimator.ModeKeys.PREDICT:\n",
    "        # If the estimator is supposed to be in prediction-mode\n",
    "        # then use the predicted class-number that is output by\n",
    "        # the neural network. Optimization etc. is not needed.\n",
    "        \n",
    "        spec = tf.estimator.EstimatorSpec(mode=mode,\n",
    "                                          predictions=y_pred)# _cls)\n",
    "    else:\n",
    "        # Otherwise the estimator is supposed to be in either\n",
    "        # training or evaluation-mode. Note that the loss-function\n",
    "        # is also required in Evaluation mode.\n",
    "        \n",
    "        # Define the loss-function to be optimized, by first\n",
    "        # calculating the cross-entropy between the output of\n",
    "        # the neural network and the true labels for the input data.\n",
    "        # This gives the cross-entropy for each image in the batch.\n",
    "        cross_entropy = tf.nn.sparse_softmax_cross_entropy_with_logits(labels=labels,\n",
    "                                                                       logits=logits)\n",
    "\n",
    "        # Reduce the cross-entropy batch-tensor to a single number\n",
    "        # which can be used in optimization of the neural network.\n",
    "        tf.argmax(logits)\n",
    "        #loss = tf.losses.mean_squared_error(labels=labels, predictions=logits)\n",
    "        loss = tf.reduce_mean(cross_entropy)\n",
    " #######################\n",
    "        lr = 1e-5\n",
    "        step_rate = 1000\n",
    "        decay = 0.5 #if this equals 1 the lr stays the same\n",
    "\n",
    "        #global_step = tf.Variable(0, trainable=False)\n",
    "        #increment_global_step = tf.assign(global_step, global_step + 1)\n",
    "\n",
    "        learning_rate = tf.train.exponential_decay(lr, global_step=tf.train.get_or_create_global_step(), \n",
    "                                           decay_steps=step_rate, decay_rate=decay, staircase=True)\n",
    "        \n",
    "        # Define the optimizer for improving the neural network.\n",
    "        #optimizer = tf.train.AdamOptimizer(learning_rate=learning_rate)\n",
    "        optimizer = tf.train.GradientDescentOptimizer(learning_rate=learning_rate) \n",
    "        # Get the TensorFlow op for doing a single optimization step.\n",
    "        train_op = optimizer.minimize(loss=loss, global_step = tf.train.get_or_create_global_step())\n",
    "        \n",
    "        \n",
    "#############################        \n",
    "\n",
    "\n",
    "        # Define the evaluation metrics,\n",
    "        # in this case the classification accuracy.\n",
    "        metrics = \\\n",
    "        {\n",
    "            \"accuracy\": tf.metrics.accuracy(labels, y_pred_cls) #TODO change acc method\n",
    "        }\n",
    "\n",
    "        # Wrap all of this in an EstimatorSpec.\n",
    "        spec = tf.estimator.EstimatorSpec(\n",
    "            mode=mode,\n",
    "            loss=loss,\n",
    "            train_op=train_op,\n",
    "            eval_metric_ops=metrics)\n",
    "        \n",
    "    return spec"
   ]
  },
  {
   "cell_type": "code",
   "execution_count": 19,
   "metadata": {},
   "outputs": [],
   "source": [
    "params = {} #{\"learning_rate\": 1e-5}"
   ]
  },
  {
   "cell_type": "code",
   "execution_count": 20,
   "metadata": {},
   "outputs": [],
   "source": [
    "def make_dir_and_comment(model_dir):\n",
    "    home = expanduser(\"~\")\n",
    "    log_name=os.path.join('logs/', model_dir + '.txt')\n",
    "    \n",
    "    if os.path.isdir(model_dir):\n",
    "        print('INFO: dir with name ' + model_dir + ' already exist.')\n",
    "    \n",
    "    new_comment=input('Please add a comment\\n')\n",
    "    \n",
    "    if os.path.exists(log_name):\n",
    "        append_write = 'a' # append if already exists\n",
    "    else:\n",
    "        append_write = 'w' # make a new file if not\n",
    "    \n",
    "    model_log = open(log_name,append_write)\n",
    "    model_log.write(home +' : '+ new_comment + '\\n')\n",
    "    model_log.close()\n",
    "    return\n",
    "\n"
   ]
  },
  {
   "cell_type": "code",
   "execution_count": 21,
   "metadata": {},
   "outputs": [
    {
     "name": "stdout",
     "output_type": "stream",
     "text": [
      "Please add a comment\n",
      "\n",
      "INFO:tensorflow:Using default config.\n",
      "INFO:tensorflow:Using config: {'_model_dir': './ckpts_22_5_1conv_1dense_100examples', '_tf_random_seed': None, '_save_summary_steps': 100, '_save_checkpoints_steps': None, '_save_checkpoints_secs': 600, '_session_config': None, '_keep_checkpoint_max': 5, '_keep_checkpoint_every_n_hours': 10000, '_log_step_count_steps': 100, '_service': None, '_cluster_spec': <tensorflow.python.training.server_lib.ClusterSpec object at 0x7fbe767c1358>, '_task_type': 'worker', '_task_id': 0, '_global_id_in_cluster': 0, '_master': '', '_evaluation_master': '', '_is_chief': True, '_num_ps_replicas': 0, '_num_worker_replicas': 1}\n"
     ]
    }
   ],
   "source": [
    "model_dir = './ckpts_22_5_1conv_1dense_100examples' #'./ckpts_<day>_<month>_<architecture>_<main_change>'\n",
    "make_dir_and_comment(model_dir) \n",
    "model = tf.estimator.Estimator(model_fn=model_fn,\n",
    "                               params=params,\n",
    "                               model_dir=model_dir,\n",
    "                               save_checkpoints_steps=1000)"
   ]
  },
  {
   "cell_type": "code",
   "execution_count": 22,
   "metadata": {},
   "outputs": [
    {
     "name": "stdout",
     "output_type": "stream",
     "text": [
      "(TensorShape([Dimension(64), Dimension(None), Dimension(None), Dimension(3)]), TensorShape([Dimension(64)]))\n",
      "INFO:tensorflow:Calling model_fn.\n",
      "INFO:tensorflow:Done calling model_fn.\n",
      "INFO:tensorflow:Create CheckpointSaverHook.\n",
      "INFO:tensorflow:Graph was finalized.\n",
      "INFO:tensorflow:Running local_init_op.\n",
      "INFO:tensorflow:Done running local_init_op.\n",
      "INFO:tensorflow:Saving checkpoints for 1 into ./ckpts_22_5_1conv_1dense_100examples/model.ckpt.\n",
      "INFO:tensorflow:loss = 86.0047, step = 0\n",
      "INFO:tensorflow:global_step/sec: 8.69826\n",
      "INFO:tensorflow:loss = 0.11544885, step = 100 (11.498 sec)\n",
      "INFO:tensorflow:global_step/sec: 9.03585\n",
      "INFO:tensorflow:loss = 0.034034945, step = 200 (11.068 sec)\n",
      "INFO:tensorflow:global_step/sec: 9.03812\n",
      "INFO:tensorflow:loss = 0.02030489, step = 300 (11.064 sec)\n",
      "INFO:tensorflow:global_step/sec: 9.09459\n",
      "INFO:tensorflow:loss = 0.014721774, step = 400 (10.996 sec)\n",
      "INFO:tensorflow:global_step/sec: 9.07207\n",
      "INFO:tensorflow:loss = 0.011622226, step = 500 (11.022 sec)\n",
      "INFO:tensorflow:global_step/sec: 8.96056\n",
      "INFO:tensorflow:loss = 0.009443019, step = 600 (11.160 sec)\n",
      "INFO:tensorflow:global_step/sec: 8.92057\n",
      "INFO:tensorflow:loss = 0.00780789, step = 700 (11.209 sec)\n",
      "INFO:tensorflow:global_step/sec: 9.0181\n",
      "INFO:tensorflow:loss = 0.006705306, step = 800 (11.090 sec)\n",
      "INFO:tensorflow:global_step/sec: 9.07588\n",
      "INFO:tensorflow:loss = 0.005891203, step = 900 (11.018 sec)\n",
      "INFO:tensorflow:global_step/sec: 9.01127\n",
      "INFO:tensorflow:loss = 0.0052324436, step = 1000 (11.097 sec)\n",
      "INFO:tensorflow:global_step/sec: 8.95882\n",
      "INFO:tensorflow:loss = 0.0049433326, step = 1100 (11.163 sec)\n",
      "INFO:tensorflow:global_step/sec: 9.00188\n",
      "INFO:tensorflow:loss = 0.004688901, step = 1200 (11.108 sec)\n",
      "INFO:tensorflow:global_step/sec: 9.07976\n",
      "INFO:tensorflow:loss = 0.0044622496, step = 1300 (11.014 sec)\n",
      "INFO:tensorflow:global_step/sec: 9.1049\n",
      "INFO:tensorflow:loss = 0.0042579416, step = 1400 (10.982 sec)\n",
      "INFO:tensorflow:global_step/sec: 9.03896\n",
      "INFO:tensorflow:loss = 0.004074015, step = 1500 (11.065 sec)\n",
      "INFO:tensorflow:global_step/sec: 8.97944\n",
      "INFO:tensorflow:loss = 0.0039056023, step = 1600 (11.137 sec)\n",
      "INFO:tensorflow:global_step/sec: 8.97913\n",
      "INFO:tensorflow:loss = 0.003750533, step = 1700 (11.136 sec)\n",
      "INFO:tensorflow:global_step/sec: 8.99094\n",
      "INFO:tensorflow:loss = 0.003607459, step = 1800 (11.122 sec)\n",
      "INFO:tensorflow:global_step/sec: 9.0692\n",
      "INFO:tensorflow:loss = 0.0034745135, step = 1900 (11.027 sec)\n",
      "INFO:tensorflow:global_step/sec: 8.95696\n",
      "INFO:tensorflow:loss = 0.0033496795, step = 2000 (11.165 sec)\n",
      "INFO:tensorflow:global_step/sec: 8.91221\n",
      "INFO:tensorflow:loss = 0.0032889, step = 2100 (11.219 sec)\n",
      "INFO:tensorflow:global_step/sec: 8.98639\n",
      "INFO:tensorflow:loss = 0.0032308977, step = 2200 (11.128 sec)\n",
      "INFO:tensorflow:global_step/sec: 8.95453\n",
      "INFO:tensorflow:loss = 0.0031752558, step = 2300 (11.169 sec)\n",
      "INFO:tensorflow:global_step/sec: 9.07689\n",
      "INFO:tensorflow:loss = 0.0031219635, step = 2400 (11.016 sec)\n",
      "INFO:tensorflow:global_step/sec: 8.95214\n",
      "INFO:tensorflow:loss = 0.0030705591, step = 2500 (11.172 sec)\n",
      "INFO:tensorflow:global_step/sec: 9.0011\n",
      "INFO:tensorflow:loss = 0.0030209552, step = 2600 (11.108 sec)\n",
      "INFO:tensorflow:global_step/sec: 9.1038\n",
      "INFO:tensorflow:loss = 0.0029731398, step = 2700 (10.985 sec)\n",
      "INFO:tensorflow:global_step/sec: 9.0573\n",
      "INFO:tensorflow:loss = 0.002926895, step = 2800 (11.042 sec)\n",
      "INFO:tensorflow:global_step/sec: 8.98835\n",
      "INFO:tensorflow:loss = 0.0028822874, step = 2900 (11.124 sec)\n",
      "INFO:tensorflow:global_step/sec: 8.96691\n",
      "INFO:tensorflow:loss = 0.0028387804, step = 3000 (11.152 sec)\n",
      "INFO:tensorflow:global_step/sec: 9.07822\n",
      "INFO:tensorflow:loss = 0.00281773, step = 3100 (11.016 sec)\n",
      "INFO:tensorflow:global_step/sec: 8.9096\n",
      "INFO:tensorflow:loss = 0.0027970697, step = 3200 (11.224 sec)\n",
      "INFO:tensorflow:global_step/sec: 8.95991\n",
      "INFO:tensorflow:loss = 0.0027768142, step = 3300 (11.161 sec)\n",
      "INFO:tensorflow:global_step/sec: 8.77969\n",
      "INFO:tensorflow:loss = 0.0027568657, step = 3400 (11.391 sec)\n",
      "INFO:tensorflow:global_step/sec: 9.06953\n",
      "INFO:tensorflow:loss = 0.0027372548, step = 3500 (11.025 sec)\n",
      "INFO:tensorflow:global_step/sec: 9.03782\n",
      "INFO:tensorflow:loss = 0.0027179876, step = 3600 (11.065 sec)\n",
      "INFO:tensorflow:global_step/sec: 9.10065\n",
      "INFO:tensorflow:loss = 0.0026990091, step = 3700 (10.988 sec)\n",
      "INFO:tensorflow:global_step/sec: 9.07908\n",
      "INFO:tensorflow:loss = 0.0026803517, step = 3800 (11.014 sec)\n",
      "INFO:tensorflow:global_step/sec: 8.94512\n",
      "INFO:tensorflow:loss = 0.0026619267, step = 3900 (11.181 sec)\n",
      "INFO:tensorflow:global_step/sec: 9.09144\n",
      "INFO:tensorflow:loss = 0.0026438283, step = 4000 (10.999 sec)\n",
      "INFO:tensorflow:global_step/sec: 9.03597\n",
      "INFO:tensorflow:loss = 0.0026357106, step = 4100 (11.066 sec)\n",
      "INFO:tensorflow:global_step/sec: 9.00872\n",
      "INFO:tensorflow:loss = 0.0026277225, step = 4200 (11.101 sec)\n",
      "INFO:tensorflow:global_step/sec: 8.96782\n",
      "INFO:tensorflow:loss = 0.0026198062, step = 4300 (11.150 sec)\n",
      "INFO:tensorflow:global_step/sec: 9.07224\n",
      "INFO:tensorflow:loss = 0.0026119323, step = 4400 (11.022 sec)\n",
      "INFO:tensorflow:global_step/sec: 9.1033\n",
      "INFO:tensorflow:loss = 0.0026041064, step = 4500 (10.985 sec)\n",
      "INFO:tensorflow:global_step/sec: 9.12913\n",
      "INFO:tensorflow:loss = 0.0025963844, step = 4600 (10.955 sec)\n",
      "INFO:tensorflow:global_step/sec: 9.00999\n",
      "INFO:tensorflow:loss = 0.00258868, step = 4700 (11.098 sec)\n",
      "INFO:tensorflow:global_step/sec: 9.02447\n",
      "INFO:tensorflow:loss = 0.0025810387, step = 4800 (11.082 sec)\n",
      "INFO:tensorflow:global_step/sec: 9.11699\n",
      "INFO:tensorflow:loss = 0.0025734508, step = 4900 (10.967 sec)\n",
      "INFO:tensorflow:global_step/sec: 9.11633\n",
      "INFO:tensorflow:loss = 0.0025658978, step = 5000 (10.971 sec)\n",
      "INFO:tensorflow:global_step/sec: 9.10433\n",
      "INFO:tensorflow:loss = 0.0025631466, step = 5100 (10.982 sec)\n",
      "INFO:tensorflow:global_step/sec: 8.98666\n",
      "INFO:tensorflow:loss = 0.0025603638, step = 5200 (11.129 sec)\n",
      "INFO:tensorflow:global_step/sec: 8.9431\n",
      "INFO:tensorflow:loss = 0.0025576237, step = 5300 (11.181 sec)\n",
      "INFO:tensorflow:global_step/sec: 9.10038\n",
      "INFO:tensorflow:loss = 0.002554867, step = 5400 (10.989 sec)\n",
      "INFO:tensorflow:Saving checkpoints for 5410 into ./ckpts_22_5_1conv_1dense_100examples/model.ckpt.\n",
      "INFO:tensorflow:global_step/sec: 9.04876\n",
      "INFO:tensorflow:loss = 0.0025521026, step = 5500 (11.051 sec)\n",
      "INFO:tensorflow:global_step/sec: 8.90324\n",
      "INFO:tensorflow:loss = 0.0025493805, step = 5600 (11.232 sec)\n",
      "INFO:tensorflow:global_step/sec: 8.84517\n",
      "INFO:tensorflow:loss = 0.0025466813, step = 5700 (11.308 sec)\n",
      "INFO:tensorflow:global_step/sec: 8.82098\n",
      "INFO:tensorflow:loss = 0.0025439872, step = 5800 (11.335 sec)\n",
      "INFO:tensorflow:global_step/sec: 8.91562\n",
      "INFO:tensorflow:loss = 0.002541282, step = 5900 (11.216 sec)\n",
      "INFO:tensorflow:global_step/sec: 8.98321\n",
      "INFO:tensorflow:loss = 0.002538599, step = 6000 (11.133 sec)\n",
      "INFO:tensorflow:global_step/sec: 9.01127\n",
      "INFO:tensorflow:loss = 0.0025378237, step = 6100 (11.098 sec)\n",
      "INFO:tensorflow:global_step/sec: 8.79528\n",
      "INFO:tensorflow:loss = 0.0025370521, step = 6200 (11.369 sec)\n",
      "INFO:tensorflow:global_step/sec: 8.81294\n",
      "INFO:tensorflow:loss = 0.002536275, step = 6300 (11.347 sec)\n",
      "INFO:tensorflow:global_step/sec: 8.74169\n",
      "INFO:tensorflow:loss = 0.0025354999, step = 6400 (11.441 sec)\n",
      "INFO:tensorflow:global_step/sec: 8.77662\n",
      "INFO:tensorflow:loss = 0.002534741, step = 6500 (11.393 sec)\n",
      "INFO:tensorflow:global_step/sec: 8.75631\n",
      "INFO:tensorflow:loss = 0.0025339623, step = 6600 (11.420 sec)\n",
      "INFO:tensorflow:global_step/sec: 8.70802\n",
      "INFO:tensorflow:loss = 0.0025331741, step = 6700 (11.483 sec)\n",
      "INFO:tensorflow:global_step/sec: 8.78032\n",
      "INFO:tensorflow:loss = 0.0025324172, step = 6800 (11.389 sec)\n",
      "INFO:tensorflow:global_step/sec: 8.84553\n",
      "INFO:tensorflow:loss = 0.002531642, step = 6900 (11.305 sec)\n",
      "INFO:tensorflow:global_step/sec: 8.84002\n",
      "INFO:tensorflow:loss = 0.0025308814, step = 7000 (11.313 sec)\n",
      "INFO:tensorflow:global_step/sec: 8.78778\n",
      "INFO:tensorflow:loss = 0.0025306814, step = 7100 (11.378 sec)\n",
      "INFO:tensorflow:global_step/sec: 8.73115\n",
      "INFO:tensorflow:loss = 0.0025304984, step = 7200 (11.453 sec)\n",
      "INFO:tensorflow:global_step/sec: 8.77873\n",
      "INFO:tensorflow:loss = 0.002530295, step = 7300 (11.391 sec)\n",
      "INFO:tensorflow:global_step/sec: 8.79254\n",
      "INFO:tensorflow:loss = 0.002530108, step = 7400 (11.374 sec)\n",
      "INFO:tensorflow:global_step/sec: 8.76955\n"
     ]
    },
    {
     "name": "stdout",
     "output_type": "stream",
     "text": [
      "INFO:tensorflow:loss = 0.0025299063, step = 7500 (11.403 sec)\n",
      "INFO:tensorflow:global_step/sec: 8.7405\n",
      "INFO:tensorflow:loss = 0.0025297175, step = 7600 (11.441 sec)\n",
      "INFO:tensorflow:global_step/sec: 8.73727\n",
      "INFO:tensorflow:loss = 0.0025295196, step = 7700 (11.445 sec)\n",
      "INFO:tensorflow:global_step/sec: 8.71459\n",
      "INFO:tensorflow:loss = 0.002529327, step = 7800 (11.476 sec)\n",
      "INFO:tensorflow:global_step/sec: 8.72746\n",
      "INFO:tensorflow:loss = 0.0025291438, step = 7900 (11.458 sec)\n",
      "INFO:tensorflow:global_step/sec: 8.79627\n",
      "INFO:tensorflow:loss = 0.0025289385, step = 8000 (11.368 sec)\n",
      "INFO:tensorflow:global_step/sec: 8.72776\n",
      "INFO:tensorflow:loss = 0.002528896, step = 8100 (11.458 sec)\n",
      "INFO:tensorflow:global_step/sec: 8.74167\n",
      "INFO:tensorflow:loss = 0.0025288537, step = 8200 (11.439 sec)\n",
      "INFO:tensorflow:global_step/sec: 8.76017\n",
      "INFO:tensorflow:loss = 0.0025288071, step = 8300 (11.415 sec)\n",
      "INFO:tensorflow:global_step/sec: 8.75271\n",
      "INFO:tensorflow:loss = 0.0025287555, step = 8400 (11.424 sec)\n",
      "INFO:tensorflow:global_step/sec: 8.75113\n",
      "INFO:tensorflow:loss = 0.0025287182, step = 8500 (11.428 sec)\n",
      "INFO:tensorflow:global_step/sec: 8.79071\n",
      "INFO:tensorflow:loss = 0.0025286665, step = 8600 (11.375 sec)\n",
      "INFO:tensorflow:global_step/sec: 8.731\n",
      "INFO:tensorflow:loss = 0.002528622, step = 8700 (11.455 sec)\n",
      "INFO:tensorflow:global_step/sec: 8.70769\n",
      "INFO:tensorflow:loss = 0.0025285701, step = 8800 (11.483 sec)\n",
      "INFO:tensorflow:global_step/sec: 8.75134\n",
      "INFO:tensorflow:loss = 0.0025285168, step = 8900 (11.427 sec)\n",
      "INFO:tensorflow:global_step/sec: 8.82359\n",
      "INFO:tensorflow:loss = 0.002528465, step = 9000 (11.333 sec)\n",
      "INFO:tensorflow:global_step/sec: 8.7686\n",
      "INFO:tensorflow:loss = 0.0025284537, step = 9100 (11.406 sec)\n",
      "INFO:tensorflow:global_step/sec: 8.77519\n",
      "INFO:tensorflow:loss = 0.0025284388, step = 9200 (11.395 sec)\n",
      "INFO:tensorflow:global_step/sec: 8.73481\n",
      "INFO:tensorflow:loss = 0.0025284276, step = 9300 (11.449 sec)\n",
      "INFO:tensorflow:global_step/sec: 8.7491\n",
      "INFO:tensorflow:loss = 0.0025284188, step = 9400 (11.430 sec)\n",
      "INFO:tensorflow:global_step/sec: 8.72177\n",
      "INFO:tensorflow:loss = 0.002528417, step = 9500 (11.466 sec)\n",
      "INFO:tensorflow:global_step/sec: 8.74901\n",
      "INFO:tensorflow:loss = 0.0025284002, step = 9600 (11.429 sec)\n",
      "INFO:tensorflow:global_step/sec: 8.76023\n",
      "INFO:tensorflow:loss = 0.0025284002, step = 9700 (11.417 sec)\n",
      "INFO:tensorflow:global_step/sec: 8.70226\n",
      "INFO:tensorflow:loss = 0.002528389, step = 9800 (11.490 sec)\n",
      "INFO:tensorflow:global_step/sec: 8.67736\n",
      "INFO:tensorflow:loss = 0.0025283704, step = 9900 (11.524 sec)\n",
      "INFO:tensorflow:global_step/sec: 8.80498\n",
      "INFO:tensorflow:loss = 0.0025283613, step = 10000 (11.358 sec)\n",
      "INFO:tensorflow:global_step/sec: 8.75299\n",
      "INFO:tensorflow:loss = 0.0025283576, step = 10100 (11.425 sec)\n",
      "INFO:tensorflow:global_step/sec: 8.73153\n",
      "INFO:tensorflow:loss = 0.0025283576, step = 10200 (11.452 sec)\n",
      "INFO:tensorflow:global_step/sec: 8.74345\n",
      "INFO:tensorflow:loss = 0.002528352, step = 10300 (11.439 sec)\n",
      "INFO:tensorflow:global_step/sec: 8.73103\n",
      "INFO:tensorflow:loss = 0.00252835, step = 10400 (11.454 sec)\n",
      "INFO:tensorflow:global_step/sec: 8.72866\n",
      "INFO:tensorflow:loss = 0.0025283464, step = 10500 (11.455 sec)\n",
      "INFO:tensorflow:global_step/sec: 8.76376\n",
      "INFO:tensorflow:loss = 0.002528339, step = 10600 (11.412 sec)\n",
      "INFO:tensorflow:Saving checkpoints for 10678 into ./ckpts_22_5_1conv_1dense_100examples/model.ckpt.\n",
      "INFO:tensorflow:global_step/sec: 8.69472\n",
      "INFO:tensorflow:loss = 0.0025283333, step = 10700 (11.500 sec)\n",
      "INFO:tensorflow:global_step/sec: 8.78098\n",
      "INFO:tensorflow:loss = 0.002528339, step = 10800 (11.388 sec)\n",
      "INFO:tensorflow:global_step/sec: 8.76494\n",
      "INFO:tensorflow:loss = 0.002528337, step = 10900 (11.411 sec)\n",
      "INFO:tensorflow:global_step/sec: 8.76352\n",
      "INFO:tensorflow:loss = 0.0025283315, step = 11000 (11.410 sec)\n",
      "INFO:tensorflow:global_step/sec: 8.73971\n",
      "INFO:tensorflow:loss = 0.0025283315, step = 11100 (11.441 sec)\n",
      "INFO:tensorflow:global_step/sec: 8.75134\n",
      "INFO:tensorflow:loss = 0.0025283352, step = 11200 (11.427 sec)\n",
      "INFO:tensorflow:global_step/sec: 8.78142\n",
      "INFO:tensorflow:loss = 0.0025283315, step = 11300 (11.387 sec)\n",
      "INFO:tensorflow:global_step/sec: 8.76637\n",
      "INFO:tensorflow:loss = 0.0025283333, step = 11400 (11.408 sec)\n",
      "INFO:tensorflow:global_step/sec: 8.78002\n",
      "INFO:tensorflow:loss = 0.0025283333, step = 11500 (11.391 sec)\n",
      "INFO:tensorflow:global_step/sec: 8.73007\n",
      "INFO:tensorflow:loss = 0.0025283315, step = 11600 (11.454 sec)\n",
      "INFO:tensorflow:global_step/sec: 8.85337\n",
      "INFO:tensorflow:loss = 0.0025283315, step = 11700 (11.296 sec)\n",
      "INFO:tensorflow:global_step/sec: 8.7547\n",
      "INFO:tensorflow:loss = 0.002528326, step = 11800 (11.422 sec)\n",
      "INFO:tensorflow:global_step/sec: 8.77832\n",
      "INFO:tensorflow:loss = 0.002528326, step = 11900 (11.391 sec)\n",
      "INFO:tensorflow:global_step/sec: 8.72653\n",
      "INFO:tensorflow:loss = 0.0025283296, step = 12000 (11.459 sec)\n",
      "INFO:tensorflow:global_step/sec: 8.78601\n",
      "INFO:tensorflow:loss = 0.0025283278, step = 12100 (11.382 sec)\n",
      "INFO:tensorflow:global_step/sec: 8.78875\n",
      "INFO:tensorflow:loss = 0.0025283296, step = 12200 (11.378 sec)\n",
      "INFO:tensorflow:global_step/sec: 8.76584\n",
      "INFO:tensorflow:loss = 0.0025283278, step = 12300 (11.409 sec)\n",
      "INFO:tensorflow:global_step/sec: 8.76306\n",
      "INFO:tensorflow:loss = 0.0025283278, step = 12400 (11.411 sec)\n",
      "INFO:tensorflow:global_step/sec: 8.77991\n",
      "INFO:tensorflow:loss = 0.0025283278, step = 12500 (11.390 sec)\n",
      "INFO:tensorflow:global_step/sec: 8.8113\n",
      "INFO:tensorflow:loss = 0.0025283296, step = 12600 (11.350 sec)\n",
      "INFO:tensorflow:global_step/sec: 8.85966\n",
      "INFO:tensorflow:loss = 0.0025283278, step = 12700 (11.287 sec)\n",
      "INFO:tensorflow:global_step/sec: 8.74699\n",
      "INFO:tensorflow:loss = 0.0025283278, step = 12800 (11.433 sec)\n",
      "INFO:tensorflow:global_step/sec: 8.77425\n",
      "INFO:tensorflow:loss = 0.0025283296, step = 12900 (11.395 sec)\n",
      "INFO:tensorflow:global_step/sec: 8.74917\n",
      "INFO:tensorflow:loss = 0.0025283278, step = 13000 (11.430 sec)\n",
      "INFO:tensorflow:global_step/sec: 8.74564\n",
      "INFO:tensorflow:loss = 0.0025283278, step = 13100 (11.434 sec)\n",
      "INFO:tensorflow:global_step/sec: 8.74293\n",
      "INFO:tensorflow:loss = 0.002528326, step = 13200 (11.439 sec)\n",
      "INFO:tensorflow:global_step/sec: 8.79021\n",
      "INFO:tensorflow:loss = 0.002528326, step = 13300 (11.376 sec)\n",
      "INFO:tensorflow:global_step/sec: 8.75506\n",
      "INFO:tensorflow:loss = 0.002528326, step = 13400 (11.421 sec)\n",
      "INFO:tensorflow:global_step/sec: 8.76064\n",
      "INFO:tensorflow:loss = 0.0025283278, step = 13500 (11.416 sec)\n",
      "INFO:tensorflow:global_step/sec: 8.79247\n",
      "INFO:tensorflow:loss = 0.0025283278, step = 13600 (11.374 sec)\n",
      "INFO:tensorflow:global_step/sec: 8.7302\n",
      "INFO:tensorflow:loss = 0.0025283278, step = 13700 (11.454 sec)\n",
      "INFO:tensorflow:global_step/sec: 8.71583\n",
      "INFO:tensorflow:loss = 0.0025283278, step = 13800 (11.473 sec)\n",
      "INFO:tensorflow:global_step/sec: 8.77847\n",
      "INFO:tensorflow:loss = 0.0025283278, step = 13900 (11.392 sec)\n",
      "INFO:tensorflow:global_step/sec: 8.76722\n",
      "INFO:tensorflow:loss = 0.0025283278, step = 14000 (11.405 sec)\n",
      "INFO:tensorflow:global_step/sec: 8.84609\n",
      "INFO:tensorflow:loss = 0.0025283278, step = 14100 (11.306 sec)\n",
      "INFO:tensorflow:global_step/sec: 8.78396\n",
      "INFO:tensorflow:loss = 0.0025283296, step = 14200 (11.383 sec)\n",
      "INFO:tensorflow:global_step/sec: 8.87045\n",
      "INFO:tensorflow:loss = 0.0025283296, step = 14300 (11.275 sec)\n",
      "INFO:tensorflow:global_step/sec: 8.78165\n",
      "INFO:tensorflow:loss = 0.0025283296, step = 14400 (11.387 sec)\n",
      "INFO:tensorflow:global_step/sec: 8.70798\n",
      "INFO:tensorflow:loss = 0.0025283296, step = 14500 (11.483 sec)\n",
      "INFO:tensorflow:global_step/sec: 8.74221\n",
      "INFO:tensorflow:loss = 0.0025283296, step = 14600 (11.439 sec)\n",
      "INFO:tensorflow:global_step/sec: 8.76279\n",
      "INFO:tensorflow:loss = 0.0025283278, step = 14700 (11.412 sec)\n",
      "INFO:tensorflow:global_step/sec: 8.73842\n",
      "INFO:tensorflow:loss = 0.0025283278, step = 14800 (11.444 sec)\n",
      "INFO:tensorflow:global_step/sec: 8.7383\n",
      "INFO:tensorflow:loss = 0.0025283278, step = 14900 (11.444 sec)\n",
      "INFO:tensorflow:global_step/sec: 8.74872\n",
      "INFO:tensorflow:loss = 0.0025283278, step = 15000 (11.429 sec)\n",
      "INFO:tensorflow:global_step/sec: 8.73441\n",
      "INFO:tensorflow:loss = 0.0025283278, step = 15100 (11.449 sec)\n",
      "INFO:tensorflow:global_step/sec: 8.75798\n",
      "INFO:tensorflow:loss = 0.0025283278, step = 15200 (11.418 sec)\n",
      "INFO:tensorflow:global_step/sec: 8.75017\n",
      "INFO:tensorflow:loss = 0.0025283278, step = 15300 (11.430 sec)\n"
     ]
    },
    {
     "name": "stdout",
     "output_type": "stream",
     "text": [
      "INFO:tensorflow:global_step/sec: 8.7917\n",
      "INFO:tensorflow:loss = 0.0025283278, step = 15400 (11.375 sec)\n",
      "INFO:tensorflow:global_step/sec: 8.78154\n",
      "INFO:tensorflow:loss = 0.0025283278, step = 15500 (11.387 sec)\n",
      "INFO:tensorflow:global_step/sec: 8.77518\n",
      "INFO:tensorflow:loss = 0.0025283278, step = 15600 (11.395 sec)\n",
      "INFO:tensorflow:global_step/sec: 8.75323\n",
      "INFO:tensorflow:loss = 0.0025283278, step = 15700 (11.424 sec)\n",
      "INFO:tensorflow:global_step/sec: 8.75031\n",
      "INFO:tensorflow:loss = 0.0025283278, step = 15800 (11.430 sec)\n",
      "INFO:tensorflow:global_step/sec: 8.72162\n",
      "INFO:tensorflow:loss = 0.0025283278, step = 15900 (11.464 sec)\n",
      "INFO:tensorflow:Saving checkpoints for 15938 into ./ckpts_22_5_1conv_1dense_100examples/model.ckpt.\n",
      "INFO:tensorflow:global_step/sec: 8.6251\n",
      "INFO:tensorflow:loss = 0.0025283278, step = 16000 (11.594 sec)\n",
      "INFO:tensorflow:global_step/sec: 8.64355\n",
      "INFO:tensorflow:loss = 0.0025283278, step = 16100 (11.572 sec)\n",
      "INFO:tensorflow:global_step/sec: 8.7372\n",
      "INFO:tensorflow:loss = 0.0025283278, step = 16200 (11.444 sec)\n",
      "INFO:tensorflow:global_step/sec: 8.75344\n",
      "INFO:tensorflow:loss = 0.0025283278, step = 16300 (11.425 sec)\n",
      "INFO:tensorflow:global_step/sec: 8.73774\n",
      "INFO:tensorflow:loss = 0.0025283278, step = 16400 (11.443 sec)\n",
      "INFO:tensorflow:global_step/sec: 8.75069\n",
      "INFO:tensorflow:loss = 0.0025283278, step = 16500 (11.429 sec)\n",
      "INFO:tensorflow:global_step/sec: 8.74343\n",
      "INFO:tensorflow:loss = 0.0025283278, step = 16600 (11.436 sec)\n",
      "INFO:tensorflow:global_step/sec: 8.74403\n",
      "INFO:tensorflow:loss = 0.0025283278, step = 16700 (11.437 sec)\n",
      "INFO:tensorflow:global_step/sec: 8.77851\n",
      "INFO:tensorflow:loss = 0.0025283278, step = 16800 (11.391 sec)\n",
      "INFO:tensorflow:global_step/sec: 8.76033\n",
      "INFO:tensorflow:loss = 0.0025283278, step = 16900 (11.415 sec)\n",
      "INFO:tensorflow:global_step/sec: 8.73792\n",
      "INFO:tensorflow:loss = 0.0025283278, step = 17000 (11.446 sec)\n",
      "INFO:tensorflow:global_step/sec: 8.7603\n",
      "INFO:tensorflow:loss = 0.0025283278, step = 17100 (11.413 sec)\n",
      "INFO:tensorflow:global_step/sec: 8.7434\n",
      "INFO:tensorflow:loss = 0.0025283278, step = 17200 (11.438 sec)\n",
      "INFO:tensorflow:global_step/sec: 8.77426\n",
      "INFO:tensorflow:loss = 0.0025283278, step = 17300 (11.397 sec)\n",
      "INFO:tensorflow:global_step/sec: 8.74692\n",
      "INFO:tensorflow:loss = 0.0025283278, step = 17400 (11.434 sec)\n",
      "INFO:tensorflow:global_step/sec: 8.72457\n",
      "INFO:tensorflow:loss = 0.0025283278, step = 17500 (11.462 sec)\n",
      "INFO:tensorflow:global_step/sec: 8.67839\n",
      "INFO:tensorflow:loss = 0.0025283278, step = 17600 (11.521 sec)\n",
      "INFO:tensorflow:global_step/sec: 8.69939\n",
      "INFO:tensorflow:loss = 0.0025283278, step = 17700 (11.495 sec)\n",
      "INFO:tensorflow:global_step/sec: 8.75299\n",
      "INFO:tensorflow:loss = 0.0025283278, step = 17800 (11.424 sec)\n",
      "INFO:tensorflow:global_step/sec: 8.74037\n",
      "INFO:tensorflow:loss = 0.0025283278, step = 17900 (11.442 sec)\n",
      "INFO:tensorflow:global_step/sec: 8.74019\n",
      "INFO:tensorflow:loss = 0.0025283278, step = 18000 (11.441 sec)\n",
      "INFO:tensorflow:global_step/sec: 8.81115\n",
      "INFO:tensorflow:loss = 0.0025283278, step = 18100 (11.349 sec)\n",
      "INFO:tensorflow:global_step/sec: 8.68818\n",
      "INFO:tensorflow:loss = 0.0025283278, step = 18200 (11.510 sec)\n",
      "INFO:tensorflow:global_step/sec: 8.71368\n",
      "INFO:tensorflow:loss = 0.0025283278, step = 18300 (11.477 sec)\n",
      "INFO:tensorflow:global_step/sec: 8.69071\n",
      "INFO:tensorflow:loss = 0.0025283278, step = 18400 (11.507 sec)\n",
      "INFO:tensorflow:global_step/sec: 8.68528\n",
      "INFO:tensorflow:loss = 0.0025283278, step = 18500 (11.512 sec)\n",
      "INFO:tensorflow:global_step/sec: 8.67028\n",
      "INFO:tensorflow:loss = 0.0025283278, step = 18600 (11.535 sec)\n",
      "INFO:tensorflow:global_step/sec: 8.62389\n",
      "INFO:tensorflow:loss = 0.0025283278, step = 18700 (11.595 sec)\n",
      "INFO:tensorflow:global_step/sec: 8.71129\n",
      "INFO:tensorflow:loss = 0.0025283278, step = 18800 (11.480 sec)\n",
      "INFO:tensorflow:global_step/sec: 8.62403\n",
      "INFO:tensorflow:loss = 0.0025283278, step = 18900 (11.596 sec)\n",
      "INFO:tensorflow:global_step/sec: 8.66508\n",
      "INFO:tensorflow:loss = 0.0025283278, step = 19000 (11.541 sec)\n",
      "INFO:tensorflow:global_step/sec: 8.79264\n",
      "INFO:tensorflow:loss = 0.0025283278, step = 19100 (11.373 sec)\n",
      "INFO:tensorflow:global_step/sec: 8.73594\n",
      "INFO:tensorflow:loss = 0.0025283278, step = 19200 (11.446 sec)\n",
      "INFO:tensorflow:global_step/sec: 8.72581\n",
      "INFO:tensorflow:loss = 0.0025283278, step = 19300 (11.462 sec)\n",
      "INFO:tensorflow:global_step/sec: 8.71761\n",
      "INFO:tensorflow:loss = 0.0025283278, step = 19400 (11.469 sec)\n",
      "INFO:tensorflow:global_step/sec: 8.68079\n",
      "INFO:tensorflow:loss = 0.0025283278, step = 19500 (11.521 sec)\n",
      "INFO:tensorflow:global_step/sec: 8.73108\n",
      "INFO:tensorflow:loss = 0.0025283278, step = 19600 (11.454 sec)\n",
      "INFO:tensorflow:global_step/sec: 8.69331\n",
      "INFO:tensorflow:loss = 0.0025283278, step = 19700 (11.502 sec)\n",
      "INFO:tensorflow:global_step/sec: 8.74633\n",
      "INFO:tensorflow:loss = 0.0025283278, step = 19800 (11.434 sec)\n",
      "INFO:tensorflow:global_step/sec: 8.73717\n",
      "INFO:tensorflow:loss = 0.0025283278, step = 19900 (11.446 sec)\n",
      "INFO:tensorflow:Saving checkpoints for 20000 into ./ckpts_22_5_1conv_1dense_100examples/model.ckpt.\n",
      "INFO:tensorflow:Loss for final step: 0.002329631.\n"
     ]
    },
    {
     "data": {
      "text/plain": [
       "<tensorflow.python.estimator.estimator.Estimator at 0x7fbe76837cf8>"
      ]
     },
     "execution_count": 22,
     "metadata": {},
     "output_type": "execute_result"
    }
   ],
   "source": [
    "model.train(input_fn=train_input_fn, steps=20000)"
   ]
  },
  {
   "cell_type": "code",
   "execution_count": 115,
   "metadata": {},
   "outputs": [],
   "source": [
    "###DONE TRAIN###"
   ]
  },
  {
   "cell_type": "code",
   "execution_count": null,
   "metadata": {},
   "outputs": [],
   "source": [
    "#VAL:"
   ]
  },
  {
   "cell_type": "code",
   "execution_count": 30,
   "metadata": {},
   "outputs": [],
   "source": [
    "tfrec_val_batch_size=1"
   ]
  },
  {
   "cell_type": "code",
   "execution_count": 31,
   "metadata": {},
   "outputs": [],
   "source": [
    "tfrec_val_directory = os.path.join('..','datasets','stixels','val','tfrec_batch_size_'+str(tfrec_val_batch_size)+'_percent_'+str(percent))"
   ]
  },
  {
   "cell_type": "code",
   "execution_count": 32,
   "metadata": {},
   "outputs": [],
   "source": [
    "path_tfrecords_val_lst=[]\n",
    "path_tfrecords_val = os.path.join(img_path, 'val')\n",
    "for root, dirs, files in os.walk(tfrec_val_directory):\n",
    "    for file in files:\n",
    "        if '.tfrecord' in file:\n",
    "            path_tfrecords_val_lst.append(os.path.join(tfrec_val_directory,file))\n",
    "        else:\n",
    "            print('WARNING: file ' + file + 'looks suspicious. does it belong here?')"
   ]
  },
  {
   "cell_type": "code",
   "execution_count": 33,
   "metadata": {},
   "outputs": [],
   "source": [
    "def val_input_fn():\n",
    "    return input_fn(path_tfrecords_val_lst[7000:8500], train=False) "
   ]
  },
  {
   "cell_type": "code",
   "execution_count": 34,
   "metadata": {},
   "outputs": [
    {
     "name": "stdout",
     "output_type": "stream",
     "text": [
      "(TensorShape([Dimension(64), Dimension(None), Dimension(None), Dimension(3)]), TensorShape([Dimension(64)]))\n",
      "INFO:tensorflow:Calling model_fn.\n",
      "INFO:tensorflow:Done calling model_fn.\n",
      "INFO:tensorflow:Starting evaluation at 2018-05-25-08:48:48\n",
      "INFO:tensorflow:Graph was finalized.\n",
      "INFO:tensorflow:Restoring parameters from ./ckpts_22_5_1conv_1dense_100examples/model.ckpt-20000\n",
      "INFO:tensorflow:Running local_init_op.\n",
      "INFO:tensorflow:Done running local_init_op.\n",
      "INFO:tensorflow:Finished evaluation at 2018-05-25-08:48:51\n",
      "INFO:tensorflow:Saving dict for global step 20000: accuracy = 0.04144022, global_step = 20000, loss = 15.089501\n"
     ]
    }
   ],
   "source": [
    "val_result = model.evaluate(input_fn=val_input_fn) "
   ]
  },
  {
   "cell_type": "code",
   "execution_count": 35,
   "metadata": {},
   "outputs": [
    {
     "data": {
      "text/plain": [
       "{'accuracy': 0.04144022, 'global_step': 20000, 'loss': 15.089501}"
      ]
     },
     "execution_count": 35,
     "metadata": {},
     "output_type": "execute_result"
    }
   ],
   "source": [
    "val_result"
   ]
  },
  {
   "cell_type": "code",
   "execution_count": 36,
   "metadata": {},
   "outputs": [
    {
     "name": "stdout",
     "output_type": "stream",
     "text": [
      "Classification val accuracy: 4.14%\n"
     ]
    }
   ],
   "source": [
    "print(\"Classification val accuracy: {0:.2%}\".format(val_result[\"accuracy\"]))"
   ]
  },
  {
   "cell_type": "code",
   "execution_count": null,
   "metadata": {},
   "outputs": [],
   "source": [
    "#TEST:"
   ]
  },
  {
   "cell_type": "code",
   "execution_count": 104,
   "metadata": {},
   "outputs": [],
   "source": [
    "tfrec_test_batch_size=1"
   ]
  },
  {
   "cell_type": "code",
   "execution_count": 105,
   "metadata": {},
   "outputs": [],
   "source": [
    "tfrec_test_directory = os.path.join('..','datasets','stixels','test','tfrec_batch_size_'+str(tfrec_test_batch_size))"
   ]
  },
  {
   "cell_type": "code",
   "execution_count": 106,
   "metadata": {},
   "outputs": [],
   "source": [
    "path_tfrecords_test_lst=[]\n",
    "path_tfrecords_test = os.path.join(img_path, 'test')\n",
    "for root, dirs, files in os.walk(tfrec_test_directory):\n",
    "    for file in files:\n",
    "        if '.tfrecord' in file:\n",
    "            path_tfrecords_test_lst.append(os.path.join(tfrec_test_directory,file))\n",
    "        else:\n",
    "            print('WARNING: file ' + file + 'looks suspicious. does it belong here?')"
   ]
  },
  {
   "cell_type": "code",
   "execution_count": 107,
   "metadata": {},
   "outputs": [],
   "source": [
    "def test_input_fn():\n",
    "    return input_fn(filenames=path_tfrecords_test_lst[1000:3000], train=False)"
   ]
  },
  {
   "cell_type": "code",
   "execution_count": 108,
   "metadata": {},
   "outputs": [
    {
     "name": "stdout",
     "output_type": "stream",
     "text": [
      "INFO:tensorflow:Calling model_fn.\n",
      "INFO:tensorflow:Done calling model_fn.\n",
      "INFO:tensorflow:Starting evaluation at 2018-05-22-07:33:49\n",
      "INFO:tensorflow:Graph was finalized.\n",
      "INFO:tensorflow:Restoring parameters from ./ckpts_15_5_decay_xavier_grad_decsent_example7/model.ckpt-24001\n",
      "INFO:tensorflow:Running local_init_op.\n",
      "INFO:tensorflow:Done running local_init_op.\n",
      "INFO:tensorflow:Finished evaluation at 2018-05-22-07:34:22\n",
      "INFO:tensorflow:Saving dict for global step 24001: accuracy = 0.1155, global_step = 24001, loss = 4.1837482\n"
     ]
    }
   ],
   "source": [
    "test_result = model.evaluate(input_fn=test_input_fn)"
   ]
  },
  {
   "cell_type": "code",
   "execution_count": 109,
   "metadata": {},
   "outputs": [
    {
     "name": "stdout",
     "output_type": "stream",
     "text": [
      "Classification test accuracy: 11.55%\n"
     ]
    }
   ],
   "source": [
    "print(\"Classification test accuracy: {0:.2%}\".format(test_result[\"accuracy\"]))"
   ]
  },
  {
   "cell_type": "code",
   "execution_count": null,
   "metadata": {},
   "outputs": [],
   "source": [
    "#PRED:"
   ]
  },
  {
   "cell_type": "code",
   "execution_count": 38,
   "metadata": {},
   "outputs": [],
   "source": [
    "sum_csv_test_path = os.path.join(img_path,'train', 'sum_csv') #TEST\n",
    "labels_test=pd.read_csv(os.path.join(sum_csv_test_path,'labels_train_'+str(percent)+'percent.csv'))\n",
    "test_names_list=list(labels_test['Name'])\n",
    "image_paths_test=[]\n",
    "for name in test_names_list:\n",
    "    image_paths_test.append(os.path.join(img_path, 'train', name+'.png')) #maybe no need to add '.png'\n"
   ]
  },
  {
   "cell_type": "code",
   "execution_count": 39,
   "metadata": {},
   "outputs": [],
   "source": [
    "def load_images(image_paths):\n",
    "    # Load the images from disk.\n",
    "    images = [imread(path) for path in image_paths]\n",
    "    # Convert to a numpy array and return it.\n",
    "    return np.asarray(images)\n"
   ]
  },
  {
   "cell_type": "code",
   "execution_count": 40,
   "metadata": {},
   "outputs": [],
   "source": [
    "##TODO:SHUFFLE!\n",
    "some_num=100\n",
    "some_images = load_images(image_paths=image_paths_test[0:0+some_num])\n",
    "some_images_cls = np.array(labels_test['Label'])"
   ]
  },
  {
   "cell_type": "code",
   "execution_count": 41,
   "metadata": {},
   "outputs": [],
   "source": [
    "predict_input_fn = tf.estimator.inputs.numpy_input_fn(\n",
    "    x={\"image\": some_images.astype(np.float32)},\n",
    "    num_epochs=1,\n",
    "    shuffle=False)"
   ]
  },
  {
   "cell_type": "code",
   "execution_count": 42,
   "metadata": {},
   "outputs": [],
   "source": [
    "predictions = model.predict(input_fn=predict_input_fn) "
   ]
  },
  {
   "cell_type": "code",
   "execution_count": 43,
   "metadata": {},
   "outputs": [
    {
     "name": "stdout",
     "output_type": "stream",
     "text": [
      "INFO:tensorflow:Calling model_fn.\n",
      "INFO:tensorflow:Done calling model_fn.\n",
      "INFO:tensorflow:Graph was finalized.\n",
      "INFO:tensorflow:Restoring parameters from ./ckpts_22_5_1conv_1dense_4examples/model.ckpt-10649\n",
      "INFO:tensorflow:Running local_init_op.\n",
      "INFO:tensorflow:Done running local_init_op.\n"
     ]
    },
    {
     "data": {
      "text/plain": [
       "array([[0.01173844, 0.02670282, 0.00659254, ..., 0.01886446, 0.02820454,\n",
       "        0.03022418],\n",
       "       [0.01164605, 0.02677397, 0.00646833, ..., 0.01912687, 0.02771651,\n",
       "        0.03033716],\n",
       "       [0.0114068 , 0.02712762, 0.00640529, ..., 0.019169  , 0.02678959,\n",
       "        0.0310404 ],\n",
       "       ...,\n",
       "       [0.01041822, 0.02845204, 0.00574676, ..., 0.0181485 , 0.0275079 ,\n",
       "        0.03119214],\n",
       "       [0.01022478, 0.02874675, 0.00587737, ..., 0.01858109, 0.02821582,\n",
       "        0.0311498 ],\n",
       "       [0.01039221, 0.02890631, 0.00591503, ..., 0.01886374, 0.02799399,\n",
       "        0.03109998]], dtype=float32)"
      ]
     },
     "execution_count": 43,
     "metadata": {},
     "output_type": "execute_result"
    }
   ],
   "source": [
    "cls_pred = np.array(list(predictions))\n",
    "cls_pred "
   ]
  },
  {
   "cell_type": "code",
   "execution_count": 44,
   "metadata": {},
   "outputs": [
    {
     "data": {
      "text/plain": [
       "(100, 47)"
      ]
     },
     "execution_count": 44,
     "metadata": {},
     "output_type": "execute_result"
    }
   ],
   "source": [
    "cls_pred.shape"
   ]
  },
  {
   "cell_type": "code",
   "execution_count": 45,
   "metadata": {},
   "outputs": [
    {
     "data": {
      "text/plain": [
       "array([[0.01173844, 0.02670282, 0.00659254, ..., 0.01886446, 0.02820454,\n",
       "        0.03022418],\n",
       "       [0.01164605, 0.02677397, 0.00646833, ..., 0.01912687, 0.02771651,\n",
       "        0.03033716],\n",
       "       [0.0114068 , 0.02712762, 0.00640529, ..., 0.019169  , 0.02678959,\n",
       "        0.0310404 ],\n",
       "       ...,\n",
       "       [0.01041822, 0.02845204, 0.00574676, ..., 0.0181485 , 0.0275079 ,\n",
       "        0.03119214],\n",
       "       [0.01022478, 0.02874675, 0.00587737, ..., 0.01858109, 0.02821582,\n",
       "        0.0311498 ],\n",
       "       [0.01039221, 0.02890631, 0.00591503, ..., 0.01886374, 0.02799399,\n",
       "        0.03109998]], dtype=float32)"
      ]
     },
     "execution_count": 45,
     "metadata": {},
     "output_type": "execute_result"
    }
   ],
   "source": [
    "cls_pred"
   ]
  },
  {
   "cell_type": "code",
   "execution_count": 46,
   "metadata": {},
   "outputs": [
    {
     "data": {
      "text/plain": [
       "(array([ 52, 107, 108,  75, 150, 154, 159, 263, 344, 371, 133, 216, 256,\n",
       "        234, 292, 180,  95, 162, 283, 281, 250,  78,  52,  47,  52,  44,\n",
       "         54,  37,  31,  17,  19,  13,  16,   9,   7,  12,   2,  14,   6,\n",
       "          8,   5,   3,   1,   2,   1,   2,   3]),\n",
       " array([0.00291326, 0.00426659, 0.00561992, 0.00697324, 0.00832657,\n",
       "        0.0096799 , 0.01103322, 0.01238655, 0.01373988, 0.0150932 ,\n",
       "        0.01644653, 0.01779986, 0.01915318, 0.02050651, 0.02185984,\n",
       "        0.02321316, 0.02456649, 0.02591982, 0.02727314, 0.02862647,\n",
       "        0.0299798 , 0.03133312, 0.03268645, 0.03403978, 0.0353931 ,\n",
       "        0.03674643, 0.03809976, 0.03945308, 0.04080641, 0.04215974,\n",
       "        0.04351306, 0.04486639, 0.04621972, 0.04757304, 0.04892637,\n",
       "        0.0502797 , 0.05163302, 0.05298635, 0.05433968, 0.055693  ,\n",
       "        0.05704633, 0.05839966, 0.05975298, 0.06110631, 0.06245964,\n",
       "        0.06381296, 0.06516629, 0.06651962]))"
      ]
     },
     "execution_count": 46,
     "metadata": {},
     "output_type": "execute_result"
    }
   ],
   "source": [
    "np.histogram(cls_pred, bins=47)"
   ]
  },
  {
   "cell_type": "code",
   "execution_count": 47,
   "metadata": {},
   "outputs": [
    {
     "data": {
      "text/plain": [
       "array([0.01013887, 0.02969489, 0.0061564 , 0.02119487, 0.01757099,\n",
       "       0.02901325, 0.03026538, 0.02745966, 0.02374774, 0.0297063 ,\n",
       "       0.02675543, 0.03371446, 0.02226516, 0.01580071, 0.01447017,\n",
       "       0.03927152, 0.01527348, 0.00865516, 0.04348044, 0.04089904,\n",
       "       0.02201671, 0.01601022, 0.02277997, 0.01496616, 0.01107511,\n",
       "       0.01454198, 0.02906439, 0.00800654, 0.01769709, 0.02235518,\n",
       "       0.0306834 , 0.02337936, 0.01381616, 0.02831054, 0.01072191,\n",
       "       0.00529775, 0.01853069, 0.01654931, 0.01888733, 0.02299123,\n",
       "       0.01493914, 0.01928054, 0.01303973, 0.02092779, 0.01887416,\n",
       "       0.02674274, 0.03298091], dtype=float32)"
      ]
     },
     "execution_count": 47,
     "metadata": {},
     "output_type": "execute_result"
    }
   ],
   "source": [
    "cls_pred[11]"
   ]
  },
  {
   "cell_type": "code",
   "execution_count": 48,
   "metadata": {},
   "outputs": [],
   "source": [
    "y_pred_cls = tf.argmax(cls_pred, axis=1) "
   ]
  },
  {
   "cell_type": "code",
   "execution_count": 49,
   "metadata": {},
   "outputs": [
    {
     "data": {
      "text/plain": [
       "<tf.Tensor 'ArgMax:0' shape=(100,) dtype=int64>"
      ]
     },
     "execution_count": 49,
     "metadata": {},
     "output_type": "execute_result"
    }
   ],
   "source": [
    "y_pred_cls"
   ]
  },
  {
   "cell_type": "code",
   "execution_count": 50,
   "metadata": {},
   "outputs": [
    {
     "name": "stdout",
     "output_type": "stream",
     "text": [
      "[18 18 18 18 18 18 18 18 18 18 18 18 19 19 18 18 18 18 18 18 18 18 18 18\n",
      " 18 18 18 18 18 18 18 18 18 18 18 18 18 18 15 19 19 19 19 18 18 18 18 18\n",
      " 18 18 18 18 18 18 18 18 19 19 18 18 18 18 18 18 18 18 18 18 18 18 18 18\n",
      " 18 18 18 18 18 18 18 18 18 18 18 18 18 19 19 19 19 19 18 18 18 18 18 18\n",
      " 18 18 18 18]\n"
     ]
    }
   ],
   "source": [
    "init_op = tf.initialize_all_variables()\n",
    "with tf.Session() as sess:\n",
    "        sess.run(init_op)\n",
    "        print (sess.run(y_pred_cls))"
   ]
  },
  {
   "cell_type": "code",
   "execution_count": null,
   "metadata": {},
   "outputs": [],
   "source": []
  }
 ],
 "metadata": {
  "kernelspec": {
   "display_name": "Python 3",
   "language": "python",
   "name": "python3"
  },
  "language_info": {
   "codemirror_mode": {
    "name": "ipython",
    "version": 3
   },
   "file_extension": ".py",
   "mimetype": "text/x-python",
   "name": "python",
   "nbconvert_exporter": "python",
   "pygments_lexer": "ipython3",
   "version": "3.6.4"
  }
 },
 "nbformat": 4,
 "nbformat_minor": 1
}
