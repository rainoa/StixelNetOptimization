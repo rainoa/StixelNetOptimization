{
 "cells": [
  {
   "cell_type": "code",
   "execution_count": null,
   "metadata": {
    "collapsed": true
   },
   "outputs": [],
   "source": [
    "########now part 2: decode and train#######"
   ]
  },
  {
   "cell_type": "code",
   "execution_count": 1,
   "metadata": {},
   "outputs": [
    {
     "name": "stderr",
     "output_type": "stream",
     "text": [
      "/home/shared/anaconda3/lib/python3.6/site-packages/h5py/__init__.py:36: FutureWarning: Conversion of the second argument of issubdtype from `float` to `np.floating` is deprecated. In future, it will be treated as `np.float64 == np.dtype(float).type`.\n",
      "  from ._conv import register_converters as _register_converters\n"
     ]
    },
    {
     "name": "stdout",
     "output_type": "stream",
     "text": [
      "[name: \"/device:CPU:0\"\n",
      "device_type: \"CPU\"\n",
      "memory_limit: 268435456\n",
      "locality {\n",
      "}\n",
      "incarnation: 18249145704405935846\n",
      ", name: \"/device:GPU:0\"\n",
      "device_type: \"GPU\"\n",
      "memory_limit: 11271654605\n",
      "locality {\n",
      "  bus_id: 1\n",
      "  links {\n",
      "  }\n",
      "}\n",
      "incarnation: 6006741035697028231\n",
      "physical_device_desc: \"device: 0, name: Tesla K80, pci bus id: 0000:00:04.0, compute capability: 3.7\"\n",
      "]\n"
     ]
    }
   ],
   "source": [
    "from tensorflow.python.client import device_lib\n",
    "print(device_lib.list_local_devices())"
   ]
  },
  {
   "cell_type": "code",
   "execution_count": 1,
   "metadata": {},
   "outputs": [
    {
     "name": "stderr",
     "output_type": "stream",
     "text": [
      "/home/shared/anaconda3/lib/python3.6/site-packages/h5py/__init__.py:36: FutureWarning: Conversion of the second argument of issubdtype from `float` to `np.floating` is deprecated. In future, it will be treated as `np.float64 == np.dtype(float).type`.\n",
      "  from ._conv import register_converters as _register_converters\n"
     ]
    },
    {
     "name": "stdout",
     "output_type": "stream",
     "text": [
      "WARNING:tensorflow:From /home/shared/anaconda3/lib/python3.6/site-packages/tensorflow/contrib/learn/python/learn/datasets/base.py:198: retry (from tensorflow.contrib.learn.python.learn.datasets.base) is deprecated and will be removed in a future version.\n",
      "Instructions for updating:\n",
      "Use the retry module or similar alternatives.\n"
     ]
    }
   ],
   "source": [
    "import tensorflow as tf\n",
    "import tensorflow.contrib.eager as tfe\n",
    "import numpy as np\n",
    "import pandas as pd\n",
    "import math\n",
    "import timeit\n",
    "import matplotlib.pyplot as plt\n",
    "#from preprocess_func_new import *\n",
    "from matplotlib.image import imread\n",
    "import os\n",
    "from os.path import expanduser\n",
    "\n",
    "%matplotlib inline\n",
    "\n",
    "#tf.enable_eager_execution()\n",
    "\n",
    "#tf.logging.set_verbosity(tf.logging.INFO)"
   ]
  },
  {
   "cell_type": "code",
   "execution_count": 2,
   "metadata": {},
   "outputs": [],
   "source": [
    "# for auto-reloading external modules\n",
    "# see http://stackoverflow.com/questions/1907993/autoreload-of-modules-in-ipython\n",
    "%load_ext autoreload\n",
    "%autoreload 2"
   ]
  },
  {
   "cell_type": "code",
   "execution_count": 3,
   "metadata": {},
   "outputs": [
    {
     "data": {
      "text/plain": [
       "'../datasets/stixels'"
      ]
     },
     "execution_count": 3,
     "metadata": {},
     "output_type": "execute_result"
    }
   ],
   "source": [
    "img_path = os.path.join('..','datasets','stixels')\n",
    "img_path"
   ]
  },
  {
   "cell_type": "code",
   "execution_count": 4,
   "metadata": {},
   "outputs": [],
   "source": [
    "percent=2 "
   ]
  },
  {
   "cell_type": "code",
   "execution_count": 5,
   "metadata": {},
   "outputs": [],
   "source": [
    "tfrec_batch_size=1 #for path name only"
   ]
  },
  {
   "cell_type": "code",
   "execution_count": 25,
   "metadata": {},
   "outputs": [],
   "source": [
    "batch_size=16"
   ]
  },
  {
   "cell_type": "code",
   "execution_count": 7,
   "metadata": {},
   "outputs": [],
   "source": [
    "tfrec_train_directory = os.path.join('..','datasets','stixels','train','tfrec_batch_size_'+str(tfrec_batch_size)+'_percent_'+str(percent))"
   ]
  },
  {
   "cell_type": "code",
   "execution_count": 8,
   "metadata": {},
   "outputs": [],
   "source": [
    "#creating a list of paths to train tfrecs:\n",
    "path_tfrecords_train_lst=[]\n",
    "path_tfrecords_train = os.path.join(img_path, 'train')\n",
    "for root, dirs, files in os.walk(tfrec_train_directory):\n",
    "    for file in files:\n",
    "        if '.tfrecord' in file:\n",
    "            path_tfrecords_train_lst.append(os.path.join(tfrec_train_directory,file))\n",
    "        else:\n",
    "            print('WARNING: file ' + file + 'looks suspicious. does it belong here?')\n",
    "\n"
   ]
  },
  {
   "cell_type": "code",
   "execution_count": 32,
   "metadata": {},
   "outputs": [],
   "source": [
    "#shortening the list for experiments\n",
    "path_tfrecords_train_lst = path_tfrecords_train_lst[:15000]\n",
    "##################"
   ]
  },
  {
   "cell_type": "code",
   "execution_count": 10,
   "metadata": {},
   "outputs": [],
   "source": [
    "#params\n",
    "H=370 \n",
    "W=24\n",
    "C=3\n",
    "img_shape = (H, W, C)\n",
    "num_classes = 47"
   ]
  },
  {
   "cell_type": "code",
   "execution_count": 11,
   "metadata": {},
   "outputs": [],
   "source": [
    "def parse(serialized):\n",
    "    # Define a dict with the data-names and types we expect to\n",
    "    # find in the TFRecords file.\n",
    "    # It is a bit awkward that this needs to be specified again,\n",
    "    # because it could have been written in the header of the\n",
    "    # TFRecords file instead.\n",
    "    features = \\\n",
    "        {\n",
    "            'image': tf.FixedLenFeature([], tf.string),\n",
    "            'label': tf.FixedLenFeature([], tf.int64)\n",
    "        }\n",
    "\n",
    "    # Parse the serialized data so we get a dict with our data.\n",
    "    parsed_example = tf.parse_single_example(serialized=serialized,\n",
    "                                             features=features)\n",
    "\n",
    "    # Get the image as raw bytes.\n",
    "    image_raw = parsed_example['image']\n",
    "\n",
    "    # Decode the raw bytes so it becomes a tensor with type.\n",
    "    #######image = tf.decode_raw(image_raw, tf.int32) ####\n",
    "    image = tf.image.decode_png(image_raw, channels=3, dtype=tf.uint8) \n",
    "    #image = tf.cast(image, tf.int32)\n",
    "\n",
    "    # The type is now uint8 but we need it to be float.\n",
    "    \n",
    "    image = tf.cast(image, tf.float32) ####\n",
    "    \n",
    "    # Get the label associated with the image.\n",
    "    label = parsed_example['label']\n",
    "\n",
    "    # The image and label are now correct TensorFlow types.\n",
    "    return image, label"
   ]
  },
  {
   "cell_type": "code",
   "execution_count": 17,
   "metadata": {},
   "outputs": [],
   "source": [
    "########## a function to print tensor values\n",
    "def print_tensor(tensor):\n",
    "    dataset = tf.data.TFRecordDataset(filenames=[tensor])\n",
    "    dataset = dataset.map(parse)\n",
    "    iterator = dataset.make_one_shot_iterator()\n",
    "    images_batch, labels_batch = iterator.get_next()\n",
    "    x = {'image': images_batch}\n",
    "    y = labels_batch\n",
    "    init_op = tf.initialize_all_variables()\n",
    "\n",
    "    with tf.Session() as sess:\n",
    "        sess.run(init_op)\n",
    "        #print (sess.run(y))\n",
    "        print (sess.run(x))\n",
    "        #return(sess.run(x))\n",
    "    return"
   ]
  },
  {
   "cell_type": "code",
   "execution_count": 18,
   "metadata": {},
   "outputs": [
    {
     "name": "stdout",
     "output_type": "stream",
     "text": [
      "{'image': array([[[ 81., 152., 246.],\n",
      "        [ 82., 152., 249.],\n",
      "        [ 82., 155., 246.],\n",
      "        ...,\n",
      "        [ 82., 156., 242.],\n",
      "        [ 82., 156., 243.],\n",
      "        [ 87., 156., 245.]],\n",
      "\n",
      "       [[ 83., 150., 243.],\n",
      "        [ 83., 152., 242.],\n",
      "        [ 83., 152., 246.],\n",
      "        ...,\n",
      "        [ 84., 150., 242.],\n",
      "        [ 83., 154., 243.],\n",
      "        [ 82., 155., 245.]],\n",
      "\n",
      "       [[ 89., 154., 242.],\n",
      "        [ 85., 155., 245.],\n",
      "        [ 84., 155., 248.],\n",
      "        ...,\n",
      "        [ 83., 150., 242.],\n",
      "        [ 83., 150., 243.],\n",
      "        [ 83., 155., 245.]],\n",
      "\n",
      "       ...,\n",
      "\n",
      "       [[ 19.,  23.,  27.],\n",
      "        [ 20.,  23.,  30.],\n",
      "        [ 22.,  23.,  29.],\n",
      "        ...,\n",
      "        [ 15.,  23.,  32.],\n",
      "        [ 16.,  22.,  30.],\n",
      "        [ 18.,  21.,  29.]],\n",
      "\n",
      "       [[ 20.,  22.,  27.],\n",
      "        [ 19.,  23.,  29.],\n",
      "        [ 16.,  23.,  30.],\n",
      "        ...,\n",
      "        [ 19.,  26.,  35.],\n",
      "        [ 18.,  23.,  30.],\n",
      "        [ 17.,  19.,  27.]],\n",
      "\n",
      "       [[ 19.,  20.,  27.],\n",
      "        [ 19.,  22.,  31.],\n",
      "        [ 16.,  21.,  29.],\n",
      "        ...,\n",
      "        [ 21.,  27.,  31.],\n",
      "        [ 19.,  23.,  29.],\n",
      "        [ 17.,  20.,  28.]]], dtype=float32)}\n",
      "{'image': array([[[ 18.,  19.,  17.],\n",
      "        [ 17.,  20.,  16.],\n",
      "        [ 17.,  18.,  16.],\n",
      "        ...,\n",
      "        [ 28.,  33.,  23.],\n",
      "        [ 30.,  34.,  33.],\n",
      "        [ 40.,  38.,  35.]],\n",
      "\n",
      "       [[ 25.,  22.,  30.],\n",
      "        [ 23.,  20.,  25.],\n",
      "        [ 14.,  15.,  23.],\n",
      "        ...,\n",
      "        [ 28.,  28.,  19.],\n",
      "        [ 28.,  39.,  34.],\n",
      "        [ 43.,  44.,  36.]],\n",
      "\n",
      "       [[ 44.,  38.,  39.],\n",
      "        [ 33.,  26.,  30.],\n",
      "        [ 13.,  17.,  27.],\n",
      "        ...,\n",
      "        [ 29.,  30.,  34.],\n",
      "        [ 30.,  40.,  44.],\n",
      "        [ 47.,  59.,  48.]],\n",
      "\n",
      "       ...,\n",
      "\n",
      "       [[176., 140., 151.],\n",
      "        [150., 162., 151.],\n",
      "        [161., 159., 148.],\n",
      "        ...,\n",
      "        [136., 150., 146.],\n",
      "        [116., 163., 160.],\n",
      "        [160., 175., 170.]],\n",
      "\n",
      "       [[120., 152., 155.],\n",
      "        [183., 158., 154.],\n",
      "        [146., 132., 149.],\n",
      "        ...,\n",
      "        [154., 155., 166.],\n",
      "        [138., 161., 168.],\n",
      "        [151., 171., 164.]],\n",
      "\n",
      "       [[148., 180., 178.],\n",
      "        [178., 176., 170.],\n",
      "        [157., 147., 153.],\n",
      "        ...,\n",
      "        [166., 142., 138.],\n",
      "        [148., 144., 144.],\n",
      "        [142., 151., 149.]]], dtype=float32)}\n",
      "{'image': array([[[ 99.,  39.,  36.],\n",
      "        [ 40.,  35.,  39.],\n",
      "        [ 35.,  27.,  19.],\n",
      "        ...,\n",
      "        [ 42.,  35.,  36.],\n",
      "        [ 43.,  32.,  23.],\n",
      "        [ 34.,  32.,  24.]],\n",
      "\n",
      "       [[100.,  45.,  44.],\n",
      "        [ 41.,  29.,  36.],\n",
      "        [ 35.,  18.,  24.],\n",
      "        ...,\n",
      "        [ 38.,  34.,  21.],\n",
      "        [ 42.,  33.,  51.],\n",
      "        [ 33.,  31.,  43.]],\n",
      "\n",
      "       [[118.,  67.,  41.],\n",
      "        [ 45.,  48.,  39.],\n",
      "        [ 34.,  25.,  26.],\n",
      "        ...,\n",
      "        [ 39.,  28.,  21.],\n",
      "        [ 43.,  60.,  50.],\n",
      "        [ 50.,  51.,  44.]],\n",
      "\n",
      "       ...,\n",
      "\n",
      "       [[130., 136., 142.],\n",
      "        [123., 139., 147.],\n",
      "        [117., 131., 139.],\n",
      "        ...,\n",
      "        [133., 135., 148.],\n",
      "        [130., 132., 136.],\n",
      "        [129., 126., 133.]],\n",
      "\n",
      "       [[141., 137., 137.],\n",
      "        [129., 141., 146.],\n",
      "        [122., 138., 142.],\n",
      "        ...,\n",
      "        [137., 137., 146.],\n",
      "        [143., 137., 135.],\n",
      "        [125., 134., 133.]],\n",
      "\n",
      "       [[162., 135., 135.],\n",
      "        [134., 134., 135.],\n",
      "        [124., 132., 133.],\n",
      "        ...,\n",
      "        [138., 138., 148.],\n",
      "        [137., 134., 133.],\n",
      "        [134., 133., 132.]]], dtype=float32)}\n",
      "{'image': array([[[145., 211., 255.],\n",
      "        [155., 209., 255.],\n",
      "        [162., 211., 255.],\n",
      "        ...,\n",
      "        [ 57.,  71.,  62.],\n",
      "        [ 55.,  75.,  55.],\n",
      "        [ 54.,  62.,  51.]],\n",
      "\n",
      "       [[156., 202., 255.],\n",
      "        [150., 205., 255.],\n",
      "        [143., 206., 255.],\n",
      "        ...,\n",
      "        [ 37.,  48.,  56.],\n",
      "        [ 44.,  48.,  57.],\n",
      "        [ 50.,  53.,  58.]],\n",
      "\n",
      "       [[161., 204., 253.],\n",
      "        [148., 207., 252.],\n",
      "        [142., 206., 254.],\n",
      "        ...,\n",
      "        [ 39.,  59.,  85.],\n",
      "        [ 47.,  65.,  93.],\n",
      "        [ 51.,  73.,  96.]],\n",
      "\n",
      "       ...,\n",
      "\n",
      "       [[ 26.,  44.,  30.],\n",
      "        [ 26.,  44.,  25.],\n",
      "        [ 24.,  41.,  25.],\n",
      "        ...,\n",
      "        [ 30.,  30.,  25.],\n",
      "        [ 28.,  32.,  22.],\n",
      "        [ 24.,  37.,  22.]],\n",
      "\n",
      "       [[ 26.,  47.,  26.],\n",
      "        [ 26.,  47.,  28.],\n",
      "        [ 27.,  47.,  27.],\n",
      "        ...,\n",
      "        [ 30.,  41.,  32.],\n",
      "        [ 29.,  41.,  26.],\n",
      "        [ 20.,  38.,  26.]],\n",
      "\n",
      "       [[ 49.,  65.,  26.],\n",
      "        [ 50.,  60.,  27.],\n",
      "        [ 40.,  59.,  26.],\n",
      "        ...,\n",
      "        [ 29.,  41.,  32.],\n",
      "        [ 28.,  48.,  27.],\n",
      "        [ 33.,  47.,  26.]]], dtype=float32)}\n",
      "{'image': array([[[198., 255., 255.],\n",
      "        [201., 255., 255.],\n",
      "        [199., 255., 255.],\n",
      "        ...,\n",
      "        [204., 255., 255.],\n",
      "        [207., 255., 255.],\n",
      "        [209., 255., 255.]],\n",
      "\n",
      "       [[200., 255., 255.],\n",
      "        [198., 255., 255.],\n",
      "        [195., 255., 255.],\n",
      "        ...,\n",
      "        [205., 255., 255.],\n",
      "        [209., 255., 255.],\n",
      "        [210., 255., 255.]],\n",
      "\n",
      "       [[203., 255., 255.],\n",
      "        [196., 255., 255.],\n",
      "        [190., 255., 255.],\n",
      "        ...,\n",
      "        [204., 255., 255.],\n",
      "        [208., 255., 255.],\n",
      "        [208., 255., 255.]],\n",
      "\n",
      "       ...,\n",
      "\n",
      "       [[120., 125., 126.],\n",
      "        [122., 124., 125.],\n",
      "        [125., 130., 134.],\n",
      "        ...,\n",
      "        [131., 126., 129.],\n",
      "        [124., 118., 120.],\n",
      "        [106., 117., 118.]],\n",
      "\n",
      "       [[110., 124., 124.],\n",
      "        [119., 123., 119.],\n",
      "        [122., 141., 129.],\n",
      "        ...,\n",
      "        [121., 130., 134.],\n",
      "        [121., 120., 126.],\n",
      "        [117., 116., 120.]],\n",
      "\n",
      "       [[115., 123., 124.],\n",
      "        [133., 125., 117.],\n",
      "        [135., 120., 127.],\n",
      "        ...,\n",
      "        [119., 122., 115.],\n",
      "        [120., 114., 112.],\n",
      "        [119., 118., 114.]]], dtype=float32)}\n",
      "{'image': array([[[255., 255., 255.],\n",
      "        [255., 255., 255.],\n",
      "        [255., 255., 255.],\n",
      "        ...,\n",
      "        [255., 255., 255.],\n",
      "        [255., 255., 255.],\n",
      "        [255., 255., 255.]],\n",
      "\n",
      "       [[255., 255., 255.],\n",
      "        [255., 255., 255.],\n",
      "        [255., 255., 255.],\n",
      "        ...,\n",
      "        [255., 255., 255.],\n",
      "        [255., 255., 255.],\n",
      "        [255., 255., 255.]],\n",
      "\n",
      "       [[255., 255., 255.],\n",
      "        [255., 255., 255.],\n",
      "        [255., 255., 255.],\n",
      "        ...,\n",
      "        [255., 255., 255.],\n",
      "        [255., 255., 255.],\n",
      "        [255., 255., 255.]],\n",
      "\n",
      "       ...,\n",
      "\n",
      "       [[125., 149., 161.],\n",
      "        [139., 148., 166.],\n",
      "        [144., 157., 168.],\n",
      "        ...,\n",
      "        [175., 178., 171.],\n",
      "        [174., 175., 171.],\n",
      "        [174., 174., 170.]],\n",
      "\n",
      "       [[141., 152., 178.],\n",
      "        [153., 160., 177.],\n",
      "        [158., 164., 185.],\n",
      "        ...,\n",
      "        [166., 168., 170.],\n",
      "        [172., 170., 169.],\n",
      "        [171., 174., 168.]],\n",
      "\n",
      "       [[148., 160., 174.],\n",
      "        [159., 161., 173.],\n",
      "        [161., 161., 169.],\n",
      "        ...,\n",
      "        [168., 165., 152.],\n",
      "        [173., 164., 154.],\n",
      "        [172., 169., 158.]]], dtype=float32)}\n",
      "{'image': array([[[203., 253., 255.],\n",
      "        [255., 255., 255.],\n",
      "        [254., 255., 255.],\n",
      "        ...,\n",
      "        [255., 255., 255.],\n",
      "        [255., 255., 255.],\n",
      "        [255., 255., 255.]],\n",
      "\n",
      "       [[196., 249., 255.],\n",
      "        [255., 255., 255.],\n",
      "        [255., 255., 255.],\n",
      "        ...,\n",
      "        [255., 255., 255.],\n",
      "        [255., 255., 255.],\n",
      "        [255., 255., 255.]],\n",
      "\n",
      "       [[197., 195., 255.],\n",
      "        [210., 238., 255.],\n",
      "        [207., 255., 255.],\n",
      "        ...,\n",
      "        [255., 255., 255.],\n",
      "        [255., 255., 255.],\n",
      "        [255., 255., 255.]],\n",
      "\n",
      "       ...,\n",
      "\n",
      "       [[ 18.,  36.,  20.],\n",
      "        [ 24.,  35.,  20.],\n",
      "        [ 23.,  32.,  14.],\n",
      "        ...,\n",
      "        [ 18.,  25.,  17.],\n",
      "        [ 22.,  26.,  16.],\n",
      "        [ 25.,  27.,  17.]],\n",
      "\n",
      "       [[ 17.,  33.,  15.],\n",
      "        [ 22.,  32.,  16.],\n",
      "        [ 23.,  30.,  15.],\n",
      "        ...,\n",
      "        [ 19.,  24.,  18.],\n",
      "        [ 21.,  24.,  18.],\n",
      "        [ 24.,  26.,  18.]],\n",
      "\n",
      "       [[ 16.,  29.,  14.],\n",
      "        [ 19.,  28.,  15.],\n",
      "        [ 19.,  28.,  14.],\n",
      "        ...,\n",
      "        [ 22.,  27.,  18.],\n",
      "        [ 20.,  25.,  18.],\n",
      "        [ 18.,  26.,  18.]]], dtype=float32)}\n",
      "{'image': array([[[130., 143., 154.],\n",
      "        [133., 140., 144.],\n",
      "        [ 94., 118., 130.],\n",
      "        ...,\n",
      "        [ 82.,  82.,  81.],\n",
      "        [ 80.,  84.,  82.],\n",
      "        [ 79.,  85.,  80.]],\n",
      "\n",
      "       [[130., 145., 149.],\n",
      "        [133., 141., 141.],\n",
      "        [ 98., 119., 122.],\n",
      "        ...,\n",
      "        [ 66.,  76.,  80.],\n",
      "        [ 64.,  75.,  82.],\n",
      "        [ 63.,  78.,  79.]],\n",
      "\n",
      "       [[132., 144., 149.],\n",
      "        [123., 141., 143.],\n",
      "        [106., 123., 120.],\n",
      "        ...,\n",
      "        [ 62.,  72.,  72.],\n",
      "        [ 62.,  67.,  59.],\n",
      "        [ 61.,  66.,  62.]],\n",
      "\n",
      "       ...,\n",
      "\n",
      "       [[ 62.,  57.,  46.],\n",
      "        [ 76.,  59.,  46.],\n",
      "        [ 73.,  54.,  47.],\n",
      "        ...,\n",
      "        [ 73.,  72.,  67.],\n",
      "        [ 74.,  79.,  82.],\n",
      "        [ 75.,  79.,  82.]],\n",
      "\n",
      "       [[ 59.,  57.,  45.],\n",
      "        [ 62.,  56.,  45.],\n",
      "        [ 62.,  50.,  45.],\n",
      "        ...,\n",
      "        [ 78.,  83.,  87.],\n",
      "        [ 80.,  85.,  73.],\n",
      "        [ 82.,  80.,  79.]],\n",
      "\n",
      "       [[ 59.,  62.,  51.],\n",
      "        [ 61.,  54.,  51.],\n",
      "        [ 61.,  49.,  46.],\n",
      "        ...,\n",
      "        [ 83.,  86.,  81.],\n",
      "        [ 84.,  85.,  82.],\n",
      "        [ 85.,  81.,  80.]]], dtype=float32)}\n"
     ]
    },
    {
     "name": "stdout",
     "output_type": "stream",
     "text": [
      "{'image': array([[[ 58.,  54.,  56.],\n",
      "        [ 60.,  56.,  59.],\n",
      "        [ 60.,  57.,  55.],\n",
      "        ...,\n",
      "        [ 57.,  51.,  56.],\n",
      "        [ 60.,  53.,  56.],\n",
      "        [ 62.,  55.,  55.]],\n",
      "\n",
      "       [[ 60.,  56.,  57.],\n",
      "        [ 58.,  58.,  58.],\n",
      "        [ 58.,  57.,  57.],\n",
      "        ...,\n",
      "        [ 61.,  56.,  57.],\n",
      "        [ 61.,  59.,  57.],\n",
      "        [ 61.,  61.,  56.]],\n",
      "\n",
      "       [[ 60.,  57.,  60.],\n",
      "        [ 61.,  60.,  59.],\n",
      "        [ 61.,  58.,  60.],\n",
      "        ...,\n",
      "        [ 62.,  60.,  62.],\n",
      "        [ 60.,  62.,  61.],\n",
      "        [ 61.,  60.,  60.]],\n",
      "\n",
      "       ...,\n",
      "\n",
      "       [[186., 153., 138.],\n",
      "        [184., 179., 150.],\n",
      "        [186., 183., 171.],\n",
      "        ...,\n",
      "        [186., 173., 188.],\n",
      "        [164., 165., 185.],\n",
      "        [163., 158., 166.]],\n",
      "\n",
      "       [[173., 168., 156.],\n",
      "        [151., 135., 161.],\n",
      "        [139., 169., 160.],\n",
      "        ...,\n",
      "        [187., 170., 174.],\n",
      "        [162., 171., 174.],\n",
      "        [158., 158., 167.]],\n",
      "\n",
      "       [[188., 196., 192.],\n",
      "        [163., 138., 188.],\n",
      "        [148., 131., 110.],\n",
      "        ...,\n",
      "        [168., 171., 170.],\n",
      "        [206., 173., 171.],\n",
      "        [199., 167., 167.]]], dtype=float32)}\n",
      "{'image': array([[[147., 220., 255.],\n",
      "        [142., 216., 255.],\n",
      "        [142., 219., 255.],\n",
      "        ...,\n",
      "        [144., 219., 255.],\n",
      "        [144., 221., 255.],\n",
      "        [145., 219., 255.]],\n",
      "\n",
      "       [[150., 220., 255.],\n",
      "        [141., 218., 255.],\n",
      "        [140., 219., 255.],\n",
      "        ...,\n",
      "        [144., 217., 255.],\n",
      "        [145., 220., 255.],\n",
      "        [144., 223., 255.]],\n",
      "\n",
      "       [[148., 219., 255.],\n",
      "        [145., 218., 255.],\n",
      "        [145., 219., 255.],\n",
      "        ...,\n",
      "        [143., 218., 255.],\n",
      "        [143., 216., 255.],\n",
      "        [147., 221., 255.]],\n",
      "\n",
      "       ...,\n",
      "\n",
      "       [[119., 112., 103.],\n",
      "        [121., 109., 113.],\n",
      "        [144., 116., 112.],\n",
      "        ...,\n",
      "        [128., 136., 128.],\n",
      "        [132., 139., 129.],\n",
      "        [132., 134., 143.]],\n",
      "\n",
      "       [[119., 123., 107.],\n",
      "        [122., 117., 105.],\n",
      "        [141., 118., 107.],\n",
      "        ...,\n",
      "        [112., 120., 129.],\n",
      "        [150., 130., 130.],\n",
      "        [162., 154., 147.]],\n",
      "\n",
      "       [[126., 151., 113.],\n",
      "        [131., 127., 110.],\n",
      "        [128., 113., 108.],\n",
      "        ...,\n",
      "        [111., 121., 106.],\n",
      "        [149., 122., 107.],\n",
      "        [160., 142., 118.]]], dtype=float32)}\n"
     ]
    }
   ],
   "source": [
    "################ try to print the tensors\n",
    "for t in path_tfrecords_train_lst[:10]:\n",
    "    #print (t)\n",
    "    print_tensor(t)\n",
    "    #print(x)"
   ]
  },
  {
   "cell_type": "code",
   "execution_count": 106,
   "metadata": {},
   "outputs": [
    {
     "data": {
      "text/plain": [
       "(370, 24, 3)"
      ]
     },
     "execution_count": 106,
     "metadata": {},
     "output_type": "execute_result"
    }
   ],
   "source": [
    "############# print shape of tensor\n",
    "x2=tf.Session().run(x['image'])\n",
    "x2.shape\n"
   ]
  },
  {
   "cell_type": "code",
   "execution_count": 107,
   "metadata": {},
   "outputs": [
    {
     "data": {
      "text/plain": [
       "<matplotlib.image.AxesImage at 0x7fa46a8d0e48>"
      ]
     },
     "execution_count": 107,
     "metadata": {},
     "output_type": "execute_result"
    },
    {
     "data": {
      "image/png": "[encoded data removed]",
      "text/plain": [
       "<matplotlib.figure.Figure at 0x7fa46a75c908>"
      ]
     },
     "metadata": {},
     "output_type": "display_data"
    }
   ],
   "source": [
    "####################. show the parsed stixel\n",
    "import matplotlib\n",
    "%matplotlib inline\n",
    "matplotlib.pyplot.imshow(x2)"
   ]
  },
  {
   "cell_type": "code",
   "execution_count": 19,
   "metadata": {},
   "outputs": [],
   "source": [
    "def input_fn(filenames, train, batch_size=batch_size, buffer_size=100000): \n",
    "    # Args:\n",
    "    # filenames:   Filenames for the TFRecords files.\n",
    "    # train:       Boolean whether training (True) or testing (False).\n",
    "    # batch_size:  Return batches of this size.\n",
    "    # buffer_size: Read buffers of this size. The random shuffling\n",
    "    #              is done on the buffer, so it must be big enough.\n",
    "\n",
    "    # Create a TensorFlow Dataset-object which has functionality\n",
    "    # for reading and shuffling data from TFRecords files.\n",
    "    dataset = tf.data.TFRecordDataset(filenames=filenames)\n",
    "\n",
    "    # Parse the serialized data in the TFRecords files.\n",
    "    # This returns TensorFlow tensors for the image and labels.\n",
    "    dataset = dataset.map(parse)\n",
    "    \n",
    "    if train:\n",
    "        # If training then read a buffer of the given size and\n",
    "        # randomly shuffle it.\n",
    "        dataset = dataset.shuffle(buffer_size=buffer_size)\n",
    "\n",
    "        # Allow infinite reading of the data.\n",
    "        num_repeat = None #-1\n",
    "    else:\n",
    "        # If testing then don't shuffle the data.\n",
    "        \n",
    "        # Only go through the data once.\n",
    "        num_repeat = 1\n",
    "\n",
    "    # Repeat the dataset the given number of times.\n",
    "    dataset = dataset.repeat(num_repeat)\n",
    "    \n",
    "    # Get a batch of data with the given size.\n",
    "    #dataset = dataset.batch(batch_size)\n",
    "    #dataset = tf.contrib.data.batch_and_drop_remainder(batch_size)\n",
    "    dataset = dataset.apply(tf.contrib.data.batch_and_drop_remainder(batch_size))\n",
    "    print(dataset.output_shapes)  # ==> \"(16,)\" (the batch dimension is known)\n",
    "    \n",
    "    # Create an iterator for the dataset and the above modifications.\n",
    "    iterator = dataset.make_one_shot_iterator()\n",
    "\n",
    "    # Get the next batch of images and labels.\n",
    "    images_batch, labels_batch = iterator.get_next()\n",
    "\n",
    "    # The input-function must return a dict wrapping the images.\n",
    "    x = {'image': images_batch}\n",
    "    y = labels_batch\n",
    "    \n",
    "    return x, y"
   ]
  },
  {
   "cell_type": "code",
   "execution_count": 20,
   "metadata": {},
   "outputs": [],
   "source": [
    "def train_input_fn():\n",
    "    return input_fn(filenames=path_tfrecords_train_lst, train=True)"
   ]
  },
  {
   "cell_type": "code",
   "execution_count": 40,
   "metadata": {},
   "outputs": [],
   "source": [
    "def model_fn(features, labels, mode, params):\n",
    "    # Args:\n",
    "    #\n",
    "    # features: This is the x-arg from the input_fn.\n",
    "    # labels:   This is the y-arg from the input_fn.\n",
    "    # mode:     Either TRAIN, EVAL, or PREDICT\n",
    "    # params:   User-defined hyper-parameters, e.g. learning-rate.\n",
    "    \n",
    "    #tf.layers.xavier_initializer(\n",
    "    #uniform=True,\n",
    "    #seed=481,\n",
    "    #dtype=tf.float32\n",
    "    #)\n",
    "    \n",
    "    # Reference to the tensor named \"image\" in the input-function.\n",
    "    x = features[\"image\"]\n",
    "    # The convolutional layers expect 4-rank tensors\n",
    "    # but x is a 2-rank tensor, so reshape it.\n",
    "    net = tf.reshape(x, [-1,W,H,C])\n",
    "    # First convolutional layer.\n",
    "    net = tf.layers.conv2d(inputs=net, name='layer_conv1',\n",
    "                           filters=32, kernel_size=(11,5),\n",
    "                           padding='same', activation=tf.nn.leaky_relu, \n",
    "                           kernel_initializer=tf.contrib.layers.xavier_initializer(seed=481)\n",
    "                           )\n",
    "    net = tf.layers.max_pooling2d(inputs=net, pool_size=(8,4), strides=1)\n",
    "    #net = tf.nn.lrn(input=net, depth_radius=4, bias=1.0, alpha=0.001 / 9.0, beta=0.75, name='norm1')\n",
    "    # Second convolutional layer.\n",
    "    #net = tf.layers.conv2d(inputs=net, name='layer_conv2',\n",
    "     #                      filters=200, kernel_size=(5,3),\n",
    "      #                     padding='same', activation=tf.nn.leaky_relu,\n",
    "       #                    kernel_initializer=tf.contrib.layers.xavier_initializer()) #200\n",
    "    #net = tf.nn.lrn(input=net, depth_radius=4, bias=1.0, alpha=0.001 / 9.0, beta=0.75, name='norm1')\n",
    "    #net = tf.layers.max_pooling2d(inputs=net, pool_size=(4,3), strides=1)    \n",
    "\n",
    "    # Flatten to a 2-rank tensor.\n",
    "    #net = tf.contrib.layers.flatten(net)\n",
    "    # Eventually this should be replaced with:\n",
    "    net = tf.layers.flatten(net)\n",
    "\n",
    "    # First fully-connected / dense layer.\n",
    "    # This uses the ReLU activation function.\n",
    "    net = tf.layers.dense(inputs=net, name='layer_fc1',\n",
    "                          units=50, activation=tf.nn.leaky_relu,\n",
    "                          kernel_initializer=tf.contrib.layers.xavier_initializer()\n",
    "                          )    \n",
    "    \n",
    "    net = tf.layers.dropout(inputs=net,rate=0.5, seed=481, \n",
    "                          training=(mode=='TRAIN'), name='layer_dropout1'\n",
    "                           )\n",
    "    \n",
    "    # Second fully-connected / dense layer\n",
    "    #net = tf.layers.dense(inputs=net, name='layer_fc2',\n",
    "    #                      units=512, activation=tf.nn.relu,\n",
    "    #                      kernel_initializer=tf.contrib.layers.xavier_initializer()\n",
    "    #                      )   #2048\n",
    "    \n",
    "   \n",
    "    # This is the last layer so it does not use an activation function.\n",
    "    net = tf.layers.dense(inputs=net, name='layer_fc3',\n",
    "                          units=47,\n",
    "                          kernel_initializer=tf.contrib.layers.xavier_initializer()\n",
    "                          ) \n",
    "\n",
    "    # Logits output of the neural network.\n",
    "    logits = net\n",
    "\n",
    "    # Softmax output of the neural network.\n",
    "    y_pred = tf.nn.softmax(logits=logits)\n",
    "    \n",
    "    # Classification output of the neural network.\n",
    "    y_pred_cls = tf.argmax(y_pred, axis=1) \n",
    "   \n",
    "    if mode == tf.estimator.ModeKeys.PREDICT:\n",
    "        # If the estimator is supposed to be in prediction-mode\n",
    "        # then use the predicted class-number that is output by\n",
    "        # the neural network. Optimization etc. is not needed.\n",
    "        \n",
    "        spec = tf.estimator.EstimatorSpec(mode=mode,\n",
    "                                          predictions=y_pred)# _cls)\n",
    "    else:\n",
    "        # Otherwise the estimator is supposed to be in either\n",
    "        # training or evaluation-mode. Note that the loss-function\n",
    "        # is also required in Evaluation mode.\n",
    "        \n",
    "        # Define the loss-function to be optimized, by first\n",
    "        # calculating the cross-entropy between the output of\n",
    "        # the neural network and the true labels for the input data.\n",
    "        # This gives the cross-entropy for each image in the batch.\n",
    "        cross_entropy = tf.nn.sparse_softmax_cross_entropy_with_logits(labels=labels,\n",
    "                                                                       logits=logits)\n",
    "\n",
    "        # Reduce the cross-entropy batch-tensor to a single number\n",
    "        # which can be used in optimization of the neural network.\n",
    "        tf.argmax(logits)\n",
    "        #loss = tf.losses.mean_squared_error(labels=labels, predictions=logits)\n",
    "        loss = tf.reduce_mean(cross_entropy)\n",
    " #######################\n",
    "        lr = 1e-6\n",
    "        step_rate = 1000\n",
    "        decay = 0.5 #if this equals 1 the lr stays the same\n",
    "\n",
    "        #global_step = tf.Variable(0, trainable=False)\n",
    "        #increment_global_step = tf.assign(global_step, global_step + 1)\n",
    "\n",
    "        learning_rate = tf.train.exponential_decay(lr, global_step=tf.train.get_or_create_global_step(), \n",
    "                                           decay_steps=step_rate, decay_rate=decay, staircase=True)\n",
    "        \n",
    "        # Define the optimizer for improving the neural network.\n",
    "        #optimizer = tf.train.AdamOptimizer(learning_rate=learning_rate)\n",
    "        optimizer = tf.train.GradientDescentOptimizer(learning_rate=learning_rate) \n",
    "        # Get the TensorFlow op for doing a single optimization step.\n",
    "        train_op = optimizer.minimize(loss=loss, global_step = tf.train.get_or_create_global_step())\n",
    "        \n",
    "        \n",
    "#############################        \n",
    "\n",
    "\n",
    "        # Define the evaluation metrics,\n",
    "        # in this case the classification accuracy.\n",
    "        metrics = \\\n",
    "        {\n",
    "            \"accuracy\": tf.metrics.accuracy(labels, y_pred_cls) #TODO change acc method\n",
    "        }\n",
    "\n",
    "        # Wrap all of this in an EstimatorSpec.\n",
    "        spec = tf.estimator.EstimatorSpec(\n",
    "            mode=mode,\n",
    "            loss=loss,\n",
    "            train_op=train_op,\n",
    "            eval_metric_ops=metrics)\n",
    "        \n",
    "    return spec"
   ]
  },
  {
   "cell_type": "code",
   "execution_count": 41,
   "metadata": {},
   "outputs": [],
   "source": [
    "params = {} #{\"learning_rate\": 1e-5}"
   ]
  },
  {
   "cell_type": "code",
   "execution_count": 42,
   "metadata": {},
   "outputs": [],
   "source": [
    "def make_dir_and_comment(model_dir):\n",
    "    home = expanduser(\"~\")\n",
    "    log_name=os.path.join('logs/', model_dir + '.txt')\n",
    "    \n",
    "    if os.path.isdir(model_dir):\n",
    "        print('INFO: dir with name ' + model_dir + ' already exist.')\n",
    "    \n",
    "    new_comment=input('Please add a comment\\n')\n",
    "    \n",
    "    if os.path.exists(log_name):\n",
    "        append_write = 'a' # append if already exists\n",
    "    else:\n",
    "        append_write = 'w' # make a new file if not\n",
    "    \n",
    "    model_log = open(log_name,append_write)\n",
    "    model_log.write(home +' : '+ new_comment + '\\n')\n",
    "    model_log.close()\n",
    "    return\n",
    "\n"
   ]
  },
  {
   "cell_type": "code",
   "execution_count": 43,
   "metadata": {},
   "outputs": [
    {
     "name": "stdout",
     "output_type": "stream",
     "text": [
      "Please add a comment\n",
      "\n",
      "INFO:tensorflow:Using default config.\n",
      "INFO:tensorflow:Using config: {'_model_dir': './ckpts_22_5_1conv_1dense_v2', '_tf_random_seed': None, '_save_summary_steps': 100, '_save_checkpoints_steps': None, '_save_checkpoints_secs': 600, '_session_config': None, '_keep_checkpoint_max': 5, '_keep_checkpoint_every_n_hours': 10000, '_log_step_count_steps': 100, '_service': None, '_cluster_spec': <tensorflow.python.training.server_lib.ClusterSpec object at 0x7f786c7395f8>, '_task_type': 'worker', '_task_id': 0, '_global_id_in_cluster': 0, '_master': '', '_evaluation_master': '', '_is_chief': True, '_num_ps_replicas': 0, '_num_worker_replicas': 1}\n"
     ]
    }
   ],
   "source": [
    "model_dir = './ckpts_22_5_1conv_1dense_v2' #'./ckpts_<day>_<month>_<architecture>_<main_change>'\n",
    "make_dir_and_comment(model_dir) \n",
    "model = tf.estimator.Estimator(model_fn=model_fn,\n",
    "                               params=params,\n",
    "                               model_dir=model_dir)"
   ]
  },
  {
   "cell_type": "code",
   "execution_count": null,
   "metadata": {},
   "outputs": [
    {
     "name": "stdout",
     "output_type": "stream",
     "text": [
      "(TensorShape([Dimension(16), Dimension(None), Dimension(None), Dimension(3)]), TensorShape([Dimension(16)]))\n",
      "INFO:tensorflow:Calling model_fn.\n",
      "INFO:tensorflow:Done calling model_fn.\n",
      "INFO:tensorflow:Create CheckpointSaverHook.\n",
      "INFO:tensorflow:Graph was finalized.\n",
      "INFO:tensorflow:Running local_init_op.\n",
      "INFO:tensorflow:Done running local_init_op.\n",
      "INFO:tensorflow:Saving checkpoints for 1 into ./ckpts_22_5_1conv_1dense_v2/model.ckpt.\n",
      "INFO:tensorflow:loss = 71.00953, step = 1\n",
      "INFO:tensorflow:global_step/sec: 2.65195\n",
      "INFO:tensorflow:loss = 15.096355, step = 101 (37.709 sec)\n",
      "INFO:tensorflow:global_step/sec: 2.63302\n",
      "INFO:tensorflow:loss = 8.406719, step = 201 (37.979 sec)\n",
      "INFO:tensorflow:global_step/sec: 2.64482\n",
      "INFO:tensorflow:loss = 10.937233, step = 301 (37.810 sec)\n",
      "INFO:tensorflow:global_step/sec: 2.65033\n",
      "INFO:tensorflow:loss = 9.382615, step = 401 (37.731 sec)\n",
      "INFO:tensorflow:global_step/sec: 2.63412\n",
      "INFO:tensorflow:loss = 8.648689, step = 501 (37.963 sec)\n",
      "INFO:tensorflow:global_step/sec: 2.64045\n",
      "INFO:tensorflow:loss = 8.765753, step = 601 (37.872 sec)\n",
      "INFO:tensorflow:global_step/sec: 2.64433\n",
      "INFO:tensorflow:loss = 14.185199, step = 701 (37.817 sec)\n",
      "INFO:tensorflow:global_step/sec: 2.63179\n",
      "INFO:tensorflow:loss = 8.020342, step = 801 (37.997 sec)\n",
      "INFO:tensorflow:global_step/sec: 2.61621\n",
      "INFO:tensorflow:loss = 7.8288813, step = 901 (38.223 sec)\n",
      "INFO:tensorflow:global_step/sec: 1.98096\n",
      "INFO:tensorflow:loss = 7.0145035, step = 1001 (50.481 sec)\n",
      "INFO:tensorflow:global_step/sec: 2.63716\n",
      "INFO:tensorflow:loss = 7.6780257, step = 1101 (37.919 sec)\n",
      "INFO:tensorflow:global_step/sec: 2.62547\n",
      "INFO:tensorflow:loss = 9.488743, step = 1201 (38.089 sec)\n",
      "INFO:tensorflow:global_step/sec: 2.6277\n",
      "INFO:tensorflow:loss = 5.3521566, step = 1301 (38.056 sec)\n",
      "INFO:tensorflow:global_step/sec: 2.63305\n",
      "INFO:tensorflow:loss = 7.619569, step = 1401 (37.979 sec)\n",
      "INFO:tensorflow:global_step/sec: 2.63922\n",
      "INFO:tensorflow:loss = 9.364491, step = 1501 (37.890 sec)\n"
     ]
    }
   ],
   "source": [
    "model.train(input_fn=train_input_fn, steps=5000)"
   ]
  },
  {
   "cell_type": "code",
   "execution_count": 115,
   "metadata": {},
   "outputs": [],
   "source": [
    "###DONE TRAIN###"
   ]
  },
  {
   "cell_type": "code",
   "execution_count": null,
   "metadata": {},
   "outputs": [],
   "source": [
    "#VAL:"
   ]
  },
  {
   "cell_type": "code",
   "execution_count": 172,
   "metadata": {},
   "outputs": [],
   "source": [
    "tfrec_val_batch_size=1"
   ]
  },
  {
   "cell_type": "code",
   "execution_count": 173,
   "metadata": {},
   "outputs": [],
   "source": [
    "tfrec_val_directory = os.path.join('..','datasets','stixels','val','tfrec_batch_size_'+str(tfrec_val_batch_size)+'_percent_'+str(percent))"
   ]
  },
  {
   "cell_type": "code",
   "execution_count": 174,
   "metadata": {},
   "outputs": [],
   "source": [
    "path_tfrecords_val_lst=[]\n",
    "path_tfrecords_val = os.path.join(img_path, 'val')\n",
    "for root, dirs, files in os.walk(tfrec_val_directory):\n",
    "    for file in files:\n",
    "        if '.tfrecord' in file:\n",
    "            path_tfrecords_val_lst.append(os.path.join(tfrec_val_directory,file))\n",
    "        else:\n",
    "            print('WARNING: file ' + file + 'looks suspicious. does it belong here?')"
   ]
  },
  {
   "cell_type": "code",
   "execution_count": 175,
   "metadata": {},
   "outputs": [],
   "source": [
    "def val_input_fn():\n",
    "    return input_fn(filenames=path_tfrecords_val_lst[7000:8500], train=False) "
   ]
  },
  {
   "cell_type": "code",
   "execution_count": 176,
   "metadata": {},
   "outputs": [
    {
     "name": "stdout",
     "output_type": "stream",
     "text": [
      "INFO:tensorflow:Calling model_fn.\n",
      "INFO:tensorflow:Done calling model_fn.\n",
      "INFO:tensorflow:Starting evaluation at 2018-05-22-07:45:44\n",
      "INFO:tensorflow:Graph was finalized.\n",
      "INFO:tensorflow:Restoring parameters from ./ckpts_15_5_decay_xavier_grad_decsent_example7/model.ckpt-43001\n",
      "INFO:tensorflow:Running local_init_op.\n",
      "INFO:tensorflow:Done running local_init_op.\n",
      "INFO:tensorflow:Finished evaluation at 2018-05-22-07:45:55\n",
      "INFO:tensorflow:Saving dict for global step 43001: accuracy = 0.176, global_step = 43001, loss = 3.1899297\n"
     ]
    }
   ],
   "source": [
    "val_result = model.evaluate(input_fn=val_input_fn) "
   ]
  },
  {
   "cell_type": "code",
   "execution_count": 177,
   "metadata": {},
   "outputs": [
    {
     "data": {
      "text/plain": [
       "{'accuracy': 0.176, 'global_step': 43001, 'loss': 3.1899297}"
      ]
     },
     "execution_count": 177,
     "metadata": {},
     "output_type": "execute_result"
    }
   ],
   "source": [
    "val_result"
   ]
  },
  {
   "cell_type": "code",
   "execution_count": 178,
   "metadata": {},
   "outputs": [
    {
     "name": "stdout",
     "output_type": "stream",
     "text": [
      "Classification val accuracy: 17.60%\n"
     ]
    }
   ],
   "source": [
    "print(\"Classification val accuracy: {0:.2%}\".format(val_result[\"accuracy\"]))"
   ]
  },
  {
   "cell_type": "code",
   "execution_count": null,
   "metadata": {},
   "outputs": [],
   "source": [
    "#TEST:"
   ]
  },
  {
   "cell_type": "code",
   "execution_count": 104,
   "metadata": {},
   "outputs": [],
   "source": [
    "tfrec_test_batch_size=1"
   ]
  },
  {
   "cell_type": "code",
   "execution_count": 105,
   "metadata": {},
   "outputs": [],
   "source": [
    "tfrec_test_directory = os.path.join('..','datasets','stixels','test','tfrec_batch_size_'+str(tfrec_test_batch_size))"
   ]
  },
  {
   "cell_type": "code",
   "execution_count": 106,
   "metadata": {},
   "outputs": [],
   "source": [
    "path_tfrecords_test_lst=[]\n",
    "path_tfrecords_test = os.path.join(img_path, 'test')\n",
    "for root, dirs, files in os.walk(tfrec_test_directory):\n",
    "    for file in files:\n",
    "        if '.tfrecord' in file:\n",
    "            path_tfrecords_test_lst.append(os.path.join(tfrec_test_directory,file))\n",
    "        else:\n",
    "            print('WARNING: file ' + file + 'looks suspicious. does it belong here?')"
   ]
  },
  {
   "cell_type": "code",
   "execution_count": 107,
   "metadata": {},
   "outputs": [],
   "source": [
    "def test_input_fn():\n",
    "    return input_fn(filenames=path_tfrecords_test_lst[1000:3000], train=False)"
   ]
  },
  {
   "cell_type": "code",
   "execution_count": 108,
   "metadata": {},
   "outputs": [
    {
     "name": "stdout",
     "output_type": "stream",
     "text": [
      "INFO:tensorflow:Calling model_fn.\n",
      "INFO:tensorflow:Done calling model_fn.\n",
      "INFO:tensorflow:Starting evaluation at 2018-05-22-07:33:49\n",
      "INFO:tensorflow:Graph was finalized.\n",
      "INFO:tensorflow:Restoring parameters from ./ckpts_15_5_decay_xavier_grad_decsent_example7/model.ckpt-24001\n",
      "INFO:tensorflow:Running local_init_op.\n",
      "INFO:tensorflow:Done running local_init_op.\n",
      "INFO:tensorflow:Finished evaluation at 2018-05-22-07:34:22\n",
      "INFO:tensorflow:Saving dict for global step 24001: accuracy = 0.1155, global_step = 24001, loss = 4.1837482\n"
     ]
    }
   ],
   "source": [
    "test_result = model.evaluate(input_fn=test_input_fn)"
   ]
  },
  {
   "cell_type": "code",
   "execution_count": 109,
   "metadata": {},
   "outputs": [
    {
     "name": "stdout",
     "output_type": "stream",
     "text": [
      "Classification test accuracy: 11.55%\n"
     ]
    }
   ],
   "source": [
    "print(\"Classification test accuracy: {0:.2%}\".format(test_result[\"accuracy\"]))"
   ]
  },
  {
   "cell_type": "code",
   "execution_count": null,
   "metadata": {},
   "outputs": [],
   "source": [
    "#PRED:"
   ]
  },
  {
   "cell_type": "code",
   "execution_count": 159,
   "metadata": {},
   "outputs": [],
   "source": [
    "sum_csv_test_path = os.path.join(img_path,'train', 'sum_csv') #TEST\n",
    "labels_test=pd.read_csv(os.path.join(sum_csv_test_path,'labels_train_'+str(percent)+'percent.csv'))\n",
    "test_names_list=list(labels_test['Name'])\n",
    "image_paths_test=[]\n",
    "for name in test_names_list:\n",
    "    image_paths_test.append(os.path.join(img_path, 'train', name+'.png')) #maybe no need to add '.png'\n"
   ]
  },
  {
   "cell_type": "code",
   "execution_count": 160,
   "metadata": {},
   "outputs": [],
   "source": [
    "def load_images(image_paths):\n",
    "    # Load the images from disk.\n",
    "    images = [imread(path) for path in image_paths]\n",
    "    # Convert to a numpy array and return it.\n",
    "    return np.asarray(images)\n"
   ]
  },
  {
   "cell_type": "code",
   "execution_count": 161,
   "metadata": {},
   "outputs": [],
   "source": [
    "##TODO:SHUFFLE!\n",
    "some_num=500\n",
    "some_images = load_images(image_paths=image_paths_test[0:0+some_num])\n",
    "some_images_cls = np.array(labels_test['Label'])"
   ]
  },
  {
   "cell_type": "code",
   "execution_count": 162,
   "metadata": {},
   "outputs": [],
   "source": [
    "predict_input_fn = tf.estimator.inputs.numpy_input_fn(\n",
    "    x={\"image\": some_images.astype(np.float32)},\n",
    "    num_epochs=1,\n",
    "    shuffle=False)"
   ]
  },
  {
   "cell_type": "code",
   "execution_count": 163,
   "metadata": {},
   "outputs": [],
   "source": [
    "predictions = model.predict(input_fn=predict_input_fn) "
   ]
  },
  {
   "cell_type": "code",
   "execution_count": 164,
   "metadata": {},
   "outputs": [
    {
     "name": "stdout",
     "output_type": "stream",
     "text": [
      "INFO:tensorflow:Calling model_fn.\n",
      "INFO:tensorflow:Done calling model_fn.\n",
      "INFO:tensorflow:Graph was finalized.\n",
      "INFO:tensorflow:Restoring parameters from ./ckpts_15_5_decay_xavier_grad_decsent_example7/model.ckpt-43001\n",
      "INFO:tensorflow:Running local_init_op.\n",
      "INFO:tensorflow:Done running local_init_op.\n"
     ]
    },
    {
     "data": {
      "text/plain": [
       "array([[0.02106862, 0.02104009, 0.02099364, ..., 0.02112383, 0.02095477,\n",
       "        0.02141953],\n",
       "       [0.02106465, 0.02103283, 0.02097848, ..., 0.0211175 , 0.02095565,\n",
       "        0.02142534],\n",
       "       [0.02103715, 0.02097738, 0.02095623, ..., 0.0210955 , 0.0209844 ,\n",
       "        0.02144053],\n",
       "       ...,\n",
       "       [0.021219  , 0.02106649, 0.02068418, ..., 0.02070388, 0.02088652,\n",
       "        0.02131102],\n",
       "       [0.02101692, 0.02115336, 0.02073095, ..., 0.0207941 , 0.02096753,\n",
       "        0.02145347],\n",
       "       [0.02106024, 0.02113101, 0.02078843, ..., 0.02077138, 0.02091092,\n",
       "        0.02133113]], dtype=float32)"
      ]
     },
     "execution_count": 164,
     "metadata": {},
     "output_type": "execute_result"
    }
   ],
   "source": [
    "cls_pred = np.array(list(predictions))\n",
    "cls_pred "
   ]
  },
  {
   "cell_type": "code",
   "execution_count": 165,
   "metadata": {},
   "outputs": [
    {
     "data": {
      "text/plain": [
       "(500, 47)"
      ]
     },
     "execution_count": 165,
     "metadata": {},
     "output_type": "execute_result"
    }
   ],
   "source": [
    "cls_pred.shape"
   ]
  },
  {
   "cell_type": "code",
   "execution_count": 166,
   "metadata": {},
   "outputs": [
    {
     "data": {
      "text/plain": [
       "array([[0.02106862, 0.02104009, 0.02099364, ..., 0.02112383, 0.02095477,\n",
       "        0.02141953],\n",
       "       [0.02106465, 0.02103283, 0.02097848, ..., 0.0211175 , 0.02095565,\n",
       "        0.02142534],\n",
       "       [0.02103715, 0.02097738, 0.02095623, ..., 0.0210955 , 0.0209844 ,\n",
       "        0.02144053],\n",
       "       ...,\n",
       "       [0.021219  , 0.02106649, 0.02068418, ..., 0.02070388, 0.02088652,\n",
       "        0.02131102],\n",
       "       [0.02101692, 0.02115336, 0.02073095, ..., 0.0207941 , 0.02096753,\n",
       "        0.02145347],\n",
       "       [0.02106024, 0.02113101, 0.02078843, ..., 0.02077138, 0.02091092,\n",
       "        0.02133113]], dtype=float32)"
      ]
     },
     "execution_count": 166,
     "metadata": {},
     "output_type": "execute_result"
    }
   ],
   "source": [
    "cls_pred"
   ]
  },
  {
   "cell_type": "code",
   "execution_count": 167,
   "metadata": {},
   "outputs": [
    {
     "data": {
      "text/plain": [
       "(array([   8,    5,    6,    5,    5,    3,    2,    2,    4,    4,    4,\n",
       "           8,   19,   18,   26,   38,   39,   63,   55,   44,   63,   80,\n",
       "          58,   23,   35,   64,   95,  159,  194,  199,  322,  926, 1763,\n",
       "        1665, 1153, 1686, 4360, 5079, 3033, 1396,  485,  172,   76,   34,\n",
       "          10,    5,    7]),\n",
       " array([0.01801684, 0.01810838, 0.01819992, 0.01829146, 0.018383  ,\n",
       "        0.01847454, 0.01856608, 0.01865762, 0.01874916, 0.0188407 ,\n",
       "        0.01893224, 0.01902378, 0.01911532, 0.01920686, 0.0192984 ,\n",
       "        0.01938994, 0.01948148, 0.01957302, 0.01966456, 0.0197561 ,\n",
       "        0.01984764, 0.01993918, 0.02003072, 0.02012226, 0.0202138 ,\n",
       "        0.02030534, 0.02039688, 0.02048842, 0.02057996, 0.0206715 ,\n",
       "        0.02076304, 0.02085458, 0.02094612, 0.02103766, 0.0211292 ,\n",
       "        0.02122074, 0.02131228, 0.02140382, 0.02149536, 0.0215869 ,\n",
       "        0.02167844, 0.02176998, 0.02186152, 0.02195306, 0.0220446 ,\n",
       "        0.02213614, 0.02222768, 0.02231922]))"
      ]
     },
     "execution_count": 167,
     "metadata": {},
     "output_type": "execute_result"
    }
   ],
   "source": [
    "np.histogram(cls_pred, bins=47)"
   ]
  },
  {
   "cell_type": "code",
   "execution_count": 168,
   "metadata": {},
   "outputs": [
    {
     "data": {
      "text/plain": [
       "array([0.02106465, 0.02103283, 0.02097848, 0.02006232, 0.02108057,\n",
       "       0.02064085, 0.02113947, 0.02113519, 0.02134462, 0.02130676,\n",
       "       0.0215289 , 0.02150811, 0.02149496, 0.02153207, 0.02167819,\n",
       "       0.02161423, 0.02158097, 0.02148946, 0.02137979, 0.02137092,\n",
       "       0.02129187, 0.02135247, 0.0214771 , 0.02134361, 0.02143372,\n",
       "       0.02132352, 0.0214074 , 0.02140503, 0.02137796, 0.0214299 ,\n",
       "       0.02129185, 0.0213317 , 0.02134122, 0.0214512 , 0.02145375,\n",
       "       0.02131503, 0.02126217, 0.02129541, 0.02135928, 0.02137415,\n",
       "       0.02119159, 0.02092621, 0.02103996, 0.02106207, 0.0211175 ,\n",
       "       0.02095565, 0.02142534], dtype=float32)"
      ]
     },
     "execution_count": 168,
     "metadata": {},
     "output_type": "execute_result"
    }
   ],
   "source": [
    "cls_pred[1]"
   ]
  },
  {
   "cell_type": "code",
   "execution_count": 169,
   "metadata": {},
   "outputs": [],
   "source": [
    "y_pred_cls = tf.argmax(cls_pred, axis=1) "
   ]
  },
  {
   "cell_type": "code",
   "execution_count": 170,
   "metadata": {},
   "outputs": [
    {
     "data": {
      "text/plain": [
       "<tf.Tensor 'ArgMax_2:0' shape=(500,) dtype=int64>"
      ]
     },
     "execution_count": 170,
     "metadata": {},
     "output_type": "execute_result"
    }
   ],
   "source": [
    "y_pred_cls"
   ]
  },
  {
   "cell_type": "code",
   "execution_count": 171,
   "metadata": {},
   "outputs": [
    {
     "name": "stdout",
     "output_type": "stream",
     "text": [
      "[14 14 14 15 15 14 15 12 15 15 14 14 10 10 14 14 12 12 12 12 12 12 14 12\n",
      " 10 12 14 12 12 11 12 12 12 35 35 35 12 35 33 20 20 21 20 20 14 14 14 15\n",
      " 15 14 15 15 15 15 14 14 10 10 14 14 12 12 12 12 12 12 14 12 12 12 14 12\n",
      " 12 12 12 12 12 12 12 14 35 35 35 12 35 20 20 21 20 11 14 14 14 15 15 14\n",
      " 15 15 15 14 14 10 10 14 14 12 10 12 12 12 12 12 12 12 12 12 12 12 12 11\n",
      " 12 12 12 35 35 35 12 35 20 20 21 20 20 12 14 14 14 15 15 14 15 12 15 15\n",
      " 14 14 10 10 14 14 12 12 12 12 12 12 14 12 12 12 14 12 12 12 12 12 12 12\n",
      " 12 11 12 12 12 35 35 35 12 35 22 20 20 19 31 20 32 27 24 12 14 14 14 14\n",
      " 15 15 14 15 14 12 15 15 14 14 10 10 14 14 12 12 12 12 12 12 14 12 14 14\n",
      " 14 14 15 15 15 15 15 14 15 12 15 12 12 12 12 12 12 12 12 13 12 12 12 12\n",
      " 12 12 12 12 12 12 12 14 12 35 20 20 21 21 20 17 16 16 16 16 16 16 17 16\n",
      " 16 16 16 16 16 16 14 12 16 16 11 10 15 15 12 12 12 12 12 12 12 15 15 11\n",
      " 11 11 12 12 12 12 15 24 15 12 11 11 11 24 14 11 11 35 35 35 35 35 12 35\n",
      " 36 30 35 34 17 23 30 33 33 33 34 35 23 23 21 21 23 21 32 24 24 24 27 27\n",
      " 35 35 35 35 17 35 15 16 14 14 14 14 14 15 15 14 15 15 15 15 14 14 10 10\n",
      " 14 14 12 12 12 12 12 12 14 12 12 12 12 12 12 12 12 11 12 12 35 35 35 12\n",
      " 35 20 20 21 32 20 35 14 14 14 14 15 15 14 15 15 15 15 14 14 10 10 14 14\n",
      " 12 12 12 12 12 12 14 12 12 12 13 12 12 12 12 12 12 12 12 12 12 12 12 35\n",
      " 35 35 12 35 20 20 21 20 12 11 15 12 14 15 16 14 14 16 14 14 14 15 15 14\n",
      " 15 12 15 15 14 14 10 10 14 14 12 12 12 12 12 12 14 12 12 12 14 12 12 12\n",
      " 12 20 18 18 19 19 19 18 18 18 18 19 18 18 17 17 19 19 33 17]\n"
     ]
    }
   ],
   "source": [
    "init_op = tf.initialize_all_variables()\n",
    "with tf.Session() as sess:\n",
    "        sess.run(init_op)\n",
    "        print (sess.run(y_pred_cls))"
   ]
  },
  {
   "cell_type": "code",
   "execution_count": null,
   "metadata": {},
   "outputs": [],
   "source": []
  },
  {
   "cell_type": "code",
   "execution_count": null,
   "metadata": {},
   "outputs": [],
   "source": []
  }
 ],
 "metadata": {
  "kernelspec": {
   "display_name": "Python 3",
   "language": "python",
   "name": "python3"
  },
  "language_info": {
   "codemirror_mode": {
    "name": "ipython",
    "version": 3
   },
   "file_extension": ".py",
   "mimetype": "text/x-python",
   "name": "python",
   "nbconvert_exporter": "python",
   "pygments_lexer": "ipython3",
   "version": "3.6.4"
  }
 },
 "nbformat": 4,
 "nbformat_minor": 1
}
