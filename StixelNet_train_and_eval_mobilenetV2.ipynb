{
 "cells": [
  {
   "cell_type": "code",
   "execution_count": null,
   "metadata": {
    "collapsed": true
   },
   "outputs": [],
   "source": [
    "########now part 2: decode and train#######"
   ]
  },
  {
   "cell_type": "code",
   "execution_count": 1,
   "metadata": {
    "collapsed": false
   },
   "outputs": [
    {
     "name": "stderr",
     "output_type": "stream",
     "text": [
      "/home/noa_raindel/.TF_cpu_new/lib/python3.5/site-packages/h5py/__init__.py:36: FutureWarning: Conversion of the second argument of issubdtype from `float` to `np.floating` is deprecated. In future, it will be treated as `np.float64 == np.dtype(float).type`.\n",
      "  from ._conv import register_converters as _register_converters\n"
     ]
    },
    {
     "name": "stdout",
     "output_type": "stream",
     "text": [
      "[name: \"/device:CPU:0\"\n",
      "device_type: \"CPU\"\n",
      "memory_limit: 268435456\n",
      "locality {\n",
      "}\n",
      "incarnation: 6059017921265522483\n",
      "]\n"
     ]
    }
   ],
   "source": [
    "from tensorflow.python.client import device_lib\n",
    "print(device_lib.list_local_devices())"
   ]
  },
  {
   "cell_type": "code",
   "execution_count": 2,
   "metadata": {
    "collapsed": false
   },
   "outputs": [
    {
     "name": "stdout",
     "output_type": "stream",
     "text": [
      "WARNING:tensorflow:From /home/noa_raindel/.TF_cpu_new/lib/python3.5/site-packages/tensorflow/contrib/learn/python/learn/datasets/base.py:198: retry (from tensorflow.contrib.learn.python.learn.datasets.base) is deprecated and will be removed in a future version.\n",
      "Instructions for updating:\n",
      "Use the retry module or similar alternatives.\n"
     ]
    }
   ],
   "source": [
    "import tensorflow as tf\n",
    "import tensorflow.contrib.eager as tfe\n",
    "import numpy as np\n",
    "import pandas as pd\n",
    "import math\n",
    "import timeit\n",
    "import matplotlib.pyplot as plt\n",
    "from tensorflow.contrib.layers.python.layers import utils\n",
    "#from preprocess_func_new import *\n",
    "from matplotlib.image import imread\n",
    "import os\n",
    "from os.path import expanduser\n",
    "# from tensorflow.python import keras\n",
    "# from tensorflow.keras.applications.mobileNet import DepthwiseConv2D\n",
    "\n",
    "%matplotlib inline\n",
    "\n",
    "#tf.enable_eager_execution()\n",
    "\n",
    "#tf.logging.set_verbosity(tf.logging.INFO)"
   ]
  },
  {
   "cell_type": "code",
   "execution_count": 3,
   "metadata": {
    "collapsed": true
   },
   "outputs": [],
   "source": [
    "# for auto-reloading external modules\n",
    "# see http://stackoverflow.com/questions/1907993/autoreload-of-modules-in-ipython\n",
    "%load_ext autoreload\n",
    "%autoreload 2"
   ]
  },
  {
   "cell_type": "code",
   "execution_count": 4,
   "metadata": {
    "collapsed": false
   },
   "outputs": [
    {
     "data": {
      "text/plain": [
       "'../datasets/stixels'"
      ]
     },
     "execution_count": 4,
     "metadata": {},
     "output_type": "execute_result"
    }
   ],
   "source": [
    "img_path = os.path.join('..','datasets','stixels')\n",
    "img_path"
   ]
  },
  {
   "cell_type": "code",
   "execution_count": 5,
   "metadata": {
    "collapsed": true
   },
   "outputs": [],
   "source": [
    "percent=2 "
   ]
  },
  {
   "cell_type": "code",
   "execution_count": 6,
   "metadata": {
    "collapsed": true
   },
   "outputs": [],
   "source": [
    "tfrec_batch_size=1 #for path name only"
   ]
  },
  {
   "cell_type": "code",
   "execution_count": 7,
   "metadata": {
    "collapsed": true
   },
   "outputs": [],
   "source": [
    "batch_size=64"
   ]
  },
  {
   "cell_type": "code",
   "execution_count": 8,
   "metadata": {
    "collapsed": false
   },
   "outputs": [
    {
     "data": {
      "text/plain": [
       "'../datasets/stixels/train/tfrec_batch_size_1_precent_2'"
      ]
     },
     "execution_count": 8,
     "metadata": {},
     "output_type": "execute_result"
    }
   ],
   "source": [
    "tfrec_train_directory = os.path.join('..','datasets','stixels','train','tfrec_batch_size_'\n",
    "                                     +str(tfrec_batch_size)+'_precent_'+str(percent))\n",
    "#### note there is a misspelling \"precent\"\n",
    "tfrec_train_directory\n"
   ]
  },
  {
   "cell_type": "code",
   "execution_count": 9,
   "metadata": {
    "collapsed": false
   },
   "outputs": [],
   "source": [
    "#creating a list of paths to train tfrecs:\n",
    "path_tfrecords_train_lst=[]\n",
    "path_tfrecords_train = os.path.join(img_path, 'train')\n",
    "for root, dirs, files in os.walk(tfrec_train_directory):\n",
    "    for file in files:\n",
    "        if '.tfrecord' in file:\n",
    "            path_tfrecords_train_lst.append(os.path.join(tfrec_train_directory,file))\n",
    "        else:\n",
    "            print('WARNING: file ' + file + 'looks suspicious. does it belong here?')\n"
   ]
  },
  {
   "cell_type": "code",
   "execution_count": 10,
   "metadata": {
    "collapsed": true
   },
   "outputs": [],
   "source": [
    "#shortening the list for experiments\n",
    "path_tfrecords_train_lst = path_tfrecords_train_lst[:128]\n",
    "##################"
   ]
  },
  {
   "cell_type": "code",
   "execution_count": 11,
   "metadata": {
    "collapsed": true
   },
   "outputs": [],
   "source": [
    "#params\n",
    "H=370 \n",
    "W=24\n",
    "C=3\n",
    "img_shape = (H, W, C)\n",
    "num_classes = 47"
   ]
  },
  {
   "cell_type": "code",
   "execution_count": 12,
   "metadata": {
    "collapsed": true
   },
   "outputs": [],
   "source": [
    "def parse(serialized):\n",
    "    # Define a dict with the data-names and types we expect to\n",
    "    # find in the TFRecords file.\n",
    "    # It is a bit awkward that this needs to be specified again,\n",
    "    # because it could have been written in the header of the\n",
    "    # TFRecords file instead.\n",
    "    features = \\\n",
    "        {\n",
    "            'image': tf.FixedLenFeature([], tf.string),\n",
    "            'label': tf.FixedLenFeature([], tf.int64)\n",
    "        }\n",
    "\n",
    "    # Parse the serialized data so we get a dict with our data.\n",
    "    parsed_example = tf.parse_single_example(serialized=serialized,\n",
    "                                             features=features)\n",
    "\n",
    "    # Get the image as raw bytes.\n",
    "    image_raw = parsed_example['image']\n",
    "\n",
    "    # Decode the raw bytes so it becomes a tensor with type.\n",
    "    #######image = tf.decode_raw(image_raw, tf.int32) ####\n",
    "    image = tf.image.decode_png(image_raw, channels=3, dtype=tf.uint8) \n",
    "    #image = tf.cast(image, tf.int32)\n",
    "\n",
    "    # The type is now uint8 but we need it to be float.\n",
    "    \n",
    "    image = tf.cast(image, tf.float32) ####\n",
    "    \n",
    "    # Get the label associated with the image.\n",
    "    label = parsed_example['label']\n",
    "\n",
    "    # The image and label are now correct TensorFlow types.\n",
    "    return image, label"
   ]
  },
  {
   "cell_type": "code",
   "execution_count": 13,
   "metadata": {
    "collapsed": true
   },
   "outputs": [],
   "source": [
    "########## a function to print tensor values\n",
    "def print_tensor(tensor):\n",
    "    dataset = tf.data.TFRecordDataset(filenames=[tensor])\n",
    "    dataset = dataset.map(parse)\n",
    "    iterator = dataset.make_one_shot_iterator()\n",
    "    images_batch, labels_batch = iterator.get_next()\n",
    "    x = {'image': images_batch}\n",
    "    y = labels_batch\n",
    "    init_op = tf.initialize_all_variables()\n",
    "\n",
    "    with tf.Session() as sess:\n",
    "        sess.run(init_op)\n",
    "        print (sess.run(y))\n",
    "        #print (sess.run(x))\n",
    "        #return(sess.run(x))\n",
    "    return"
   ]
  },
  {
   "cell_type": "code",
   "execution_count": 67,
   "metadata": {
    "collapsed": false
   },
   "outputs": [
    {
     "name": "stdout",
     "output_type": "stream",
     "text": [
      "18\n",
      "19\n",
      "26\n",
      "15\n",
      "17\n",
      "29\n",
      "46\n",
      "15\n",
      "16\n",
      "15\n",
      "14\n",
      "33\n",
      "16\n",
      "30\n",
      "25\n",
      "8\n",
      "21\n",
      "20\n",
      "27\n",
      "32\n",
      "22\n",
      "15\n",
      "31\n",
      "19\n",
      "26\n",
      "9\n",
      "36\n",
      "36\n",
      "16\n",
      "15\n",
      "10\n",
      "24\n",
      "30\n",
      "35\n",
      "10\n",
      "18\n",
      "24\n",
      "16\n",
      "17\n",
      "21\n",
      "36\n",
      "22\n",
      "26\n",
      "10\n",
      "29\n",
      "15\n",
      "20\n",
      "14\n",
      "16\n",
      "12\n",
      "23\n",
      "24\n",
      "38\n",
      "32\n",
      "30\n",
      "23\n",
      "31\n",
      "14\n",
      "16\n",
      "15\n",
      "17\n",
      "17\n",
      "22\n",
      "33\n",
      "12\n",
      "17\n",
      "30\n",
      "13\n",
      "20\n",
      "11\n",
      "35\n",
      "17\n",
      "34\n",
      "11\n",
      "28\n",
      "10\n",
      "15\n",
      "18\n",
      "14\n",
      "46\n",
      "46\n",
      "25\n",
      "16\n",
      "11\n",
      "15\n",
      "16\n",
      "21\n",
      "18\n",
      "33\n",
      "28\n",
      "26\n",
      "11\n",
      "46\n",
      "35\n",
      "24\n",
      "13\n",
      "15\n",
      "10\n",
      "20\n",
      "35\n",
      "21\n",
      "11\n",
      "32\n",
      "27\n",
      "32\n",
      "13\n",
      "21\n",
      "12\n",
      "18\n",
      "35\n",
      "25\n",
      "15\n",
      "21\n",
      "17\n",
      "24\n",
      "26\n",
      "22\n",
      "18\n",
      "19\n",
      "18\n",
      "14\n",
      "29\n",
      "13\n",
      "13\n",
      "22\n",
      "34\n",
      "24\n",
      "17\n"
     ]
    }
   ],
   "source": [
    "################ try to print the tensors\n",
    "for t in path_tfrecords_train_lst[:128]:\n",
    "    #print (t)\n",
    "    print_tensor(t)\n",
    "    #print(x)"
   ]
  },
  {
   "cell_type": "code",
   "execution_count": 22,
   "metadata": {
    "collapsed": false
   },
   "outputs": [
    {
     "ename": "NameError",
     "evalue": "name 'x' is not defined",
     "output_type": "error",
     "traceback": [
      "\u001b[1;31m---------------------------------------------------------------------------\u001b[0m",
      "\u001b[1;31mNameError\u001b[0m                                 Traceback (most recent call last)",
      "\u001b[1;32m<ipython-input-22-a893ff3f9288>\u001b[0m in \u001b[0;36m<module>\u001b[1;34m()\u001b[0m\n\u001b[0;32m      1\u001b[0m \u001b[1;31m############# print shape of tensor\u001b[0m\u001b[1;33m\u001b[0m\u001b[1;33m\u001b[0m\u001b[0m\n\u001b[1;32m----> 2\u001b[1;33m \u001b[0mx2\u001b[0m\u001b[1;33m=\u001b[0m\u001b[0mtf\u001b[0m\u001b[1;33m.\u001b[0m\u001b[0mSession\u001b[0m\u001b[1;33m(\u001b[0m\u001b[1;33m)\u001b[0m\u001b[1;33m.\u001b[0m\u001b[0mrun\u001b[0m\u001b[1;33m(\u001b[0m\u001b[0mx\u001b[0m\u001b[1;33m[\u001b[0m\u001b[1;34m'image'\u001b[0m\u001b[1;33m]\u001b[0m\u001b[1;33m)\u001b[0m\u001b[1;33m\u001b[0m\u001b[0m\n\u001b[0m\u001b[0;32m      3\u001b[0m \u001b[0mx2\u001b[0m\u001b[1;33m.\u001b[0m\u001b[0mshape\u001b[0m\u001b[1;33m\u001b[0m\u001b[0m\n",
      "\u001b[1;31mNameError\u001b[0m: name 'x' is not defined"
     ]
    }
   ],
   "source": [
    "############# print shape of tensor\n",
    "x2=tf.Session().run(x['image'])\n",
    "x2.shape\n"
   ]
  },
  {
   "cell_type": "code",
   "execution_count": 107,
   "metadata": {
    "collapsed": false
   },
   "outputs": [
    {
     "data": {
      "text/plain": [
       "<matplotlib.image.AxesImage at 0x7fa46a8d0e48>"
      ]
     },
     "execution_count": 107,
     "metadata": {},
     "output_type": "execute_result"
    },
    {
     "data": {
      "image/png": "[encoded data removed]",
      "text/plain": [
       "<matplotlib.figure.Figure at 0x7fa46a75c908>"
      ]
     },
     "metadata": {},
     "output_type": "display_data"
    }
   ],
   "source": [
    "####################. show the parsed stixel\n",
    "import matplotlib\n",
    "%matplotlib inline\n",
    "matplotlib.pyplot.imshow(x2)"
   ]
  },
  {
   "cell_type": "code",
   "execution_count": 13,
   "metadata": {
    "collapsed": true
   },
   "outputs": [],
   "source": [
    "def input_fn(filenames, train, batch_size=batch_size, buffer_size=100000): \n",
    "    # Args:\n",
    "    # filenames:   Filenames for the TFRecords files.\n",
    "    # train:       Boolean whether training (True) or testing (False).\n",
    "    # batch_size:  Return batches of this size.\n",
    "    # buffer_size: Read buffers of this size. The random shuffling\n",
    "    #              is done on the buffer, so it must be big enough.\n",
    "\n",
    "    # Create a TensorFlow Dataset-object which has functionality\n",
    "    # for reading and shuffling data from TFRecords files.\n",
    "    dataset = tf.data.TFRecordDataset(filenames=filenames)\n",
    "\n",
    "    # Parse the serialized data in the TFRecords files.\n",
    "    # This returns TensorFlow tensors for the image and labels.\n",
    "    dataset = dataset.map(parse)\n",
    "    \n",
    "    if train:\n",
    "        # If training then read a buffer of the given size and\n",
    "        # randomly shuffle it.\n",
    "        ######dataset = dataset.shuffle(buffer_size=buffer_size)\n",
    "\n",
    "        # Allow infinite reading of the data.\n",
    "        num_repeat = None #-1\n",
    "    else:\n",
    "        # If testing then don't shuffle the data.\n",
    "        \n",
    "        # Only go through the data once.\n",
    "        num_repeat = 1\n",
    "\n",
    "    # Repeat the dataset the given number of times.\n",
    "    dataset = dataset.repeat(num_repeat)\n",
    "    \n",
    "    # Get a batch of data with the given size.\n",
    "    #dataset = dataset.batch(batch_size)\n",
    "    #dataset = tf.contrib.data.batch_and_drop_remainder(batch_size)\n",
    "    dataset = dataset.apply(tf.contrib.data.batch_and_drop_remainder(batch_size))\n",
    "    print('@@@')\n",
    "    print(dataset.output_shapes)  # ==> \"(16,)\" (the batch dimension is known)\n",
    "    print('@@@')\n",
    "    # Create an iterator for the dataset and the above modifications.\n",
    "    iterator = dataset.make_one_shot_iterator()\n",
    "\n",
    "    # Get the next batch of images and labels.\n",
    "    images_batch, labels_batch = iterator.get_next()\n",
    "\n",
    "    # The input-function must return a dict wrapping the images.\n",
    "    x = {'image': images_batch}\n",
    "    y = labels_batch\n",
    "    \n",
    "    return x, y"
   ]
  },
  {
   "cell_type": "code",
   "execution_count": 14,
   "metadata": {
    "collapsed": true
   },
   "outputs": [],
   "source": [
    "def train_input_fn():\n",
    "    return input_fn(filenames=path_tfrecords_train_lst, train=True)"
   ]
  },
  {
   "cell_type": "code",
   "execution_count": 15,
   "metadata": {
    "collapsed": true
   },
   "outputs": [],
   "source": [
    "# the next four cells are a modification of https://github.com/xiaochus/MobileNetV2/blob/master/mobilenet_v2.py\n",
    "def _conv_block(inputs, filters, kernel, strides, is_training):\n",
    "    \"\"\"Convolution Block\n",
    "    This function defines a 2D convolution operation with BN and relu6.\n",
    "    # Arguments\n",
    "        inputs: Tensor, input tensor of conv layer.\n",
    "        filters: Integer, the dimensionality of the output space.\n",
    "        kernel: An integer or tuple/list of 2 integers, specifying the\n",
    "            width and height of the 2D convolution window.\n",
    "        strides: An integer or tuple/list of 2 integers,\n",
    "            specifying the strides of the convolution along the width and height.\n",
    "            Can be a single integer to specify the same value for\n",
    "            all spatial dimensions.\n",
    "    # Returns\n",
    "        Output tensor.\n",
    "    \"\"\"\n",
    "    x = tf.layers.conv2d(inputs=inputs, \n",
    "                         filters=filters, \n",
    "                         kernel_size=kernel,\n",
    "                         activation=None, \n",
    "                         strides=strides,\n",
    "                         kernel_initializer=tf.contrib.layers.xavier_initializer(seed=481),\n",
    "                         padding='same'\n",
    "                        )\n",
    "    \n",
    "    x = tf.layers.batch_normalization(inputs=x,\n",
    "                                      training=is_training\n",
    "                                     )\n",
    "    \n",
    "    x = tf.nn.relu6(features=x)\n",
    "       \n",
    "    return x\n"
   ]
  },
  {
   "cell_type": "code",
   "execution_count": 16,
   "metadata": {
    "collapsed": true
   },
   "outputs": [],
   "source": [
    "def _bottleneck(inputs, filters, kernel, t, s, is_training, r=False):\n",
    "    \"\"\"Bottleneck\n",
    "    This function defines a basic bottleneck structure.\n",
    "    # Arguments\n",
    "        inputs: Tensor, input tensor of conv layer.\n",
    "        filters: Integer, the dimensionality of the output space.\n",
    "        kernel: An integer or tuple/list of 2 integers, specifying the\n",
    "            width and height of the 2D convolution window.\n",
    "        t: Integer, expansion factor.\n",
    "            t is always applied to the input size.\n",
    "        s: An integer or tuple/list of 2 integers,specifying the strides\n",
    "            of the convolution along the width and height.Can be a single\n",
    "            integer to specify the same value for all spatial dimensions.\n",
    "        r: Boolean, Whether to use the residuals.\n",
    "    # Returns\n",
    "        Output tensor.\n",
    "    \"\"\"\n",
    "\n",
    "    \n",
    "    num_filters_in = utils.last_dimension(inputs.get_shape(), min_rank=4)\n",
    "    \n",
    "    # \"Expension layer\" + BN + activation\n",
    "    x = _conv_block(inputs=inputs, \n",
    "                    filters=num_filters_in*t, \n",
    "                    kernel=(1, 1), \n",
    "                    strides=(1, 1), \n",
    "                    is_training=is_training)\n",
    "    \n",
    "    # Depthwise convolution + BN + activation\n",
    "    x = tf.contrib.layers.separable_conv2d(inputs=x,\n",
    "                                           num_outputs=None,\n",
    "                                           kernel_size=kernel,\n",
    "                                           depth_multiplier=1,\n",
    "                                           stride=(s,s),\n",
    "                                           padding='SAME',\n",
    "                                           activation_fn=tf.nn.relu6,\n",
    "                                           weights_initializer=tf.contrib.layers.xavier_initializer(seed=481),\n",
    "                                           normalizer_fn=None\n",
    "                                          )\n",
    "     \n",
    "    x = tf.layers.batch_normalization(inputs=x, \n",
    "                                      training=is_training\n",
    "                                     )\n",
    "    \n",
    "    x = tf.nn.relu6(features=x)\n",
    "    \n",
    "    # \"Projection\" layer + BN\n",
    "    x = tf.layers.conv2d(inputs=x,\n",
    "                         filters = filters,\n",
    "                         kernel_size = (1, 1),\n",
    "                         strides=(1, 1),\n",
    "                         padding='same',\n",
    "                         kernel_initializer=tf.contrib.layers.xavier_initializer(seed=481)\n",
    "                        )\n",
    "    x = tf.layers.batch_normalization(inputs=x,\n",
    "                                      training=is_training\n",
    "                                     )\n",
    "    \n",
    "    if r:\n",
    "        x = tf.add(x, inputs)\n",
    "        \n",
    "    '''\n",
    "    channel_axis = 1 if K.image_data_format() == 'channels_first' else -1\n",
    "    tchannel = K.int_shape(inputs)[channel_axis] * t\n",
    "    x = _conv_block(inputs, tchannel, (1, 1), (1, 1))\n",
    "    x = DepthwiseConv2D(kernel, strides=(s, s), depth_multiplier=1, padding='same')(x)\n",
    "    x = BatchNormalization(axis=channel_axis)(x)\n",
    "    x = Activation(relu6)(x)\n",
    "\n",
    "    x = Conv2D(filters, (1, 1), strides=(1, 1), padding='same')(x)\n",
    "    x = BatchNormalization(axis=channel_axis)(x)\n",
    "    '''\n",
    "    \n",
    "    return x\n"
   ]
  },
  {
   "cell_type": "code",
   "execution_count": 17,
   "metadata": {
    "collapsed": true
   },
   "outputs": [],
   "source": [
    "def _inverted_residual_block(inputs, filters, kernel, t, strides, n, is_training):\n",
    "    \"\"\"Inverted Residual Block\n",
    "    This function defines a sequence of 1 or more identical layers.\n",
    "    # Arguments\n",
    "        inputs: Tensor, input tensor of conv layer.\n",
    "        filters: Integer, the dimensionality of the output space.\n",
    "        kernel: An integer or tuple/list of 2 integers, specifying the\n",
    "            width and height of the 2D convolution window.\n",
    "        t: Integer, expansion factor.\n",
    "            t is always applied to the input size.\n",
    "        s: An integer or tuple/list of 2 integers,specifying the strides\n",
    "            of the convolution along the width and height.Can be a single\n",
    "            integer to specify the same value for all spatial dimensions.\n",
    "        n: Integer, layer repeat times.\n",
    "    # Returns\n",
    "        Output tensor.\n",
    "    \"\"\"\n",
    "\n",
    "    x = _bottleneck(inputs=inputs, \n",
    "                    filters=filters, \n",
    "                    kernel=kernel, \n",
    "                    t=t, \n",
    "                    s=strides, \n",
    "                    is_training=is_training\n",
    "                   )\n",
    "        \n",
    "    for i in range(1, n):\n",
    "        x = _bottleneck(inputs=x, \n",
    "                        filters=filters, \n",
    "                        kernel=kernel, \n",
    "                        t=t, \n",
    "                        s=1, \n",
    "                        is_training=is_training, \n",
    "                        r=True\n",
    "                       )\n",
    "\n",
    "    return x\n"
   ]
  },
  {
   "cell_type": "code",
   "execution_count": 24,
   "metadata": {
    "collapsed": true
   },
   "outputs": [],
   "source": [
    "def MobileNetV2(inputs, k, is_training):\n",
    "    \"\"\"MobileNetV2\n",
    "    This function defines a MobileNetV2 architectures.\n",
    "    # Arguments\n",
    "        inputs: A tensor of the input of shape [-1,W,H,C].\n",
    "        k: Integer, number of classes.\n",
    "        is_training: boolean indication training or prediction\n",
    "    # Returns\n",
    "        MobileNetV2 model.\n",
    "    \"\"\"\n",
    "\n",
    "    \n",
    "    \n",
    "    \n",
    "    x = _conv_block(inputs=inputs, filters=32, kernel=(3, 3), strides=(2, 2), is_training=is_training)\n",
    "        \n",
    "    x = _inverted_residual_block(inputs=x, filters=16,  kernel=(3, 3), t=1, strides=1, n=1, is_training=is_training)\n",
    "    x = _inverted_residual_block(inputs=x, filters=24,  kernel=(3, 3), t=6, strides=2, n=2, is_training=is_training)\n",
    "    x = _inverted_residual_block(inputs=x, filters=32,  kernel=(3, 3), t=6, strides=2, n=3, is_training=is_training)\n",
    "    x = _inverted_residual_block(inputs=x, filters=64,  kernel=(3, 3), t=6, strides=2, n=4, is_training=is_training)\n",
    "#     x = _inverted_residual_block(inputs=x, filters=96,  kernel=(3, 3), t=6, strides=1, n=3, is_training=is_training)\n",
    "#     x = _inverted_residual_block(inputs=x, filters=160, kernel=(3, 3), t=6, strides=2, n=3, is_training=is_training)\n",
    "#     x = _inverted_residual_block(inputs=x, filters=320, kernel=(3, 3), t=6, strides=1, n=1, is_training=is_training)\n",
    "    \n",
    "    # Eventually this should be replaced with:\n",
    "    x = tf.layers.flatten(x)\n",
    "\n",
    "\n",
    "    # This is the last layer so it does not use an activation function.\n",
    "    x = tf.layers.dense(inputs=x, name='layer_fc6',\n",
    "                          units=k,\n",
    "                          kernel_initializer=tf.contrib.layers.xavier_initializer()\n",
    "                          ) \n",
    "    '''\n",
    "    x = _conv_block(inputs=x, filters=1280, kernel=(1, 1), strides=(1, 1), is_training=is_training)\n",
    "    x = tf.layers.average_pooling2d(inputs=x, pool_size=(2000,2000), strides=(1,1), padding='same')\n",
    "    x = tf.reshape(x, [-1,1,1,1280])\n",
    "    #x = tf.layers.dropout(inputs=x, rate=0.3, seed=481, training=is_training)\n",
    "    x = tf.layers.conv2d(inputs=x,\n",
    "                         filters = k,\n",
    "                         kernel_size = (1, 1),\n",
    "                         padding='same',\n",
    "                         kernel_initializer=tf.contrib.layers.xavier_initializer(seed=481)\n",
    "                        )\n",
    "    '''\n",
    "    '''\n",
    "    x = GlobalAveragePooling2D()(x)\n",
    "    x = Reshape((1, 1, 1280))(x)\n",
    "    x = Dropout(0.3, name='Dropout')(x)\n",
    "    x = Conv2D(k, (1, 1), padding='same')(x)\n",
    "    x = Activation('softmax', name='softmax')(x)\n",
    "    output = Reshape((k,))(x)\n",
    "    '''\n",
    "    \n",
    "\n",
    "    return x"
   ]
  },
  {
   "cell_type": "code",
   "execution_count": 19,
   "metadata": {
    "collapsed": true
   },
   "outputs": [],
   "source": [
    "def model_fn(features, labels, mode, params):\n",
    "    # Args:\n",
    "    #\n",
    "    # features: This is the x-arg from the input_fn.\n",
    "    # labels:   This is the y-arg from the input_fn.\n",
    "    # mode:     Either TRAIN, EVAL, or PREDICT\n",
    "    # params:   User-defined hyper-parameters, e.g. learning-rate.\n",
    "    \n",
    "   \n",
    "    if mode == tf.estimator.ModeKeys.TRAIN:\n",
    "        is_training = True\n",
    "    else:\n",
    "        is_training = False\n",
    "    \n",
    "    # Reference to the tensor named \"image\" in the input-function.    \n",
    "    x = features[\"image\"]\n",
    "    # The convolutional layers expect 4-rank tensors\n",
    "    # but x is a 2-rank tensor, so reshape it.\n",
    "    inputs = tf.reshape(x, [-1,W,H,C])\n",
    "    \n",
    "    net = MobileNetV2(inputs=inputs, k=47, is_training=is_training)\n",
    "    \n",
    "    '''\n",
    "    # First convolutional layer.\n",
    "    net = tf.layers.conv2d(inputs=net, name='layer_conv1',\n",
    "                           filters=32, kernel_size=(3,3),\n",
    "                           activation=tf.nn.leaky_relu, strides=(2,2),\n",
    "                           kernel_initializer=tf.contrib.layers.xavier_initializer(seed=481)\n",
    "                           )\n",
    "    net = tf.layers.separable_conv2d(inputs=net, filters=32,kernel_size=(3,3), strides=(1, 1),\n",
    "                               activation=tf.nn.leaky_relu,\n",
    "                               depthwise_initializer=tf.contrib.layers.xavier_initializer(seed=481),\n",
    "                               pointwise_initializer=tf.contrib.layers.xavier_initializer(seed=481),\n",
    "                               name='layer_conv_dw2',\n",
    "                              )\n",
    "    \n",
    "    net = tf.layers.separable_conv2d(inputs=net, filters=64,kernel_size=(3,3), strides=(2,2),\n",
    "                               activation=tf.nn.leaky_relu,\n",
    "                               depthwise_initializer=tf.contrib.layers.xavier_initializer(seed=481),\n",
    "                               pointwise_initializer=tf.contrib.layers.xavier_initializer(seed=481),\n",
    "                               name='layer_conv_dw3',\n",
    "                              )\n",
    "\n",
    "    net = tf.layers.separable_conv2d(inputs=net, filters=128,kernel_size=(3,3), strides=(1,1),\n",
    "                               activation=tf.nn.leaky_relu,\n",
    "                               depthwise_initializer=tf.contrib.layers.xavier_initializer(seed=481),\n",
    "                               pointwise_initializer=tf.contrib.layers.xavier_initializer(seed=481),\n",
    "                               name='layer_conv_dw4',\n",
    "                              )\n",
    "    net = tf.layers.average_pooling2d(inputs=net, pool_size=(2,88), strides=(1,1), name='layer_pool5')\n",
    "    \n",
    "    # Flatten to a 2-rank tensor.\n",
    "    #net = tf.contrib.layers.flatten(net)\n",
    "    # Eventually this should be replaced with:\n",
    "    net = tf.layers.flatten(net)\n",
    "\n",
    "\n",
    "    # This is the last layer so it does not use an activation function.\n",
    "    net = tf.layers.dense(inputs=net, name='layer_fc6',\n",
    "                          units=47,\n",
    "                          kernel_initializer=tf.contrib.layers.xavier_initializer()\n",
    "                          ) \n",
    "    '''\n",
    "    \n",
    "    # Logits output of the neural network.\n",
    "    logits = net\n",
    "\n",
    "    # Softmax output of the neural network.\n",
    "    y_pred = tf.nn.softmax(logits=logits)\n",
    "    \n",
    "    # Classification output of the neural network.\n",
    "    y_pred_cls = tf.argmax(y_pred, axis=1) \n",
    "   \n",
    "    if mode == tf.estimator.ModeKeys.PREDICT:\n",
    "        # If the estimator is supposed to be in prediction-mode\n",
    "        # then use the predicted class-number that is output by\n",
    "        # the neural network. Optimization etc. is not needed.\n",
    "        \n",
    "        spec = tf.estimator.EstimatorSpec(mode=mode,\n",
    "                                          predictions=y_pred)# _cls)\n",
    "    else:\n",
    "        # Otherwise the estimator is supposed to be in either\n",
    "        # training or evaluation-mode. Note that the loss-function\n",
    "        # is also required in Evaluation mode.\n",
    "        \n",
    "        # Define the loss-function to be optimized, by first\n",
    "        # calculating the cross-entropy between the output of\n",
    "        # the neural network and the true labels for the input data.\n",
    "        # This gives the cross-entropy for each image in the batch.\n",
    "        cross_entropy = tf.nn.sparse_softmax_cross_entropy_with_logits(labels=labels,\n",
    "                                                                       logits=logits)\n",
    "\n",
    "        # Reduce the cross-entropy batch-tensor to a single number\n",
    "        # which can be used in optimization of the neural network.\n",
    "        tf.argmax(logits)\n",
    "        #loss = tf.losses.mean_squared_error(labels=labels, predictions=logits)\n",
    "        loss = tf.reduce_mean(cross_entropy)\n",
    "#######################\n",
    "        lr = 1e-1\n",
    "        step_rate = 1000\n",
    "        decay = 0.5 #if this equals 1 the lr stays the same\n",
    "\n",
    "        #global_step = tf.Variable(0, trainable=False)\n",
    "        #increment_global_step = tf.assign(global_step, global_step + 1)\n",
    "\n",
    "        learning_rate = tf.train.exponential_decay(lr, global_step=tf.train.get_or_create_global_step(), \n",
    "                                           decay_steps=step_rate, decay_rate=decay, staircase=True)\n",
    "        \n",
    "        # Define the optimizer for improving the neural network.\n",
    "        #optimizer = tf.train.AdamOptimizer(learning_rate=learning_rate)\n",
    "        optimizer = tf.train.GradientDescentOptimizer(learning_rate=learning_rate) \n",
    "        \n",
    "        ''' original\n",
    "        # Get the TensorFlow op for doing a single optimization step.\n",
    "        train_op = optimizer.minimize(loss=loss, global_step = tf.train.get_or_create_global_step())\n",
    "        '''\n",
    "        # for learning parameters of batch normalization:\n",
    "        update_ops = tf.get_collection(tf.GraphKeys.UPDATE_OPS)\n",
    "        with tf.control_dependencies(update_ops):\n",
    "            train_op = optimizer.minimize(loss, global_step=tf.train.get_or_create_global_step())\n",
    "        \n",
    "        \n",
    "#############################        \n",
    "\n",
    "\n",
    "        # Define the evaluation metrics,\n",
    "        # in this case the classification accuracy.\n",
    "        metrics = \\\n",
    "        {\n",
    "            \"accuracy\": tf.metrics.accuracy(labels, y_pred_cls) #TODO change acc method\n",
    "        }\n",
    "\n",
    "        # Wrap all of this in an EstimatorSpec.\n",
    "        spec = tf.estimator.EstimatorSpec(\n",
    "            mode=mode,\n",
    "            loss=loss,\n",
    "            train_op=train_op,\n",
    "            eval_metric_ops=metrics)\n",
    "        \n",
    "    return spec"
   ]
  },
  {
   "cell_type": "code",
   "execution_count": 20,
   "metadata": {
    "collapsed": true
   },
   "outputs": [],
   "source": [
    "params = {} #{\"learning_rate\": 1e-5}"
   ]
  },
  {
   "cell_type": "code",
   "execution_count": 21,
   "metadata": {
    "collapsed": true
   },
   "outputs": [],
   "source": [
    "def make_dir_and_comment(model_dir):\n",
    "    home = expanduser(\"~\")\n",
    "    log_name=os.path.join('logs/', model_dir + '.txt')\n",
    "    \n",
    "    if os.path.isdir(model_dir):\n",
    "        print('INFO: dir with name ' + model_dir + ' already exist.')\n",
    "    \n",
    "    new_comment=input('Please add a comment\\n')\n",
    "    \n",
    "    if os.path.exists(log_name):\n",
    "        append_write = 'a' # append if already exists\n",
    "    else:\n",
    "        append_write = 'w' # make a new file if not\n",
    "    \n",
    "    model_log = open(log_name,append_write)\n",
    "    model_log.write(home +' : '+ new_comment + '\\n')\n",
    "    model_log.close()\n",
    "    return\n",
    "\n"
   ]
  },
  {
   "cell_type": "code",
   "execution_count": 25,
   "metadata": {
    "collapsed": false
   },
   "outputs": [
    {
     "name": "stdout",
     "output_type": "stream",
     "text": [
      "Please add a comment\n",
      "fully connected in the last layer\n",
      "INFO:tensorflow:Using default config.\n",
      "INFO:tensorflow:Using config: {'_num_worker_replicas': 1, '_model_dir': './ckpts_27_5_mobilenetV2_partial_midSize2_128examples', '_log_step_count_steps': 100, '_keep_checkpoint_every_n_hours': 10000, '_save_checkpoints_secs': 600, '_session_config': None, '_service': None, '_cluster_spec': <tensorflow.python.training.server_lib.ClusterSpec object at 0x7f86b87f6518>, '_save_checkpoints_steps': None, '_is_chief': True, '_task_type': 'worker', '_task_id': 0, '_tf_random_seed': None, '_evaluation_master': '', '_keep_checkpoint_max': 5, '_num_ps_replicas': 0, '_global_id_in_cluster': 0, '_master': '', '_save_summary_steps': 100}\n"
     ]
    }
   ],
   "source": [
    "model_dir = './ckpts_27_5_mobilenetV2_partial_midSize2_128examples' #'./ckpts_<day>_<month>_<architecture>_<main_change>'\n",
    "make_dir_and_comment(model_dir) \n",
    "model = tf.estimator.Estimator(model_fn=model_fn,\n",
    "                               params=params,\n",
    "                               model_dir=model_dir)"
   ]
  },
  {
   "cell_type": "code",
   "execution_count": 26,
   "metadata": {
    "collapsed": false
   },
   "outputs": [
    {
     "name": "stdout",
     "output_type": "stream",
     "text": [
      "@@@\n",
      "(TensorShape([Dimension(64), Dimension(None), Dimension(None), Dimension(3)]), TensorShape([Dimension(64)]))\n",
      "@@@\n",
      "INFO:tensorflow:Calling model_fn.\n",
      "INFO:tensorflow:Done calling model_fn.\n",
      "INFO:tensorflow:Create CheckpointSaverHook.\n",
      "INFO:tensorflow:Graph was finalized.\n",
      "INFO:tensorflow:Running local_init_op.\n",
      "INFO:tensorflow:Done running local_init_op.\n",
      "INFO:tensorflow:Saving checkpoints for 1 into ./ckpts_27_5_mobilenetV2_partial_midSize2_128examples/model.ckpt.\n",
      "INFO:tensorflow:loss = 8.730365, step = 1\n",
      "INFO:tensorflow:global_step/sec: 0.197717\n",
      "INFO:tensorflow:loss = 0.018775066, step = 101 (505.776 sec)\n"
     ]
    },
    {
     "ename": "KeyboardInterrupt",
     "evalue": "",
     "output_type": "error",
     "traceback": [
      "\u001b[1;31m---------------------------------------------------------------------------\u001b[0m",
      "\u001b[1;31mKeyboardInterrupt\u001b[0m                         Traceback (most recent call last)",
      "\u001b[1;32m<ipython-input-26-5fbd27e5b39c>\u001b[0m in \u001b[0;36m<module>\u001b[1;34m()\u001b[0m\n\u001b[1;32m----> 1\u001b[1;33m \u001b[0mmodel\u001b[0m\u001b[1;33m.\u001b[0m\u001b[0mtrain\u001b[0m\u001b[1;33m(\u001b[0m\u001b[0minput_fn\u001b[0m\u001b[1;33m=\u001b[0m\u001b[0mtrain_input_fn\u001b[0m\u001b[1;33m,\u001b[0m \u001b[0msteps\u001b[0m\u001b[1;33m=\u001b[0m\u001b[1;36m8000\u001b[0m\u001b[1;33m)\u001b[0m\u001b[1;33m\u001b[0m\u001b[0m\n\u001b[0m",
      "\u001b[1;32m/home/noa_raindel/.TF_cpu_new/lib/python3.5/site-packages/tensorflow/python/estimator/estimator.py\u001b[0m in \u001b[0;36mtrain\u001b[1;34m(self, input_fn, hooks, steps, max_steps, saving_listeners)\u001b[0m\n\u001b[0;32m    353\u001b[0m \u001b[1;33m\u001b[0m\u001b[0m\n\u001b[0;32m    354\u001b[0m     \u001b[0msaving_listeners\u001b[0m \u001b[1;33m=\u001b[0m \u001b[0m_check_listeners_type\u001b[0m\u001b[1;33m(\u001b[0m\u001b[0msaving_listeners\u001b[0m\u001b[1;33m)\u001b[0m\u001b[1;33m\u001b[0m\u001b[0m\n\u001b[1;32m--> 355\u001b[1;33m     \u001b[0mloss\u001b[0m \u001b[1;33m=\u001b[0m \u001b[0mself\u001b[0m\u001b[1;33m.\u001b[0m\u001b[0m_train_model\u001b[0m\u001b[1;33m(\u001b[0m\u001b[0minput_fn\u001b[0m\u001b[1;33m,\u001b[0m \u001b[0mhooks\u001b[0m\u001b[1;33m,\u001b[0m \u001b[0msaving_listeners\u001b[0m\u001b[1;33m)\u001b[0m\u001b[1;33m\u001b[0m\u001b[0m\n\u001b[0m\u001b[0;32m    356\u001b[0m     \u001b[0mlogging\u001b[0m\u001b[1;33m.\u001b[0m\u001b[0minfo\u001b[0m\u001b[1;33m(\u001b[0m\u001b[1;34m'Loss for final step: %s.'\u001b[0m\u001b[1;33m,\u001b[0m \u001b[0mloss\u001b[0m\u001b[1;33m)\u001b[0m\u001b[1;33m\u001b[0m\u001b[0m\n\u001b[0;32m    357\u001b[0m     \u001b[1;32mreturn\u001b[0m \u001b[0mself\u001b[0m\u001b[1;33m\u001b[0m\u001b[0m\n",
      "\u001b[1;32m/home/noa_raindel/.TF_cpu_new/lib/python3.5/site-packages/tensorflow/python/estimator/estimator.py\u001b[0m in \u001b[0;36m_train_model\u001b[1;34m(self, input_fn, hooks, saving_listeners)\u001b[0m\n\u001b[0;32m    901\u001b[0m         \u001b[0mloss\u001b[0m \u001b[1;33m=\u001b[0m \u001b[1;32mNone\u001b[0m\u001b[1;33m\u001b[0m\u001b[0m\n\u001b[0;32m    902\u001b[0m         \u001b[1;32mwhile\u001b[0m \u001b[1;32mnot\u001b[0m \u001b[0mmon_sess\u001b[0m\u001b[1;33m.\u001b[0m\u001b[0mshould_stop\u001b[0m\u001b[1;33m(\u001b[0m\u001b[1;33m)\u001b[0m\u001b[1;33m:\u001b[0m\u001b[1;33m\u001b[0m\u001b[0m\n\u001b[1;32m--> 903\u001b[1;33m           \u001b[0m_\u001b[0m\u001b[1;33m,\u001b[0m \u001b[0mloss\u001b[0m \u001b[1;33m=\u001b[0m \u001b[0mmon_sess\u001b[0m\u001b[1;33m.\u001b[0m\u001b[0mrun\u001b[0m\u001b[1;33m(\u001b[0m\u001b[1;33m[\u001b[0m\u001b[0mestimator_spec\u001b[0m\u001b[1;33m.\u001b[0m\u001b[0mtrain_op\u001b[0m\u001b[1;33m,\u001b[0m \u001b[0mestimator_spec\u001b[0m\u001b[1;33m.\u001b[0m\u001b[0mloss\u001b[0m\u001b[1;33m]\u001b[0m\u001b[1;33m)\u001b[0m\u001b[1;33m\u001b[0m\u001b[0m\n\u001b[0m\u001b[0;32m    904\u001b[0m       \u001b[1;32mreturn\u001b[0m \u001b[0mloss\u001b[0m\u001b[1;33m\u001b[0m\u001b[0m\n\u001b[0;32m    905\u001b[0m \u001b[1;33m\u001b[0m\u001b[0m\n",
      "\u001b[1;32m/home/noa_raindel/.TF_cpu_new/lib/python3.5/site-packages/tensorflow/python/training/monitored_session.py\u001b[0m in \u001b[0;36mrun\u001b[1;34m(self, fetches, feed_dict, options, run_metadata)\u001b[0m\n\u001b[0;32m    544\u001b[0m                           \u001b[0mfeed_dict\u001b[0m\u001b[1;33m=\u001b[0m\u001b[0mfeed_dict\u001b[0m\u001b[1;33m,\u001b[0m\u001b[1;33m\u001b[0m\u001b[0m\n\u001b[0;32m    545\u001b[0m                           \u001b[0moptions\u001b[0m\u001b[1;33m=\u001b[0m\u001b[0moptions\u001b[0m\u001b[1;33m,\u001b[0m\u001b[1;33m\u001b[0m\u001b[0m\n\u001b[1;32m--> 546\u001b[1;33m                           run_metadata=run_metadata)\n\u001b[0m\u001b[0;32m    547\u001b[0m \u001b[1;33m\u001b[0m\u001b[0m\n\u001b[0;32m    548\u001b[0m   \u001b[1;32mdef\u001b[0m \u001b[0mrun_step_fn\u001b[0m\u001b[1;33m(\u001b[0m\u001b[0mself\u001b[0m\u001b[1;33m,\u001b[0m \u001b[0mstep_fn\u001b[0m\u001b[1;33m)\u001b[0m\u001b[1;33m:\u001b[0m\u001b[1;33m\u001b[0m\u001b[0m\n",
      "\u001b[1;32m/home/noa_raindel/.TF_cpu_new/lib/python3.5/site-packages/tensorflow/python/training/monitored_session.py\u001b[0m in \u001b[0;36mrun\u001b[1;34m(self, fetches, feed_dict, options, run_metadata)\u001b[0m\n\u001b[0;32m   1020\u001b[0m                               \u001b[0mfeed_dict\u001b[0m\u001b[1;33m=\u001b[0m\u001b[0mfeed_dict\u001b[0m\u001b[1;33m,\u001b[0m\u001b[1;33m\u001b[0m\u001b[0m\n\u001b[0;32m   1021\u001b[0m                               \u001b[0moptions\u001b[0m\u001b[1;33m=\u001b[0m\u001b[0moptions\u001b[0m\u001b[1;33m,\u001b[0m\u001b[1;33m\u001b[0m\u001b[0m\n\u001b[1;32m-> 1022\u001b[1;33m                               run_metadata=run_metadata)\n\u001b[0m\u001b[0;32m   1023\u001b[0m       \u001b[1;32mexcept\u001b[0m \u001b[0m_PREEMPTION_ERRORS\u001b[0m \u001b[1;32mas\u001b[0m \u001b[0me\u001b[0m\u001b[1;33m:\u001b[0m\u001b[1;33m\u001b[0m\u001b[0m\n\u001b[0;32m   1024\u001b[0m         logging.info('An error was raised. This may be due to a preemption in '\n",
      "\u001b[1;32m/home/noa_raindel/.TF_cpu_new/lib/python3.5/site-packages/tensorflow/python/training/monitored_session.py\u001b[0m in \u001b[0;36mrun\u001b[1;34m(self, *args, **kwargs)\u001b[0m\n\u001b[0;32m   1096\u001b[0m   \u001b[1;32mdef\u001b[0m \u001b[0mrun\u001b[0m\u001b[1;33m(\u001b[0m\u001b[0mself\u001b[0m\u001b[1;33m,\u001b[0m \u001b[1;33m*\u001b[0m\u001b[0margs\u001b[0m\u001b[1;33m,\u001b[0m \u001b[1;33m**\u001b[0m\u001b[0mkwargs\u001b[0m\u001b[1;33m)\u001b[0m\u001b[1;33m:\u001b[0m\u001b[1;33m\u001b[0m\u001b[0m\n\u001b[0;32m   1097\u001b[0m     \u001b[1;32mtry\u001b[0m\u001b[1;33m:\u001b[0m\u001b[1;33m\u001b[0m\u001b[0m\n\u001b[1;32m-> 1098\u001b[1;33m       \u001b[1;32mreturn\u001b[0m \u001b[0mself\u001b[0m\u001b[1;33m.\u001b[0m\u001b[0m_sess\u001b[0m\u001b[1;33m.\u001b[0m\u001b[0mrun\u001b[0m\u001b[1;33m(\u001b[0m\u001b[1;33m*\u001b[0m\u001b[0margs\u001b[0m\u001b[1;33m,\u001b[0m \u001b[1;33m**\u001b[0m\u001b[0mkwargs\u001b[0m\u001b[1;33m)\u001b[0m\u001b[1;33m\u001b[0m\u001b[0m\n\u001b[0m\u001b[0;32m   1099\u001b[0m     \u001b[1;32mexcept\u001b[0m \u001b[0m_PREEMPTION_ERRORS\u001b[0m\u001b[1;33m:\u001b[0m\u001b[1;33m\u001b[0m\u001b[0m\n\u001b[0;32m   1100\u001b[0m       \u001b[1;32mraise\u001b[0m\u001b[1;33m\u001b[0m\u001b[0m\n",
      "\u001b[1;32m/home/noa_raindel/.TF_cpu_new/lib/python3.5/site-packages/tensorflow/python/training/monitored_session.py\u001b[0m in \u001b[0;36mrun\u001b[1;34m(self, fetches, feed_dict, options, run_metadata)\u001b[0m\n\u001b[0;32m   1168\u001b[0m                                   \u001b[0mfeed_dict\u001b[0m\u001b[1;33m=\u001b[0m\u001b[0mfeed_dict\u001b[0m\u001b[1;33m,\u001b[0m\u001b[1;33m\u001b[0m\u001b[0m\n\u001b[0;32m   1169\u001b[0m                                   \u001b[0moptions\u001b[0m\u001b[1;33m=\u001b[0m\u001b[0moptions\u001b[0m\u001b[1;33m,\u001b[0m\u001b[1;33m\u001b[0m\u001b[0m\n\u001b[1;32m-> 1170\u001b[1;33m                                   run_metadata=run_metadata)\n\u001b[0m\u001b[0;32m   1171\u001b[0m \u001b[1;33m\u001b[0m\u001b[0m\n\u001b[0;32m   1172\u001b[0m     \u001b[1;32mfor\u001b[0m \u001b[0mhook\u001b[0m \u001b[1;32min\u001b[0m \u001b[0mself\u001b[0m\u001b[1;33m.\u001b[0m\u001b[0m_hooks\u001b[0m\u001b[1;33m:\u001b[0m\u001b[1;33m\u001b[0m\u001b[0m\n",
      "\u001b[1;32m/home/noa_raindel/.TF_cpu_new/lib/python3.5/site-packages/tensorflow/python/training/monitored_session.py\u001b[0m in \u001b[0;36mrun\u001b[1;34m(self, *args, **kwargs)\u001b[0m\n\u001b[0;32m    948\u001b[0m \u001b[1;33m\u001b[0m\u001b[0m\n\u001b[0;32m    949\u001b[0m   \u001b[1;32mdef\u001b[0m \u001b[0mrun\u001b[0m\u001b[1;33m(\u001b[0m\u001b[0mself\u001b[0m\u001b[1;33m,\u001b[0m \u001b[1;33m*\u001b[0m\u001b[0margs\u001b[0m\u001b[1;33m,\u001b[0m \u001b[1;33m**\u001b[0m\u001b[0mkwargs\u001b[0m\u001b[1;33m)\u001b[0m\u001b[1;33m:\u001b[0m\u001b[1;33m\u001b[0m\u001b[0m\n\u001b[1;32m--> 950\u001b[1;33m     \u001b[1;32mreturn\u001b[0m \u001b[0mself\u001b[0m\u001b[1;33m.\u001b[0m\u001b[0m_sess\u001b[0m\u001b[1;33m.\u001b[0m\u001b[0mrun\u001b[0m\u001b[1;33m(\u001b[0m\u001b[1;33m*\u001b[0m\u001b[0margs\u001b[0m\u001b[1;33m,\u001b[0m \u001b[1;33m**\u001b[0m\u001b[0mkwargs\u001b[0m\u001b[1;33m)\u001b[0m\u001b[1;33m\u001b[0m\u001b[0m\n\u001b[0m\u001b[0;32m    951\u001b[0m \u001b[1;33m\u001b[0m\u001b[0m\n\u001b[0;32m    952\u001b[0m   \u001b[1;32mdef\u001b[0m \u001b[0mrun_step_fn\u001b[0m\u001b[1;33m(\u001b[0m\u001b[0mself\u001b[0m\u001b[1;33m,\u001b[0m \u001b[0mstep_fn\u001b[0m\u001b[1;33m,\u001b[0m \u001b[0mraw_session\u001b[0m\u001b[1;33m,\u001b[0m \u001b[0mrun_with_hooks\u001b[0m\u001b[1;33m)\u001b[0m\u001b[1;33m:\u001b[0m\u001b[1;33m\u001b[0m\u001b[0m\n",
      "\u001b[1;32m/home/noa_raindel/.TF_cpu_new/lib/python3.5/site-packages/tensorflow/python/client/session.py\u001b[0m in \u001b[0;36mrun\u001b[1;34m(self, fetches, feed_dict, options, run_metadata)\u001b[0m\n\u001b[0;32m    903\u001b[0m     \u001b[1;32mtry\u001b[0m\u001b[1;33m:\u001b[0m\u001b[1;33m\u001b[0m\u001b[0m\n\u001b[0;32m    904\u001b[0m       result = self._run(None, fetches, feed_dict, options_ptr,\n\u001b[1;32m--> 905\u001b[1;33m                          run_metadata_ptr)\n\u001b[0m\u001b[0;32m    906\u001b[0m       \u001b[1;32mif\u001b[0m \u001b[0mrun_metadata\u001b[0m\u001b[1;33m:\u001b[0m\u001b[1;33m\u001b[0m\u001b[0m\n\u001b[0;32m    907\u001b[0m         \u001b[0mproto_data\u001b[0m \u001b[1;33m=\u001b[0m \u001b[0mtf_session\u001b[0m\u001b[1;33m.\u001b[0m\u001b[0mTF_GetBuffer\u001b[0m\u001b[1;33m(\u001b[0m\u001b[0mrun_metadata_ptr\u001b[0m\u001b[1;33m)\u001b[0m\u001b[1;33m\u001b[0m\u001b[0m\n",
      "\u001b[1;32m/home/noa_raindel/.TF_cpu_new/lib/python3.5/site-packages/tensorflow/python/client/session.py\u001b[0m in \u001b[0;36m_run\u001b[1;34m(self, handle, fetches, feed_dict, options, run_metadata)\u001b[0m\n\u001b[0;32m   1138\u001b[0m     \u001b[1;32mif\u001b[0m \u001b[0mfinal_fetches\u001b[0m \u001b[1;32mor\u001b[0m \u001b[0mfinal_targets\u001b[0m \u001b[1;32mor\u001b[0m \u001b[1;33m(\u001b[0m\u001b[0mhandle\u001b[0m \u001b[1;32mand\u001b[0m \u001b[0mfeed_dict_tensor\u001b[0m\u001b[1;33m)\u001b[0m\u001b[1;33m:\u001b[0m\u001b[1;33m\u001b[0m\u001b[0m\n\u001b[0;32m   1139\u001b[0m       results = self._do_run(handle, final_targets, final_fetches,\n\u001b[1;32m-> 1140\u001b[1;33m                              feed_dict_tensor, options, run_metadata)\n\u001b[0m\u001b[0;32m   1141\u001b[0m     \u001b[1;32melse\u001b[0m\u001b[1;33m:\u001b[0m\u001b[1;33m\u001b[0m\u001b[0m\n\u001b[0;32m   1142\u001b[0m       \u001b[0mresults\u001b[0m \u001b[1;33m=\u001b[0m \u001b[1;33m[\u001b[0m\u001b[1;33m]\u001b[0m\u001b[1;33m\u001b[0m\u001b[0m\n",
      "\u001b[1;32m/home/noa_raindel/.TF_cpu_new/lib/python3.5/site-packages/tensorflow/python/client/session.py\u001b[0m in \u001b[0;36m_do_run\u001b[1;34m(self, handle, target_list, fetch_list, feed_dict, options, run_metadata)\u001b[0m\n\u001b[0;32m   1319\u001b[0m     \u001b[1;32mif\u001b[0m \u001b[0mhandle\u001b[0m \u001b[1;32mis\u001b[0m \u001b[1;32mNone\u001b[0m\u001b[1;33m:\u001b[0m\u001b[1;33m\u001b[0m\u001b[0m\n\u001b[0;32m   1320\u001b[0m       return self._do_call(_run_fn, feeds, fetches, targets, options,\n\u001b[1;32m-> 1321\u001b[1;33m                            run_metadata)\n\u001b[0m\u001b[0;32m   1322\u001b[0m     \u001b[1;32melse\u001b[0m\u001b[1;33m:\u001b[0m\u001b[1;33m\u001b[0m\u001b[0m\n\u001b[0;32m   1323\u001b[0m       \u001b[1;32mreturn\u001b[0m \u001b[0mself\u001b[0m\u001b[1;33m.\u001b[0m\u001b[0m_do_call\u001b[0m\u001b[1;33m(\u001b[0m\u001b[0m_prun_fn\u001b[0m\u001b[1;33m,\u001b[0m \u001b[0mhandle\u001b[0m\u001b[1;33m,\u001b[0m \u001b[0mfeeds\u001b[0m\u001b[1;33m,\u001b[0m \u001b[0mfetches\u001b[0m\u001b[1;33m)\u001b[0m\u001b[1;33m\u001b[0m\u001b[0m\n",
      "\u001b[1;32m/home/noa_raindel/.TF_cpu_new/lib/python3.5/site-packages/tensorflow/python/client/session.py\u001b[0m in \u001b[0;36m_do_call\u001b[1;34m(self, fn, *args)\u001b[0m\n\u001b[0;32m   1325\u001b[0m   \u001b[1;32mdef\u001b[0m \u001b[0m_do_call\u001b[0m\u001b[1;33m(\u001b[0m\u001b[0mself\u001b[0m\u001b[1;33m,\u001b[0m \u001b[0mfn\u001b[0m\u001b[1;33m,\u001b[0m \u001b[1;33m*\u001b[0m\u001b[0margs\u001b[0m\u001b[1;33m)\u001b[0m\u001b[1;33m:\u001b[0m\u001b[1;33m\u001b[0m\u001b[0m\n\u001b[0;32m   1326\u001b[0m     \u001b[1;32mtry\u001b[0m\u001b[1;33m:\u001b[0m\u001b[1;33m\u001b[0m\u001b[0m\n\u001b[1;32m-> 1327\u001b[1;33m       \u001b[1;32mreturn\u001b[0m \u001b[0mfn\u001b[0m\u001b[1;33m(\u001b[0m\u001b[1;33m*\u001b[0m\u001b[0margs\u001b[0m\u001b[1;33m)\u001b[0m\u001b[1;33m\u001b[0m\u001b[0m\n\u001b[0m\u001b[0;32m   1328\u001b[0m     \u001b[1;32mexcept\u001b[0m \u001b[0merrors\u001b[0m\u001b[1;33m.\u001b[0m\u001b[0mOpError\u001b[0m \u001b[1;32mas\u001b[0m \u001b[0me\u001b[0m\u001b[1;33m:\u001b[0m\u001b[1;33m\u001b[0m\u001b[0m\n\u001b[0;32m   1329\u001b[0m       \u001b[0mmessage\u001b[0m \u001b[1;33m=\u001b[0m \u001b[0mcompat\u001b[0m\u001b[1;33m.\u001b[0m\u001b[0mas_text\u001b[0m\u001b[1;33m(\u001b[0m\u001b[0me\u001b[0m\u001b[1;33m.\u001b[0m\u001b[0mmessage\u001b[0m\u001b[1;33m)\u001b[0m\u001b[1;33m\u001b[0m\u001b[0m\n",
      "\u001b[1;32m/home/noa_raindel/.TF_cpu_new/lib/python3.5/site-packages/tensorflow/python/client/session.py\u001b[0m in \u001b[0;36m_run_fn\u001b[1;34m(feed_dict, fetch_list, target_list, options, run_metadata)\u001b[0m\n\u001b[0;32m   1310\u001b[0m       \u001b[0mself\u001b[0m\u001b[1;33m.\u001b[0m\u001b[0m_extend_graph\u001b[0m\u001b[1;33m(\u001b[0m\u001b[1;33m)\u001b[0m\u001b[1;33m\u001b[0m\u001b[0m\n\u001b[0;32m   1311\u001b[0m       return self._call_tf_sessionrun(\n\u001b[1;32m-> 1312\u001b[1;33m           options, feed_dict, fetch_list, target_list, run_metadata)\n\u001b[0m\u001b[0;32m   1313\u001b[0m \u001b[1;33m\u001b[0m\u001b[0m\n\u001b[0;32m   1314\u001b[0m     \u001b[1;32mdef\u001b[0m \u001b[0m_prun_fn\u001b[0m\u001b[1;33m(\u001b[0m\u001b[0mhandle\u001b[0m\u001b[1;33m,\u001b[0m \u001b[0mfeed_dict\u001b[0m\u001b[1;33m,\u001b[0m \u001b[0mfetch_list\u001b[0m\u001b[1;33m)\u001b[0m\u001b[1;33m:\u001b[0m\u001b[1;33m\u001b[0m\u001b[0m\n",
      "\u001b[1;32m/home/noa_raindel/.TF_cpu_new/lib/python3.5/site-packages/tensorflow/python/client/session.py\u001b[0m in \u001b[0;36m_call_tf_sessionrun\u001b[1;34m(self, options, feed_dict, fetch_list, target_list, run_metadata)\u001b[0m\n\u001b[0;32m   1418\u001b[0m         return tf_session.TF_Run(\n\u001b[0;32m   1419\u001b[0m             \u001b[0mself\u001b[0m\u001b[1;33m.\u001b[0m\u001b[0m_session\u001b[0m\u001b[1;33m,\u001b[0m \u001b[0moptions\u001b[0m\u001b[1;33m,\u001b[0m \u001b[0mfeed_dict\u001b[0m\u001b[1;33m,\u001b[0m \u001b[0mfetch_list\u001b[0m\u001b[1;33m,\u001b[0m \u001b[0mtarget_list\u001b[0m\u001b[1;33m,\u001b[0m\u001b[1;33m\u001b[0m\u001b[0m\n\u001b[1;32m-> 1420\u001b[1;33m             status, run_metadata)\n\u001b[0m\u001b[0;32m   1421\u001b[0m \u001b[1;33m\u001b[0m\u001b[0m\n\u001b[0;32m   1422\u001b[0m   \u001b[1;32mdef\u001b[0m \u001b[0m_call_tf_sessionprun\u001b[0m\u001b[1;33m(\u001b[0m\u001b[0mself\u001b[0m\u001b[1;33m,\u001b[0m \u001b[0mhandle\u001b[0m\u001b[1;33m,\u001b[0m \u001b[0mfeed_dict\u001b[0m\u001b[1;33m,\u001b[0m \u001b[0mfetch_list\u001b[0m\u001b[1;33m)\u001b[0m\u001b[1;33m:\u001b[0m\u001b[1;33m\u001b[0m\u001b[0m\n",
      "\u001b[1;31mKeyboardInterrupt\u001b[0m: "
     ]
    }
   ],
   "source": [
    "model.train(input_fn=train_input_fn, steps=8000)"
   ]
  },
  {
   "cell_type": "code",
   "execution_count": 115,
   "metadata": {
    "collapsed": true
   },
   "outputs": [],
   "source": [
    "###DONE TRAIN###"
   ]
  },
  {
   "cell_type": "code",
   "execution_count": null,
   "metadata": {
    "collapsed": true
   },
   "outputs": [],
   "source": [
    "#VAL:"
   ]
  },
  {
   "cell_type": "code",
   "execution_count": 41,
   "metadata": {
    "collapsed": true
   },
   "outputs": [],
   "source": [
    "tfrec_val_batch_size=1"
   ]
  },
  {
   "cell_type": "code",
   "execution_count": 46,
   "metadata": {
    "collapsed": true
   },
   "outputs": [],
   "source": [
    "tfrec_val_directory = os.path.join('..','datasets','stixels','val','tfrec_batch_size_'+str(tfrec_val_batch_size))#+'_percent_'+str(percent))"
   ]
  },
  {
   "cell_type": "code",
   "execution_count": 48,
   "metadata": {
    "collapsed": true
   },
   "outputs": [],
   "source": [
    "path_tfrecords_val_lst=[]\n",
    "path_tfrecords_val = os.path.join(img_path, 'val')\n",
    "for root, dirs, files in os.walk(tfrec_val_directory):\n",
    "    for file in files:\n",
    "        if '.tfrecord' in file:\n",
    "            path_tfrecords_val_lst.append(os.path.join(tfrec_val_directory,file))\n",
    "        else:\n",
    "            print('WARNING: file ' + file + 'looks suspicious. does it belong here?')"
   ]
  },
  {
   "cell_type": "code",
   "execution_count": 49,
   "metadata": {
    "collapsed": false
   },
   "outputs": [
    {
     "data": {
      "text/plain": [
       "['../datasets/stixels/val/tfrec_batch_size_1/val021379.tfrecords',\n",
       " '../datasets/stixels/val/tfrec_batch_size_1/val044008.tfrecords',\n",
       " '../datasets/stixels/val/tfrec_batch_size_1/val103765.tfrecords',\n",
       " '../datasets/stixels/val/tfrec_batch_size_1/val000285.tfrecords',\n",
       " '../datasets/stixels/val/tfrec_batch_size_1/val024869.tfrecords',\n",
       " '../datasets/stixels/val/tfrec_batch_size_1/val075925.tfrecords',\n",
       " '../datasets/stixels/val/tfrec_batch_size_1/val096073.tfrecords',\n",
       " '../datasets/stixels/val/tfrec_batch_size_1/val078704.tfrecords',\n",
       " '../datasets/stixels/val/tfrec_batch_size_1/val070831.tfrecords',\n",
       " '../datasets/stixels/val/tfrec_batch_size_1/val088318.tfrecords',\n",
       " '../datasets/stixels/val/tfrec_batch_size_1/val047893.tfrecords',\n",
       " '../datasets/stixels/val/tfrec_batch_size_1/val057968.tfrecords',\n",
       " '../datasets/stixels/val/tfrec_batch_size_1/val041699.tfrecords',\n",
       " '../datasets/stixels/val/tfrec_batch_size_1/val114648.tfrecords',\n",
       " '../datasets/stixels/val/tfrec_batch_size_1/val034548.tfrecords',\n",
       " '../datasets/stixels/val/tfrec_batch_size_1/val022530.tfrecords',\n",
       " '../datasets/stixels/val/tfrec_batch_size_1/val007044.tfrecords',\n",
       " '../datasets/stixels/val/tfrec_batch_size_1/val062725.tfrecords',\n",
       " '../datasets/stixels/val/tfrec_batch_size_1/val069031.tfrecords',\n",
       " '../datasets/stixels/val/tfrec_batch_size_1/val048159.tfrecords',\n",
       " '../datasets/stixels/val/tfrec_batch_size_1/val080367.tfrecords',\n",
       " '../datasets/stixels/val/tfrec_batch_size_1/val117861.tfrecords',\n",
       " '../datasets/stixels/val/tfrec_batch_size_1/val053003.tfrecords',\n",
       " '../datasets/stixels/val/tfrec_batch_size_1/val074194.tfrecords',\n",
       " '../datasets/stixels/val/tfrec_batch_size_1/val102725.tfrecords',\n",
       " '../datasets/stixels/val/tfrec_batch_size_1/val081008.tfrecords',\n",
       " '../datasets/stixels/val/tfrec_batch_size_1/val076860.tfrecords',\n",
       " '../datasets/stixels/val/tfrec_batch_size_1/val082765.tfrecords',\n",
       " '../datasets/stixels/val/tfrec_batch_size_1/val008372.tfrecords',\n",
       " '../datasets/stixels/val/tfrec_batch_size_1/val106577.tfrecords',\n",
       " '../datasets/stixels/val/tfrec_batch_size_1/val068906.tfrecords',\n",
       " '../datasets/stixels/val/tfrec_batch_size_1/val117488.tfrecords',\n",
       " '../datasets/stixels/val/tfrec_batch_size_1/val021658.tfrecords',\n",
       " '../datasets/stixels/val/tfrec_batch_size_1/val080392.tfrecords',\n",
       " '../datasets/stixels/val/tfrec_batch_size_1/val063226.tfrecords',\n",
       " '../datasets/stixels/val/tfrec_batch_size_1/val025111.tfrecords',\n",
       " '../datasets/stixels/val/tfrec_batch_size_1/val082533.tfrecords',\n",
       " '../datasets/stixels/val/tfrec_batch_size_1/val070633.tfrecords',\n",
       " '../datasets/stixels/val/tfrec_batch_size_1/val092258.tfrecords',\n",
       " '../datasets/stixels/val/tfrec_batch_size_1/val011306.tfrecords',\n",
       " '../datasets/stixels/val/tfrec_batch_size_1/val005866.tfrecords',\n",
       " '../datasets/stixels/val/tfrec_batch_size_1/val020557.tfrecords',\n",
       " '../datasets/stixels/val/tfrec_batch_size_1/val073618.tfrecords',\n",
       " '../datasets/stixels/val/tfrec_batch_size_1/val094161.tfrecords',\n",
       " '../datasets/stixels/val/tfrec_batch_size_1/val075980.tfrecords',\n",
       " '../datasets/stixels/val/tfrec_batch_size_1/val117500.tfrecords',\n",
       " '../datasets/stixels/val/tfrec_batch_size_1/val099172.tfrecords',\n",
       " '../datasets/stixels/val/tfrec_batch_size_1/val099386.tfrecords',\n",
       " '../datasets/stixels/val/tfrec_batch_size_1/val065938.tfrecords',\n",
       " '../datasets/stixels/val/tfrec_batch_size_1/val081562.tfrecords',\n",
       " '../datasets/stixels/val/tfrec_batch_size_1/val001438.tfrecords',\n",
       " '../datasets/stixels/val/tfrec_batch_size_1/val103413.tfrecords',\n",
       " '../datasets/stixels/val/tfrec_batch_size_1/val031513.tfrecords',\n",
       " '../datasets/stixels/val/tfrec_batch_size_1/val059715.tfrecords',\n",
       " '../datasets/stixels/val/tfrec_batch_size_1/val056964.tfrecords',\n",
       " '../datasets/stixels/val/tfrec_batch_size_1/val050913.tfrecords',\n",
       " '../datasets/stixels/val/tfrec_batch_size_1/val096364.tfrecords',\n",
       " '../datasets/stixels/val/tfrec_batch_size_1/val094014.tfrecords',\n",
       " '../datasets/stixels/val/tfrec_batch_size_1/val000977.tfrecords',\n",
       " '../datasets/stixels/val/tfrec_batch_size_1/val032091.tfrecords',\n",
       " '../datasets/stixels/val/tfrec_batch_size_1/val111096.tfrecords',\n",
       " '../datasets/stixels/val/tfrec_batch_size_1/val014726.tfrecords',\n",
       " '../datasets/stixels/val/tfrec_batch_size_1/val030263.tfrecords',\n",
       " '../datasets/stixels/val/tfrec_batch_size_1/val071387.tfrecords',\n",
       " '../datasets/stixels/val/tfrec_batch_size_1/val054518.tfrecords',\n",
       " '../datasets/stixels/val/tfrec_batch_size_1/val111986.tfrecords',\n",
       " '../datasets/stixels/val/tfrec_batch_size_1/val022516.tfrecords',\n",
       " '../datasets/stixels/val/tfrec_batch_size_1/val023318.tfrecords',\n",
       " '../datasets/stixels/val/tfrec_batch_size_1/val065816.tfrecords',\n",
       " '../datasets/stixels/val/tfrec_batch_size_1/val093219.tfrecords',\n",
       " '../datasets/stixels/val/tfrec_batch_size_1/val106579.tfrecords',\n",
       " '../datasets/stixels/val/tfrec_batch_size_1/val035742.tfrecords',\n",
       " '../datasets/stixels/val/tfrec_batch_size_1/val004340.tfrecords',\n",
       " '../datasets/stixels/val/tfrec_batch_size_1/val005758.tfrecords',\n",
       " '../datasets/stixels/val/tfrec_batch_size_1/val053401.tfrecords',\n",
       " '../datasets/stixels/val/tfrec_batch_size_1/val016492.tfrecords',\n",
       " '../datasets/stixels/val/tfrec_batch_size_1/val041045.tfrecords',\n",
       " '../datasets/stixels/val/tfrec_batch_size_1/val110309.tfrecords',\n",
       " '../datasets/stixels/val/tfrec_batch_size_1/val019845.tfrecords',\n",
       " '../datasets/stixels/val/tfrec_batch_size_1/val051989.tfrecords',\n",
       " '../datasets/stixels/val/tfrec_batch_size_1/val089706.tfrecords',\n",
       " '../datasets/stixels/val/tfrec_batch_size_1/val112126.tfrecords',\n",
       " '../datasets/stixels/val/tfrec_batch_size_1/val080589.tfrecords',\n",
       " '../datasets/stixels/val/tfrec_batch_size_1/val044084.tfrecords',\n",
       " '../datasets/stixels/val/tfrec_batch_size_1/val101879.tfrecords',\n",
       " '../datasets/stixels/val/tfrec_batch_size_1/val097079.tfrecords',\n",
       " '../datasets/stixels/val/tfrec_batch_size_1/val001676.tfrecords',\n",
       " '../datasets/stixels/val/tfrec_batch_size_1/val029147.tfrecords',\n",
       " '../datasets/stixels/val/tfrec_batch_size_1/val076129.tfrecords',\n",
       " '../datasets/stixels/val/tfrec_batch_size_1/val117333.tfrecords',\n",
       " '../datasets/stixels/val/tfrec_batch_size_1/val025897.tfrecords',\n",
       " '../datasets/stixels/val/tfrec_batch_size_1/val045310.tfrecords',\n",
       " '../datasets/stixels/val/tfrec_batch_size_1/val014519.tfrecords',\n",
       " '../datasets/stixels/val/tfrec_batch_size_1/val104297.tfrecords',\n",
       " '../datasets/stixels/val/tfrec_batch_size_1/val024798.tfrecords',\n",
       " '../datasets/stixels/val/tfrec_batch_size_1/val076939.tfrecords',\n",
       " '../datasets/stixels/val/tfrec_batch_size_1/val053205.tfrecords',\n",
       " '../datasets/stixels/val/tfrec_batch_size_1/val036203.tfrecords',\n",
       " '../datasets/stixels/val/tfrec_batch_size_1/val013469.tfrecords',\n",
       " '../datasets/stixels/val/tfrec_batch_size_1/val063776.tfrecords',\n",
       " '../datasets/stixels/val/tfrec_batch_size_1/val070270.tfrecords',\n",
       " '../datasets/stixels/val/tfrec_batch_size_1/val078812.tfrecords',\n",
       " '../datasets/stixels/val/tfrec_batch_size_1/val026606.tfrecords',\n",
       " '../datasets/stixels/val/tfrec_batch_size_1/val065149.tfrecords',\n",
       " '../datasets/stixels/val/tfrec_batch_size_1/val033515.tfrecords',\n",
       " '../datasets/stixels/val/tfrec_batch_size_1/val040392.tfrecords',\n",
       " '../datasets/stixels/val/tfrec_batch_size_1/val005176.tfrecords',\n",
       " '../datasets/stixels/val/tfrec_batch_size_1/val081930.tfrecords',\n",
       " '../datasets/stixels/val/tfrec_batch_size_1/val017914.tfrecords',\n",
       " '../datasets/stixels/val/tfrec_batch_size_1/val000663.tfrecords',\n",
       " '../datasets/stixels/val/tfrec_batch_size_1/val093974.tfrecords',\n",
       " '../datasets/stixels/val/tfrec_batch_size_1/val079327.tfrecords',\n",
       " '../datasets/stixels/val/tfrec_batch_size_1/val080227.tfrecords',\n",
       " '../datasets/stixels/val/tfrec_batch_size_1/val064699.tfrecords',\n",
       " '../datasets/stixels/val/tfrec_batch_size_1/val076515.tfrecords',\n",
       " '../datasets/stixels/val/tfrec_batch_size_1/val096693.tfrecords',\n",
       " '../datasets/stixels/val/tfrec_batch_size_1/val021557.tfrecords',\n",
       " '../datasets/stixels/val/tfrec_batch_size_1/val114774.tfrecords',\n",
       " '../datasets/stixels/val/tfrec_batch_size_1/val002688.tfrecords',\n",
       " '../datasets/stixels/val/tfrec_batch_size_1/val097599.tfrecords',\n",
       " '../datasets/stixels/val/tfrec_batch_size_1/val060430.tfrecords',\n",
       " '../datasets/stixels/val/tfrec_batch_size_1/val091171.tfrecords',\n",
       " '../datasets/stixels/val/tfrec_batch_size_1/val068147.tfrecords',\n",
       " '../datasets/stixels/val/tfrec_batch_size_1/val116115.tfrecords',\n",
       " '../datasets/stixels/val/tfrec_batch_size_1/val036667.tfrecords',\n",
       " '../datasets/stixels/val/tfrec_batch_size_1/val051306.tfrecords',\n",
       " '../datasets/stixels/val/tfrec_batch_size_1/val079311.tfrecords',\n",
       " '../datasets/stixels/val/tfrec_batch_size_1/val054215.tfrecords',\n",
       " '../datasets/stixels/val/tfrec_batch_size_1/val023096.tfrecords',\n",
       " '../datasets/stixels/val/tfrec_batch_size_1/val035794.tfrecords',\n",
       " '../datasets/stixels/val/tfrec_batch_size_1/val082667.tfrecords',\n",
       " '../datasets/stixels/val/tfrec_batch_size_1/val081857.tfrecords',\n",
       " '../datasets/stixels/val/tfrec_batch_size_1/val042742.tfrecords',\n",
       " '../datasets/stixels/val/tfrec_batch_size_1/val077863.tfrecords',\n",
       " '../datasets/stixels/val/tfrec_batch_size_1/val109743.tfrecords',\n",
       " '../datasets/stixels/val/tfrec_batch_size_1/val057590.tfrecords',\n",
       " '../datasets/stixels/val/tfrec_batch_size_1/val104328.tfrecords',\n",
       " '../datasets/stixels/val/tfrec_batch_size_1/val117790.tfrecords',\n",
       " '../datasets/stixels/val/tfrec_batch_size_1/val023369.tfrecords',\n",
       " '../datasets/stixels/val/tfrec_batch_size_1/val057985.tfrecords',\n",
       " '../datasets/stixels/val/tfrec_batch_size_1/val096246.tfrecords',\n",
       " '../datasets/stixels/val/tfrec_batch_size_1/val100743.tfrecords',\n",
       " '../datasets/stixels/val/tfrec_batch_size_1/val023518.tfrecords',\n",
       " '../datasets/stixels/val/tfrec_batch_size_1/val089735.tfrecords',\n",
       " '../datasets/stixels/val/tfrec_batch_size_1/val056979.tfrecords',\n",
       " '../datasets/stixels/val/tfrec_batch_size_1/val066338.tfrecords',\n",
       " '../datasets/stixels/val/tfrec_batch_size_1/val028932.tfrecords',\n",
       " '../datasets/stixels/val/tfrec_batch_size_1/val062224.tfrecords',\n",
       " '../datasets/stixels/val/tfrec_batch_size_1/val086726.tfrecords',\n",
       " '../datasets/stixels/val/tfrec_batch_size_1/val010638.tfrecords',\n",
       " '../datasets/stixels/val/tfrec_batch_size_1/val018613.tfrecords',\n",
       " '../datasets/stixels/val/tfrec_batch_size_1/val016344.tfrecords',\n",
       " '../datasets/stixels/val/tfrec_batch_size_1/val045000.tfrecords',\n",
       " '../datasets/stixels/val/tfrec_batch_size_1/val116786.tfrecords',\n",
       " '../datasets/stixels/val/tfrec_batch_size_1/val110909.tfrecords',\n",
       " '../datasets/stixels/val/tfrec_batch_size_1/val094724.tfrecords',\n",
       " '../datasets/stixels/val/tfrec_batch_size_1/val041029.tfrecords',\n",
       " '../datasets/stixels/val/tfrec_batch_size_1/val003301.tfrecords',\n",
       " '../datasets/stixels/val/tfrec_batch_size_1/val048632.tfrecords',\n",
       " '../datasets/stixels/val/tfrec_batch_size_1/val102972.tfrecords',\n",
       " '../datasets/stixels/val/tfrec_batch_size_1/val035375.tfrecords',\n",
       " '../datasets/stixels/val/tfrec_batch_size_1/val031818.tfrecords',\n",
       " '../datasets/stixels/val/tfrec_batch_size_1/val113088.tfrecords',\n",
       " '../datasets/stixels/val/tfrec_batch_size_1/val040925.tfrecords',\n",
       " '../datasets/stixels/val/tfrec_batch_size_1/val026235.tfrecords',\n",
       " '../datasets/stixels/val/tfrec_batch_size_1/val018192.tfrecords',\n",
       " '../datasets/stixels/val/tfrec_batch_size_1/val100164.tfrecords',\n",
       " '../datasets/stixels/val/tfrec_batch_size_1/val058737.tfrecords',\n",
       " '../datasets/stixels/val/tfrec_batch_size_1/val112038.tfrecords',\n",
       " '../datasets/stixels/val/tfrec_batch_size_1/val091560.tfrecords',\n",
       " '../datasets/stixels/val/tfrec_batch_size_1/val039082.tfrecords',\n",
       " '../datasets/stixels/val/tfrec_batch_size_1/val007141.tfrecords',\n",
       " '../datasets/stixels/val/tfrec_batch_size_1/val114400.tfrecords',\n",
       " '../datasets/stixels/val/tfrec_batch_size_1/val019505.tfrecords',\n",
       " '../datasets/stixels/val/tfrec_batch_size_1/val003227.tfrecords',\n",
       " '../datasets/stixels/val/tfrec_batch_size_1/val048738.tfrecords',\n",
       " '../datasets/stixels/val/tfrec_batch_size_1/val069240.tfrecords',\n",
       " '../datasets/stixels/val/tfrec_batch_size_1/val040844.tfrecords',\n",
       " '../datasets/stixels/val/tfrec_batch_size_1/val005668.tfrecords',\n",
       " '../datasets/stixels/val/tfrec_batch_size_1/val111775.tfrecords',\n",
       " '../datasets/stixels/val/tfrec_batch_size_1/val022343.tfrecords',\n",
       " '../datasets/stixels/val/tfrec_batch_size_1/val016266.tfrecords',\n",
       " '../datasets/stixels/val/tfrec_batch_size_1/val041403.tfrecords',\n",
       " '../datasets/stixels/val/tfrec_batch_size_1/val092558.tfrecords',\n",
       " '../datasets/stixels/val/tfrec_batch_size_1/val098096.tfrecords',\n",
       " '../datasets/stixels/val/tfrec_batch_size_1/val061779.tfrecords',\n",
       " '../datasets/stixels/val/tfrec_batch_size_1/val031474.tfrecords',\n",
       " '../datasets/stixels/val/tfrec_batch_size_1/val051729.tfrecords',\n",
       " '../datasets/stixels/val/tfrec_batch_size_1/val035103.tfrecords',\n",
       " '../datasets/stixels/val/tfrec_batch_size_1/val041936.tfrecords',\n",
       " '../datasets/stixels/val/tfrec_batch_size_1/val102363.tfrecords',\n",
       " '../datasets/stixels/val/tfrec_batch_size_1/val053199.tfrecords',\n",
       " '../datasets/stixels/val/tfrec_batch_size_1/val107601.tfrecords',\n",
       " '../datasets/stixels/val/tfrec_batch_size_1/val006836.tfrecords',\n",
       " '../datasets/stixels/val/tfrec_batch_size_1/val091843.tfrecords',\n",
       " '../datasets/stixels/val/tfrec_batch_size_1/val074300.tfrecords',\n",
       " '../datasets/stixels/val/tfrec_batch_size_1/val075259.tfrecords',\n",
       " '../datasets/stixels/val/tfrec_batch_size_1/val080701.tfrecords',\n",
       " '../datasets/stixels/val/tfrec_batch_size_1/val103446.tfrecords',\n",
       " '../datasets/stixels/val/tfrec_batch_size_1/val100762.tfrecords',\n",
       " '../datasets/stixels/val/tfrec_batch_size_1/val116399.tfrecords',\n",
       " '../datasets/stixels/val/tfrec_batch_size_1/val035468.tfrecords',\n",
       " '../datasets/stixels/val/tfrec_batch_size_1/val085330.tfrecords',\n",
       " '../datasets/stixels/val/tfrec_batch_size_1/val094226.tfrecords',\n",
       " '../datasets/stixels/val/tfrec_batch_size_1/val113058.tfrecords',\n",
       " '../datasets/stixels/val/tfrec_batch_size_1/val046047.tfrecords',\n",
       " '../datasets/stixels/val/tfrec_batch_size_1/val015315.tfrecords',\n",
       " '../datasets/stixels/val/tfrec_batch_size_1/val091522.tfrecords',\n",
       " '../datasets/stixels/val/tfrec_batch_size_1/val044642.tfrecords',\n",
       " '../datasets/stixels/val/tfrec_batch_size_1/val117122.tfrecords',\n",
       " '../datasets/stixels/val/tfrec_batch_size_1/val073026.tfrecords',\n",
       " '../datasets/stixels/val/tfrec_batch_size_1/val027459.tfrecords',\n",
       " '../datasets/stixels/val/tfrec_batch_size_1/val097582.tfrecords',\n",
       " '../datasets/stixels/val/tfrec_batch_size_1/val055928.tfrecords',\n",
       " '../datasets/stixels/val/tfrec_batch_size_1/val003926.tfrecords',\n",
       " '../datasets/stixels/val/tfrec_batch_size_1/val048261.tfrecords',\n",
       " '../datasets/stixels/val/tfrec_batch_size_1/val061977.tfrecords',\n",
       " '../datasets/stixels/val/tfrec_batch_size_1/val021980.tfrecords',\n",
       " '../datasets/stixels/val/tfrec_batch_size_1/val116559.tfrecords',\n",
       " '../datasets/stixels/val/tfrec_batch_size_1/val032477.tfrecords',\n",
       " '../datasets/stixels/val/tfrec_batch_size_1/val032823.tfrecords',\n",
       " '../datasets/stixels/val/tfrec_batch_size_1/val035592.tfrecords',\n",
       " '../datasets/stixels/val/tfrec_batch_size_1/val097902.tfrecords',\n",
       " '../datasets/stixels/val/tfrec_batch_size_1/val045033.tfrecords',\n",
       " '../datasets/stixels/val/tfrec_batch_size_1/val073977.tfrecords',\n",
       " '../datasets/stixels/val/tfrec_batch_size_1/val035461.tfrecords',\n",
       " '../datasets/stixels/val/tfrec_batch_size_1/val105268.tfrecords',\n",
       " '../datasets/stixels/val/tfrec_batch_size_1/val079342.tfrecords',\n",
       " '../datasets/stixels/val/tfrec_batch_size_1/val075865.tfrecords',\n",
       " '../datasets/stixels/val/tfrec_batch_size_1/val001952.tfrecords',\n",
       " '../datasets/stixels/val/tfrec_batch_size_1/val042890.tfrecords',\n",
       " '../datasets/stixels/val/tfrec_batch_size_1/val101798.tfrecords',\n",
       " '../datasets/stixels/val/tfrec_batch_size_1/val061370.tfrecords',\n",
       " '../datasets/stixels/val/tfrec_batch_size_1/val029502.tfrecords',\n",
       " '../datasets/stixels/val/tfrec_batch_size_1/val081859.tfrecords',\n",
       " '../datasets/stixels/val/tfrec_batch_size_1/val005489.tfrecords',\n",
       " '../datasets/stixels/val/tfrec_batch_size_1/val088473.tfrecords',\n",
       " '../datasets/stixels/val/tfrec_batch_size_1/val012728.tfrecords',\n",
       " '../datasets/stixels/val/tfrec_batch_size_1/val071794.tfrecords',\n",
       " '../datasets/stixels/val/tfrec_batch_size_1/val056717.tfrecords',\n",
       " '../datasets/stixels/val/tfrec_batch_size_1/val064686.tfrecords',\n",
       " '../datasets/stixels/val/tfrec_batch_size_1/val060074.tfrecords',\n",
       " '../datasets/stixels/val/tfrec_batch_size_1/val040190.tfrecords',\n",
       " '../datasets/stixels/val/tfrec_batch_size_1/val060651.tfrecords',\n",
       " '../datasets/stixels/val/tfrec_batch_size_1/val074876.tfrecords',\n",
       " '../datasets/stixels/val/tfrec_batch_size_1/val106278.tfrecords',\n",
       " '../datasets/stixels/val/tfrec_batch_size_1/val077364.tfrecords',\n",
       " '../datasets/stixels/val/tfrec_batch_size_1/val053149.tfrecords',\n",
       " '../datasets/stixels/val/tfrec_batch_size_1/val032372.tfrecords',\n",
       " '../datasets/stixels/val/tfrec_batch_size_1/val022835.tfrecords',\n",
       " '../datasets/stixels/val/tfrec_batch_size_1/val079553.tfrecords',\n",
       " '../datasets/stixels/val/tfrec_batch_size_1/val010877.tfrecords',\n",
       " '../datasets/stixels/val/tfrec_batch_size_1/val058562.tfrecords',\n",
       " '../datasets/stixels/val/tfrec_batch_size_1/val001646.tfrecords',\n",
       " '../datasets/stixels/val/tfrec_batch_size_1/val103627.tfrecords',\n",
       " '../datasets/stixels/val/tfrec_batch_size_1/val057107.tfrecords',\n",
       " '../datasets/stixels/val/tfrec_batch_size_1/val037805.tfrecords',\n",
       " '../datasets/stixels/val/tfrec_batch_size_1/val090967.tfrecords',\n",
       " '../datasets/stixels/val/tfrec_batch_size_1/val081866.tfrecords',\n",
       " '../datasets/stixels/val/tfrec_batch_size_1/val041067.tfrecords',\n",
       " '../datasets/stixels/val/tfrec_batch_size_1/val099575.tfrecords',\n",
       " '../datasets/stixels/val/tfrec_batch_size_1/val064725.tfrecords',\n",
       " '../datasets/stixels/val/tfrec_batch_size_1/val031424.tfrecords',\n",
       " '../datasets/stixels/val/tfrec_batch_size_1/val002622.tfrecords',\n",
       " '../datasets/stixels/val/tfrec_batch_size_1/val099407.tfrecords',\n",
       " '../datasets/stixels/val/tfrec_batch_size_1/val091935.tfrecords',\n",
       " '../datasets/stixels/val/tfrec_batch_size_1/val016190.tfrecords',\n",
       " '../datasets/stixels/val/tfrec_batch_size_1/val001966.tfrecords',\n",
       " '../datasets/stixels/val/tfrec_batch_size_1/val078365.tfrecords',\n",
       " '../datasets/stixels/val/tfrec_batch_size_1/val044085.tfrecords',\n",
       " '../datasets/stixels/val/tfrec_batch_size_1/val034066.tfrecords',\n",
       " '../datasets/stixels/val/tfrec_batch_size_1/val082429.tfrecords',\n",
       " '../datasets/stixels/val/tfrec_batch_size_1/val109551.tfrecords',\n",
       " '../datasets/stixels/val/tfrec_batch_size_1/val066157.tfrecords',\n",
       " '../datasets/stixels/val/tfrec_batch_size_1/val009266.tfrecords',\n",
       " '../datasets/stixels/val/tfrec_batch_size_1/val079075.tfrecords',\n",
       " '../datasets/stixels/val/tfrec_batch_size_1/val033501.tfrecords',\n",
       " '../datasets/stixels/val/tfrec_batch_size_1/val077353.tfrecords',\n",
       " '../datasets/stixels/val/tfrec_batch_size_1/val029085.tfrecords',\n",
       " '../datasets/stixels/val/tfrec_batch_size_1/val014563.tfrecords',\n",
       " '../datasets/stixels/val/tfrec_batch_size_1/val092092.tfrecords',\n",
       " '../datasets/stixels/val/tfrec_batch_size_1/val103875.tfrecords',\n",
       " '../datasets/stixels/val/tfrec_batch_size_1/val044321.tfrecords',\n",
       " '../datasets/stixels/val/tfrec_batch_size_1/val076743.tfrecords',\n",
       " '../datasets/stixels/val/tfrec_batch_size_1/val068587.tfrecords',\n",
       " '../datasets/stixels/val/tfrec_batch_size_1/val007394.tfrecords',\n",
       " '../datasets/stixels/val/tfrec_batch_size_1/val042222.tfrecords',\n",
       " '../datasets/stixels/val/tfrec_batch_size_1/val031723.tfrecords',\n",
       " '../datasets/stixels/val/tfrec_batch_size_1/val067432.tfrecords',\n",
       " '../datasets/stixels/val/tfrec_batch_size_1/val073619.tfrecords',\n",
       " '../datasets/stixels/val/tfrec_batch_size_1/val116741.tfrecords',\n",
       " '../datasets/stixels/val/tfrec_batch_size_1/val113611.tfrecords',\n",
       " '../datasets/stixels/val/tfrec_batch_size_1/val046110.tfrecords',\n",
       " '../datasets/stixels/val/tfrec_batch_size_1/val040780.tfrecords',\n",
       " '../datasets/stixels/val/tfrec_batch_size_1/val062144.tfrecords',\n",
       " '../datasets/stixels/val/tfrec_batch_size_1/val009845.tfrecords',\n",
       " '../datasets/stixels/val/tfrec_batch_size_1/val106512.tfrecords',\n",
       " '../datasets/stixels/val/tfrec_batch_size_1/val036912.tfrecords',\n",
       " '../datasets/stixels/val/tfrec_batch_size_1/val038387.tfrecords',\n",
       " '../datasets/stixels/val/tfrec_batch_size_1/val100941.tfrecords',\n",
       " '../datasets/stixels/val/tfrec_batch_size_1/val047336.tfrecords',\n",
       " '../datasets/stixels/val/tfrec_batch_size_1/val019444.tfrecords',\n",
       " '../datasets/stixels/val/tfrec_batch_size_1/val066853.tfrecords',\n",
       " '../datasets/stixels/val/tfrec_batch_size_1/val059978.tfrecords',\n",
       " '../datasets/stixels/val/tfrec_batch_size_1/val002588.tfrecords',\n",
       " '../datasets/stixels/val/tfrec_batch_size_1/val057295.tfrecords',\n",
       " '../datasets/stixels/val/tfrec_batch_size_1/val068991.tfrecords',\n",
       " '../datasets/stixels/val/tfrec_batch_size_1/val023138.tfrecords',\n",
       " '../datasets/stixels/val/tfrec_batch_size_1/val010527.tfrecords',\n",
       " '../datasets/stixels/val/tfrec_batch_size_1/val047943.tfrecords',\n",
       " '../datasets/stixels/val/tfrec_batch_size_1/val019675.tfrecords',\n",
       " '../datasets/stixels/val/tfrec_batch_size_1/val047997.tfrecords',\n",
       " '../datasets/stixels/val/tfrec_batch_size_1/val030874.tfrecords',\n",
       " '../datasets/stixels/val/tfrec_batch_size_1/val002585.tfrecords',\n",
       " '../datasets/stixels/val/tfrec_batch_size_1/val010189.tfrecords',\n",
       " '../datasets/stixels/val/tfrec_batch_size_1/val039919.tfrecords',\n",
       " '../datasets/stixels/val/tfrec_batch_size_1/val075243.tfrecords',\n",
       " '../datasets/stixels/val/tfrec_batch_size_1/val097300.tfrecords',\n",
       " '../datasets/stixels/val/tfrec_batch_size_1/val058657.tfrecords',\n",
       " '../datasets/stixels/val/tfrec_batch_size_1/val057732.tfrecords',\n",
       " '../datasets/stixels/val/tfrec_batch_size_1/val099799.tfrecords',\n",
       " '../datasets/stixels/val/tfrec_batch_size_1/val110413.tfrecords',\n",
       " '../datasets/stixels/val/tfrec_batch_size_1/val109232.tfrecords',\n",
       " '../datasets/stixels/val/tfrec_batch_size_1/val072121.tfrecords',\n",
       " '../datasets/stixels/val/tfrec_batch_size_1/val021887.tfrecords',\n",
       " '../datasets/stixels/val/tfrec_batch_size_1/val113372.tfrecords',\n",
       " '../datasets/stixels/val/tfrec_batch_size_1/val117142.tfrecords',\n",
       " '../datasets/stixels/val/tfrec_batch_size_1/val109035.tfrecords',\n",
       " '../datasets/stixels/val/tfrec_batch_size_1/val032276.tfrecords',\n",
       " '../datasets/stixels/val/tfrec_batch_size_1/val048366.tfrecords',\n",
       " '../datasets/stixels/val/tfrec_batch_size_1/val045325.tfrecords',\n",
       " '../datasets/stixels/val/tfrec_batch_size_1/val019188.tfrecords',\n",
       " '../datasets/stixels/val/tfrec_batch_size_1/val020959.tfrecords',\n",
       " '../datasets/stixels/val/tfrec_batch_size_1/val087123.tfrecords',\n",
       " '../datasets/stixels/val/tfrec_batch_size_1/val087105.tfrecords',\n",
       " '../datasets/stixels/val/tfrec_batch_size_1/val056775.tfrecords',\n",
       " '../datasets/stixels/val/tfrec_batch_size_1/val055173.tfrecords',\n",
       " '../datasets/stixels/val/tfrec_batch_size_1/val081566.tfrecords',\n",
       " '../datasets/stixels/val/tfrec_batch_size_1/val030205.tfrecords',\n",
       " '../datasets/stixels/val/tfrec_batch_size_1/val095269.tfrecords',\n",
       " '../datasets/stixels/val/tfrec_batch_size_1/val057254.tfrecords',\n",
       " '../datasets/stixels/val/tfrec_batch_size_1/val051108.tfrecords',\n",
       " '../datasets/stixels/val/tfrec_batch_size_1/val077959.tfrecords',\n",
       " '../datasets/stixels/val/tfrec_batch_size_1/val078767.tfrecords',\n",
       " '../datasets/stixels/val/tfrec_batch_size_1/val106841.tfrecords',\n",
       " '../datasets/stixels/val/tfrec_batch_size_1/val070960.tfrecords',\n",
       " '../datasets/stixels/val/tfrec_batch_size_1/val048566.tfrecords',\n",
       " '../datasets/stixels/val/tfrec_batch_size_1/val016560.tfrecords',\n",
       " '../datasets/stixels/val/tfrec_batch_size_1/val083390.tfrecords',\n",
       " '../datasets/stixels/val/tfrec_batch_size_1/val023832.tfrecords',\n",
       " '../datasets/stixels/val/tfrec_batch_size_1/val005977.tfrecords',\n",
       " '../datasets/stixels/val/tfrec_batch_size_1/val041116.tfrecords',\n",
       " '../datasets/stixels/val/tfrec_batch_size_1/val079407.tfrecords',\n",
       " '../datasets/stixels/val/tfrec_batch_size_1/val053638.tfrecords',\n",
       " '../datasets/stixels/val/tfrec_batch_size_1/val038111.tfrecords',\n",
       " '../datasets/stixels/val/tfrec_batch_size_1/val021186.tfrecords',\n",
       " '../datasets/stixels/val/tfrec_batch_size_1/val050737.tfrecords',\n",
       " '../datasets/stixels/val/tfrec_batch_size_1/val027904.tfrecords',\n",
       " '../datasets/stixels/val/tfrec_batch_size_1/val046128.tfrecords',\n",
       " '../datasets/stixels/val/tfrec_batch_size_1/val054520.tfrecords',\n",
       " '../datasets/stixels/val/tfrec_batch_size_1/val103318.tfrecords',\n",
       " '../datasets/stixels/val/tfrec_batch_size_1/val059589.tfrecords',\n",
       " '../datasets/stixels/val/tfrec_batch_size_1/val072459.tfrecords',\n",
       " '../datasets/stixels/val/tfrec_batch_size_1/val014590.tfrecords',\n",
       " '../datasets/stixels/val/tfrec_batch_size_1/val086035.tfrecords',\n",
       " '../datasets/stixels/val/tfrec_batch_size_1/val084567.tfrecords',\n",
       " '../datasets/stixels/val/tfrec_batch_size_1/val110153.tfrecords',\n",
       " '../datasets/stixels/val/tfrec_batch_size_1/val094141.tfrecords',\n",
       " '../datasets/stixels/val/tfrec_batch_size_1/val029954.tfrecords',\n",
       " '../datasets/stixels/val/tfrec_batch_size_1/val072430.tfrecords',\n",
       " '../datasets/stixels/val/tfrec_batch_size_1/val003581.tfrecords',\n",
       " '../datasets/stixels/val/tfrec_batch_size_1/val038931.tfrecords',\n",
       " '../datasets/stixels/val/tfrec_batch_size_1/val076831.tfrecords',\n",
       " '../datasets/stixels/val/tfrec_batch_size_1/val099565.tfrecords',\n",
       " '../datasets/stixels/val/tfrec_batch_size_1/val099954.tfrecords',\n",
       " '../datasets/stixels/val/tfrec_batch_size_1/val004466.tfrecords',\n",
       " '../datasets/stixels/val/tfrec_batch_size_1/val021122.tfrecords',\n",
       " '../datasets/stixels/val/tfrec_batch_size_1/val076253.tfrecords',\n",
       " '../datasets/stixels/val/tfrec_batch_size_1/val070841.tfrecords',\n",
       " '../datasets/stixels/val/tfrec_batch_size_1/val062976.tfrecords',\n",
       " '../datasets/stixels/val/tfrec_batch_size_1/val080137.tfrecords',\n",
       " '../datasets/stixels/val/tfrec_batch_size_1/val078421.tfrecords',\n",
       " '../datasets/stixels/val/tfrec_batch_size_1/val005065.tfrecords',\n",
       " '../datasets/stixels/val/tfrec_batch_size_1/val003586.tfrecords',\n",
       " '../datasets/stixels/val/tfrec_batch_size_1/val067846.tfrecords',\n",
       " '../datasets/stixels/val/tfrec_batch_size_1/val109071.tfrecords',\n",
       " '../datasets/stixels/val/tfrec_batch_size_1/val031882.tfrecords',\n",
       " '../datasets/stixels/val/tfrec_batch_size_1/val055734.tfrecords',\n",
       " '../datasets/stixels/val/tfrec_batch_size_1/val082572.tfrecords',\n",
       " '../datasets/stixels/val/tfrec_batch_size_1/val034367.tfrecords',\n",
       " '../datasets/stixels/val/tfrec_batch_size_1/val063301.tfrecords',\n",
       " '../datasets/stixels/val/tfrec_batch_size_1/val013294.tfrecords',\n",
       " '../datasets/stixels/val/tfrec_batch_size_1/val001800.tfrecords',\n",
       " '../datasets/stixels/val/tfrec_batch_size_1/val040324.tfrecords',\n",
       " '../datasets/stixels/val/tfrec_batch_size_1/val080371.tfrecords',\n",
       " '../datasets/stixels/val/tfrec_batch_size_1/val047838.tfrecords',\n",
       " '../datasets/stixels/val/tfrec_batch_size_1/val091839.tfrecords',\n",
       " '../datasets/stixels/val/tfrec_batch_size_1/val042252.tfrecords',\n",
       " '../datasets/stixels/val/tfrec_batch_size_1/val065650.tfrecords',\n",
       " '../datasets/stixels/val/tfrec_batch_size_1/val045533.tfrecords',\n",
       " '../datasets/stixels/val/tfrec_batch_size_1/val039577.tfrecords',\n",
       " '../datasets/stixels/val/tfrec_batch_size_1/val001877.tfrecords',\n",
       " '../datasets/stixels/val/tfrec_batch_size_1/val080628.tfrecords',\n",
       " '../datasets/stixels/val/tfrec_batch_size_1/val099766.tfrecords',\n",
       " '../datasets/stixels/val/tfrec_batch_size_1/val083408.tfrecords',\n",
       " '../datasets/stixels/val/tfrec_batch_size_1/val060134.tfrecords',\n",
       " '../datasets/stixels/val/tfrec_batch_size_1/val068205.tfrecords',\n",
       " '../datasets/stixels/val/tfrec_batch_size_1/val087417.tfrecords',\n",
       " '../datasets/stixels/val/tfrec_batch_size_1/val044785.tfrecords',\n",
       " '../datasets/stixels/val/tfrec_batch_size_1/val059416.tfrecords',\n",
       " '../datasets/stixels/val/tfrec_batch_size_1/val084679.tfrecords',\n",
       " '../datasets/stixels/val/tfrec_batch_size_1/val074039.tfrecords',\n",
       " '../datasets/stixels/val/tfrec_batch_size_1/val054485.tfrecords',\n",
       " '../datasets/stixels/val/tfrec_batch_size_1/val050890.tfrecords',\n",
       " '../datasets/stixels/val/tfrec_batch_size_1/val097741.tfrecords',\n",
       " '../datasets/stixels/val/tfrec_batch_size_1/val103242.tfrecords',\n",
       " '../datasets/stixels/val/tfrec_batch_size_1/val051679.tfrecords',\n",
       " '../datasets/stixels/val/tfrec_batch_size_1/val084586.tfrecords',\n",
       " '../datasets/stixels/val/tfrec_batch_size_1/val051812.tfrecords',\n",
       " '../datasets/stixels/val/tfrec_batch_size_1/val047866.tfrecords',\n",
       " '../datasets/stixels/val/tfrec_batch_size_1/val060695.tfrecords',\n",
       " '../datasets/stixels/val/tfrec_batch_size_1/val063303.tfrecords',\n",
       " '../datasets/stixels/val/tfrec_batch_size_1/val017174.tfrecords',\n",
       " '../datasets/stixels/val/tfrec_batch_size_1/val103616.tfrecords',\n",
       " '../datasets/stixels/val/tfrec_batch_size_1/val064585.tfrecords',\n",
       " '../datasets/stixels/val/tfrec_batch_size_1/val004946.tfrecords',\n",
       " '../datasets/stixels/val/tfrec_batch_size_1/val068773.tfrecords',\n",
       " '../datasets/stixels/val/tfrec_batch_size_1/val024216.tfrecords',\n",
       " '../datasets/stixels/val/tfrec_batch_size_1/val064411.tfrecords',\n",
       " '../datasets/stixels/val/tfrec_batch_size_1/val075061.tfrecords',\n",
       " '../datasets/stixels/val/tfrec_batch_size_1/val069547.tfrecords',\n",
       " '../datasets/stixels/val/tfrec_batch_size_1/val063466.tfrecords',\n",
       " '../datasets/stixels/val/tfrec_batch_size_1/val077546.tfrecords',\n",
       " '../datasets/stixels/val/tfrec_batch_size_1/val034598.tfrecords',\n",
       " '../datasets/stixels/val/tfrec_batch_size_1/val005461.tfrecords',\n",
       " '../datasets/stixels/val/tfrec_batch_size_1/val026399.tfrecords',\n",
       " '../datasets/stixels/val/tfrec_batch_size_1/val099775.tfrecords',\n",
       " '../datasets/stixels/val/tfrec_batch_size_1/val049217.tfrecords',\n",
       " '../datasets/stixels/val/tfrec_batch_size_1/val048639.tfrecords',\n",
       " '../datasets/stixels/val/tfrec_batch_size_1/val069290.tfrecords',\n",
       " '../datasets/stixels/val/tfrec_batch_size_1/val108697.tfrecords',\n",
       " '../datasets/stixels/val/tfrec_batch_size_1/val097443.tfrecords',\n",
       " '../datasets/stixels/val/tfrec_batch_size_1/val093655.tfrecords',\n",
       " '../datasets/stixels/val/tfrec_batch_size_1/val075777.tfrecords',\n",
       " '../datasets/stixels/val/tfrec_batch_size_1/val090953.tfrecords',\n",
       " '../datasets/stixels/val/tfrec_batch_size_1/val080434.tfrecords',\n",
       " '../datasets/stixels/val/tfrec_batch_size_1/val076192.tfrecords',\n",
       " '../datasets/stixels/val/tfrec_batch_size_1/val023243.tfrecords',\n",
       " '../datasets/stixels/val/tfrec_batch_size_1/val061294.tfrecords',\n",
       " '../datasets/stixels/val/tfrec_batch_size_1/val116950.tfrecords',\n",
       " '../datasets/stixels/val/tfrec_batch_size_1/val106062.tfrecords',\n",
       " '../datasets/stixels/val/tfrec_batch_size_1/val010675.tfrecords',\n",
       " '../datasets/stixels/val/tfrec_batch_size_1/val088401.tfrecords',\n",
       " '../datasets/stixels/val/tfrec_batch_size_1/val063655.tfrecords',\n",
       " '../datasets/stixels/val/tfrec_batch_size_1/val062042.tfrecords',\n",
       " '../datasets/stixels/val/tfrec_batch_size_1/val053086.tfrecords',\n",
       " '../datasets/stixels/val/tfrec_batch_size_1/val085028.tfrecords',\n",
       " '../datasets/stixels/val/tfrec_batch_size_1/val067359.tfrecords',\n",
       " '../datasets/stixels/val/tfrec_batch_size_1/val009291.tfrecords',\n",
       " '../datasets/stixels/val/tfrec_batch_size_1/val085446.tfrecords',\n",
       " '../datasets/stixels/val/tfrec_batch_size_1/val087611.tfrecords',\n",
       " '../datasets/stixels/val/tfrec_batch_size_1/val035969.tfrecords',\n",
       " '../datasets/stixels/val/tfrec_batch_size_1/val088911.tfrecords',\n",
       " '../datasets/stixels/val/tfrec_batch_size_1/val052905.tfrecords',\n",
       " '../datasets/stixels/val/tfrec_batch_size_1/val061770.tfrecords',\n",
       " '../datasets/stixels/val/tfrec_batch_size_1/val093808.tfrecords',\n",
       " '../datasets/stixels/val/tfrec_batch_size_1/val097886.tfrecords',\n",
       " '../datasets/stixels/val/tfrec_batch_size_1/val006436.tfrecords',\n",
       " '../datasets/stixels/val/tfrec_batch_size_1/val102428.tfrecords',\n",
       " '../datasets/stixels/val/tfrec_batch_size_1/val100602.tfrecords',\n",
       " '../datasets/stixels/val/tfrec_batch_size_1/val063604.tfrecords',\n",
       " '../datasets/stixels/val/tfrec_batch_size_1/val114240.tfrecords',\n",
       " '../datasets/stixels/val/tfrec_batch_size_1/val003004.tfrecords',\n",
       " '../datasets/stixels/val/tfrec_batch_size_1/val002261.tfrecords',\n",
       " '../datasets/stixels/val/tfrec_batch_size_1/val004288.tfrecords',\n",
       " '../datasets/stixels/val/tfrec_batch_size_1/val025031.tfrecords',\n",
       " '../datasets/stixels/val/tfrec_batch_size_1/val043472.tfrecords',\n",
       " '../datasets/stixels/val/tfrec_batch_size_1/val117715.tfrecords',\n",
       " '../datasets/stixels/val/tfrec_batch_size_1/val022261.tfrecords',\n",
       " '../datasets/stixels/val/tfrec_batch_size_1/val078109.tfrecords',\n",
       " '../datasets/stixels/val/tfrec_batch_size_1/val031969.tfrecords',\n",
       " '../datasets/stixels/val/tfrec_batch_size_1/val040668.tfrecords',\n",
       " '../datasets/stixels/val/tfrec_batch_size_1/val026237.tfrecords',\n",
       " '../datasets/stixels/val/tfrec_batch_size_1/val098624.tfrecords',\n",
       " '../datasets/stixels/val/tfrec_batch_size_1/val034208.tfrecords',\n",
       " '../datasets/stixels/val/tfrec_batch_size_1/val033887.tfrecords',\n",
       " '../datasets/stixels/val/tfrec_batch_size_1/val007229.tfrecords',\n",
       " '../datasets/stixels/val/tfrec_batch_size_1/val024197.tfrecords',\n",
       " '../datasets/stixels/val/tfrec_batch_size_1/val005990.tfrecords',\n",
       " '../datasets/stixels/val/tfrec_batch_size_1/val022298.tfrecords',\n",
       " '../datasets/stixels/val/tfrec_batch_size_1/val049671.tfrecords',\n",
       " '../datasets/stixels/val/tfrec_batch_size_1/val032487.tfrecords',\n",
       " '../datasets/stixels/val/tfrec_batch_size_1/val016753.tfrecords',\n",
       " '../datasets/stixels/val/tfrec_batch_size_1/val086320.tfrecords',\n",
       " '../datasets/stixels/val/tfrec_batch_size_1/val027067.tfrecords',\n",
       " '../datasets/stixels/val/tfrec_batch_size_1/val041250.tfrecords',\n",
       " '../datasets/stixels/val/tfrec_batch_size_1/val050318.tfrecords',\n",
       " '../datasets/stixels/val/tfrec_batch_size_1/val095776.tfrecords',\n",
       " '../datasets/stixels/val/tfrec_batch_size_1/val026778.tfrecords',\n",
       " '../datasets/stixels/val/tfrec_batch_size_1/val063572.tfrecords',\n",
       " '../datasets/stixels/val/tfrec_batch_size_1/val095134.tfrecords',\n",
       " '../datasets/stixels/val/tfrec_batch_size_1/val003810.tfrecords',\n",
       " '../datasets/stixels/val/tfrec_batch_size_1/val109589.tfrecords',\n",
       " '../datasets/stixels/val/tfrec_batch_size_1/val097882.tfrecords',\n",
       " '../datasets/stixels/val/tfrec_batch_size_1/val044123.tfrecords',\n",
       " '../datasets/stixels/val/tfrec_batch_size_1/val117625.tfrecords',\n",
       " '../datasets/stixels/val/tfrec_batch_size_1/val029384.tfrecords',\n",
       " '../datasets/stixels/val/tfrec_batch_size_1/val037203.tfrecords',\n",
       " '../datasets/stixels/val/tfrec_batch_size_1/val015113.tfrecords',\n",
       " '../datasets/stixels/val/tfrec_batch_size_1/val043829.tfrecords',\n",
       " '../datasets/stixels/val/tfrec_batch_size_1/val102360.tfrecords',\n",
       " '../datasets/stixels/val/tfrec_batch_size_1/val004750.tfrecords',\n",
       " '../datasets/stixels/val/tfrec_batch_size_1/val009317.tfrecords',\n",
       " '../datasets/stixels/val/tfrec_batch_size_1/val108959.tfrecords',\n",
       " '../datasets/stixels/val/tfrec_batch_size_1/val115611.tfrecords',\n",
       " '../datasets/stixels/val/tfrec_batch_size_1/val072352.tfrecords',\n",
       " '../datasets/stixels/val/tfrec_batch_size_1/val002304.tfrecords',\n",
       " '../datasets/stixels/val/tfrec_batch_size_1/val026529.tfrecords',\n",
       " '../datasets/stixels/val/tfrec_batch_size_1/val084385.tfrecords',\n",
       " '../datasets/stixels/val/tfrec_batch_size_1/val000806.tfrecords',\n",
       " '../datasets/stixels/val/tfrec_batch_size_1/val116717.tfrecords',\n",
       " '../datasets/stixels/val/tfrec_batch_size_1/val049585.tfrecords',\n",
       " '../datasets/stixels/val/tfrec_batch_size_1/val050868.tfrecords',\n",
       " '../datasets/stixels/val/tfrec_batch_size_1/val036278.tfrecords',\n",
       " '../datasets/stixels/val/tfrec_batch_size_1/val066788.tfrecords',\n",
       " '../datasets/stixels/val/tfrec_batch_size_1/val029436.tfrecords',\n",
       " '../datasets/stixels/val/tfrec_batch_size_1/val115421.tfrecords',\n",
       " '../datasets/stixels/val/tfrec_batch_size_1/val009974.tfrecords',\n",
       " '../datasets/stixels/val/tfrec_batch_size_1/val006375.tfrecords',\n",
       " '../datasets/stixels/val/tfrec_batch_size_1/val060884.tfrecords',\n",
       " '../datasets/stixels/val/tfrec_batch_size_1/val098645.tfrecords',\n",
       " '../datasets/stixels/val/tfrec_batch_size_1/val056177.tfrecords',\n",
       " '../datasets/stixels/val/tfrec_batch_size_1/val063052.tfrecords',\n",
       " '../datasets/stixels/val/tfrec_batch_size_1/val057029.tfrecords',\n",
       " '../datasets/stixels/val/tfrec_batch_size_1/val052411.tfrecords',\n",
       " '../datasets/stixels/val/tfrec_batch_size_1/val113909.tfrecords',\n",
       " '../datasets/stixels/val/tfrec_batch_size_1/val111977.tfrecords',\n",
       " '../datasets/stixels/val/tfrec_batch_size_1/val027212.tfrecords',\n",
       " '../datasets/stixels/val/tfrec_batch_size_1/val094675.tfrecords',\n",
       " '../datasets/stixels/val/tfrec_batch_size_1/val051490.tfrecords',\n",
       " '../datasets/stixels/val/tfrec_batch_size_1/val002609.tfrecords',\n",
       " '../datasets/stixels/val/tfrec_batch_size_1/val019098.tfrecords',\n",
       " '../datasets/stixels/val/tfrec_batch_size_1/val022145.tfrecords',\n",
       " '../datasets/stixels/val/tfrec_batch_size_1/val077095.tfrecords',\n",
       " '../datasets/stixels/val/tfrec_batch_size_1/val102688.tfrecords',\n",
       " '../datasets/stixels/val/tfrec_batch_size_1/val015575.tfrecords',\n",
       " '../datasets/stixels/val/tfrec_batch_size_1/val038780.tfrecords',\n",
       " '../datasets/stixels/val/tfrec_batch_size_1/val035521.tfrecords',\n",
       " '../datasets/stixels/val/tfrec_batch_size_1/val071410.tfrecords',\n",
       " '../datasets/stixels/val/tfrec_batch_size_1/val062768.tfrecords',\n",
       " '../datasets/stixels/val/tfrec_batch_size_1/val018883.tfrecords',\n",
       " '../datasets/stixels/val/tfrec_batch_size_1/val115795.tfrecords',\n",
       " '../datasets/stixels/val/tfrec_batch_size_1/val061180.tfrecords',\n",
       " '../datasets/stixels/val/tfrec_batch_size_1/val095846.tfrecords',\n",
       " '../datasets/stixels/val/tfrec_batch_size_1/val017894.tfrecords',\n",
       " '../datasets/stixels/val/tfrec_batch_size_1/val117161.tfrecords',\n",
       " '../datasets/stixels/val/tfrec_batch_size_1/val065285.tfrecords',\n",
       " '../datasets/stixels/val/tfrec_batch_size_1/val086502.tfrecords',\n",
       " '../datasets/stixels/val/tfrec_batch_size_1/val001697.tfrecords',\n",
       " '../datasets/stixels/val/tfrec_batch_size_1/val091653.tfrecords',\n",
       " '../datasets/stixels/val/tfrec_batch_size_1/val035070.tfrecords',\n",
       " '../datasets/stixels/val/tfrec_batch_size_1/val094622.tfrecords',\n",
       " '../datasets/stixels/val/tfrec_batch_size_1/val098791.tfrecords',\n",
       " '../datasets/stixels/val/tfrec_batch_size_1/val071653.tfrecords',\n",
       " '../datasets/stixels/val/tfrec_batch_size_1/val083715.tfrecords',\n",
       " '../datasets/stixels/val/tfrec_batch_size_1/val000769.tfrecords',\n",
       " '../datasets/stixels/val/tfrec_batch_size_1/val011235.tfrecords',\n",
       " '../datasets/stixels/val/tfrec_batch_size_1/val038206.tfrecords',\n",
       " '../datasets/stixels/val/tfrec_batch_size_1/val004319.tfrecords',\n",
       " '../datasets/stixels/val/tfrec_batch_size_1/val075877.tfrecords',\n",
       " '../datasets/stixels/val/tfrec_batch_size_1/val083805.tfrecords',\n",
       " '../datasets/stixels/val/tfrec_batch_size_1/val076144.tfrecords',\n",
       " '../datasets/stixels/val/tfrec_batch_size_1/val042538.tfrecords',\n",
       " '../datasets/stixels/val/tfrec_batch_size_1/val018061.tfrecords',\n",
       " '../datasets/stixels/val/tfrec_batch_size_1/val000925.tfrecords',\n",
       " '../datasets/stixels/val/tfrec_batch_size_1/val038478.tfrecords',\n",
       " '../datasets/stixels/val/tfrec_batch_size_1/val069488.tfrecords',\n",
       " '../datasets/stixels/val/tfrec_batch_size_1/val079904.tfrecords',\n",
       " '../datasets/stixels/val/tfrec_batch_size_1/val008419.tfrecords',\n",
       " '../datasets/stixels/val/tfrec_batch_size_1/val066862.tfrecords',\n",
       " '../datasets/stixels/val/tfrec_batch_size_1/val060300.tfrecords',\n",
       " '../datasets/stixels/val/tfrec_batch_size_1/val110770.tfrecords',\n",
       " '../datasets/stixels/val/tfrec_batch_size_1/val040341.tfrecords',\n",
       " '../datasets/stixels/val/tfrec_batch_size_1/val037892.tfrecords',\n",
       " '../datasets/stixels/val/tfrec_batch_size_1/val038892.tfrecords',\n",
       " '../datasets/stixels/val/tfrec_batch_size_1/val022515.tfrecords',\n",
       " '../datasets/stixels/val/tfrec_batch_size_1/val068770.tfrecords',\n",
       " '../datasets/stixels/val/tfrec_batch_size_1/val086418.tfrecords',\n",
       " '../datasets/stixels/val/tfrec_batch_size_1/val052107.tfrecords',\n",
       " '../datasets/stixels/val/tfrec_batch_size_1/val098728.tfrecords',\n",
       " '../datasets/stixels/val/tfrec_batch_size_1/val109790.tfrecords',\n",
       " '../datasets/stixels/val/tfrec_batch_size_1/val085601.tfrecords',\n",
       " '../datasets/stixels/val/tfrec_batch_size_1/val048793.tfrecords',\n",
       " '../datasets/stixels/val/tfrec_batch_size_1/val080565.tfrecords',\n",
       " '../datasets/stixels/val/tfrec_batch_size_1/val112400.tfrecords',\n",
       " '../datasets/stixels/val/tfrec_batch_size_1/val019521.tfrecords',\n",
       " '../datasets/stixels/val/tfrec_batch_size_1/val060015.tfrecords',\n",
       " '../datasets/stixels/val/tfrec_batch_size_1/val065506.tfrecords',\n",
       " '../datasets/stixels/val/tfrec_batch_size_1/val036454.tfrecords',\n",
       " '../datasets/stixels/val/tfrec_batch_size_1/val115066.tfrecords',\n",
       " '../datasets/stixels/val/tfrec_batch_size_1/val006445.tfrecords',\n",
       " '../datasets/stixels/val/tfrec_batch_size_1/val097900.tfrecords',\n",
       " '../datasets/stixels/val/tfrec_batch_size_1/val097212.tfrecords',\n",
       " '../datasets/stixels/val/tfrec_batch_size_1/val039927.tfrecords',\n",
       " '../datasets/stixels/val/tfrec_batch_size_1/val097791.tfrecords',\n",
       " '../datasets/stixels/val/tfrec_batch_size_1/val080828.tfrecords',\n",
       " '../datasets/stixels/val/tfrec_batch_size_1/val077484.tfrecords',\n",
       " '../datasets/stixels/val/tfrec_batch_size_1/val106519.tfrecords',\n",
       " '../datasets/stixels/val/tfrec_batch_size_1/val025924.tfrecords',\n",
       " '../datasets/stixels/val/tfrec_batch_size_1/val003634.tfrecords',\n",
       " '../datasets/stixels/val/tfrec_batch_size_1/val063088.tfrecords',\n",
       " '../datasets/stixels/val/tfrec_batch_size_1/val081116.tfrecords',\n",
       " '../datasets/stixels/val/tfrec_batch_size_1/val079021.tfrecords',\n",
       " '../datasets/stixels/val/tfrec_batch_size_1/val075683.tfrecords',\n",
       " '../datasets/stixels/val/tfrec_batch_size_1/val021901.tfrecords',\n",
       " '../datasets/stixels/val/tfrec_batch_size_1/val056262.tfrecords',\n",
       " '../datasets/stixels/val/tfrec_batch_size_1/val018210.tfrecords',\n",
       " '../datasets/stixels/val/tfrec_batch_size_1/val048018.tfrecords',\n",
       " '../datasets/stixels/val/tfrec_batch_size_1/val001216.tfrecords',\n",
       " '../datasets/stixels/val/tfrec_batch_size_1/val115673.tfrecords',\n",
       " '../datasets/stixels/val/tfrec_batch_size_1/val025465.tfrecords',\n",
       " '../datasets/stixels/val/tfrec_batch_size_1/val077359.tfrecords',\n",
       " '../datasets/stixels/val/tfrec_batch_size_1/val103803.tfrecords',\n",
       " '../datasets/stixels/val/tfrec_batch_size_1/val103214.tfrecords',\n",
       " '../datasets/stixels/val/tfrec_batch_size_1/val025155.tfrecords',\n",
       " '../datasets/stixels/val/tfrec_batch_size_1/val108880.tfrecords',\n",
       " '../datasets/stixels/val/tfrec_batch_size_1/val110583.tfrecords',\n",
       " '../datasets/stixels/val/tfrec_batch_size_1/val113755.tfrecords',\n",
       " '../datasets/stixels/val/tfrec_batch_size_1/val025067.tfrecords',\n",
       " '../datasets/stixels/val/tfrec_batch_size_1/val038620.tfrecords',\n",
       " '../datasets/stixels/val/tfrec_batch_size_1/val056469.tfrecords',\n",
       " '../datasets/stixels/val/tfrec_batch_size_1/val025401.tfrecords',\n",
       " '../datasets/stixels/val/tfrec_batch_size_1/val104602.tfrecords',\n",
       " '../datasets/stixels/val/tfrec_batch_size_1/val105212.tfrecords',\n",
       " '../datasets/stixels/val/tfrec_batch_size_1/val036006.tfrecords',\n",
       " '../datasets/stixels/val/tfrec_batch_size_1/val088407.tfrecords',\n",
       " '../datasets/stixels/val/tfrec_batch_size_1/val068860.tfrecords',\n",
       " '../datasets/stixels/val/tfrec_batch_size_1/val087209.tfrecords',\n",
       " '../datasets/stixels/val/tfrec_batch_size_1/val023703.tfrecords',\n",
       " '../datasets/stixels/val/tfrec_batch_size_1/val037015.tfrecords',\n",
       " '../datasets/stixels/val/tfrec_batch_size_1/val096478.tfrecords',\n",
       " '../datasets/stixels/val/tfrec_batch_size_1/val095185.tfrecords',\n",
       " '../datasets/stixels/val/tfrec_batch_size_1/val008969.tfrecords',\n",
       " '../datasets/stixels/val/tfrec_batch_size_1/val021804.tfrecords',\n",
       " '../datasets/stixels/val/tfrec_batch_size_1/val079200.tfrecords',\n",
       " '../datasets/stixels/val/tfrec_batch_size_1/val029561.tfrecords',\n",
       " '../datasets/stixels/val/tfrec_batch_size_1/val106374.tfrecords',\n",
       " '../datasets/stixels/val/tfrec_batch_size_1/val104344.tfrecords',\n",
       " '../datasets/stixels/val/tfrec_batch_size_1/val015899.tfrecords',\n",
       " '../datasets/stixels/val/tfrec_batch_size_1/val059755.tfrecords',\n",
       " '../datasets/stixels/val/tfrec_batch_size_1/val108869.tfrecords',\n",
       " '../datasets/stixels/val/tfrec_batch_size_1/val004067.tfrecords',\n",
       " '../datasets/stixels/val/tfrec_batch_size_1/val060076.tfrecords',\n",
       " '../datasets/stixels/val/tfrec_batch_size_1/val056094.tfrecords',\n",
       " '../datasets/stixels/val/tfrec_batch_size_1/val093985.tfrecords',\n",
       " '../datasets/stixels/val/tfrec_batch_size_1/val117195.tfrecords',\n",
       " '../datasets/stixels/val/tfrec_batch_size_1/val110565.tfrecords',\n",
       " '../datasets/stixels/val/tfrec_batch_size_1/val056977.tfrecords',\n",
       " '../datasets/stixels/val/tfrec_batch_size_1/val097869.tfrecords',\n",
       " '../datasets/stixels/val/tfrec_batch_size_1/val020340.tfrecords',\n",
       " '../datasets/stixels/val/tfrec_batch_size_1/val070366.tfrecords',\n",
       " '../datasets/stixels/val/tfrec_batch_size_1/val080727.tfrecords',\n",
       " '../datasets/stixels/val/tfrec_batch_size_1/val032747.tfrecords',\n",
       " '../datasets/stixels/val/tfrec_batch_size_1/val069401.tfrecords',\n",
       " '../datasets/stixels/val/tfrec_batch_size_1/val042764.tfrecords',\n",
       " '../datasets/stixels/val/tfrec_batch_size_1/val066863.tfrecords',\n",
       " '../datasets/stixels/val/tfrec_batch_size_1/val091575.tfrecords',\n",
       " '../datasets/stixels/val/tfrec_batch_size_1/val046492.tfrecords',\n",
       " '../datasets/stixels/val/tfrec_batch_size_1/val097714.tfrecords',\n",
       " '../datasets/stixels/val/tfrec_batch_size_1/val048847.tfrecords',\n",
       " '../datasets/stixels/val/tfrec_batch_size_1/val024433.tfrecords',\n",
       " '../datasets/stixels/val/tfrec_batch_size_1/val003683.tfrecords',\n",
       " '../datasets/stixels/val/tfrec_batch_size_1/val057420.tfrecords',\n",
       " '../datasets/stixels/val/tfrec_batch_size_1/val111379.tfrecords',\n",
       " '../datasets/stixels/val/tfrec_batch_size_1/val039002.tfrecords',\n",
       " '../datasets/stixels/val/tfrec_batch_size_1/val080639.tfrecords',\n",
       " '../datasets/stixels/val/tfrec_batch_size_1/val066439.tfrecords',\n",
       " '../datasets/stixels/val/tfrec_batch_size_1/val109223.tfrecords',\n",
       " '../datasets/stixels/val/tfrec_batch_size_1/val085475.tfrecords',\n",
       " '../datasets/stixels/val/tfrec_batch_size_1/val090121.tfrecords',\n",
       " '../datasets/stixels/val/tfrec_batch_size_1/val106063.tfrecords',\n",
       " '../datasets/stixels/val/tfrec_batch_size_1/val060535.tfrecords',\n",
       " '../datasets/stixels/val/tfrec_batch_size_1/val046567.tfrecords',\n",
       " '../datasets/stixels/val/tfrec_batch_size_1/val064170.tfrecords',\n",
       " '../datasets/stixels/val/tfrec_batch_size_1/val071432.tfrecords',\n",
       " '../datasets/stixels/val/tfrec_batch_size_1/val004056.tfrecords',\n",
       " '../datasets/stixels/val/tfrec_batch_size_1/val034045.tfrecords',\n",
       " '../datasets/stixels/val/tfrec_batch_size_1/val076163.tfrecords',\n",
       " '../datasets/stixels/val/tfrec_batch_size_1/val033599.tfrecords',\n",
       " '../datasets/stixels/val/tfrec_batch_size_1/val053408.tfrecords',\n",
       " '../datasets/stixels/val/tfrec_batch_size_1/val102440.tfrecords',\n",
       " '../datasets/stixels/val/tfrec_batch_size_1/val063236.tfrecords',\n",
       " '../datasets/stixels/val/tfrec_batch_size_1/val059806.tfrecords',\n",
       " '../datasets/stixels/val/tfrec_batch_size_1/val008596.tfrecords',\n",
       " '../datasets/stixels/val/tfrec_batch_size_1/val066454.tfrecords',\n",
       " '../datasets/stixels/val/tfrec_batch_size_1/val099813.tfrecords',\n",
       " '../datasets/stixels/val/tfrec_batch_size_1/val065895.tfrecords',\n",
       " '../datasets/stixels/val/tfrec_batch_size_1/val001929.tfrecords',\n",
       " '../datasets/stixels/val/tfrec_batch_size_1/val095880.tfrecords',\n",
       " '../datasets/stixels/val/tfrec_batch_size_1/val085971.tfrecords',\n",
       " '../datasets/stixels/val/tfrec_batch_size_1/val086459.tfrecords',\n",
       " '../datasets/stixels/val/tfrec_batch_size_1/val006661.tfrecords',\n",
       " '../datasets/stixels/val/tfrec_batch_size_1/val116131.tfrecords',\n",
       " '../datasets/stixels/val/tfrec_batch_size_1/val001896.tfrecords',\n",
       " '../datasets/stixels/val/tfrec_batch_size_1/val050858.tfrecords',\n",
       " '../datasets/stixels/val/tfrec_batch_size_1/val085227.tfrecords',\n",
       " '../datasets/stixels/val/tfrec_batch_size_1/val080854.tfrecords',\n",
       " '../datasets/stixels/val/tfrec_batch_size_1/val018249.tfrecords',\n",
       " '../datasets/stixels/val/tfrec_batch_size_1/val041945.tfrecords',\n",
       " '../datasets/stixels/val/tfrec_batch_size_1/val007519.tfrecords',\n",
       " '../datasets/stixels/val/tfrec_batch_size_1/val042766.tfrecords',\n",
       " '../datasets/stixels/val/tfrec_batch_size_1/val036388.tfrecords',\n",
       " '../datasets/stixels/val/tfrec_batch_size_1/val117330.tfrecords',\n",
       " '../datasets/stixels/val/tfrec_batch_size_1/val034862.tfrecords',\n",
       " '../datasets/stixels/val/tfrec_batch_size_1/val013369.tfrecords',\n",
       " '../datasets/stixels/val/tfrec_batch_size_1/val090610.tfrecords',\n",
       " '../datasets/stixels/val/tfrec_batch_size_1/val051112.tfrecords',\n",
       " '../datasets/stixels/val/tfrec_batch_size_1/val088800.tfrecords',\n",
       " '../datasets/stixels/val/tfrec_batch_size_1/val051564.tfrecords',\n",
       " '../datasets/stixels/val/tfrec_batch_size_1/val076248.tfrecords',\n",
       " '../datasets/stixels/val/tfrec_batch_size_1/val115714.tfrecords',\n",
       " '../datasets/stixels/val/tfrec_batch_size_1/val074239.tfrecords',\n",
       " '../datasets/stixels/val/tfrec_batch_size_1/val050990.tfrecords',\n",
       " '../datasets/stixels/val/tfrec_batch_size_1/val053876.tfrecords',\n",
       " '../datasets/stixels/val/tfrec_batch_size_1/val096976.tfrecords',\n",
       " '../datasets/stixels/val/tfrec_batch_size_1/val096935.tfrecords',\n",
       " '../datasets/stixels/val/tfrec_batch_size_1/val102774.tfrecords',\n",
       " '../datasets/stixels/val/tfrec_batch_size_1/val076459.tfrecords',\n",
       " '../datasets/stixels/val/tfrec_batch_size_1/val050986.tfrecords',\n",
       " '../datasets/stixels/val/tfrec_batch_size_1/val086984.tfrecords',\n",
       " '../datasets/stixels/val/tfrec_batch_size_1/val074174.tfrecords',\n",
       " '../datasets/stixels/val/tfrec_batch_size_1/val108229.tfrecords',\n",
       " '../datasets/stixels/val/tfrec_batch_size_1/val015456.tfrecords',\n",
       " '../datasets/stixels/val/tfrec_batch_size_1/val089020.tfrecords',\n",
       " '../datasets/stixels/val/tfrec_batch_size_1/val079064.tfrecords',\n",
       " '../datasets/stixels/val/tfrec_batch_size_1/val099355.tfrecords',\n",
       " '../datasets/stixels/val/tfrec_batch_size_1/val019899.tfrecords',\n",
       " '../datasets/stixels/val/tfrec_batch_size_1/val042947.tfrecords',\n",
       " '../datasets/stixels/val/tfrec_batch_size_1/val084342.tfrecords',\n",
       " '../datasets/stixels/val/tfrec_batch_size_1/val107009.tfrecords',\n",
       " '../datasets/stixels/val/tfrec_batch_size_1/val014604.tfrecords',\n",
       " '../datasets/stixels/val/tfrec_batch_size_1/val033912.tfrecords',\n",
       " '../datasets/stixels/val/tfrec_batch_size_1/val117376.tfrecords',\n",
       " '../datasets/stixels/val/tfrec_batch_size_1/val015779.tfrecords',\n",
       " '../datasets/stixels/val/tfrec_batch_size_1/val113035.tfrecords',\n",
       " '../datasets/stixels/val/tfrec_batch_size_1/val081440.tfrecords',\n",
       " '../datasets/stixels/val/tfrec_batch_size_1/val024486.tfrecords',\n",
       " '../datasets/stixels/val/tfrec_batch_size_1/val073009.tfrecords',\n",
       " '../datasets/stixels/val/tfrec_batch_size_1/val086385.tfrecords',\n",
       " '../datasets/stixels/val/tfrec_batch_size_1/val035325.tfrecords',\n",
       " '../datasets/stixels/val/tfrec_batch_size_1/val072298.tfrecords',\n",
       " '../datasets/stixels/val/tfrec_batch_size_1/val028579.tfrecords',\n",
       " '../datasets/stixels/val/tfrec_batch_size_1/val063850.tfrecords',\n",
       " '../datasets/stixels/val/tfrec_batch_size_1/val065413.tfrecords',\n",
       " '../datasets/stixels/val/tfrec_batch_size_1/val112992.tfrecords',\n",
       " '../datasets/stixels/val/tfrec_batch_size_1/val055078.tfrecords',\n",
       " '../datasets/stixels/val/tfrec_batch_size_1/val101960.tfrecords',\n",
       " '../datasets/stixels/val/tfrec_batch_size_1/val018026.tfrecords',\n",
       " '../datasets/stixels/val/tfrec_batch_size_1/val064231.tfrecords',\n",
       " '../datasets/stixels/val/tfrec_batch_size_1/val114516.tfrecords',\n",
       " '../datasets/stixels/val/tfrec_batch_size_1/val063324.tfrecords',\n",
       " '../datasets/stixels/val/tfrec_batch_size_1/val114709.tfrecords',\n",
       " '../datasets/stixels/val/tfrec_batch_size_1/val065855.tfrecords',\n",
       " '../datasets/stixels/val/tfrec_batch_size_1/val021164.tfrecords',\n",
       " '../datasets/stixels/val/tfrec_batch_size_1/val115231.tfrecords',\n",
       " '../datasets/stixels/val/tfrec_batch_size_1/val002913.tfrecords',\n",
       " '../datasets/stixels/val/tfrec_batch_size_1/val056906.tfrecords',\n",
       " '../datasets/stixels/val/tfrec_batch_size_1/val092348.tfrecords',\n",
       " '../datasets/stixels/val/tfrec_batch_size_1/val019148.tfrecords',\n",
       " '../datasets/stixels/val/tfrec_batch_size_1/val046350.tfrecords',\n",
       " '../datasets/stixels/val/tfrec_batch_size_1/val031215.tfrecords',\n",
       " '../datasets/stixels/val/tfrec_batch_size_1/val107478.tfrecords',\n",
       " '../datasets/stixels/val/tfrec_batch_size_1/val067670.tfrecords',\n",
       " '../datasets/stixels/val/tfrec_batch_size_1/val094104.tfrecords',\n",
       " '../datasets/stixels/val/tfrec_batch_size_1/val067364.tfrecords',\n",
       " '../datasets/stixels/val/tfrec_batch_size_1/val080219.tfrecords',\n",
       " '../datasets/stixels/val/tfrec_batch_size_1/val111815.tfrecords',\n",
       " '../datasets/stixels/val/tfrec_batch_size_1/val005101.tfrecords',\n",
       " '../datasets/stixels/val/tfrec_batch_size_1/val078359.tfrecords',\n",
       " '../datasets/stixels/val/tfrec_batch_size_1/val005886.tfrecords',\n",
       " '../datasets/stixels/val/tfrec_batch_size_1/val112948.tfrecords',\n",
       " '../datasets/stixels/val/tfrec_batch_size_1/val039847.tfrecords',\n",
       " '../datasets/stixels/val/tfrec_batch_size_1/val054795.tfrecords',\n",
       " '../datasets/stixels/val/tfrec_batch_size_1/val024477.tfrecords',\n",
       " '../datasets/stixels/val/tfrec_batch_size_1/val103489.tfrecords',\n",
       " '../datasets/stixels/val/tfrec_batch_size_1/val094887.tfrecords',\n",
       " '../datasets/stixels/val/tfrec_batch_size_1/val051868.tfrecords',\n",
       " '../datasets/stixels/val/tfrec_batch_size_1/val077651.tfrecords',\n",
       " '../datasets/stixels/val/tfrec_batch_size_1/val033516.tfrecords',\n",
       " '../datasets/stixels/val/tfrec_batch_size_1/val060246.tfrecords',\n",
       " '../datasets/stixels/val/tfrec_batch_size_1/val045931.tfrecords',\n",
       " '../datasets/stixels/val/tfrec_batch_size_1/val115265.tfrecords',\n",
       " '../datasets/stixels/val/tfrec_batch_size_1/val073413.tfrecords',\n",
       " '../datasets/stixels/val/tfrec_batch_size_1/val074532.tfrecords',\n",
       " '../datasets/stixels/val/tfrec_batch_size_1/val083685.tfrecords',\n",
       " '../datasets/stixels/val/tfrec_batch_size_1/val022015.tfrecords',\n",
       " '../datasets/stixels/val/tfrec_batch_size_1/val031966.tfrecords',\n",
       " '../datasets/stixels/val/tfrec_batch_size_1/val010808.tfrecords',\n",
       " '../datasets/stixels/val/tfrec_batch_size_1/val086874.tfrecords',\n",
       " '../datasets/stixels/val/tfrec_batch_size_1/val064583.tfrecords',\n",
       " '../datasets/stixels/val/tfrec_batch_size_1/val055354.tfrecords',\n",
       " '../datasets/stixels/val/tfrec_batch_size_1/val109501.tfrecords',\n",
       " '../datasets/stixels/val/tfrec_batch_size_1/val037308.tfrecords',\n",
       " '../datasets/stixels/val/tfrec_batch_size_1/val023894.tfrecords',\n",
       " '../datasets/stixels/val/tfrec_batch_size_1/val111968.tfrecords',\n",
       " '../datasets/stixels/val/tfrec_batch_size_1/val107395.tfrecords',\n",
       " '../datasets/stixels/val/tfrec_batch_size_1/val005161.tfrecords',\n",
       " '../datasets/stixels/val/tfrec_batch_size_1/val018239.tfrecords',\n",
       " '../datasets/stixels/val/tfrec_batch_size_1/val108125.tfrecords',\n",
       " '../datasets/stixels/val/tfrec_batch_size_1/val019733.tfrecords',\n",
       " '../datasets/stixels/val/tfrec_batch_size_1/val072794.tfrecords',\n",
       " '../datasets/stixels/val/tfrec_batch_size_1/val048992.tfrecords',\n",
       " '../datasets/stixels/val/tfrec_batch_size_1/val037708.tfrecords',\n",
       " '../datasets/stixels/val/tfrec_batch_size_1/val087671.tfrecords',\n",
       " '../datasets/stixels/val/tfrec_batch_size_1/val068270.tfrecords',\n",
       " '../datasets/stixels/val/tfrec_batch_size_1/val075100.tfrecords',\n",
       " '../datasets/stixels/val/tfrec_batch_size_1/val092202.tfrecords',\n",
       " '../datasets/stixels/val/tfrec_batch_size_1/val023957.tfrecords',\n",
       " '../datasets/stixels/val/tfrec_batch_size_1/val083662.tfrecords',\n",
       " '../datasets/stixels/val/tfrec_batch_size_1/val050794.tfrecords',\n",
       " '../datasets/stixels/val/tfrec_batch_size_1/val016336.tfrecords',\n",
       " '../datasets/stixels/val/tfrec_batch_size_1/val033083.tfrecords',\n",
       " '../datasets/stixels/val/tfrec_batch_size_1/val028209.tfrecords',\n",
       " '../datasets/stixels/val/tfrec_batch_size_1/val105128.tfrecords',\n",
       " '../datasets/stixels/val/tfrec_batch_size_1/val037616.tfrecords',\n",
       " '../datasets/stixels/val/tfrec_batch_size_1/val074484.tfrecords',\n",
       " '../datasets/stixels/val/tfrec_batch_size_1/val092994.tfrecords',\n",
       " '../datasets/stixels/val/tfrec_batch_size_1/val045641.tfrecords',\n",
       " '../datasets/stixels/val/tfrec_batch_size_1/val086071.tfrecords',\n",
       " '../datasets/stixels/val/tfrec_batch_size_1/val070668.tfrecords',\n",
       " '../datasets/stixels/val/tfrec_batch_size_1/val097913.tfrecords',\n",
       " '../datasets/stixels/val/tfrec_batch_size_1/val031004.tfrecords',\n",
       " '../datasets/stixels/val/tfrec_batch_size_1/val071110.tfrecords',\n",
       " '../datasets/stixels/val/tfrec_batch_size_1/val052876.tfrecords',\n",
       " '../datasets/stixels/val/tfrec_batch_size_1/val004139.tfrecords',\n",
       " '../datasets/stixels/val/tfrec_batch_size_1/val114474.tfrecords',\n",
       " '../datasets/stixels/val/tfrec_batch_size_1/val041171.tfrecords',\n",
       " '../datasets/stixels/val/tfrec_batch_size_1/val104749.tfrecords',\n",
       " '../datasets/stixels/val/tfrec_batch_size_1/val036234.tfrecords',\n",
       " '../datasets/stixels/val/tfrec_batch_size_1/val039384.tfrecords',\n",
       " '../datasets/stixels/val/tfrec_batch_size_1/val105285.tfrecords',\n",
       " '../datasets/stixels/val/tfrec_batch_size_1/val070175.tfrecords',\n",
       " '../datasets/stixels/val/tfrec_batch_size_1/val001718.tfrecords',\n",
       " '../datasets/stixels/val/tfrec_batch_size_1/val047872.tfrecords',\n",
       " '../datasets/stixels/val/tfrec_batch_size_1/val084159.tfrecords',\n",
       " '../datasets/stixels/val/tfrec_batch_size_1/val106727.tfrecords',\n",
       " '../datasets/stixels/val/tfrec_batch_size_1/val005887.tfrecords',\n",
       " '../datasets/stixels/val/tfrec_batch_size_1/val067620.tfrecords',\n",
       " '../datasets/stixels/val/tfrec_batch_size_1/val080952.tfrecords',\n",
       " '../datasets/stixels/val/tfrec_batch_size_1/val113689.tfrecords',\n",
       " '../datasets/stixels/val/tfrec_batch_size_1/val117113.tfrecords',\n",
       " '../datasets/stixels/val/tfrec_batch_size_1/val035099.tfrecords',\n",
       " '../datasets/stixels/val/tfrec_batch_size_1/val023745.tfrecords',\n",
       " '../datasets/stixels/val/tfrec_batch_size_1/val051576.tfrecords',\n",
       " '../datasets/stixels/val/tfrec_batch_size_1/val041451.tfrecords',\n",
       " '../datasets/stixels/val/tfrec_batch_size_1/val071670.tfrecords',\n",
       " '../datasets/stixels/val/tfrec_batch_size_1/val000449.tfrecords',\n",
       " '../datasets/stixels/val/tfrec_batch_size_1/val004190.tfrecords',\n",
       " '../datasets/stixels/val/tfrec_batch_size_1/val059612.tfrecords',\n",
       " '../datasets/stixels/val/tfrec_batch_size_1/val094976.tfrecords',\n",
       " '../datasets/stixels/val/tfrec_batch_size_1/val037609.tfrecords',\n",
       " '../datasets/stixels/val/tfrec_batch_size_1/val052036.tfrecords',\n",
       " '../datasets/stixels/val/tfrec_batch_size_1/val024717.tfrecords',\n",
       " '../datasets/stixels/val/tfrec_batch_size_1/val042725.tfrecords',\n",
       " '../datasets/stixels/val/tfrec_batch_size_1/val003921.tfrecords',\n",
       " '../datasets/stixels/val/tfrec_batch_size_1/val058014.tfrecords',\n",
       " '../datasets/stixels/val/tfrec_batch_size_1/val032667.tfrecords',\n",
       " '../datasets/stixels/val/tfrec_batch_size_1/val063559.tfrecords',\n",
       " '../datasets/stixels/val/tfrec_batch_size_1/val013543.tfrecords',\n",
       " '../datasets/stixels/val/tfrec_batch_size_1/val076952.tfrecords',\n",
       " '../datasets/stixels/val/tfrec_batch_size_1/val066685.tfrecords',\n",
       " '../datasets/stixels/val/tfrec_batch_size_1/val035167.tfrecords',\n",
       " '../datasets/stixels/val/tfrec_batch_size_1/val030753.tfrecords',\n",
       " '../datasets/stixels/val/tfrec_batch_size_1/val002409.tfrecords',\n",
       " '../datasets/stixels/val/tfrec_batch_size_1/val015280.tfrecords',\n",
       " '../datasets/stixels/val/tfrec_batch_size_1/val039110.tfrecords',\n",
       " '../datasets/stixels/val/tfrec_batch_size_1/val112120.tfrecords',\n",
       " '../datasets/stixels/val/tfrec_batch_size_1/val006624.tfrecords',\n",
       " '../datasets/stixels/val/tfrec_batch_size_1/val006671.tfrecords',\n",
       " '../datasets/stixels/val/tfrec_batch_size_1/val062543.tfrecords',\n",
       " '../datasets/stixels/val/tfrec_batch_size_1/val017889.tfrecords',\n",
       " '../datasets/stixels/val/tfrec_batch_size_1/val027739.tfrecords',\n",
       " '../datasets/stixels/val/tfrec_batch_size_1/val024683.tfrecords',\n",
       " '../datasets/stixels/val/tfrec_batch_size_1/val051783.tfrecords',\n",
       " '../datasets/stixels/val/tfrec_batch_size_1/val078252.tfrecords',\n",
       " '../datasets/stixels/val/tfrec_batch_size_1/val030814.tfrecords',\n",
       " '../datasets/stixels/val/tfrec_batch_size_1/val115884.tfrecords',\n",
       " '../datasets/stixels/val/tfrec_batch_size_1/val000733.tfrecords',\n",
       " '../datasets/stixels/val/tfrec_batch_size_1/val038841.tfrecords',\n",
       " '../datasets/stixels/val/tfrec_batch_size_1/val016771.tfrecords',\n",
       " '../datasets/stixels/val/tfrec_batch_size_1/val012720.tfrecords',\n",
       " '../datasets/stixels/val/tfrec_batch_size_1/val010727.tfrecords',\n",
       " '../datasets/stixels/val/tfrec_batch_size_1/val004349.tfrecords',\n",
       " '../datasets/stixels/val/tfrec_batch_size_1/val099859.tfrecords',\n",
       " '../datasets/stixels/val/tfrec_batch_size_1/val063404.tfrecords',\n",
       " '../datasets/stixels/val/tfrec_batch_size_1/val076640.tfrecords',\n",
       " '../datasets/stixels/val/tfrec_batch_size_1/val062682.tfrecords',\n",
       " '../datasets/stixels/val/tfrec_batch_size_1/val064842.tfrecords',\n",
       " '../datasets/stixels/val/tfrec_batch_size_1/val051588.tfrecords',\n",
       " '../datasets/stixels/val/tfrec_batch_size_1/val023977.tfrecords',\n",
       " '../datasets/stixels/val/tfrec_batch_size_1/val112985.tfrecords',\n",
       " '../datasets/stixels/val/tfrec_batch_size_1/val062170.tfrecords',\n",
       " '../datasets/stixels/val/tfrec_batch_size_1/val097711.tfrecords',\n",
       " '../datasets/stixels/val/tfrec_batch_size_1/val032573.tfrecords',\n",
       " '../datasets/stixels/val/tfrec_batch_size_1/val044142.tfrecords',\n",
       " '../datasets/stixels/val/tfrec_batch_size_1/val072523.tfrecords',\n",
       " '../datasets/stixels/val/tfrec_batch_size_1/val083749.tfrecords',\n",
       " '../datasets/stixels/val/tfrec_batch_size_1/val096780.tfrecords',\n",
       " '../datasets/stixels/val/tfrec_batch_size_1/val013551.tfrecords',\n",
       " '../datasets/stixels/val/tfrec_batch_size_1/val007227.tfrecords',\n",
       " '../datasets/stixels/val/tfrec_batch_size_1/val031197.tfrecords',\n",
       " '../datasets/stixels/val/tfrec_batch_size_1/val115934.tfrecords',\n",
       " '../datasets/stixels/val/tfrec_batch_size_1/val004794.tfrecords',\n",
       " '../datasets/stixels/val/tfrec_batch_size_1/val113663.tfrecords',\n",
       " '../datasets/stixels/val/tfrec_batch_size_1/val085238.tfrecords',\n",
       " '../datasets/stixels/val/tfrec_batch_size_1/val102229.tfrecords',\n",
       " '../datasets/stixels/val/tfrec_batch_size_1/val015936.tfrecords',\n",
       " '../datasets/stixels/val/tfrec_batch_size_1/val110314.tfrecords',\n",
       " '../datasets/stixels/val/tfrec_batch_size_1/val051948.tfrecords',\n",
       " '../datasets/stixels/val/tfrec_batch_size_1/val011425.tfrecords',\n",
       " '../datasets/stixels/val/tfrec_batch_size_1/val095345.tfrecords',\n",
       " '../datasets/stixels/val/tfrec_batch_size_1/val031227.tfrecords',\n",
       " '../datasets/stixels/val/tfrec_batch_size_1/val096198.tfrecords',\n",
       " '../datasets/stixels/val/tfrec_batch_size_1/val095874.tfrecords',\n",
       " '../datasets/stixels/val/tfrec_batch_size_1/val020755.tfrecords',\n",
       " '../datasets/stixels/val/tfrec_batch_size_1/val105759.tfrecords',\n",
       " '../datasets/stixels/val/tfrec_batch_size_1/val026639.tfrecords',\n",
       " '../datasets/stixels/val/tfrec_batch_size_1/val093920.tfrecords',\n",
       " '../datasets/stixels/val/tfrec_batch_size_1/val086868.tfrecords',\n",
       " '../datasets/stixels/val/tfrec_batch_size_1/val100997.tfrecords',\n",
       " '../datasets/stixels/val/tfrec_batch_size_1/val085769.tfrecords',\n",
       " '../datasets/stixels/val/tfrec_batch_size_1/val059058.tfrecords',\n",
       " '../datasets/stixels/val/tfrec_batch_size_1/val057233.tfrecords',\n",
       " '../datasets/stixels/val/tfrec_batch_size_1/val006381.tfrecords',\n",
       " '../datasets/stixels/val/tfrec_batch_size_1/val029031.tfrecords',\n",
       " '../datasets/stixels/val/tfrec_batch_size_1/val043682.tfrecords',\n",
       " '../datasets/stixels/val/tfrec_batch_size_1/val037279.tfrecords',\n",
       " '../datasets/stixels/val/tfrec_batch_size_1/val023842.tfrecords',\n",
       " '../datasets/stixels/val/tfrec_batch_size_1/val097487.tfrecords',\n",
       " '../datasets/stixels/val/tfrec_batch_size_1/val014025.tfrecords',\n",
       " '../datasets/stixels/val/tfrec_batch_size_1/val015138.tfrecords',\n",
       " '../datasets/stixels/val/tfrec_batch_size_1/val104015.tfrecords',\n",
       " '../datasets/stixels/val/tfrec_batch_size_1/val035004.tfrecords',\n",
       " '../datasets/stixels/val/tfrec_batch_size_1/val016993.tfrecords',\n",
       " '../datasets/stixels/val/tfrec_batch_size_1/val095613.tfrecords',\n",
       " '../datasets/stixels/val/tfrec_batch_size_1/val047749.tfrecords',\n",
       " '../datasets/stixels/val/tfrec_batch_size_1/val013374.tfrecords',\n",
       " '../datasets/stixels/val/tfrec_batch_size_1/val031770.tfrecords',\n",
       " '../datasets/stixels/val/tfrec_batch_size_1/val017045.tfrecords',\n",
       " '../datasets/stixels/val/tfrec_batch_size_1/val022615.tfrecords',\n",
       " '../datasets/stixels/val/tfrec_batch_size_1/val002546.tfrecords',\n",
       " '../datasets/stixels/val/tfrec_batch_size_1/val096439.tfrecords',\n",
       " '../datasets/stixels/val/tfrec_batch_size_1/val067693.tfrecords',\n",
       " '../datasets/stixels/val/tfrec_batch_size_1/val040794.tfrecords',\n",
       " '../datasets/stixels/val/tfrec_batch_size_1/val085990.tfrecords',\n",
       " '../datasets/stixels/val/tfrec_batch_size_1/val064275.tfrecords',\n",
       " '../datasets/stixels/val/tfrec_batch_size_1/val002374.tfrecords',\n",
       " '../datasets/stixels/val/tfrec_batch_size_1/val001577.tfrecords',\n",
       " '../datasets/stixels/val/tfrec_batch_size_1/val030518.tfrecords',\n",
       " '../datasets/stixels/val/tfrec_batch_size_1/val018757.tfrecords',\n",
       " '../datasets/stixels/val/tfrec_batch_size_1/val088310.tfrecords',\n",
       " '../datasets/stixels/val/tfrec_batch_size_1/val034392.tfrecords',\n",
       " '../datasets/stixels/val/tfrec_batch_size_1/val083104.tfrecords',\n",
       " '../datasets/stixels/val/tfrec_batch_size_1/val048072.tfrecords',\n",
       " '../datasets/stixels/val/tfrec_batch_size_1/val014345.tfrecords',\n",
       " '../datasets/stixels/val/tfrec_batch_size_1/val082240.tfrecords',\n",
       " '../datasets/stixels/val/tfrec_batch_size_1/val006854.tfrecords',\n",
       " '../datasets/stixels/val/tfrec_batch_size_1/val060262.tfrecords',\n",
       " '../datasets/stixels/val/tfrec_batch_size_1/val100570.tfrecords',\n",
       " '../datasets/stixels/val/tfrec_batch_size_1/val101720.tfrecords',\n",
       " '../datasets/stixels/val/tfrec_batch_size_1/val017159.tfrecords',\n",
       " '../datasets/stixels/val/tfrec_batch_size_1/val077177.tfrecords',\n",
       " '../datasets/stixels/val/tfrec_batch_size_1/val099005.tfrecords',\n",
       " '../datasets/stixels/val/tfrec_batch_size_1/val007760.tfrecords',\n",
       " '../datasets/stixels/val/tfrec_batch_size_1/val091802.tfrecords',\n",
       " '../datasets/stixels/val/tfrec_batch_size_1/val081889.tfrecords',\n",
       " '../datasets/stixels/val/tfrec_batch_size_1/val085354.tfrecords',\n",
       " '../datasets/stixels/val/tfrec_batch_size_1/val111465.tfrecords',\n",
       " '../datasets/stixels/val/tfrec_batch_size_1/val012912.tfrecords',\n",
       " '../datasets/stixels/val/tfrec_batch_size_1/val009953.tfrecords',\n",
       " '../datasets/stixels/val/tfrec_batch_size_1/val046243.tfrecords',\n",
       " '../datasets/stixels/val/tfrec_batch_size_1/val010256.tfrecords',\n",
       " '../datasets/stixels/val/tfrec_batch_size_1/val024316.tfrecords',\n",
       " '../datasets/stixels/val/tfrec_batch_size_1/val114867.tfrecords',\n",
       " '../datasets/stixels/val/tfrec_batch_size_1/val091767.tfrecords',\n",
       " '../datasets/stixels/val/tfrec_batch_size_1/val111683.tfrecords',\n",
       " '../datasets/stixels/val/tfrec_batch_size_1/val077486.tfrecords',\n",
       " '../datasets/stixels/val/tfrec_batch_size_1/val110772.tfrecords',\n",
       " '../datasets/stixels/val/tfrec_batch_size_1/val104023.tfrecords',\n",
       " '../datasets/stixels/val/tfrec_batch_size_1/val104340.tfrecords',\n",
       " '../datasets/stixels/val/tfrec_batch_size_1/val079095.tfrecords',\n",
       " '../datasets/stixels/val/tfrec_batch_size_1/val091129.tfrecords',\n",
       " '../datasets/stixels/val/tfrec_batch_size_1/val093437.tfrecords',\n",
       " '../datasets/stixels/val/tfrec_batch_size_1/val076722.tfrecords',\n",
       " '../datasets/stixels/val/tfrec_batch_size_1/val048603.tfrecords',\n",
       " '../datasets/stixels/val/tfrec_batch_size_1/val045307.tfrecords',\n",
       " '../datasets/stixels/val/tfrec_batch_size_1/val032894.tfrecords',\n",
       " '../datasets/stixels/val/tfrec_batch_size_1/val031753.tfrecords',\n",
       " '../datasets/stixels/val/tfrec_batch_size_1/val108221.tfrecords',\n",
       " '../datasets/stixels/val/tfrec_batch_size_1/val036003.tfrecords',\n",
       " ...]"
      ]
     },
     "execution_count": 49,
     "metadata": {},
     "output_type": "execute_result"
    }
   ],
   "source": [
    "path_tfrecords_val_lst\n",
    "\n"
   ]
  },
  {
   "cell_type": "code",
   "execution_count": 60,
   "metadata": {
    "collapsed": true
   },
   "outputs": [],
   "source": [
    "def val_input_fn():\n",
    "    return input_fn(path_tfrecords_train_lst, train=False) #path_tfrecords_val_lst[7000:8500], train=False) "
   ]
  },
  {
   "cell_type": "code",
   "execution_count": 61,
   "metadata": {
    "collapsed": false
   },
   "outputs": [
    {
     "data": {
      "text/plain": [
       "['../datasets/stixels/train/tfrec_batch_size_1_percent_2/train134319.tfrecords',\n",
       " '../datasets/stixels/train/tfrec_batch_size_1_percent_2/train041626.tfrecords',\n",
       " '../datasets/stixels/train/tfrec_batch_size_1_percent_2/train327806.tfrecords',\n",
       " '../datasets/stixels/train/tfrec_batch_size_1_percent_2/train088905.tfrecords']"
      ]
     },
     "execution_count": 61,
     "metadata": {},
     "output_type": "execute_result"
    }
   ],
   "source": [
    "path_tfrecords_train_lst"
   ]
  },
  {
   "cell_type": "code",
   "execution_count": 62,
   "metadata": {
    "collapsed": false
   },
   "outputs": [
    {
     "name": "stdout",
     "output_type": "stream",
     "text": [
      "(TensorShape([Dimension(64), Dimension(None), Dimension(None), Dimension(3)]), TensorShape([Dimension(64)]))\n",
      "INFO:tensorflow:Calling model_fn.\n",
      "INFO:tensorflow:Done calling model_fn.\n",
      "INFO:tensorflow:Starting evaluation at 2018-05-25-07:56:59\n",
      "INFO:tensorflow:Graph was finalized.\n",
      "INFO:tensorflow:Restoring parameters from ./ckpts_22_5_1conv_1dense_4examples/model.ckpt-10649\n",
      "INFO:tensorflow:Running local_init_op.\n",
      "INFO:tensorflow:Done running local_init_op.\n",
      "INFO:tensorflow:Finished evaluation at 2018-05-25-07:56:59\n",
      "INFO:tensorflow:Saving dict for global step 10649: accuracy = 0.0, global_step = 10649, loss = 0.0\n"
     ]
    }
   ],
   "source": [
    "val_result = model.evaluate(input_fn=val_input_fn) "
   ]
  },
  {
   "cell_type": "code",
   "execution_count": 36,
   "metadata": {
    "collapsed": false
   },
   "outputs": [
    {
     "data": {
      "text/plain": [
       "{'accuracy': 0.046195652, 'global_step': 10649, 'loss': 262.73007}"
      ]
     },
     "execution_count": 36,
     "metadata": {},
     "output_type": "execute_result"
    }
   ],
   "source": [
    "val_result"
   ]
  },
  {
   "cell_type": "code",
   "execution_count": 37,
   "metadata": {
    "collapsed": false
   },
   "outputs": [
    {
     "name": "stdout",
     "output_type": "stream",
     "text": [
      "Classification val accuracy: 4.62%\n"
     ]
    }
   ],
   "source": [
    "print(\"Classification val accuracy: {0:.2%}\".format(val_result[\"accuracy\"]))"
   ]
  },
  {
   "cell_type": "code",
   "execution_count": null,
   "metadata": {
    "collapsed": true
   },
   "outputs": [],
   "source": [
    "#TEST:"
   ]
  },
  {
   "cell_type": "code",
   "execution_count": 104,
   "metadata": {
    "collapsed": true
   },
   "outputs": [],
   "source": [
    "tfrec_test_batch_size=1"
   ]
  },
  {
   "cell_type": "code",
   "execution_count": 105,
   "metadata": {
    "collapsed": true
   },
   "outputs": [],
   "source": [
    "tfrec_test_directory = os.path.join('..','datasets','stixels','test','tfrec_batch_size_'+str(tfrec_test_batch_size))"
   ]
  },
  {
   "cell_type": "code",
   "execution_count": 106,
   "metadata": {
    "collapsed": true
   },
   "outputs": [],
   "source": [
    "path_tfrecords_test_lst=[]\n",
    "path_tfrecords_test = os.path.join(img_path, 'test')\n",
    "for root, dirs, files in os.walk(tfrec_test_directory):\n",
    "    for file in files:\n",
    "        if '.tfrecord' in file:\n",
    "            path_tfrecords_test_lst.append(os.path.join(tfrec_test_directory,file))\n",
    "        else:\n",
    "            print('WARNING: file ' + file + 'looks suspicious. does it belong here?')"
   ]
  },
  {
   "cell_type": "code",
   "execution_count": 107,
   "metadata": {
    "collapsed": true
   },
   "outputs": [],
   "source": [
    "def test_input_fn():\n",
    "    return input_fn(filenames=path_tfrecords_test_lst[1000:3000], train=False)"
   ]
  },
  {
   "cell_type": "code",
   "execution_count": 108,
   "metadata": {
    "collapsed": false
   },
   "outputs": [
    {
     "name": "stdout",
     "output_type": "stream",
     "text": [
      "INFO:tensorflow:Calling model_fn.\n",
      "INFO:tensorflow:Done calling model_fn.\n",
      "INFO:tensorflow:Starting evaluation at 2018-05-22-07:33:49\n",
      "INFO:tensorflow:Graph was finalized.\n",
      "INFO:tensorflow:Restoring parameters from ./ckpts_15_5_decay_xavier_grad_decsent_example7/model.ckpt-24001\n",
      "INFO:tensorflow:Running local_init_op.\n",
      "INFO:tensorflow:Done running local_init_op.\n",
      "INFO:tensorflow:Finished evaluation at 2018-05-22-07:34:22\n",
      "INFO:tensorflow:Saving dict for global step 24001: accuracy = 0.1155, global_step = 24001, loss = 4.1837482\n"
     ]
    }
   ],
   "source": [
    "test_result = model.evaluate(input_fn=test_input_fn)"
   ]
  },
  {
   "cell_type": "code",
   "execution_count": 109,
   "metadata": {
    "collapsed": false
   },
   "outputs": [
    {
     "name": "stdout",
     "output_type": "stream",
     "text": [
      "Classification test accuracy: 11.55%\n"
     ]
    }
   ],
   "source": [
    "print(\"Classification test accuracy: {0:.2%}\".format(test_result[\"accuracy\"]))"
   ]
  },
  {
   "cell_type": "code",
   "execution_count": null,
   "metadata": {
    "collapsed": true
   },
   "outputs": [],
   "source": [
    "#PRED:"
   ]
  },
  {
   "cell_type": "code",
   "execution_count": 38,
   "metadata": {
    "collapsed": true
   },
   "outputs": [],
   "source": [
    "sum_csv_test_path = os.path.join(img_path,'train', 'sum_csv') #TEST\n",
    "labels_test=pd.read_csv(os.path.join(sum_csv_test_path,'labels_train_'+str(percent)+'percent.csv'))\n",
    "test_names_list=list(labels_test['Name'])\n",
    "image_paths_test=[]\n",
    "for name in test_names_list:\n",
    "    image_paths_test.append(os.path.join(img_path, 'train', name+'.png')) #maybe no need to add '.png'\n"
   ]
  },
  {
   "cell_type": "code",
   "execution_count": 39,
   "metadata": {
    "collapsed": true
   },
   "outputs": [],
   "source": [
    "def load_images(image_paths):\n",
    "    # Load the images from disk.\n",
    "    images = [imread(path) for path in image_paths]\n",
    "    # Convert to a numpy array and return it.\n",
    "    return np.asarray(images)\n"
   ]
  },
  {
   "cell_type": "code",
   "execution_count": 40,
   "metadata": {
    "collapsed": true
   },
   "outputs": [],
   "source": [
    "##TODO:SHUFFLE!\n",
    "some_num=100\n",
    "some_images = load_images(image_paths=image_paths_test[0:0+some_num])\n",
    "some_images_cls = np.array(labels_test['Label'])"
   ]
  },
  {
   "cell_type": "code",
   "execution_count": 41,
   "metadata": {
    "collapsed": true
   },
   "outputs": [],
   "source": [
    "predict_input_fn = tf.estimator.inputs.numpy_input_fn(\n",
    "    x={\"image\": some_images.astype(np.float32)},\n",
    "    num_epochs=1,\n",
    "    shuffle=False)"
   ]
  },
  {
   "cell_type": "code",
   "execution_count": 42,
   "metadata": {
    "collapsed": true
   },
   "outputs": [],
   "source": [
    "predictions = model.predict(input_fn=predict_input_fn) "
   ]
  },
  {
   "cell_type": "code",
   "execution_count": 43,
   "metadata": {
    "collapsed": false
   },
   "outputs": [
    {
     "name": "stdout",
     "output_type": "stream",
     "text": [
      "INFO:tensorflow:Calling model_fn.\n",
      "INFO:tensorflow:Done calling model_fn.\n",
      "INFO:tensorflow:Graph was finalized.\n",
      "INFO:tensorflow:Restoring parameters from ./ckpts_22_5_1conv_1dense_4examples/model.ckpt-10649\n",
      "INFO:tensorflow:Running local_init_op.\n",
      "INFO:tensorflow:Done running local_init_op.\n"
     ]
    },
    {
     "data": {
      "text/plain": [
       "array([[0.01173844, 0.02670282, 0.00659254, ..., 0.01886446, 0.02820454,\n",
       "        0.03022418],\n",
       "       [0.01164605, 0.02677397, 0.00646833, ..., 0.01912687, 0.02771651,\n",
       "        0.03033716],\n",
       "       [0.0114068 , 0.02712762, 0.00640529, ..., 0.019169  , 0.02678959,\n",
       "        0.0310404 ],\n",
       "       ...,\n",
       "       [0.01041822, 0.02845204, 0.00574676, ..., 0.0181485 , 0.0275079 ,\n",
       "        0.03119214],\n",
       "       [0.01022478, 0.02874675, 0.00587737, ..., 0.01858109, 0.02821582,\n",
       "        0.0311498 ],\n",
       "       [0.01039221, 0.02890631, 0.00591503, ..., 0.01886374, 0.02799399,\n",
       "        0.03109998]], dtype=float32)"
      ]
     },
     "execution_count": 43,
     "metadata": {},
     "output_type": "execute_result"
    }
   ],
   "source": [
    "cls_pred = np.array(list(predictions))\n",
    "cls_pred "
   ]
  },
  {
   "cell_type": "code",
   "execution_count": 44,
   "metadata": {
    "collapsed": false
   },
   "outputs": [
    {
     "data": {
      "text/plain": [
       "(100, 47)"
      ]
     },
     "execution_count": 44,
     "metadata": {},
     "output_type": "execute_result"
    }
   ],
   "source": [
    "cls_pred.shape"
   ]
  },
  {
   "cell_type": "code",
   "execution_count": 45,
   "metadata": {
    "collapsed": false
   },
   "outputs": [
    {
     "data": {
      "text/plain": [
       "array([[0.01173844, 0.02670282, 0.00659254, ..., 0.01886446, 0.02820454,\n",
       "        0.03022418],\n",
       "       [0.01164605, 0.02677397, 0.00646833, ..., 0.01912687, 0.02771651,\n",
       "        0.03033716],\n",
       "       [0.0114068 , 0.02712762, 0.00640529, ..., 0.019169  , 0.02678959,\n",
       "        0.0310404 ],\n",
       "       ...,\n",
       "       [0.01041822, 0.02845204, 0.00574676, ..., 0.0181485 , 0.0275079 ,\n",
       "        0.03119214],\n",
       "       [0.01022478, 0.02874675, 0.00587737, ..., 0.01858109, 0.02821582,\n",
       "        0.0311498 ],\n",
       "       [0.01039221, 0.02890631, 0.00591503, ..., 0.01886374, 0.02799399,\n",
       "        0.03109998]], dtype=float32)"
      ]
     },
     "execution_count": 45,
     "metadata": {},
     "output_type": "execute_result"
    }
   ],
   "source": [
    "cls_pred"
   ]
  },
  {
   "cell_type": "code",
   "execution_count": 46,
   "metadata": {
    "collapsed": false
   },
   "outputs": [
    {
     "data": {
      "text/plain": [
       "(array([ 52, 107, 108,  75, 150, 154, 159, 263, 344, 371, 133, 216, 256,\n",
       "        234, 292, 180,  95, 162, 283, 281, 250,  78,  52,  47,  52,  44,\n",
       "         54,  37,  31,  17,  19,  13,  16,   9,   7,  12,   2,  14,   6,\n",
       "          8,   5,   3,   1,   2,   1,   2,   3]),\n",
       " array([0.00291326, 0.00426659, 0.00561992, 0.00697324, 0.00832657,\n",
       "        0.0096799 , 0.01103322, 0.01238655, 0.01373988, 0.0150932 ,\n",
       "        0.01644653, 0.01779986, 0.01915318, 0.02050651, 0.02185984,\n",
       "        0.02321316, 0.02456649, 0.02591982, 0.02727314, 0.02862647,\n",
       "        0.0299798 , 0.03133312, 0.03268645, 0.03403978, 0.0353931 ,\n",
       "        0.03674643, 0.03809976, 0.03945308, 0.04080641, 0.04215974,\n",
       "        0.04351306, 0.04486639, 0.04621972, 0.04757304, 0.04892637,\n",
       "        0.0502797 , 0.05163302, 0.05298635, 0.05433968, 0.055693  ,\n",
       "        0.05704633, 0.05839966, 0.05975298, 0.06110631, 0.06245964,\n",
       "        0.06381296, 0.06516629, 0.06651962]))"
      ]
     },
     "execution_count": 46,
     "metadata": {},
     "output_type": "execute_result"
    }
   ],
   "source": [
    "np.histogram(cls_pred, bins=47)"
   ]
  },
  {
   "cell_type": "code",
   "execution_count": 47,
   "metadata": {
    "collapsed": false
   },
   "outputs": [
    {
     "data": {
      "text/plain": [
       "array([0.01013887, 0.02969489, 0.0061564 , 0.02119487, 0.01757099,\n",
       "       0.02901325, 0.03026538, 0.02745966, 0.02374774, 0.0297063 ,\n",
       "       0.02675543, 0.03371446, 0.02226516, 0.01580071, 0.01447017,\n",
       "       0.03927152, 0.01527348, 0.00865516, 0.04348044, 0.04089904,\n",
       "       0.02201671, 0.01601022, 0.02277997, 0.01496616, 0.01107511,\n",
       "       0.01454198, 0.02906439, 0.00800654, 0.01769709, 0.02235518,\n",
       "       0.0306834 , 0.02337936, 0.01381616, 0.02831054, 0.01072191,\n",
       "       0.00529775, 0.01853069, 0.01654931, 0.01888733, 0.02299123,\n",
       "       0.01493914, 0.01928054, 0.01303973, 0.02092779, 0.01887416,\n",
       "       0.02674274, 0.03298091], dtype=float32)"
      ]
     },
     "execution_count": 47,
     "metadata": {},
     "output_type": "execute_result"
    }
   ],
   "source": [
    "cls_pred[11]"
   ]
  },
  {
   "cell_type": "code",
   "execution_count": 48,
   "metadata": {
    "collapsed": true
   },
   "outputs": [],
   "source": [
    "y_pred_cls = tf.argmax(cls_pred, axis=1) "
   ]
  },
  {
   "cell_type": "code",
   "execution_count": 49,
   "metadata": {
    "collapsed": false
   },
   "outputs": [
    {
     "data": {
      "text/plain": [
       "<tf.Tensor 'ArgMax:0' shape=(100,) dtype=int64>"
      ]
     },
     "execution_count": 49,
     "metadata": {},
     "output_type": "execute_result"
    }
   ],
   "source": [
    "y_pred_cls"
   ]
  },
  {
   "cell_type": "code",
   "execution_count": 50,
   "metadata": {
    "collapsed": false
   },
   "outputs": [
    {
     "name": "stdout",
     "output_type": "stream",
     "text": [
      "[18 18 18 18 18 18 18 18 18 18 18 18 19 19 18 18 18 18 18 18 18 18 18 18\n",
      " 18 18 18 18 18 18 18 18 18 18 18 18 18 18 15 19 19 19 19 18 18 18 18 18\n",
      " 18 18 18 18 18 18 18 18 19 19 18 18 18 18 18 18 18 18 18 18 18 18 18 18\n",
      " 18 18 18 18 18 18 18 18 18 18 18 18 18 19 19 19 19 19 18 18 18 18 18 18\n",
      " 18 18 18 18]\n"
     ]
    }
   ],
   "source": [
    "init_op = tf.initialize_all_variables()\n",
    "with tf.Session() as sess:\n",
    "        sess.run(init_op)\n",
    "        print (sess.run(y_pred_cls))"
   ]
  },
  {
   "cell_type": "code",
   "execution_count": null,
   "metadata": {
    "collapsed": true
   },
   "outputs": [],
   "source": []
  }
 ],
 "metadata": {
  "kernelspec": {
   "display_name": "Python 3",
   "language": "python",
   "name": "python3"
  },
  "language_info": {
   "codemirror_mode": {
    "name": "ipython",
    "version": 3
   },
   "file_extension": ".py",
   "mimetype": "text/x-python",
   "name": "python",
   "nbconvert_exporter": "python",
   "pygments_lexer": "ipython3",
   "version": "3.5.2"
  }
 },
 "nbformat": 4,
 "nbformat_minor": 1
}
