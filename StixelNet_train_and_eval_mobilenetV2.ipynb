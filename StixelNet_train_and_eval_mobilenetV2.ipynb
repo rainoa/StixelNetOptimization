{
 "cells": [
  {
   "cell_type": "code",
   "execution_count": null,
   "metadata": {
    "collapsed": true
   },
   "outputs": [],
   "source": [
    "########now part 2: decode and train#######"
   ]
  },
  {
   "cell_type": "code",
   "execution_count": 1,
   "metadata": {
    "collapsed": false
   },
   "outputs": [
    {
     "name": "stdout",
     "output_type": "stream",
     "text": [
      "[name: \"/device:CPU:0\"\n",
      "device_type: \"CPU\"\n",
      "memory_limit: 268435456\n",
      "locality {\n",
      "}\n",
      "incarnation: 3625252946920903512\n",
      ", name: \"/device:GPU:0\"\n",
      "device_type: \"GPU\"\n",
      "memory_limit: 11272650752\n",
      "locality {\n",
      "  bus_id: 1\n",
      "  links {\n",
      "  }\n",
      "}\n",
      "incarnation: 3594027441480131163\n",
      "physical_device_desc: \"device: 0, name: Tesla K80, pci bus id: 0000:00:04.0, compute capability: 3.7\"\n",
      "]\n"
     ]
    }
   ],
   "source": [
    "from tensorflow.python.client import device_lib\n",
    "print(device_lib.list_local_devices())"
   ]
  },
  {
   "cell_type": "code",
   "execution_count": 2,
   "metadata": {
    "collapsed": false
   },
   "outputs": [
    {
     "name": "stdout",
     "output_type": "stream",
     "text": [
      "WARNING:tensorflow:From /home/noa_raindel/.TFgpu/lib/python3.5/site-packages/tensorflow/contrib/learn/python/learn/datasets/base.py:198: retry (from tensorflow.contrib.learn.python.learn.datasets.base) is deprecated and will be removed in a future version.\n",
      "Instructions for updating:\n",
      "Use the retry module or similar alternatives.\n"
     ]
    }
   ],
   "source": [
    "import tensorflow as tf\n",
    "import tensorflow.contrib.eager as tfe\n",
    "import numpy as np\n",
    "import pandas as pd\n",
    "import math\n",
    "import timeit\n",
    "import matplotlib.pyplot as plt\n",
    "from tensorflow.contrib.layers.python.layers import utils\n",
    "#from preprocess_func_new import *\n",
    "from matplotlib.image import imread\n",
    "import os\n",
    "from os.path import expanduser\n",
    "# from tensorflow.python import keras\n",
    "# from tensorflow.keras.applications.mobileNet import DepthwiseConv2D\n",
    "\n",
    "%matplotlib inline\n",
    "\n",
    "#tf.enable_eager_execution()\n",
    "\n",
    "#tf.logging.set_verbosity(tf.logging.INFO)"
   ]
  },
  {
   "cell_type": "code",
   "execution_count": 3,
   "metadata": {
    "collapsed": true
   },
   "outputs": [],
   "source": [
    "# for auto-reloading external modules\n",
    "# see http://stackoverflow.com/questions/1907993/autoreload-of-modules-in-ipython\n",
    "%load_ext autoreload\n",
    "%autoreload 2"
   ]
  },
  {
   "cell_type": "code",
   "execution_count": 4,
   "metadata": {
    "collapsed": false
   },
   "outputs": [
    {
     "data": {
      "text/plain": [
       "'../datasets/stixels'"
      ]
     },
     "execution_count": 4,
     "metadata": {},
     "output_type": "execute_result"
    }
   ],
   "source": [
    "img_path = os.path.join('..','datasets','stixels')\n",
    "img_path"
   ]
  },
  {
   "cell_type": "code",
   "execution_count": 5,
   "metadata": {
    "collapsed": true
   },
   "outputs": [],
   "source": [
    "percent=2 "
   ]
  },
  {
   "cell_type": "code",
   "execution_count": 6,
   "metadata": {
    "collapsed": true
   },
   "outputs": [],
   "source": [
    "tfrec_batch_size=1 #for path name only"
   ]
  },
  {
   "cell_type": "code",
   "execution_count": 7,
   "metadata": {
    "collapsed": true
   },
   "outputs": [],
   "source": [
    "batch_size=64"
   ]
  },
  {
   "cell_type": "code",
   "execution_count": 8,
   "metadata": {
    "collapsed": false
   },
   "outputs": [
    {
     "data": {
      "text/plain": [
       "'../datasets/stixels/train/tfrec_batch_size_1_precent_2'"
      ]
     },
     "execution_count": 8,
     "metadata": {},
     "output_type": "execute_result"
    }
   ],
   "source": [
    "tfrec_train_directory = os.path.join('..','datasets','stixels','train','tfrec_batch_size_'\n",
    "                                     +str(tfrec_batch_size)+'_precent_'+str(percent))\n",
    "#### note there is a misspelling \"precent\"\n",
    "tfrec_train_directory\n"
   ]
  },
  {
   "cell_type": "code",
   "execution_count": 43,
   "metadata": {
    "collapsed": false
   },
   "outputs": [],
   "source": [
    "#creating a list of paths to train tfrecs:\n",
    "path_tfrecords_train_lst=[]\n",
    "path_tfrecords_train = os.path.join(img_path, 'train')\n",
    "for root, dirs, files in os.walk(tfrec_train_directory):\n",
    "    for file in files:\n",
    "        if '.tfrecord' in file:\n",
    "            path_tfrecords_train_lst.append(os.path.join(tfrec_train_directory,file))\n",
    "        else:\n",
    "            print('WARNING: file ' + file + 'looks suspicious. does it belong here?')\n"
   ]
  },
  {
   "cell_type": "code",
   "execution_count": 10,
   "metadata": {
    "collapsed": true
   },
   "outputs": [],
   "source": [
    "#shortening the list for experiments\n",
    "path_tfrecords_train_lst = path_tfrecords_train_lst[:128]\n",
    "##################"
   ]
  },
  {
   "cell_type": "code",
   "execution_count": 11,
   "metadata": {
    "collapsed": true
   },
   "outputs": [],
   "source": [
    "#params\n",
    "H=370 \n",
    "W=24\n",
    "C=3\n",
    "img_shape = (H, W, C)\n",
    "num_classes = 47"
   ]
  },
  {
   "cell_type": "code",
   "execution_count": 93,
   "metadata": {
    "collapsed": true
   },
   "outputs": [],
   "source": [
    "def parse(serialized):\n",
    "    # Define a dict with the data-names and types we expect to\n",
    "    # find in the TFRecords file.\n",
    "    # It is a bit awkward that this needs to be specified again,\n",
    "    # because it could have been written in the header of the\n",
    "    # TFRecords file instead.\n",
    "    features = \\\n",
    "        {\n",
    "            'image': tf.FixedLenFeature([], tf.string),\n",
    "            'label': tf.FixedLenFeature([], tf.int64)\n",
    "        }\n",
    "\n",
    "    # Parse the serialized data so we get a dict with our data.\n",
    "    parsed_example = tf.parse_single_example(serialized=serialized,\n",
    "                                             features=features)\n",
    "\n",
    "    # Get the image as raw bytes.\n",
    "    image_raw = parsed_example['image']\n",
    "\n",
    "    # Decode the raw bytes so it becomes a tensor with type.\n",
    "    #######image = tf.decode_raw(image_raw, tf.int32) ####\n",
    "    image = tf.image.decode_png(image_raw, channels=3, dtype=tf.uint8) \n",
    "    #image = tf.cast(image, tf.int32)\n",
    "\n",
    "    # The type is now uint8 but we need it to be float.\n",
    "    \n",
    "    image = tf.cast(image, tf.float32) ####\n",
    "    \n",
    "    # Get the label associated with the image.\n",
    "    label = parsed_example['label']\n",
    "    \n",
    "    \n",
    "    # The image and label are now correct TensorFlow types.\n",
    "    return image, label"
   ]
  },
  {
   "cell_type": "code",
   "execution_count": 13,
   "metadata": {
    "collapsed": true
   },
   "outputs": [],
   "source": [
    "########## a function to print tensor values\n",
    "def print_tensor(tensor):\n",
    "    dataset = tf.data.TFRecordDataset(filenames=[tensor])\n",
    "    dataset = dataset.map(parse)\n",
    "    iterator = dataset.make_one_shot_iterator()\n",
    "    images_batch, labels_batch = iterator.get_next()\n",
    "    x = {'image': images_batch}\n",
    "    y = labels_batch\n",
    "    init_op = tf.initialize_all_variables()\n",
    "\n",
    "    with tf.Session() as sess:\n",
    "        sess.run(init_op)\n",
    "        print (sess.run(y))\n",
    "        #print (sess.run(x))\n",
    "        #return(sess.run(x))\n",
    "    return"
   ]
  },
  {
   "cell_type": "code",
   "execution_count": 67,
   "metadata": {
    "collapsed": false
   },
   "outputs": [
    {
     "name": "stdout",
     "output_type": "stream",
     "text": [
      "18\n",
      "19\n",
      "26\n",
      "15\n",
      "17\n",
      "29\n",
      "46\n",
      "15\n",
      "16\n",
      "15\n",
      "14\n",
      "33\n",
      "16\n",
      "30\n",
      "25\n",
      "8\n",
      "21\n",
      "20\n",
      "27\n",
      "32\n",
      "22\n",
      "15\n",
      "31\n",
      "19\n",
      "26\n",
      "9\n",
      "36\n",
      "36\n",
      "16\n",
      "15\n",
      "10\n",
      "24\n",
      "30\n",
      "35\n",
      "10\n",
      "18\n",
      "24\n",
      "16\n",
      "17\n",
      "21\n",
      "36\n",
      "22\n",
      "26\n",
      "10\n",
      "29\n",
      "15\n",
      "20\n",
      "14\n",
      "16\n",
      "12\n",
      "23\n",
      "24\n",
      "38\n",
      "32\n",
      "30\n",
      "23\n",
      "31\n",
      "14\n",
      "16\n",
      "15\n",
      "17\n",
      "17\n",
      "22\n",
      "33\n",
      "12\n",
      "17\n",
      "30\n",
      "13\n",
      "20\n",
      "11\n",
      "35\n",
      "17\n",
      "34\n",
      "11\n",
      "28\n",
      "10\n",
      "15\n",
      "18\n",
      "14\n",
      "46\n",
      "46\n",
      "25\n",
      "16\n",
      "11\n",
      "15\n",
      "16\n",
      "21\n",
      "18\n",
      "33\n",
      "28\n",
      "26\n",
      "11\n",
      "46\n",
      "35\n",
      "24\n",
      "13\n",
      "15\n",
      "10\n",
      "20\n",
      "35\n",
      "21\n",
      "11\n",
      "32\n",
      "27\n",
      "32\n",
      "13\n",
      "21\n",
      "12\n",
      "18\n",
      "35\n",
      "25\n",
      "15\n",
      "21\n",
      "17\n",
      "24\n",
      "26\n",
      "22\n",
      "18\n",
      "19\n",
      "18\n",
      "14\n",
      "29\n",
      "13\n",
      "13\n",
      "22\n",
      "34\n",
      "24\n",
      "17\n"
     ]
    }
   ],
   "source": [
    "################ try to print the tensors\n",
    "for t in path_tfrecords_train_lst[:128]:\n",
    "    #print (t)\n",
    "    print_tensor(t)\n",
    "    #print(x)"
   ]
  },
  {
   "cell_type": "code",
   "execution_count": 22,
   "metadata": {
    "collapsed": false
   },
   "outputs": [
    {
     "ename": "NameError",
     "evalue": "name 'x' is not defined",
     "output_type": "error",
     "traceback": [
      "\u001b[1;31m---------------------------------------------------------------------------\u001b[0m",
      "\u001b[1;31mNameError\u001b[0m                                 Traceback (most recent call last)",
      "\u001b[1;32m<ipython-input-22-a893ff3f9288>\u001b[0m in \u001b[0;36m<module>\u001b[1;34m()\u001b[0m\n\u001b[0;32m      1\u001b[0m \u001b[1;31m############# print shape of tensor\u001b[0m\u001b[1;33m\u001b[0m\u001b[1;33m\u001b[0m\u001b[0m\n\u001b[1;32m----> 2\u001b[1;33m \u001b[0mx2\u001b[0m\u001b[1;33m=\u001b[0m\u001b[0mtf\u001b[0m\u001b[1;33m.\u001b[0m\u001b[0mSession\u001b[0m\u001b[1;33m(\u001b[0m\u001b[1;33m)\u001b[0m\u001b[1;33m.\u001b[0m\u001b[0mrun\u001b[0m\u001b[1;33m(\u001b[0m\u001b[0mx\u001b[0m\u001b[1;33m[\u001b[0m\u001b[1;34m'image'\u001b[0m\u001b[1;33m]\u001b[0m\u001b[1;33m)\u001b[0m\u001b[1;33m\u001b[0m\u001b[0m\n\u001b[0m\u001b[0;32m      3\u001b[0m \u001b[0mx2\u001b[0m\u001b[1;33m.\u001b[0m\u001b[0mshape\u001b[0m\u001b[1;33m\u001b[0m\u001b[0m\n",
      "\u001b[1;31mNameError\u001b[0m: name 'x' is not defined"
     ]
    }
   ],
   "source": [
    "############# print shape of tensor\n",
    "x2=tf.Session().run(x['image'])\n",
    "x2.shape\n"
   ]
  },
  {
   "cell_type": "code",
   "execution_count": 107,
   "metadata": {
    "collapsed": false
   },
   "outputs": [
    {
     "data": {
      "text/plain": [
       "<matplotlib.image.AxesImage at 0x7fa46a8d0e48>"
      ]
     },
     "execution_count": 107,
     "metadata": {},
     "output_type": "execute_result"
    },
    {
     "data": {
      "image/png": "[encoded data removed]",
      "text/plain": [
       "<matplotlib.figure.Figure at 0x7fa46a75c908>"
      ]
     },
     "metadata": {},
     "output_type": "display_data"
    }
   ],
   "source": [
    "####################. show the parsed stixel\n",
    "import matplotlib\n",
    "%matplotlib inline\n",
    "matplotlib.pyplot.imshow(x2)"
   ]
  },
  {
   "cell_type": "code",
   "execution_count": 94,
   "metadata": {
    "collapsed": true
   },
   "outputs": [],
   "source": [
    "def input_fn(filenames, train, batch_size=batch_size, buffer_size=100000): \n",
    "    # Args:\n",
    "    # filenames:   Filenames for the TFRecords files.\n",
    "    # train:       Boolean whether training (True) or testing (False).\n",
    "    # batch_size:  Return batches of this size.\n",
    "    # buffer_size: Read buffers of this size. The random shuffling\n",
    "    #              is done on the buffer, so it must be big enough.\n",
    "\n",
    "    # Create a TensorFlow Dataset-object which has functionality\n",
    "    # for reading and shuffling data from TFRecords files.\n",
    "    dataset = tf.data.TFRecordDataset(filenames=filenames)\n",
    "\n",
    "    # Parse the serialized data in the TFRecords files.\n",
    "    # This returns TensorFlow tensors for the image and labels.\n",
    "    dataset = dataset.map(parse)\n",
    "    \n",
    "    if train:\n",
    "        # If training then read a buffer of the given size and\n",
    "        # randomly shuffle it.\n",
    "        ######dataset = dataset.shuffle(buffer_size=buffer_size)\n",
    "\n",
    "        # Allow infinite reading of the data.\n",
    "        num_repeat = None #-1\n",
    "    else:\n",
    "        # If testing then don't shuffle the data.\n",
    "        \n",
    "        # Only go through the data once.\n",
    "        num_repeat = 1\n",
    "\n",
    "    # Repeat the dataset the given number of times.\n",
    "    dataset = dataset.repeat(num_repeat)\n",
    "    \n",
    "    # Get a batch of data with the given size.\n",
    "    #dataset = dataset.batch(batch_size)\n",
    "    #dataset = tf.contrib.data.batch_and_drop_remainder(batch_size)\n",
    "    dataset = dataset.apply(tf.contrib.data.batch_and_drop_remainder(batch_size))\n",
    "    print('@@@')\n",
    "    print(dataset.output_shapes)  # ==> \"(16,)\" (the batch dimension is known)\n",
    "    print('@@@')\n",
    "    # Create an iterator for the dataset and the above modifications.\n",
    "    iterator = dataset.make_one_shot_iterator()\n",
    "\n",
    "    # Get the next batch of images and labels.\n",
    "    images_batch, labels_batch = iterator.get_next()\n",
    "\n",
    "    # The input-function must return a dict wrapping the images.\n",
    "    x = {'image': images_batch}\n",
    "    y = labels_batch\n",
    "    return x, y"
   ]
  },
  {
   "cell_type": "code",
   "execution_count": 95,
   "metadata": {
    "collapsed": true
   },
   "outputs": [],
   "source": [
    "def train_input_fn():\n",
    "    return input_fn(filenames=path_tfrecords_train_lst, train=True)"
   ]
  },
  {
   "cell_type": "code",
   "execution_count": 96,
   "metadata": {
    "collapsed": true
   },
   "outputs": [],
   "source": [
    "# the next four cells are a modification of https://github.com/xiaochus/MobileNetV2/blob/master/mobilenet_v2.py\n",
    "def _conv_block(inputs, filters, kernel, strides, is_training):\n",
    "    \"\"\"Convolution Block\n",
    "    This function defines a 2D convolution operation with BN and relu6.\n",
    "    # Arguments\n",
    "        inputs: Tensor, input tensor of conv layer.\n",
    "        filters: Integer, the dimensionality of the output space.\n",
    "        kernel: An integer or tuple/list of 2 integers, specifying the\n",
    "            width and height of the 2D convolution window.\n",
    "        strides: An integer or tuple/list of 2 integers,\n",
    "            specifying the strides of the convolution along the width and height.\n",
    "            Can be a single integer to specify the same value for\n",
    "            all spatial dimensions.\n",
    "    # Returns\n",
    "        Output tensor.\n",
    "    \"\"\"\n",
    "    x = tf.layers.conv2d(inputs=inputs, \n",
    "                         filters=filters, \n",
    "                         kernel_size=kernel,\n",
    "                         activation=None, \n",
    "                         strides=strides,\n",
    "                         kernel_initializer=tf.contrib.layers.xavier_initializer(seed=481),\n",
    "                         padding='same'\n",
    "                        )\n",
    "    \n",
    "    x = tf.layers.batch_normalization(inputs=x,\n",
    "                                      training=is_training\n",
    "                                     )\n",
    "    \n",
    "    x = tf.nn.relu6(features=x)\n",
    "       \n",
    "    return x\n"
   ]
  },
  {
   "cell_type": "code",
   "execution_count": 97,
   "metadata": {
    "collapsed": true
   },
   "outputs": [],
   "source": [
    "def _bottleneck(inputs, filters, kernel, t, s, is_training, r=False):\n",
    "    \"\"\"Bottleneck\n",
    "    This function defines a basic bottleneck structure.\n",
    "    # Arguments\n",
    "        inputs: Tensor, input tensor of conv layer.\n",
    "        filters: Integer, the dimensionality of the output space.\n",
    "        kernel: An integer or tuple/list of 2 integers, specifying the\n",
    "            width and height of the 2D convolution window.\n",
    "        t: Integer, expansion factor.\n",
    "            t is always applied to the input size.\n",
    "        s: An integer or tuple/list of 2 integers,specifying the strides\n",
    "            of the convolution along the width and height.Can be a single\n",
    "            integer to specify the same value for all spatial dimensions.\n",
    "        r: Boolean, Whether to use the residuals.\n",
    "    # Returns\n",
    "        Output tensor.\n",
    "    \"\"\"\n",
    "\n",
    "    \n",
    "    num_filters_in = utils.last_dimension(inputs.get_shape(), min_rank=4)\n",
    "    \n",
    "    # \"Expension layer\" + BN + activation\n",
    "    x = _conv_block(inputs=inputs, \n",
    "                    filters=num_filters_in*t, \n",
    "                    kernel=(1, 1), \n",
    "                    strides=(1, 1), \n",
    "                    is_training=is_training)\n",
    "    \n",
    "    # Depthwise convolution + BN + activation\n",
    "    x = tf.contrib.layers.separable_conv2d(inputs=x,\n",
    "                                           num_outputs=None,\n",
    "                                           kernel_size=kernel,\n",
    "                                           depth_multiplier=1,\n",
    "                                           stride=(s,s),\n",
    "                                           padding='SAME',\n",
    "                                           activation_fn=tf.nn.relu6,\n",
    "                                           weights_initializer=tf.contrib.layers.xavier_initializer(seed=481),\n",
    "                                           normalizer_fn=None\n",
    "                                          )\n",
    "     \n",
    "    x = tf.layers.batch_normalization(inputs=x, \n",
    "                                      training=is_training\n",
    "                                     )\n",
    "    \n",
    "    x = tf.nn.relu6(features=x)\n",
    "    \n",
    "    # \"Projection\" layer + BN\n",
    "    x = tf.layers.conv2d(inputs=x,\n",
    "                         filters = filters,\n",
    "                         kernel_size = (1, 1),\n",
    "                         strides=(1, 1),\n",
    "                         padding='same',\n",
    "                         kernel_initializer=tf.contrib.layers.xavier_initializer(seed=481)\n",
    "                        )\n",
    "    x = tf.layers.batch_normalization(inputs=x,\n",
    "                                      training=is_training\n",
    "                                     )\n",
    "    \n",
    "    if r:\n",
    "        x = tf.add(x, inputs)\n",
    "        \n",
    "    '''\n",
    "    channel_axis = 1 if K.image_data_format() == 'channels_first' else -1\n",
    "    tchannel = K.int_shape(inputs)[channel_axis] * t\n",
    "    x = _conv_block(inputs, tchannel, (1, 1), (1, 1))\n",
    "    x = DepthwiseConv2D(kernel, strides=(s, s), depth_multiplier=1, padding='same')(x)\n",
    "    x = BatchNormalization(axis=channel_axis)(x)\n",
    "    x = Activation(relu6)(x)\n",
    "\n",
    "    x = Conv2D(filters, (1, 1), strides=(1, 1), padding='same')(x)\n",
    "    x = BatchNormalization(axis=channel_axis)(x)\n",
    "    '''\n",
    "    \n",
    "    return x\n"
   ]
  },
  {
   "cell_type": "code",
   "execution_count": 98,
   "metadata": {
    "collapsed": true
   },
   "outputs": [],
   "source": [
    "def _inverted_residual_block(inputs, filters, kernel, t, strides, n, is_training):\n",
    "    \"\"\"Inverted Residual Block\n",
    "    This function defines a sequence of 1 or more identical layers.\n",
    "    # Arguments\n",
    "        inputs: Tensor, input tensor of conv layer.\n",
    "        filters: Integer, the dimensionality of the output space.\n",
    "        kernel: An integer or tuple/list of 2 integers, specifying the\n",
    "            width and height of the 2D convolution window.\n",
    "        t: Integer, expansion factor.\n",
    "            t is always applied to the input size.\n",
    "        s: An integer or tuple/list of 2 integers,specifying the strides\n",
    "            of the convolution along the width and height.Can be a single\n",
    "            integer to specify the same value for all spatial dimensions.\n",
    "        n: Integer, layer repeat times.\n",
    "    # Returns\n",
    "        Output tensor.\n",
    "    \"\"\"\n",
    "\n",
    "    x = _bottleneck(inputs=inputs, \n",
    "                    filters=filters, \n",
    "                    kernel=kernel, \n",
    "                    t=t, \n",
    "                    s=strides, \n",
    "                    is_training=is_training\n",
    "                   )\n",
    "        \n",
    "    for i in range(1, n):\n",
    "        x = _bottleneck(inputs=x, \n",
    "                        filters=filters, \n",
    "                        kernel=kernel, \n",
    "                        t=t, \n",
    "                        s=1, \n",
    "                        is_training=is_training, \n",
    "                        r=True\n",
    "                       )\n",
    "\n",
    "    return x\n"
   ]
  },
  {
   "cell_type": "code",
   "execution_count": 211,
   "metadata": {
    "collapsed": true
   },
   "outputs": [],
   "source": [
    "def MobileNetV2(inputs, k, is_training):\n",
    "    \"\"\"MobileNetV2\n",
    "    This function defines a MobileNetV2 architectures.\n",
    "    # Arguments\n",
    "        inputs: A tensor of the input of shape [-1,W,H,C].\n",
    "        k: Integer, number of classes.\n",
    "        is_training: boolean indication training or prediction\n",
    "    # Returns\n",
    "        MobileNetV2 model.\n",
    "    \"\"\"\n",
    "\n",
    "    \n",
    "    \n",
    "    \n",
    "    x = _conv_block(inputs=inputs, filters=32, kernel=(3, 3), strides=(2, 2), is_training=is_training)\n",
    "        \n",
    "    x = _inverted_residual_block(inputs=x, filters=16,  kernel=(7, 3), t=1, strides=1, n=1, is_training=is_training)\n",
    "    x = _inverted_residual_block(inputs=x, filters=24,  kernel=(7, 3), t=6, strides=2, n=2, is_training=is_training)\n",
    "    x = _inverted_residual_block(inputs=x, filters=32,  kernel=(7, 3), t=6, strides=2, n=3, is_training=is_training)\n",
    "    x = _inverted_residual_block(inputs=x, filters=64,  kernel=(7, 3), t=6, strides=2, n=4, is_training=is_training)\n",
    "    x = _inverted_residual_block(inputs=x, filters=96,  kernel=(7, 3), t=6, strides=1, n=3, is_training=is_training)\n",
    "#     x = _inverted_residual_block(inputs=x, filters=160, kernel=(3, 3), t=6, strides=2, n=3, is_training=is_training)\n",
    "#     x = _inverted_residual_block(inputs=x, filters=320, kernel=(3, 3), t=6, strides=1, n=1, is_training=is_training)\n",
    "    \n",
    "    # Eventually this should be replaced with:\n",
    "    x = tf.layers.flatten(x)\n",
    "\n",
    "\n",
    "    # This is the last layer so it does not use an activation function.\n",
    "    x = tf.layers.dense(inputs=x, name='layer_fc6',\n",
    "                          units=k,\n",
    "                          kernel_initializer=tf.contrib.layers.xavier_initializer()\n",
    "                          ) \n",
    "    '''\n",
    "    x = _conv_block(inputs=x, filters=1280, kernel=(1, 1), strides=(1, 1), is_training=is_training)\n",
    "    x = tf.layers.average_pooling2d(inputs=x, pool_size=(2000,2000), strides=(1,1), padding='same')\n",
    "    x = tf.reshape(x, [-1,1,1,1280])\n",
    "    #x = tf.layers.dropout(inputs=x, rate=0.3, seed=481, training=is_training)\n",
    "    x = tf.layers.conv2d(inputs=x,\n",
    "                         filters = k,\n",
    "                         kernel_size = (1, 1),\n",
    "                         padding='same',\n",
    "                         kernel_initializer=tf.contrib.layers.xavier_initializer(seed=481)\n",
    "                        )\n",
    "    '''\n",
    "    '''\n",
    "    x = GlobalAveragePooling2D()(x)\n",
    "    x = Reshape((1, 1, 1280))(x)\n",
    "    x = Dropout(0.3, name='Dropout')(x)\n",
    "    x = Conv2D(k, (1, 1), padding='same')(x)\n",
    "    x = Activation('softmax', name='softmax')(x)\n",
    "    output = Reshape((k,))(x)\n",
    "    '''\n",
    "    \n",
    "\n",
    "    return x"
   ]
  },
  {
   "cell_type": "code",
   "execution_count": 212,
   "metadata": {
    "collapsed": false
   },
   "outputs": [],
   "source": [
    "def model_fn(features, labels, mode, params):\n",
    "    # Args:\n",
    "    #\n",
    "    # features: This is the x-arg from the input_fn.\n",
    "    # labels:   This is the y-arg from the input_fn.\n",
    "    # mode:     Either TRAIN, EVAL, or PREDICT\n",
    "    # params:   User-defined hyper-parameters, e.g. learning-rate.\n",
    "    \n",
    "   \n",
    "    if mode == tf.estimator.ModeKeys.TRAIN:\n",
    "        is_training = True\n",
    "    else:\n",
    "        is_training = False\n",
    "    \n",
    "    # Reference to the tensor named \"image\" in the input-function.    \n",
    "    x = features[\"image\"]\n",
    "    # The convolutional layers expect 4-rank tensors\n",
    "    # but x is a 2-rank tensor, so reshape it.\n",
    "    inputs = tf.reshape(x, [-1,W,H,C])\n",
    "    \n",
    "    net = MobileNetV2(inputs=inputs, k=47, is_training=is_training)\n",
    "    \n",
    "    \n",
    "    \n",
    "    # Logits output of the neural network.\n",
    "    logits = net\n",
    "\n",
    "    # Softmax output of the neural network.\n",
    "    y_pred = tf.nn.softmax(logits=logits)\n",
    "    \n",
    "    # Classification output of the neural network.\n",
    "    y_pred_cls = tf.argmax(y_pred, axis=1) \n",
    "   \n",
    "    if mode == tf.estimator.ModeKeys.PREDICT:\n",
    "        # If the estimator is supposed to be in prediction-mode\n",
    "        # then use the predicted class-number that is output by\n",
    "        # the neural network. Optimization etc. is not needed.\n",
    "        \n",
    "        spec = tf.estimator.EstimatorSpec(mode=mode,\n",
    "                                          predictions=y_pred_cls)\n",
    "    else:\n",
    "        # Otherwise the estimator is supposed to be in either\n",
    "        # training or evaluation-mode. Note that the loss-function\n",
    "        # is also required in Evaluation mode.\n",
    "        \n",
    "        # Define the loss-function to be optimized, by first\n",
    "        # calculating the cross-entropy between the output of\n",
    "        # the neural network and the true labels for the input data.\n",
    "        # This gives the cross-entropy for each image in the batch.\n",
    "        cross_entropy = tf.nn.sparse_softmax_cross_entropy_with_logits(labels=labels,\n",
    "                                                                       logits=logits)\n",
    "\n",
    "        # Reduce the cross-entropy batch-tensor to a single number\n",
    "        # which can be used in optimization of the neural network.\n",
    "        tf.argmax(logits)\n",
    "        #loss = tf.losses.mean_squared_error(labels=labels, predictions=logits)\n",
    "        loss = tf.reduce_mean(cross_entropy)\n",
    "#######################\n",
    "        lr = 1e-4\n",
    "        step_rate = 5000\n",
    "        decay = 0.7 #if this equals 1 the lr stays the same\n",
    "\n",
    "        #global_step = tf.Variable(0, trainable=False)\n",
    "        #increment_global_step = tf.assign(global_step, global_step + 1)\n",
    "\n",
    "        learning_rate = tf.train.exponential_decay(lr, global_step=tf.train.get_or_create_global_step(), \n",
    "                                           decay_steps=step_rate, decay_rate=decay, staircase=True)\n",
    "        \n",
    "        # Define the optimizer for improving the neural network.\n",
    "        optimizer = tf.train.AdamOptimizer(learning_rate=learning_rate)\n",
    "#         optimizer = tf.train.GradientDescentOptimizer(learning_rate=learning_rate) \n",
    "        \n",
    "        ''' original\n",
    "        # Get the TensorFlow op for doing a single optimization step.\n",
    "        train_op = optimizer.minimize(loss=loss, global_step = tf.train.get_or_create_global_step())\n",
    "        '''\n",
    "        # for learning parameters of batch normalization:\n",
    "        update_ops = tf.get_collection(tf.GraphKeys.UPDATE_OPS)\n",
    "        with tf.control_dependencies(update_ops):\n",
    "            train_op = optimizer.minimize(loss, global_step=tf.train.get_or_create_global_step())\n",
    "        \n",
    "        \n",
    "#############################        \n",
    "\n",
    "\n",
    "        # Define the evaluation metrics,\n",
    "        # in this case the classification accuracy.\n",
    "        metrics = \\\n",
    "        {\n",
    "            \"accuracy\": tf.metrics.accuracy(labels, y_pred_cls) #TODO change acc method\n",
    "        }\n",
    "\n",
    "        # Wrap all of this in an EstimatorSpec.\n",
    "        spec = tf.estimator.EstimatorSpec(\n",
    "            mode=mode,\n",
    "            loss=loss,\n",
    "            train_op=train_op,\n",
    "            eval_metric_ops=metrics)\n",
    "\n",
    "\n",
    "        tf.summary.scalar(\"accuracy\", metrics[\"accuracy\"][1]) \n",
    "        merge_summary_op = tf.summary.merge_all()\n",
    "\n",
    "\n",
    "            \n",
    "    return spec"
   ]
  },
  {
   "cell_type": "code",
   "execution_count": 101,
   "metadata": {
    "collapsed": true
   },
   "outputs": [],
   "source": [
    "params = {} #{\"learning_rate\": 1e-5}"
   ]
  },
  {
   "cell_type": "code",
   "execution_count": 102,
   "metadata": {
    "collapsed": true
   },
   "outputs": [],
   "source": [
    "def make_dir_and_comment(model_dir):\n",
    "    home = expanduser(\"~\")\n",
    "    log_name=os.path.join('logs/', model_dir + '.txt')\n",
    "    \n",
    "    if os.path.isdir(model_dir):\n",
    "        print('INFO: dir with name ' + model_dir + ' already exist.')\n",
    "    \n",
    "    new_comment=input('Please add a comment\\n')\n",
    "    \n",
    "    if os.path.exists(log_name):\n",
    "        append_write = 'a' # append if already exists\n",
    "    else:\n",
    "        append_write = 'w' # make a new file if not\n",
    "    \n",
    "    model_log = open(log_name,append_write)\n",
    "    model_log.write(home +' : '+ new_comment + '\\n')\n",
    "    model_log.close()\n",
    "    return\n",
    "\n"
   ]
  },
  {
   "cell_type": "code",
   "execution_count": 213,
   "metadata": {
    "collapsed": false
   },
   "outputs": [
    {
     "name": "stdout",
     "output_type": "stream",
     "text": [
      "Please add a comment\n",
      "initial lr=1e-4, decay by 0.7 every 5K steps, all kernels 7X3 except first conv (3X3)\n",
      "INFO:tensorflow:Using config: {'_session_config': None, '_task_id': 0, '_tf_random_seed': None, '_save_checkpoints_secs': None, '_keep_checkpoint_max': 5, '_is_chief': True, '_log_step_count_steps': 100, '_cluster_spec': <tensorflow.python.training.server_lib.ClusterSpec object at 0x7fb880907e48>, '_save_summary_steps': 10, '_evaluation_master': '', '_global_id_in_cluster': 0, '_keep_checkpoint_every_n_hours': 10000, '_service': None, '_num_ps_replicas': 0, '_num_worker_replicas': 1, '_master': '', '_model_dir': './ckpts_28_5_mobilenetV2_partial_midSize10_kernels_varies_midLR', '_save_checkpoints_steps': 1000, '_task_type': 'worker'}\n"
     ]
    }
   ],
   "source": [
    "model_dir = './ckpts_28_5_mobilenetV2_partial_midSize10_kernels_varies_midLR' #'./ckpts_<day>_<month>_<architecture>_<main_change>'\n",
    "make_dir_and_comment(model_dir) \n",
    "# model = tf.estimator.Estimator(model_fn=model_fn,\n",
    "#                                params=params,\n",
    "#                                model_dir=model_dir)\n",
    "\n",
    "model = tf.estimator.Estimator(model_fn=model_fn,\n",
    "                               params=params,\n",
    "                               model_dir=model_dir,\n",
    "                               #config=tf.estimator.RunConfig(save_checkpoints_steps=1000, save_summary_steps=100)\n",
    "                               config=tf.estimator.RunConfig().replace(save_checkpoints_steps=1000,save_summary_steps=10)\n",
    "                              )"
   ]
  },
  {
   "cell_type": "code",
   "execution_count": 214,
   "metadata": {
    "collapsed": false
   },
   "outputs": [
    {
     "name": "stdout",
     "output_type": "stream",
     "text": [
      "@@@\n",
      "(TensorShape([Dimension(64), Dimension(None), Dimension(None), Dimension(3)]), TensorShape([Dimension(64)]))\n",
      "@@@\n",
      "INFO:tensorflow:Calling model_fn.\n",
      "INFO:tensorflow:Done calling model_fn.\n",
      "INFO:tensorflow:Create CheckpointSaverHook.\n",
      "INFO:tensorflow:Graph was finalized.\n",
      "INFO:tensorflow:Running local_init_op.\n",
      "INFO:tensorflow:Done running local_init_op.\n",
      "INFO:tensorflow:Saving checkpoints for 1 into ./ckpts_28_5_mobilenetV2_partial_midSize10_kernels_varies_midLR/model.ckpt.\n",
      "INFO:tensorflow:loss = 6.6833677, step = 0\n",
      "INFO:tensorflow:global_step/sec: 3.67347\n",
      "INFO:tensorflow:loss = 5.6572313, step = 100 (27.224 sec)\n",
      "INFO:tensorflow:global_step/sec: 4.59258\n",
      "INFO:tensorflow:loss = 4.275052, step = 200 (21.774 sec)\n",
      "INFO:tensorflow:global_step/sec: 4.5857\n",
      "INFO:tensorflow:loss = 3.8936946, step = 300 (21.807 sec)\n",
      "INFO:tensorflow:global_step/sec: 4.60105\n",
      "INFO:tensorflow:loss = 3.898177, step = 400 (21.734 sec)\n",
      "INFO:tensorflow:global_step/sec: 4.5805\n",
      "INFO:tensorflow:loss = 3.6485536, step = 500 (21.832 sec)\n",
      "INFO:tensorflow:global_step/sec: 4.56772\n",
      "INFO:tensorflow:loss = 3.6860566, step = 600 (21.892 sec)\n",
      "INFO:tensorflow:global_step/sec: 4.59139\n",
      "INFO:tensorflow:loss = 3.5073986, step = 700 (21.781 sec)\n",
      "INFO:tensorflow:global_step/sec: 4.56961\n",
      "INFO:tensorflow:loss = 3.3527393, step = 800 (21.884 sec)\n",
      "INFO:tensorflow:global_step/sec: 4.5844\n",
      "INFO:tensorflow:loss = 3.4008303, step = 900 (21.812 sec)\n",
      "INFO:tensorflow:Saving checkpoints for 1001 into ./ckpts_28_5_mobilenetV2_partial_midSize10_kernels_varies_midLR/model.ckpt.\n",
      "INFO:tensorflow:global_step/sec: 4.38224\n",
      "INFO:tensorflow:loss = 3.5286722, step = 1000 (22.820 sec)\n",
      "INFO:tensorflow:global_step/sec: 4.59929\n",
      "INFO:tensorflow:loss = 3.1861115, step = 1100 (21.743 sec)\n",
      "INFO:tensorflow:global_step/sec: 4.58913\n",
      "INFO:tensorflow:loss = 3.5818152, step = 1200 (21.790 sec)\n",
      "INFO:tensorflow:global_step/sec: 4.59054\n",
      "INFO:tensorflow:loss = 3.508462, step = 1300 (21.784 sec)\n",
      "INFO:tensorflow:global_step/sec: 4.58503\n",
      "INFO:tensorflow:loss = 3.411917, step = 1400 (21.811 sec)\n",
      "INFO:tensorflow:global_step/sec: 4.58268\n",
      "INFO:tensorflow:loss = 3.3434398, step = 1500 (21.821 sec)\n",
      "INFO:tensorflow:global_step/sec: 4.59112\n",
      "INFO:tensorflow:loss = 3.346621, step = 1600 (21.781 sec)\n",
      "INFO:tensorflow:global_step/sec: 4.59574\n",
      "INFO:tensorflow:loss = 3.2464485, step = 1700 (21.760 sec)\n",
      "INFO:tensorflow:global_step/sec: 4.58673\n",
      "INFO:tensorflow:loss = 3.0329018, step = 1800 (21.801 sec)\n",
      "INFO:tensorflow:global_step/sec: 4.59539\n",
      "INFO:tensorflow:loss = 3.0961757, step = 1900 (21.761 sec)\n",
      "INFO:tensorflow:Saving checkpoints for 2001 into ./ckpts_28_5_mobilenetV2_partial_midSize10_kernels_varies_midLR/model.ckpt.\n",
      "INFO:tensorflow:global_step/sec: 4.33997\n",
      "INFO:tensorflow:loss = 3.1020613, step = 2000 (23.042 sec)\n",
      "INFO:tensorflow:global_step/sec: 4.60816\n",
      "INFO:tensorflow:loss = 3.1279716, step = 2100 (21.700 sec)\n",
      "INFO:tensorflow:global_step/sec: 4.62999\n",
      "INFO:tensorflow:loss = 3.1895742, step = 2200 (21.598 sec)\n",
      "INFO:tensorflow:global_step/sec: 4.61296\n",
      "INFO:tensorflow:loss = 2.9626567, step = 2300 (21.678 sec)\n",
      "INFO:tensorflow:global_step/sec: 4.62531\n",
      "INFO:tensorflow:loss = 3.2683945, step = 2400 (21.620 sec)\n",
      "INFO:tensorflow:global_step/sec: 4.60123\n",
      "INFO:tensorflow:loss = 2.5499592, step = 2500 (21.734 sec)\n",
      "INFO:tensorflow:global_step/sec: 4.61867\n",
      "INFO:tensorflow:loss = 2.804846, step = 2600 (21.651 sec)\n",
      "INFO:tensorflow:global_step/sec: 4.57585\n",
      "INFO:tensorflow:loss = 2.6162267, step = 2700 (21.854 sec)\n",
      "INFO:tensorflow:global_step/sec: 4.59139\n",
      "INFO:tensorflow:loss = 2.7682753, step = 2800 (21.779 sec)\n",
      "INFO:tensorflow:global_step/sec: 4.5822\n",
      "INFO:tensorflow:loss = 2.815526, step = 2900 (21.824 sec)\n",
      "INFO:tensorflow:Saving checkpoints for 3001 into ./ckpts_28_5_mobilenetV2_partial_midSize10_kernels_varies_midLR/model.ckpt.\n",
      "INFO:tensorflow:global_step/sec: 4.31633\n",
      "INFO:tensorflow:loss = 2.8949084, step = 3000 (23.168 sec)\n",
      "INFO:tensorflow:global_step/sec: 4.58754\n",
      "INFO:tensorflow:loss = 2.5457044, step = 3100 (21.798 sec)\n",
      "INFO:tensorflow:global_step/sec: 4.59361\n",
      "INFO:tensorflow:loss = 2.93145, step = 3200 (21.770 sec)\n",
      "INFO:tensorflow:global_step/sec: 4.6061\n",
      "INFO:tensorflow:loss = 2.566883, step = 3300 (21.710 sec)\n",
      "INFO:tensorflow:global_step/sec: 4.60356\n",
      "INFO:tensorflow:loss = 2.8766298, step = 3400 (21.723 sec)\n",
      "INFO:tensorflow:global_step/sec: 4.58932\n",
      "INFO:tensorflow:loss = 2.6477408, step = 3500 (21.789 sec)\n",
      "INFO:tensorflow:global_step/sec: 4.5977\n",
      "INFO:tensorflow:loss = 2.658319, step = 3600 (21.750 sec)\n",
      "INFO:tensorflow:global_step/sec: 4.58613\n",
      "INFO:tensorflow:loss = 2.4758043, step = 3700 (21.804 sec)\n",
      "INFO:tensorflow:global_step/sec: 4.58766\n",
      "INFO:tensorflow:loss = 2.5150075, step = 3800 (21.798 sec)\n",
      "INFO:tensorflow:global_step/sec: 4.58778\n",
      "INFO:tensorflow:loss = 2.4991932, step = 3900 (21.797 sec)\n",
      "INFO:tensorflow:Saving checkpoints for 4001 into ./ckpts_28_5_mobilenetV2_partial_midSize10_kernels_varies_midLR/model.ckpt.\n",
      "INFO:tensorflow:global_step/sec: 4.31394\n",
      "INFO:tensorflow:loss = 2.5440462, step = 4000 (23.181 sec)\n",
      "INFO:tensorflow:global_step/sec: 4.595\n",
      "INFO:tensorflow:loss = 2.533402, step = 4100 (21.763 sec)\n",
      "INFO:tensorflow:global_step/sec: 4.58367\n",
      "INFO:tensorflow:loss = 2.558917, step = 4200 (21.817 sec)\n",
      "INFO:tensorflow:global_step/sec: 4.59018\n",
      "INFO:tensorflow:loss = 2.813137, step = 4300 (21.785 sec)\n",
      "INFO:tensorflow:global_step/sec: 4.59844\n",
      "INFO:tensorflow:loss = 2.6467998, step = 4400 (21.747 sec)\n",
      "INFO:tensorflow:global_step/sec: 4.59485\n",
      "INFO:tensorflow:loss = 2.49148, step = 4500 (21.764 sec)\n",
      "INFO:tensorflow:global_step/sec: 4.59731\n",
      "INFO:tensorflow:loss = 2.6403809, step = 4600 (21.752 sec)\n",
      "INFO:tensorflow:global_step/sec: 4.58518\n",
      "INFO:tensorflow:loss = 2.5280812, step = 4700 (21.810 sec)\n",
      "INFO:tensorflow:global_step/sec: 4.60335\n",
      "INFO:tensorflow:loss = 2.436057, step = 4800 (21.723 sec)\n",
      "INFO:tensorflow:global_step/sec: 4.58895\n",
      "INFO:tensorflow:loss = 2.542283, step = 4900 (21.792 sec)\n",
      "INFO:tensorflow:Saving checkpoints for 5001 into ./ckpts_28_5_mobilenetV2_partial_midSize10_kernels_varies_midLR/model.ckpt.\n",
      "INFO:tensorflow:global_step/sec: 4.29711\n",
      "INFO:tensorflow:loss = 2.3120127, step = 5000 (23.272 sec)\n",
      "INFO:tensorflow:global_step/sec: 4.57785\n",
      "INFO:tensorflow:loss = 2.522811, step = 5100 (21.844 sec)\n",
      "INFO:tensorflow:global_step/sec: 4.57876\n",
      "INFO:tensorflow:loss = 2.4541717, step = 5200 (21.840 sec)\n",
      "INFO:tensorflow:global_step/sec: 4.57182\n",
      "INFO:tensorflow:loss = 2.2511153, step = 5300 (21.873 sec)\n",
      "INFO:tensorflow:global_step/sec: 4.57956\n",
      "INFO:tensorflow:loss = 2.3473535, step = 5400 (21.836 sec)\n",
      "INFO:tensorflow:global_step/sec: 4.58553\n",
      "INFO:tensorflow:loss = 2.2977726, step = 5500 (21.808 sec)\n",
      "INFO:tensorflow:global_step/sec: 4.58736\n",
      "INFO:tensorflow:loss = 2.303372, step = 5600 (21.799 sec)\n",
      "INFO:tensorflow:global_step/sec: 4.58687\n",
      "INFO:tensorflow:loss = 2.293601, step = 5700 (21.801 sec)\n",
      "INFO:tensorflow:global_step/sec: 4.5794\n",
      "INFO:tensorflow:loss = 2.1234565, step = 5800 (21.837 sec)\n",
      "INFO:tensorflow:global_step/sec: 4.58957\n",
      "INFO:tensorflow:loss = 1.9805402, step = 5900 (21.789 sec)\n",
      "INFO:tensorflow:Saving checkpoints for 6001 into ./ckpts_28_5_mobilenetV2_partial_midSize10_kernels_varies_midLR/model.ckpt.\n",
      "INFO:tensorflow:global_step/sec: 4.29878\n",
      "INFO:tensorflow:loss = 2.325973, step = 6000 (23.263 sec)\n",
      "INFO:tensorflow:global_step/sec: 4.59406\n",
      "INFO:tensorflow:loss = 2.107015, step = 6100 (21.767 sec)\n",
      "INFO:tensorflow:global_step/sec: 4.57896\n",
      "INFO:tensorflow:loss = 2.4196448, step = 6200 (21.839 sec)\n",
      "INFO:tensorflow:global_step/sec: 4.58752\n",
      "INFO:tensorflow:loss = 2.2349606, step = 6300 (21.798 sec)\n",
      "INFO:tensorflow:global_step/sec: 4.58027\n",
      "INFO:tensorflow:loss = 2.4053552, step = 6400 (21.833 sec)\n",
      "INFO:tensorflow:global_step/sec: 4.58084\n",
      "INFO:tensorflow:loss = 2.2485294, step = 6500 (21.830 sec)\n",
      "INFO:tensorflow:global_step/sec: 4.59319\n",
      "INFO:tensorflow:loss = 2.2836993, step = 6600 (21.772 sec)\n",
      "INFO:tensorflow:global_step/sec: 4.58843\n",
      "INFO:tensorflow:loss = 2.1203184, step = 6700 (21.794 sec)\n",
      "INFO:tensorflow:global_step/sec: 4.60039\n",
      "INFO:tensorflow:loss = 2.3337936, step = 6800 (21.737 sec)\n",
      "INFO:tensorflow:global_step/sec: 4.57468\n",
      "INFO:tensorflow:loss = 2.055689, step = 6900 (21.860 sec)\n",
      "INFO:tensorflow:Saving checkpoints for 7001 into ./ckpts_28_5_mobilenetV2_partial_midSize10_kernels_varies_midLR/model.ckpt.\n",
      "INFO:tensorflow:global_step/sec: 4.29681\n",
      "INFO:tensorflow:loss = 2.0785952, step = 7000 (23.274 sec)\n",
      "INFO:tensorflow:global_step/sec: 4.59834\n",
      "INFO:tensorflow:loss = 2.2885358, step = 7100 (21.747 sec)\n",
      "INFO:tensorflow:global_step/sec: 4.58119\n",
      "INFO:tensorflow:loss = 2.0473964, step = 7200 (21.828 sec)\n",
      "INFO:tensorflow:global_step/sec: 4.58809\n",
      "INFO:tensorflow:loss = 2.1738868, step = 7300 (21.795 sec)\n",
      "INFO:tensorflow:global_step/sec: 4.58769\n",
      "INFO:tensorflow:loss = 2.2867665, step = 7400 (21.797 sec)\n",
      "INFO:tensorflow:global_step/sec: 4.58689\n",
      "INFO:tensorflow:loss = 2.028262, step = 7500 (21.802 sec)\n",
      "INFO:tensorflow:global_step/sec: 4.58182\n",
      "INFO:tensorflow:loss = 2.0068665, step = 7600 (21.826 sec)\n",
      "INFO:tensorflow:global_step/sec: 4.59687\n",
      "INFO:tensorflow:loss = 2.0864315, step = 7700 (21.754 sec)\n",
      "INFO:tensorflow:global_step/sec: 4.58418\n",
      "INFO:tensorflow:loss = 2.372776, step = 7800 (21.815 sec)\n",
      "INFO:tensorflow:global_step/sec: 4.6014\n",
      "INFO:tensorflow:loss = 1.9990848, step = 7900 (21.732 sec)\n",
      "INFO:tensorflow:Saving checkpoints for 8001 into ./ckpts_28_5_mobilenetV2_partial_midSize10_kernels_varies_midLR/model.ckpt.\n",
      "INFO:tensorflow:global_step/sec: 4.31774\n",
      "INFO:tensorflow:loss = 2.1064193, step = 8000 (23.161 sec)\n",
      "INFO:tensorflow:global_step/sec: 4.57568\n",
      "INFO:tensorflow:loss = 2.1154342, step = 8100 (21.855 sec)\n",
      "INFO:tensorflow:global_step/sec: 4.59891\n",
      "INFO:tensorflow:loss = 2.5871315, step = 8200 (21.744 sec)\n",
      "INFO:tensorflow:global_step/sec: 4.59251\n",
      "INFO:tensorflow:loss = 2.2184453, step = 8300 (21.775 sec)\n",
      "INFO:tensorflow:global_step/sec: 4.57596\n",
      "INFO:tensorflow:loss = 1.9124365, step = 8400 (21.854 sec)\n",
      "INFO:tensorflow:global_step/sec: 4.57523\n",
      "INFO:tensorflow:loss = 2.2687616, step = 8500 (21.856 sec)\n",
      "INFO:tensorflow:global_step/sec: 4.58909\n",
      "INFO:tensorflow:loss = 2.034293, step = 8600 (21.791 sec)\n",
      "INFO:tensorflow:global_step/sec: 4.59317\n",
      "INFO:tensorflow:loss = 2.473818, step = 8700 (21.771 sec)\n",
      "INFO:tensorflow:global_step/sec: 4.58716\n",
      "INFO:tensorflow:loss = 1.9016047, step = 8800 (21.800 sec)\n",
      "INFO:tensorflow:global_step/sec: 4.57911\n",
      "INFO:tensorflow:loss = 2.103156, step = 8900 (21.838 sec)\n",
      "INFO:tensorflow:Saving checkpoints for 9001 into ./ckpts_28_5_mobilenetV2_partial_midSize10_kernels_varies_midLR/model.ckpt.\n",
      "INFO:tensorflow:global_step/sec: 4.24415\n",
      "INFO:tensorflow:loss = 2.250726, step = 9000 (23.562 sec)\n",
      "INFO:tensorflow:global_step/sec: 4.59262\n",
      "INFO:tensorflow:loss = 2.2674608, step = 9100 (21.774 sec)\n",
      "INFO:tensorflow:global_step/sec: 4.58839\n",
      "INFO:tensorflow:loss = 2.1223292, step = 9200 (21.794 sec)\n",
      "INFO:tensorflow:global_step/sec: 4.60462\n",
      "INFO:tensorflow:loss = 2.1355953, step = 9300 (21.717 sec)\n",
      "INFO:tensorflow:global_step/sec: 4.59479\n",
      "INFO:tensorflow:loss = 1.8674937, step = 9400 (21.763 sec)\n",
      "INFO:tensorflow:global_step/sec: 4.58797\n",
      "INFO:tensorflow:loss = 1.8644686, step = 9500 (21.797 sec)\n",
      "INFO:tensorflow:global_step/sec: 4.58189\n",
      "INFO:tensorflow:loss = 2.2983868, step = 9600 (21.825 sec)\n",
      "INFO:tensorflow:global_step/sec: 4.57691\n",
      "INFO:tensorflow:loss = 1.8756036, step = 9700 (21.849 sec)\n",
      "INFO:tensorflow:global_step/sec: 4.58481\n",
      "INFO:tensorflow:loss = 2.1109872, step = 9800 (21.811 sec)\n",
      "INFO:tensorflow:global_step/sec: 4.62102\n",
      "INFO:tensorflow:loss = 2.1895223, step = 9900 (21.640 sec)\n",
      "INFO:tensorflow:Saving checkpoints for 10001 into ./ckpts_28_5_mobilenetV2_partial_midSize10_kernels_varies_midLR/model.ckpt.\n",
      "INFO:tensorflow:global_step/sec: 4.31728\n",
      "INFO:tensorflow:loss = 2.214641, step = 10000 (23.163 sec)\n",
      "INFO:tensorflow:global_step/sec: 4.6104\n",
      "INFO:tensorflow:loss = 2.265604, step = 10100 (21.691 sec)\n",
      "INFO:tensorflow:global_step/sec: 4.59814\n",
      "INFO:tensorflow:loss = 2.4278197, step = 10200 (21.748 sec)\n",
      "INFO:tensorflow:global_step/sec: 4.59793\n",
      "INFO:tensorflow:loss = 2.1264198, step = 10300 (21.749 sec)\n",
      "INFO:tensorflow:global_step/sec: 4.66615\n",
      "INFO:tensorflow:loss = 2.0222788, step = 10400 (21.431 sec)\n",
      "INFO:tensorflow:global_step/sec: 4.6494\n",
      "INFO:tensorflow:loss = 1.9085677, step = 10500 (21.508 sec)\n",
      "INFO:tensorflow:global_step/sec: 4.63452\n",
      "INFO:tensorflow:loss = 2.1987054, step = 10600 (21.577 sec)\n",
      "INFO:tensorflow:global_step/sec: 4.6166\n",
      "INFO:tensorflow:loss = 2.0474668, step = 10700 (21.661 sec)\n",
      "INFO:tensorflow:global_step/sec: 4.62182\n",
      "INFO:tensorflow:loss = 1.9409064, step = 10800 (21.637 sec)\n",
      "INFO:tensorflow:global_step/sec: 4.61628\n",
      "INFO:tensorflow:loss = 2.1483488, step = 10900 (21.662 sec)\n",
      "INFO:tensorflow:Saving checkpoints for 11001 into ./ckpts_28_5_mobilenetV2_partial_midSize10_kernels_varies_midLR/model.ckpt.\n",
      "INFO:tensorflow:global_step/sec: 4.35499\n",
      "INFO:tensorflow:loss = 1.920914, step = 11000 (22.963 sec)\n",
      "INFO:tensorflow:global_step/sec: 4.62142\n",
      "INFO:tensorflow:loss = 2.246202, step = 11100 (21.638 sec)\n",
      "INFO:tensorflow:global_step/sec: 4.61671\n",
      "INFO:tensorflow:loss = 1.8860148, step = 11200 (21.660 sec)\n",
      "INFO:tensorflow:global_step/sec: 4.60622\n",
      "INFO:tensorflow:loss = 1.9236155, step = 11300 (21.710 sec)\n",
      "INFO:tensorflow:global_step/sec: 4.59848\n",
      "INFO:tensorflow:loss = 2.159824, step = 11400 (21.746 sec)\n",
      "INFO:tensorflow:global_step/sec: 4.612\n",
      "INFO:tensorflow:loss = 2.1745536, step = 11500 (21.682 sec)\n",
      "INFO:tensorflow:global_step/sec: 4.61437\n",
      "INFO:tensorflow:loss = 2.129309, step = 11600 (21.671 sec)\n",
      "INFO:tensorflow:global_step/sec: 4.61646\n",
      "INFO:tensorflow:loss = 1.8381972, step = 11700 (21.662 sec)\n",
      "INFO:tensorflow:global_step/sec: 4.6297\n",
      "INFO:tensorflow:loss = 1.9300697, step = 11800 (21.600 sec)\n",
      "INFO:tensorflow:global_step/sec: 4.63058\n",
      "INFO:tensorflow:loss = 1.9433453, step = 11900 (21.596 sec)\n",
      "INFO:tensorflow:Saving checkpoints for 12001 into ./ckpts_28_5_mobilenetV2_partial_midSize10_kernels_varies_midLR/model.ckpt.\n",
      "INFO:tensorflow:global_step/sec: 4.33152\n",
      "INFO:tensorflow:loss = 2.104853, step = 12000 (23.087 sec)\n",
      "INFO:tensorflow:global_step/sec: 4.6114\n",
      "INFO:tensorflow:loss = 2.0911407, step = 12100 (21.686 sec)\n",
      "INFO:tensorflow:global_step/sec: 4.59207\n",
      "INFO:tensorflow:loss = 2.186073, step = 12200 (21.776 sec)\n",
      "INFO:tensorflow:global_step/sec: 4.63395\n",
      "INFO:tensorflow:loss = 2.027938, step = 12300 (21.580 sec)\n",
      "INFO:tensorflow:global_step/sec: 4.68561\n",
      "INFO:tensorflow:loss = 1.99848, step = 12400 (21.342 sec)\n",
      "INFO:tensorflow:global_step/sec: 4.68665\n",
      "INFO:tensorflow:loss = 2.2240965, step = 12500 (21.337 sec)\n",
      "INFO:tensorflow:global_step/sec: 4.68849\n",
      "INFO:tensorflow:loss = 2.038488, step = 12600 (21.330 sec)\n",
      "INFO:tensorflow:global_step/sec: 4.68862\n",
      "INFO:tensorflow:loss = 2.3049808, step = 12700 (21.328 sec)\n",
      "INFO:tensorflow:global_step/sec: 4.69349\n",
      "INFO:tensorflow:loss = 2.066845, step = 12800 (21.306 sec)\n",
      "INFO:tensorflow:global_step/sec: 4.68466\n",
      "INFO:tensorflow:loss = 1.9158758, step = 12900 (21.346 sec)\n",
      "INFO:tensorflow:Saving checkpoints for 13001 into ./ckpts_28_5_mobilenetV2_partial_midSize10_kernels_varies_midLR/model.ckpt.\n",
      "INFO:tensorflow:global_step/sec: 4.44507\n",
      "INFO:tensorflow:loss = 1.9844867, step = 13000 (22.497 sec)\n",
      "INFO:tensorflow:global_step/sec: 4.69188\n",
      "INFO:tensorflow:loss = 2.1171598, step = 13100 (21.314 sec)\n",
      "INFO:tensorflow:global_step/sec: 4.69293\n",
      "INFO:tensorflow:loss = 2.0878181, step = 13200 (21.308 sec)\n",
      "INFO:tensorflow:global_step/sec: 4.68799\n",
      "INFO:tensorflow:loss = 1.8621382, step = 13300 (21.332 sec)\n",
      "INFO:tensorflow:global_step/sec: 4.68991\n",
      "INFO:tensorflow:loss = 1.7306705, step = 13400 (21.321 sec)\n",
      "INFO:tensorflow:global_step/sec: 4.69065\n",
      "INFO:tensorflow:loss = 2.1666145, step = 13500 (21.319 sec)\n",
      "INFO:tensorflow:global_step/sec: 4.68659\n",
      "INFO:tensorflow:loss = 1.9269035, step = 13600 (21.337 sec)\n",
      "INFO:tensorflow:global_step/sec: 4.67746\n",
      "INFO:tensorflow:loss = 2.1684287, step = 13700 (21.379 sec)\n",
      "INFO:tensorflow:global_step/sec: 4.68591\n",
      "INFO:tensorflow:loss = 2.1651754, step = 13800 (21.341 sec)\n",
      "INFO:tensorflow:global_step/sec: 4.67418\n",
      "INFO:tensorflow:loss = 2.1981325, step = 13900 (21.394 sec)\n",
      "INFO:tensorflow:Saving checkpoints for 14001 into ./ckpts_28_5_mobilenetV2_partial_midSize10_kernels_varies_midLR/model.ckpt.\n",
      "INFO:tensorflow:global_step/sec: 4.42607\n",
      "INFO:tensorflow:loss = 1.9314837, step = 14000 (22.594 sec)\n",
      "INFO:tensorflow:global_step/sec: 4.68655\n",
      "INFO:tensorflow:loss = 2.0229998, step = 14100 (21.337 sec)\n",
      "INFO:tensorflow:global_step/sec: 4.68894\n",
      "INFO:tensorflow:loss = 2.016595, step = 14200 (21.327 sec)\n",
      "INFO:tensorflow:global_step/sec: 4.68\n",
      "INFO:tensorflow:loss = 1.9455593, step = 14300 (21.368 sec)\n",
      "INFO:tensorflow:global_step/sec: 4.6574\n",
      "INFO:tensorflow:loss = 2.2610025, step = 14400 (21.472 sec)\n",
      "INFO:tensorflow:global_step/sec: 4.63509\n",
      "INFO:tensorflow:loss = 2.0887737, step = 14500 (21.574 sec)\n",
      "INFO:tensorflow:global_step/sec: 4.66714\n",
      "INFO:tensorflow:loss = 2.006052, step = 14600 (21.426 sec)\n",
      "INFO:tensorflow:global_step/sec: 4.67125\n",
      "INFO:tensorflow:loss = 2.2349842, step = 14700 (21.408 sec)\n",
      "INFO:tensorflow:global_step/sec: 4.68194\n",
      "INFO:tensorflow:loss = 2.1021597, step = 14800 (21.359 sec)\n",
      "INFO:tensorflow:global_step/sec: 4.62\n",
      "INFO:tensorflow:loss = 2.1068919, step = 14900 (21.645 sec)\n",
      "INFO:tensorflow:Saving checkpoints for 15001 into ./ckpts_28_5_mobilenetV2_partial_midSize10_kernels_varies_midLR/model.ckpt.\n",
      "INFO:tensorflow:global_step/sec: 4.41937\n",
      "INFO:tensorflow:loss = 1.750418, step = 15000 (22.628 sec)\n",
      "INFO:tensorflow:global_step/sec: 4.67629\n",
      "INFO:tensorflow:loss = 2.0948567, step = 15100 (21.384 sec)\n",
      "INFO:tensorflow:global_step/sec: 4.65617\n",
      "INFO:tensorflow:loss = 2.1947327, step = 15200 (21.477 sec)\n",
      "INFO:tensorflow:global_step/sec: 4.67322\n",
      "INFO:tensorflow:loss = 2.2693934, step = 15300 (21.399 sec)\n",
      "INFO:tensorflow:global_step/sec: 4.66633\n",
      "INFO:tensorflow:loss = 1.8612881, step = 15400 (21.430 sec)\n",
      "INFO:tensorflow:global_step/sec: 4.66808\n",
      "INFO:tensorflow:loss = 2.0474052, step = 15500 (21.422 sec)\n",
      "INFO:tensorflow:global_step/sec: 4.6761\n",
      "INFO:tensorflow:loss = 1.8821316, step = 15600 (21.386 sec)\n",
      "INFO:tensorflow:global_step/sec: 4.67563\n",
      "INFO:tensorflow:loss = 2.161218, step = 15700 (21.387 sec)\n",
      "INFO:tensorflow:global_step/sec: 4.68025\n",
      "INFO:tensorflow:loss = 2.1042223, step = 15800 (21.366 sec)\n",
      "INFO:tensorflow:global_step/sec: 4.68063\n",
      "INFO:tensorflow:loss = 1.8765547, step = 15900 (21.365 sec)\n",
      "INFO:tensorflow:Saving checkpoints for 16001 into ./ckpts_28_5_mobilenetV2_partial_midSize10_kernels_varies_midLR/model.ckpt.\n",
      "INFO:tensorflow:global_step/sec: 4.4173\n",
      "INFO:tensorflow:loss = 1.9852772, step = 16000 (22.638 sec)\n",
      "INFO:tensorflow:global_step/sec: 4.63692\n",
      "INFO:tensorflow:loss = 2.0629883, step = 16100 (21.566 sec)\n",
      "INFO:tensorflow:global_step/sec: 4.60402\n",
      "INFO:tensorflow:loss = 2.1973886, step = 16200 (21.720 sec)\n",
      "INFO:tensorflow:global_step/sec: 4.6422\n",
      "INFO:tensorflow:loss = 1.8057747, step = 16300 (21.542 sec)\n",
      "INFO:tensorflow:global_step/sec: 4.59258\n",
      "INFO:tensorflow:loss = 1.9207984, step = 16400 (21.774 sec)\n",
      "INFO:tensorflow:global_step/sec: 4.59573\n",
      "INFO:tensorflow:loss = 1.9434091, step = 16500 (21.760 sec)\n",
      "INFO:tensorflow:global_step/sec: 4.60357\n",
      "INFO:tensorflow:loss = 2.020991, step = 16600 (21.723 sec)\n",
      "INFO:tensorflow:global_step/sec: 4.59465\n",
      "INFO:tensorflow:loss = 1.9351168, step = 16700 (21.764 sec)\n",
      "INFO:tensorflow:global_step/sec: 4.61916\n",
      "INFO:tensorflow:loss = 2.263844, step = 16800 (21.649 sec)\n",
      "INFO:tensorflow:global_step/sec: 4.60903\n",
      "INFO:tensorflow:loss = 1.9103754, step = 16900 (21.696 sec)\n",
      "INFO:tensorflow:Saving checkpoints for 17001 into ./ckpts_28_5_mobilenetV2_partial_midSize10_kernels_varies_midLR/model.ckpt.\n",
      "INFO:tensorflow:global_step/sec: 4.30778\n",
      "INFO:tensorflow:loss = 1.8478398, step = 17000 (23.214 sec)\n",
      "INFO:tensorflow:global_step/sec: 4.60181\n",
      "INFO:tensorflow:loss = 2.4071145, step = 17100 (21.731 sec)\n",
      "INFO:tensorflow:global_step/sec: 4.59234\n",
      "INFO:tensorflow:loss = 1.862451, step = 17200 (21.775 sec)\n",
      "INFO:tensorflow:global_step/sec: 4.6006\n",
      "INFO:tensorflow:loss = 2.0673084, step = 17300 (21.736 sec)\n",
      "INFO:tensorflow:global_step/sec: 4.60006\n",
      "INFO:tensorflow:loss = 2.0586004, step = 17400 (21.738 sec)\n",
      "INFO:tensorflow:global_step/sec: 4.61966\n",
      "INFO:tensorflow:loss = 1.4800334, step = 17500 (21.647 sec)\n",
      "INFO:tensorflow:global_step/sec: 4.66951\n",
      "INFO:tensorflow:loss = 1.8917522, step = 17600 (21.416 sec)\n",
      "INFO:tensorflow:global_step/sec: 4.66934\n",
      "INFO:tensorflow:loss = 2.2848969, step = 17700 (21.416 sec)\n",
      "INFO:tensorflow:global_step/sec: 4.6629\n",
      "INFO:tensorflow:loss = 1.9808074, step = 17800 (21.445 sec)\n",
      "INFO:tensorflow:global_step/sec: 4.66244\n",
      "INFO:tensorflow:loss = 2.1802435, step = 17900 (21.448 sec)\n",
      "INFO:tensorflow:Saving checkpoints for 18001 into ./ckpts_28_5_mobilenetV2_partial_midSize10_kernels_varies_midLR/model.ckpt.\n",
      "INFO:tensorflow:global_step/sec: 4.31838\n",
      "INFO:tensorflow:loss = 1.9785264, step = 18000 (23.157 sec)\n",
      "INFO:tensorflow:global_step/sec: 4.6019\n",
      "INFO:tensorflow:loss = 2.1171198, step = 18100 (21.731 sec)\n",
      "INFO:tensorflow:global_step/sec: 4.61936\n",
      "INFO:tensorflow:loss = 2.030674, step = 18200 (21.648 sec)\n",
      "INFO:tensorflow:global_step/sec: 4.60117\n",
      "INFO:tensorflow:loss = 1.8526978, step = 18300 (21.733 sec)\n",
      "INFO:tensorflow:global_step/sec: 4.60885\n",
      "INFO:tensorflow:loss = 1.7765723, step = 18400 (21.697 sec)\n",
      "INFO:tensorflow:global_step/sec: 4.67231\n",
      "INFO:tensorflow:loss = 1.7598739, step = 18500 (21.402 sec)\n",
      "INFO:tensorflow:global_step/sec: 4.62673\n",
      "INFO:tensorflow:loss = 1.7616153, step = 18600 (21.614 sec)\n",
      "INFO:tensorflow:global_step/sec: 4.59732\n",
      "INFO:tensorflow:loss = 2.1053233, step = 18700 (21.751 sec)\n",
      "INFO:tensorflow:global_step/sec: 4.60696\n",
      "INFO:tensorflow:loss = 2.1114035, step = 18800 (21.706 sec)\n",
      "INFO:tensorflow:global_step/sec: 4.60874\n",
      "INFO:tensorflow:loss = 1.8350044, step = 18900 (21.698 sec)\n",
      "INFO:tensorflow:Saving checkpoints for 19001 into ./ckpts_28_5_mobilenetV2_partial_midSize10_kernels_varies_midLR/model.ckpt.\n",
      "INFO:tensorflow:global_step/sec: 4.36647\n",
      "INFO:tensorflow:loss = 2.0202837, step = 19000 (22.901 sec)\n",
      "INFO:tensorflow:global_step/sec: 4.60869\n",
      "INFO:tensorflow:loss = 1.8745153, step = 19100 (21.699 sec)\n",
      "INFO:tensorflow:global_step/sec: 4.61307\n",
      "INFO:tensorflow:loss = 1.8068805, step = 19200 (21.677 sec)\n",
      "INFO:tensorflow:global_step/sec: 4.62095\n",
      "INFO:tensorflow:loss = 2.1243448, step = 19300 (21.640 sec)\n",
      "INFO:tensorflow:global_step/sec: 4.61093\n",
      "INFO:tensorflow:loss = 2.1693826, step = 19400 (21.687 sec)\n",
      "INFO:tensorflow:global_step/sec: 4.59906\n",
      "INFO:tensorflow:loss = 1.7990613, step = 19500 (21.744 sec)\n",
      "INFO:tensorflow:global_step/sec: 4.61031\n",
      "INFO:tensorflow:loss = 1.9305223, step = 19600 (21.690 sec)\n",
      "INFO:tensorflow:global_step/sec: 4.59638\n",
      "INFO:tensorflow:loss = 1.9054416, step = 19700 (21.757 sec)\n",
      "INFO:tensorflow:global_step/sec: 4.6005\n",
      "INFO:tensorflow:loss = 1.7912209, step = 19800 (21.737 sec)\n",
      "INFO:tensorflow:global_step/sec: 4.59778\n",
      "INFO:tensorflow:loss = 2.121808, step = 19900 (21.750 sec)\n",
      "INFO:tensorflow:Saving checkpoints for 20000 into ./ckpts_28_5_mobilenetV2_partial_midSize10_kernels_varies_midLR/model.ckpt.\n",
      "INFO:tensorflow:Loss for final step: 2.0139146.\n"
     ]
    },
    {
     "data": {
      "text/plain": [
       "<tensorflow.python.estimator.estimator.Estimator at 0x7fb884ab4da0>"
      ]
     },
     "execution_count": 214,
     "metadata": {},
     "output_type": "execute_result"
    }
   ],
   "source": [
    "model.train(input_fn=train_input_fn, steps=20000)"
   ]
  },
  {
   "cell_type": "code",
   "execution_count": 115,
   "metadata": {
    "collapsed": true
   },
   "outputs": [],
   "source": [
    "###DONE TRAIN###"
   ]
  },
  {
   "cell_type": "code",
   "execution_count": 219,
   "metadata": {
    "collapsed": false
   },
   "outputs": [
    {
     "name": "stdout",
     "output_type": "stream",
     "text": [
      "@@@\n",
      "(TensorShape([Dimension(64), Dimension(None), Dimension(None), Dimension(3)]), TensorShape([Dimension(64)]))\n",
      "@@@\n",
      "INFO:tensorflow:Calling model_fn.\n",
      "INFO:tensorflow:Done calling model_fn.\n",
      "INFO:tensorflow:Starting evaluation at 2018-05-28-15:56:59\n",
      "INFO:tensorflow:Graph was finalized.\n",
      "INFO:tensorflow:Restoring parameters from ./ckpts_28_5_mobilenetV2_partial_midSize10_kernels_varies_midLR/model.ckpt-20000\n",
      "INFO:tensorflow:Running local_init_op.\n",
      "INFO:tensorflow:Done running local_init_op.\n",
      "INFO:tensorflow:Finished evaluation at 2018-05-28-15:57:05\n",
      "INFO:tensorflow:Saving dict for global step 20000: accuracy = 0.3396739, global_step = 20000, loss = 1.9045038\n"
     ]
    }
   ],
   "source": [
    "#performance on training dataset:\n",
    "def train_partial_input_fn():\n",
    "#     return input_fn(path_tfrecords_train_lst[7000:8500], train=False) \n",
    "    return input_fn(path_tfrecords_train_lst[183000:184500], train=False) \n",
    "\n",
    "train_partial_result = model.evaluate(input_fn=train_partial_input_fn) "
   ]
  },
  {
   "cell_type": "code",
   "execution_count": null,
   "metadata": {
    "collapsed": true
   },
   "outputs": [],
   "source": [
    "#VAL:"
   ]
  },
  {
   "cell_type": "code",
   "execution_count": 46,
   "metadata": {
    "collapsed": true
   },
   "outputs": [],
   "source": [
    "tfrec_val_batch_size=1"
   ]
  },
  {
   "cell_type": "code",
   "execution_count": 47,
   "metadata": {
    "collapsed": true
   },
   "outputs": [],
   "source": [
    "tfrec_val_directory = os.path.join('..','datasets','stixels','val','tfrec_batch_size_'+str(tfrec_val_batch_size))#+'_percent_'+str(percent))"
   ]
  },
  {
   "cell_type": "code",
   "execution_count": 48,
   "metadata": {
    "collapsed": true
   },
   "outputs": [],
   "source": [
    "path_tfrecords_val_lst=[]\n",
    "path_tfrecords_val = os.path.join(img_path, 'val')\n",
    "for root, dirs, files in os.walk(tfrec_val_directory):\n",
    "    for file in files:\n",
    "        if '.tfrecord' in file:\n",
    "            path_tfrecords_val_lst.append(os.path.join(tfrec_val_directory,file))\n",
    "        else:\n",
    "            print('WARNING: file ' + file + 'looks suspicious. does it belong here?')"
   ]
  },
  {
   "cell_type": "code",
   "execution_count": 62,
   "metadata": {
    "collapsed": true
   },
   "outputs": [],
   "source": [
    "def val_input_fn():\n",
    "    return input_fn(path_tfrecords_val_lst[4000:5500], train=False) "
   ]
  },
  {
   "cell_type": "code",
   "execution_count": 220,
   "metadata": {
    "collapsed": false
   },
   "outputs": [
    {
     "name": "stdout",
     "output_type": "stream",
     "text": [
      "@@@\n",
      "(TensorShape([Dimension(64), Dimension(None), Dimension(None), Dimension(3)]), TensorShape([Dimension(64)]))\n",
      "@@@\n",
      "INFO:tensorflow:Calling model_fn.\n",
      "INFO:tensorflow:Done calling model_fn.\n",
      "INFO:tensorflow:Starting evaluation at 2018-05-28-15:57:43\n",
      "INFO:tensorflow:Graph was finalized.\n",
      "INFO:tensorflow:Restoring parameters from ./ckpts_28_5_mobilenetV2_partial_midSize10_kernels_varies_midLR/model.ckpt-20000\n",
      "INFO:tensorflow:Running local_init_op.\n",
      "INFO:tensorflow:Done running local_init_op.\n",
      "INFO:tensorflow:Finished evaluation at 2018-05-28-15:57:49\n",
      "INFO:tensorflow:Saving dict for global step 20000: accuracy = 0.29891303, global_step = 20000, loss = 2.0882943\n"
     ]
    }
   ],
   "source": [
    "val_result = model.evaluate(input_fn=val_input_fn) "
   ]
  },
  {
   "cell_type": "code",
   "execution_count": 51,
   "metadata": {
    "collapsed": false
   },
   "outputs": [
    {
     "data": {
      "text/plain": [
       "{'accuracy': 0.26630434, 'global_step': 100000, 'loss': 2.224182}"
      ]
     },
     "execution_count": 51,
     "metadata": {},
     "output_type": "execute_result"
    }
   ],
   "source": [
    "val_result"
   ]
  },
  {
   "cell_type": "code",
   "execution_count": 52,
   "metadata": {
    "collapsed": false
   },
   "outputs": [
    {
     "name": "stdout",
     "output_type": "stream",
     "text": [
      "Classification val accuracy: 26.63%\n"
     ]
    }
   ],
   "source": [
    "print(\"Classification val accuracy: {0:.2%}\".format(val_result[\"accuracy\"]))"
   ]
  },
  {
   "cell_type": "code",
   "execution_count": null,
   "metadata": {
    "collapsed": true
   },
   "outputs": [],
   "source": [
    "#TEST:"
   ]
  },
  {
   "cell_type": "code",
   "execution_count": 162,
   "metadata": {
    "collapsed": true
   },
   "outputs": [],
   "source": [
    "tfrec_test_batch_size=1"
   ]
  },
  {
   "cell_type": "code",
   "execution_count": 163,
   "metadata": {
    "collapsed": true
   },
   "outputs": [],
   "source": [
    "tfrec_test_directory = os.path.join('..','datasets','stixels','test','tfrec_batch_size_'+str(tfrec_test_batch_size))"
   ]
  },
  {
   "cell_type": "code",
   "execution_count": 164,
   "metadata": {
    "collapsed": true
   },
   "outputs": [],
   "source": [
    "path_tfrecords_test_lst=[]\n",
    "path_tfrecords_test = os.path.join(img_path, 'test')\n",
    "for root, dirs, files in os.walk(tfrec_test_directory):\n",
    "    for file in files:\n",
    "        if '.tfrecord' in file:\n",
    "            path_tfrecords_test_lst.append(os.path.join(tfrec_test_directory,file))\n",
    "        else:\n",
    "            print('WARNING: file ' + file + 'looks suspicious. does it belong here?')"
   ]
  },
  {
   "cell_type": "code",
   "execution_count": 167,
   "metadata": {
    "collapsed": true
   },
   "outputs": [],
   "source": [
    "def test_input_fn():\n",
    "    return input_fn(filenames=path_tfrecords_test_lst[1000:2500], train=False)"
   ]
  },
  {
   "cell_type": "code",
   "execution_count": 221,
   "metadata": {
    "collapsed": false
   },
   "outputs": [
    {
     "name": "stdout",
     "output_type": "stream",
     "text": [
      "@@@\n",
      "(TensorShape([Dimension(64), Dimension(None), Dimension(None), Dimension(3)]), TensorShape([Dimension(64)]))\n",
      "@@@\n",
      "INFO:tensorflow:Calling model_fn.\n",
      "INFO:tensorflow:Done calling model_fn.\n",
      "INFO:tensorflow:Starting evaluation at 2018-05-28-15:58:19\n",
      "INFO:tensorflow:Graph was finalized.\n",
      "INFO:tensorflow:Restoring parameters from ./ckpts_28_5_mobilenetV2_partial_midSize10_kernels_varies_midLR/model.ckpt-20000\n",
      "INFO:tensorflow:Running local_init_op.\n",
      "INFO:tensorflow:Done running local_init_op.\n",
      "INFO:tensorflow:Finished evaluation at 2018-05-28-15:58:25\n",
      "INFO:tensorflow:Saving dict for global step 20000: accuracy = 0.18953805, global_step = 20000, loss = 2.6755853\n"
     ]
    }
   ],
   "source": [
    "test_result = model.evaluate(input_fn=test_input_fn)"
   ]
  },
  {
   "cell_type": "code",
   "execution_count": 109,
   "metadata": {
    "collapsed": false
   },
   "outputs": [
    {
     "name": "stdout",
     "output_type": "stream",
     "text": [
      "Classification test accuracy: 11.55%\n"
     ]
    }
   ],
   "source": [
    "print(\"Classification test accuracy: {0:.2%}\".format(test_result[\"accuracy\"]))"
   ]
  },
  {
   "cell_type": "code",
   "execution_count": null,
   "metadata": {
    "collapsed": true
   },
   "outputs": [],
   "source": [
    "#PRED:"
   ]
  },
  {
   "cell_type": "code",
   "execution_count": 222,
   "metadata": {
    "collapsed": true
   },
   "outputs": [],
   "source": [
    "sum_csv_test_path = os.path.join(img_path,'train', 'sum_csv') #TEST\n",
    "labels_test=pd.read_csv(os.path.join(sum_csv_test_path,'labels_train_'+str(percent)+'percent.csv'))\n",
    "test_names_list=list(labels_test['Name'])\n",
    "image_paths_test=[]\n",
    "for name in test_names_list:\n",
    "    image_paths_test.append(os.path.join(img_path, 'train', name+'.png')) #maybe no need to add '.png'\n"
   ]
  },
  {
   "cell_type": "code",
   "execution_count": 223,
   "metadata": {
    "collapsed": true
   },
   "outputs": [],
   "source": [
    "def load_images(image_paths):\n",
    "    # Load the images from disk.\n",
    "    images = [imread(path) for path in image_paths]\n",
    "    # Convert to a numpy array and return it.\n",
    "    return np.asarray(images)\n"
   ]
  },
  {
   "cell_type": "code",
   "execution_count": 224,
   "metadata": {
    "collapsed": true
   },
   "outputs": [],
   "source": [
    "##TODO:SHUFFLE!\n",
    "some_num=1500\n",
    "some_images = load_images(image_paths=image_paths_test[7000:7000+some_num])\n",
    "some_images_cls = np.array(labels_test['Label'])"
   ]
  },
  {
   "cell_type": "code",
   "execution_count": 225,
   "metadata": {
    "collapsed": true
   },
   "outputs": [],
   "source": [
    "predict_input_fn = tf.estimator.inputs.numpy_input_fn(\n",
    "    x={\"image\": some_images.astype(np.float32)},\n",
    "    num_epochs=1,\n",
    "    shuffle=False)"
   ]
  },
  {
   "cell_type": "code",
   "execution_count": 232,
   "metadata": {
    "collapsed": true
   },
   "outputs": [],
   "source": [
    "predictions = model.predict(input_fn=predict_input_fn) "
   ]
  },
  {
   "cell_type": "code",
   "execution_count": 206,
   "metadata": {
    "collapsed": false
   },
   "outputs": [
    {
     "data": {
      "text/plain": [
       "<generator object Estimator.predict at 0x7fb884129fc0>"
      ]
     },
     "execution_count": 206,
     "metadata": {},
     "output_type": "execute_result"
    }
   ],
   "source": [
    "predictions"
   ]
  },
  {
   "cell_type": "code",
   "execution_count": 233,
   "metadata": {
    "collapsed": false
   },
   "outputs": [
    {
     "name": "stdout",
     "output_type": "stream",
     "text": [
      "INFO:tensorflow:Calling model_fn.\n",
      "INFO:tensorflow:Done calling model_fn.\n",
      "INFO:tensorflow:Graph was finalized.\n",
      "INFO:tensorflow:Restoring parameters from ./ckpts_28_5_mobilenetV2_partial_midSize10_kernels_varies_midLR/model.ckpt-20000\n",
      "INFO:tensorflow:Running local_init_op.\n",
      "INFO:tensorflow:Done running local_init_op.\n"
     ]
    },
    {
     "data": {
      "text/plain": [
       "array([46, 46, 46, ..., 46, 46, 46])"
      ]
     },
     "execution_count": 233,
     "metadata": {},
     "output_type": "execute_result"
    }
   ],
   "source": [
    "cls_pred = np.array(list(predictions))\n",
    "cls_pred"
   ]
  },
  {
   "cell_type": "code",
   "execution_count": 234,
   "metadata": {
    "collapsed": false
   },
   "outputs": [
    {
     "data": {
      "text/plain": [
       "(1500,)"
      ]
     },
     "execution_count": 234,
     "metadata": {},
     "output_type": "execute_result"
    }
   ],
   "source": [
    "cls_pred.shape"
   ]
  },
  {
   "cell_type": "code",
   "execution_count": 235,
   "metadata": {
    "collapsed": false
   },
   "outputs": [
    {
     "data": {
      "text/plain": [
       "(array([    0,     5,     5,    21,    71,   313,   150,  1079,  3691,\n",
       "         6280, 11605, 13872, 16378, 17646, 19292, 18101, 19392, 17603,\n",
       "        16215, 15047, 14708, 15527, 14560, 14073, 14708, 13082, 13245,\n",
       "        12922, 10970, 11509, 10997, 10722, 10903,  9856,  9444,  9308,\n",
       "         7769,  5462,  2876,  1092,   241,    23,     0,     0,     0,\n",
       "         7815]),\n",
       " array([ 0,  1,  2,  3,  4,  5,  6,  7,  8,  9, 10, 11, 12, 13, 14, 15, 16,\n",
       "        17, 18, 19, 20, 21, 22, 23, 24, 25, 26, 27, 28, 29, 30, 31, 32, 33,\n",
       "        34, 35, 36, 37, 38, 39, 40, 41, 42, 43, 44, 45, 46]))"
      ]
     },
     "execution_count": 235,
     "metadata": {},
     "output_type": "execute_result"
    }
   ],
   "source": [
    "np.histogram(some_images_cls, bins= [x for x in range(0, 47, 1)])\n"
   ]
  },
  {
   "cell_type": "code",
   "execution_count": 236,
   "metadata": {
    "collapsed": false
   },
   "outputs": [
    {
     "data": {
      "text/plain": [
       "(array([   0,    0,    0,    0,    0,    0,    0,    0,    0,    0,    0,\n",
       "           0,    0,    0,    0,    0,    0,    0,    0,    0,    0,    0,\n",
       "           0,    0,    0,    0,    0,    0,    0,    0,    0,    0,    0,\n",
       "           0,    0,    0,    0,    0,    0,    0,    0,    0,    0,    0,\n",
       "           0, 1500]),\n",
       " array([ 0,  1,  2,  3,  4,  5,  6,  7,  8,  9, 10, 11, 12, 13, 14, 15, 16,\n",
       "        17, 18, 19, 20, 21, 22, 23, 24, 25, 26, 27, 28, 29, 30, 31, 32, 33,\n",
       "        34, 35, 36, 37, 38, 39, 40, 41, 42, 43, 44, 45, 46]))"
      ]
     },
     "execution_count": 236,
     "metadata": {},
     "output_type": "execute_result"
    }
   ],
   "source": [
    "np.histogram(cls_pred, bins= [x for x in range(0, 47, 1)])\n"
   ]
  },
  {
   "cell_type": "code",
   "execution_count": 178,
   "metadata": {
    "collapsed": false
   },
   "outputs": [
    {
     "data": {
      "text/plain": [
       "array([3.63838133e-08, 5.23802601e-06, 2.41361181e-06, 8.22993752e-06,\n",
       "       6.88640721e-05, 6.73187096e-05, 1.12743000e-04, 2.48558167e-03,\n",
       "       2.41161394e-03, 1.98379252e-03, 1.63461361e-03, 3.52152251e-03,\n",
       "       4.75671981e-03, 8.01659003e-03, 9.75785963e-03, 8.38503707e-03,\n",
       "       5.74642140e-03, 7.23679783e-03, 7.88456481e-03, 1.14491200e-02,\n",
       "       1.59071349e-02, 1.35434372e-02, 5.99773182e-03, 4.06883238e-03,\n",
       "       6.72300300e-03, 8.37637670e-03, 1.83306281e-02, 2.76202224e-02,\n",
       "       2.98272502e-02, 2.47496460e-02, 1.82593651e-02, 4.35408838e-02,\n",
       "       2.88887601e-02, 3.89404297e-02, 9.61616039e-02, 1.31164491e-01,\n",
       "       6.05020821e-02, 3.79621610e-02, 1.50133632e-02, 7.29497289e-03,\n",
       "       4.58270835e-04, 1.19983735e-04, 5.25741832e-08, 3.36415056e-08,\n",
       "       4.82108398e-08, 3.18117941e-08, 2.91014105e-01], dtype=float32)"
      ]
     },
     "execution_count": 178,
     "metadata": {},
     "output_type": "execute_result"
    }
   ],
   "source": [
    "cls_pred[67]\n"
   ]
  },
  {
   "cell_type": "code",
   "execution_count": 202,
   "metadata": {
    "collapsed": false
   },
   "outputs": [
    {
     "data": {
      "text/plain": [
       "array([46, 46, 46, ..., 46, 46, 46])"
      ]
     },
     "execution_count": 202,
     "metadata": {},
     "output_type": "execute_result"
    }
   ],
   "source": [
    "np.argmax(cls_pred,axis=1)\n"
   ]
  },
  {
   "cell_type": "code",
   "execution_count": 203,
   "metadata": {
    "collapsed": false
   },
   "outputs": [
    {
     "data": {
      "text/plain": [
       "(array([   0,    0,    0,    0,    0,    0,    0,    0,    0,    0,    0,\n",
       "           0,    0,    0,    0,    0,    0,    0,    0,    0,    0,    0,\n",
       "           0,    0,    0,    0,    0,    0,    0,    0,    0,    0,    0,\n",
       "           0,    0,    0,    0,    0,    0,    0,    0,    0,    0,    0,\n",
       "           0, 1500]),\n",
       " array([ 0,  1,  2,  3,  4,  5,  6,  7,  8,  9, 10, 11, 12, 13, 14, 15, 16,\n",
       "        17, 18, 19, 20, 21, 22, 23, 24, 25, 26, 27, 28, 29, 30, 31, 32, 33,\n",
       "        34, 35, 36, 37, 38, 39, 40, 41, 42, 43, 44, 45, 46]))"
      ]
     },
     "execution_count": 203,
     "metadata": {},
     "output_type": "execute_result"
    }
   ],
   "source": [
    "np.histogram(np.argmax(cls_pred,axis=1), bins= [x for x in range(0, 47, 1)])"
   ]
  },
  {
   "cell_type": "code",
   "execution_count": 125,
   "metadata": {
    "collapsed": false
   },
   "outputs": [
    {
     "data": {
      "text/plain": [
       "(100,)"
      ]
     },
     "execution_count": 125,
     "metadata": {},
     "output_type": "execute_result"
    }
   ],
   "source": [
    "np.argmax(cls_pred,axis=1).shape"
   ]
  },
  {
   "cell_type": "code",
   "execution_count": 144,
   "metadata": {
    "collapsed": false
   },
   "outputs": [
    {
     "data": {
      "text/plain": [
       "46"
      ]
     },
     "execution_count": 144,
     "metadata": {},
     "output_type": "execute_result"
    }
   ],
   "source": [
    "np.argmax(cls_pred[1])"
   ]
  },
  {
   "cell_type": "code",
   "execution_count": 145,
   "metadata": {
    "collapsed": true
   },
   "outputs": [],
   "source": [
    "y_pred_cls = tf.argmax(cls_pred, axis=1) "
   ]
  },
  {
   "cell_type": "code",
   "execution_count": 146,
   "metadata": {
    "collapsed": false
   },
   "outputs": [
    {
     "data": {
      "text/plain": [
       "<tf.Tensor 'ArgMax:0' shape=(100,) dtype=int64>"
      ]
     },
     "execution_count": 146,
     "metadata": {},
     "output_type": "execute_result"
    }
   ],
   "source": [
    "y_pred_cls"
   ]
  },
  {
   "cell_type": "code",
   "execution_count": 147,
   "metadata": {
    "collapsed": false
   },
   "outputs": [
    {
     "name": "stdout",
     "output_type": "stream",
     "text": [
      "WARNING:tensorflow:From /home/noa_raindel/.TFgpu/lib/python3.5/site-packages/tensorflow/python/util/tf_should_use.py:118: initialize_all_variables (from tensorflow.python.ops.variables) is deprecated and will be removed after 2017-03-02.\n",
      "Instructions for updating:\n",
      "Use `tf.global_variables_initializer` instead.\n",
      "[46 46 46 46 46 46 46 46 46 46 46 46 46 46 46 46 46 46 46 46 46 46 46 46\n",
      " 46 46 46 46 46 46 46 46 46 46 46 46 46 46 46 46 46 46 46 46 46 46 46 46\n",
      " 46 46 46 46 46 46 46 46 46 46 46 46 46 46 46 46 46 46 46 46 46 46 46 46\n",
      " 46 46 46 46 46 46 46 46 46 46 46 46 46 46 46 46 46 46 46 46 46 46 46 46\n",
      " 46 46 46 46]\n"
     ]
    }
   ],
   "source": [
    "init_op = tf.initialize_all_variables()\n",
    "with tf.Session() as sess:\n",
    "        sess.run(init_op)\n",
    "        print (sess.run(y_pred_cls))"
   ]
  },
  {
   "cell_type": "code",
   "execution_count": null,
   "metadata": {
    "collapsed": true
   },
   "outputs": [],
   "source": []
  }
 ],
 "metadata": {
  "kernelspec": {
   "display_name": "Python 3",
   "language": "python",
   "name": "python3"
  },
  "language_info": {
   "codemirror_mode": {
    "name": "ipython",
    "version": 3
   },
   "file_extension": ".py",
   "mimetype": "text/x-python",
   "name": "python",
   "nbconvert_exporter": "python",
   "pygments_lexer": "ipython3",
   "version": "3.5.2"
  }
 },
 "nbformat": 4,
 "nbformat_minor": 1
}
